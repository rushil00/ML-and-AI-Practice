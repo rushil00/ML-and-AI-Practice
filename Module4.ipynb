{
  "nbformat": 4,
  "nbformat_minor": 0,
  "metadata": {
    "colab": {
      "provenance": [],
      "include_colab_link": true
    },
    "kernelspec": {
      "name": "python3",
      "display_name": "Python 3"
    },
    "language_info": {
      "name": "python"
    }
  },
  "cells": [
    {
      "cell_type": "markdown",
      "metadata": {
        "id": "view-in-github",
        "colab_type": "text"
      },
      "source": [
        "<a href=\"https://colab.research.google.com/github/rushil00/ML-and-AI-Practice/blob/main/Module4.ipynb\" target=\"_parent\"><img src=\"https://colab.research.google.com/assets/colab-badge.svg\" alt=\"Open In Colab\"/></a>"
      ]
    },
    {
      "cell_type": "markdown",
      "source": [
        "# Module 4\n",
        "\n",
        "File Handling, Writing Data to a File, Reading Data From a File - Additional File Methods: Using Pipes as Data Streams, Handling IO Exceptions, Working with Directories, Metadata, File  Organization, \n",
        "\n",
        "Database Programming - Generic Database Connectivity using ODBC, Postgres connection in Python, MySQL connection in Python."
      ],
      "metadata": {
        "id": "BrbYOLiIB5fm"
      }
    },
    {
      "cell_type": "code",
      "execution_count": null,
      "metadata": {
        "id": "_BGnFOUiB1R8"
      },
      "outputs": [],
      "source": []
    },
    {
      "cell_type": "markdown",
      "source": [
        "# File handling \n",
        "\n",
        "A file is a collection of records. A record is a group of related data items. These data items may contain information related to students, employees, customers, etc. In other words, a file is a collection of numbers, symbols and text and can be considered a stream of characters.\n",
        "\n",
        "Computer memory is volatile, so even if a user tries to store the data in the \n",
        "memory, its contents would be lost once a program is terminated. If the user needs the same data again, either it has to be entered through a keyboard or regenerated programmatically. Obviously,  both these operations are tedious. \n",
        "\n",
        "Most programs need to save and load information, such as data or state information, to and from files. Python provides many different ways of file handling.\n",
        "\n",
        "**Which is the best file format to use for holding entire collections—binary, text, or XML?** \n",
        "\n",
        "<dl>\n",
        "<dt>Binary formats:\n",
        "<dd>* Binary formats are usually very fast to save and load and they can be very compact. \n",
        "<dd>* Binary data doesn’t need parsing since each data type is stored using\n",
        "its natural representation. \n",
        "<dd>* Binary data is not human readable or editable, and without knowing the format in detail it is not possible to create separate tools to work with binary data.\n",
        "\n",
        "<dt>Text formats:\n",
        "<dd>* Text formats are human readable and editable, and this can make text files\n",
        "easier to process with separate tools or to change using a text editor. \n",
        "<dd>* Text formats can be tricky to parse and it is not always easy to give good error messages if a text file’s format is broken (e.g., by careless editing).\n",
        "\n",
        "<dt>XML formats: \n",
        "<dd>* XML formats are human readable and editable, although they tend to be\n",
        "verbose and create large files. \n",
        "<dd>* Like text formats, XML formats can be processed using separate tools. <dd>* Parsing XML is straightforward (providing we use an XML parser rather than do it manually), and some parsers have good error reporting. \n",
        "<dd>* XML parsers can be slow, so reading very large XML files can take\n",
        "a lot more time than reading an equivalent binary or text file. \n",
        "<dd>* XML includes metadata such as the character encoding (either implicitly or explicitly) that is not often provided in text files, and this can make XML more portable than text files.\n",
        "</dl>\n",
        "\n",
        "\n",
        "\n",
        "\n",
        "\n",
        "\n",
        "\n",
        "\n",
        "\n",
        "<h5><i><li>Programming in Python 3: A Complete Introduction to the Python Language, Second Edition, Mark Summerfield \n",
        "<li> PROGRAMMING AND PROBLEM SOLVING WITH PYTHON, Ashok Namdev Kamthane, Amit Ashok Kamthane</i></h5>"
      ],
      "metadata": {
        "id": "zn-pQN20BHQz"
      }
    },
    {
      "cell_type": "markdown",
      "source": [
        "# Opening a File \n",
        "A file needs to open before we can perform read and write operations on it. To open a file, a user needs to first create a file object which is associated with a physical file. While opening a file, a user has to specify the name of the file and its mode of operation. \n",
        "\n",
        "The syntax to open a file is\n",
        "\n",
        "```file object = open(File_Name, [Access_Mode],[Buffering]) ```\n",
        "\n",
        "**Different modes to open a file**\n",
        "\n",
        "<table>\n",
        "  <tr>\n",
        "    <th>Mode</th>\n",
        "    <th>Description</th>\n",
        "  </tr>\n",
        "  <tr>\n",
        "    <td>R</td>\n",
        "    <td> Opens a file for reading</td>\n",
        "  </tr>\n",
        "  <tr>\n",
        "    <td>W</td>\n",
        "    <td> Opens a new file for writing. If a file already exists, its contents are destroyed.</td>\n",
        "  </tr>\n",
        "  <tr>\n",
        "    <td>A</td>\n",
        "    <td>  Opens a file for appending data from the end of the file.</td>\n",
        "  </tr>\n",
        "  <tr>\n",
        "    <td>Wb</td>\n",
        "    <td> Opens a fi le for writing binary data.</td>\n",
        "  </tr>\n",
        "  <tr>\n",
        "    <td>Rb</td>\n",
        "    <td> Opens a fi le for reading binary data.</td>\n",
        "  </tr>\n",
        "</table>"
      ],
      "metadata": {
        "id": "b3t8hG2dri5P"
      }
    },
    {
      "cell_type": "code",
      "source": [
        "%%writefile mywords.txt\n",
        "Hello!\n",
        "Welcome to the world of python.\n",
        "You will enjoy learning when you practice your own and found it running successfully."
      ],
      "metadata": {
        "id": "U_xAYxsWFaZi",
        "colab": {
          "base_uri": "https://localhost:8080/"
        },
        "outputId": "ca87d67f-ef4b-4a1f-a263-19615584f832"
      },
      "execution_count": null,
      "outputs": [
        {
          "output_type": "stream",
          "name": "stdout",
          "text": [
            "Writing mywords.txt\n"
          ]
        }
      ]
    },
    {
      "cell_type": "code",
      "source": [
        "import os\n",
        "os.getcwd()"
      ],
      "metadata": {
        "colab": {
          "base_uri": "https://localhost:8080/",
          "height": 35
        },
        "id": "7gK8JEE2mw3s",
        "outputId": "7c9d1d4a-f88e-4066-acf3-684b80db1ef6"
      },
      "execution_count": null,
      "outputs": [
        {
          "output_type": "execute_result",
          "data": {
            "text/plain": [
              "'/content'"
            ],
            "application/vnd.google.colaboratory.intrinsic+json": {
              "type": "string"
            }
          },
          "metadata": {},
          "execution_count": 3
        }
      ]
    },
    {
      "cell_type": "code",
      "source": [
        "f = open(\"mywords.txt\",\"r\")\n"
      ],
      "metadata": {
        "id": "bJyLCbZpFar0"
      },
      "execution_count": null,
      "outputs": []
    },
    {
      "cell_type": "code",
      "source": [
        "type(f)"
      ],
      "metadata": {
        "colab": {
          "base_uri": "https://localhost:8080/"
        },
        "id": "wh21BKsgnQN5",
        "outputId": "8a857bc8-e6ff-48bd-a805-56a16fad7e6f"
      },
      "execution_count": null,
      "outputs": [
        {
          "output_type": "execute_result",
          "data": {
            "text/plain": [
              "_io.TextIOWrapper"
            ]
          },
          "metadata": {},
          "execution_count": 5
        }
      ]
    },
    {
      "cell_type": "code",
      "source": [
        "f.close()"
      ],
      "metadata": {
        "id": "977IjJwDwu6o"
      },
      "execution_count": null,
      "outputs": []
    },
    {
      "cell_type": "markdown",
      "source": [
        "# Reading a file"
      ],
      "metadata": {
        "id": "9OSUskdenIfO"
      }
    },
    {
      "cell_type": "code",
      "source": [
        "print(f.read()) # Reading all records of file upto end of the file"
      ],
      "metadata": {
        "id": "e4M1ay7mm3gJ",
        "colab": {
          "base_uri": "https://localhost:8080/"
        },
        "outputId": "b152bb21-626f-4a47-c400-b41154d2ad9c"
      },
      "execution_count": null,
      "outputs": [
        {
          "output_type": "stream",
          "name": "stdout",
          "text": [
            "Hello!\n",
            "Welcome to the world of python.\n",
            "You will enjoy learning when you practice your own and found it running successfully.\n",
            "\n"
          ]
        }
      ]
    },
    {
      "cell_type": "code",
      "source": [
        "f = open(\"mywords.txt\",\"r\")"
      ],
      "metadata": {
        "id": "TdjlxSaXnRJ0"
      },
      "execution_count": null,
      "outputs": []
    },
    {
      "cell_type": "code",
      "source": [
        "print(f.readline()) # Reading one line of the file upto new line\n",
        "print(f.readline())"
      ],
      "metadata": {
        "colab": {
          "base_uri": "https://localhost:8080/"
        },
        "id": "0hbeh3HNm-b1",
        "outputId": "278f4a2d-d86b-412d-c89a-d29fd32e5364"
      },
      "execution_count": null,
      "outputs": [
        {
          "output_type": "stream",
          "name": "stdout",
          "text": [
            "Hello!\n",
            "\n",
            "Welcome to the world of python.\n",
            "\n"
          ]
        }
      ]
    },
    {
      "cell_type": "code",
      "source": [
        "f = open(\"mywords.txt\",\"r\")"
      ],
      "metadata": {
        "id": "5FslordJnznU"
      },
      "execution_count": null,
      "outputs": []
    },
    {
      "cell_type": "code",
      "source": [
        "print(f.readline(),end=\"\")\n",
        "print(f.readline())"
      ],
      "metadata": {
        "colab": {
          "base_uri": "https://localhost:8080/"
        },
        "id": "foGli7ahnZHz",
        "outputId": "986bb49f-bbc4-4fb5-92b7-e5404425ae41"
      },
      "execution_count": null,
      "outputs": [
        {
          "output_type": "stream",
          "name": "stdout",
          "text": [
            "Hello!\n",
            "Welcome to the world of python.\n",
            "\n"
          ]
        }
      ]
    },
    {
      "cell_type": "code",
      "source": [
        "f = open(\"mywords.txt\",\"r\")"
      ],
      "metadata": {
        "id": "w2JhCwWPn3Jr"
      },
      "execution_count": null,
      "outputs": []
    },
    {
      "cell_type": "code",
      "source": [
        "print(f.readlines())"
      ],
      "metadata": {
        "colab": {
          "base_uri": "https://localhost:8080/"
        },
        "id": "g4wWaXOSn5Ys",
        "outputId": "9af60dad-e2bd-4ef8-cec8-6b5dab0ed56b"
      },
      "execution_count": null,
      "outputs": [
        {
          "output_type": "stream",
          "name": "stdout",
          "text": [
            "['Hello!\\n', 'Welcome to the world of python.\\n', 'You will enjoy learning when you practice your own and found it running successfully.\\n']\n"
          ]
        }
      ]
    },
    {
      "cell_type": "code",
      "source": [
        "f = open(\"yourwords.txt\",\"w\")"
      ],
      "metadata": {
        "id": "3mM1bL_HoOGQ"
      },
      "execution_count": null,
      "outputs": []
    },
    {
      "cell_type": "code",
      "source": [
        "f.write('Hello!')\n",
        "f.close()"
      ],
      "metadata": {
        "id": "nMAaLxPoohDQ"
      },
      "execution_count": null,
      "outputs": []
    },
    {
      "cell_type": "code",
      "source": [
        "f1= open(\"yourwords.txt\",\"r\")\n",
        "print(f1.read())"
      ],
      "metadata": {
        "colab": {
          "base_uri": "https://localhost:8080/"
        },
        "id": "S4x_ne4Ro4k5",
        "outputId": "8737b638-f8da-4b5e-db76-905798c97893"
      },
      "execution_count": null,
      "outputs": [
        {
          "output_type": "stream",
          "name": "stdout",
          "text": [
            "Hello!\n"
          ]
        }
      ]
    },
    {
      "cell_type": "code",
      "source": [],
      "metadata": {
        "id": "3O6fSjl5L5EK"
      },
      "execution_count": null,
      "outputs": []
    },
    {
      "cell_type": "markdown",
      "source": [
        "# Writing Text to a File "
      ],
      "metadata": {
        "id": "8Gi9Y9wCMEB-"
      }
    },
    {
      "cell_type": "code",
      "source": [
        "def main():\n",
        " obj1 = open(\"Demo1.txt\",\"w\") #Opens file in Write mode\n",
        " obj1.write(\"Hello, How are You ?\\n\")\n",
        " obj1.write(\"Welcome to The chapter File Handling. \\n\")\n",
        " obj1.write(\"Enjoy the session. \\n\")\n",
        " \n",
        "main() # Call to main function\n"
      ],
      "metadata": {
        "id": "etO_pvkfMFqN"
      },
      "execution_count": null,
      "outputs": []
    },
    {
      "cell_type": "code",
      "source": [
        "obj1 = open(\"Demo1.txt\",\"a\")\n",
        "obj1.write(\"Hello, How are You ?\\n\")\n",
        "obj1.close()"
      ],
      "metadata": {
        "id": "EBoi2oyoywe-"
      },
      "execution_count": null,
      "outputs": []
    },
    {
      "cell_type": "code",
      "source": [
        "obj2 = open(\"Demo1.txt\",\"r\") #Opens file in read mode\n",
        "print(obj2.read())"
      ],
      "metadata": {
        "colab": {
          "base_uri": "https://localhost:8080/"
        },
        "id": "mY7GPstCfnF3",
        "outputId": "a6418237-faeb-4742-d92b-f4c6e524e663"
      },
      "execution_count": null,
      "outputs": [
        {
          "output_type": "stream",
          "name": "stdout",
          "text": [
            "Hello, How are You ?\n",
            "Welcome to The chapter File Handling. \n",
            "Enjoy the session. \n",
            "\n"
          ]
        }
      ]
    },
    {
      "cell_type": "code",
      "source": [
        "obj2 = open(\"Demo1.txt\",\"r\")\n",
        "obj2.readline()"
      ],
      "metadata": {
        "colab": {
          "base_uri": "https://localhost:8080/",
          "height": 36
        },
        "id": "xq6oPNRhgFVn",
        "outputId": "7e3ca050-098e-460f-9ae9-e1cc6fee6395"
      },
      "execution_count": null,
      "outputs": [
        {
          "output_type": "execute_result",
          "data": {
            "text/plain": [
              "'Hello, How are You ?\\n'"
            ],
            "application/vnd.google.colaboratory.intrinsic+json": {
              "type": "string"
            }
          },
          "metadata": {},
          "execution_count": 17
        }
      ]
    },
    {
      "cell_type": "code",
      "source": [
        "obj2 = open(\"Demo1.txt\",\"r\")\n",
        "ab=obj2.readlines()"
      ],
      "metadata": {
        "id": "bEymXmLogeip"
      },
      "execution_count": null,
      "outputs": []
    },
    {
      "cell_type": "code",
      "source": [
        "for itr in ab:\n",
        "  print(itr, end=\"\")"
      ],
      "metadata": {
        "colab": {
          "base_uri": "https://localhost:8080/"
        },
        "id": "jJwPABFpgnXE",
        "outputId": "6090154c-e517-4fa3-97bc-1e46bbac5ff9"
      },
      "execution_count": null,
      "outputs": [
        {
          "output_type": "stream",
          "name": "stdout",
          "text": [
            "Hello, How are You ?\n",
            "Welcome to The chapter File Handling. \n",
            "Enjoy the session. \n",
            "Hello, How are You ?\n"
          ]
        }
      ]
    },
    {
      "cell_type": "markdown",
      "source": [
        "# Closing a File\n",
        "When we have finished reading or writing from a file, we need to properly close it. Since an open file consumes system resources (depending on the mode of the file), closing it will free resources \n",
        "tied to it. This is done using the close() method. \n",
        "\n",
        "The syntax to close a file is:\n",
        "\n",
        "```Fileobject.close()```"
      ],
      "metadata": {
        "id": "yKM5IGfpNPqe"
      }
    },
    {
      "cell_type": "code",
      "source": [
        "fp1 = open(\"Demo1.txt\",\"w\")\n",
        "fp1.close()"
      ],
      "metadata": {
        "id": "A-1yQyaMNdYG"
      },
      "execution_count": null,
      "outputs": []
    },
    {
      "cell_type": "code",
      "source": [
        "obj1.close()\n",
        "obj2.close()"
      ],
      "metadata": {
        "id": "3GLODcioNv2G"
      },
      "execution_count": null,
      "outputs": []
    },
    {
      "cell_type": "markdown",
      "source": [
        "# Writing Numbers to a File\n",
        "In the above program, we have seen that the write (str s) method is used to write a string to a file. However, if we try to write numbers to a file, the Python interpreter shows an error."
      ],
      "metadata": {
        "id": "fXmZ-4M9NwiO"
      }
    },
    {
      "cell_type": "code",
      "source": [
        "def main():\n",
        " obj1 = open(\"WriteNumbers.txt\",\"w\") #Open file in Write mode\n",
        " for x in range(1,20):\n",
        "   obj1.write(x) #Write number X to a file\n",
        " obj1.close()\n",
        "main()"
      ],
      "metadata": {
        "colab": {
          "base_uri": "https://localhost:8080/",
          "height": 321
        },
        "id": "q-mD4Bo_N7iO",
        "outputId": "fe4bcc27-c2cc-407c-81a1-27bf4e0c5039"
      },
      "execution_count": null,
      "outputs": [
        {
          "output_type": "error",
          "ename": "TypeError",
          "evalue": "ignored",
          "traceback": [
            "\u001b[0;31m---------------------------------------------------------------------------\u001b[0m",
            "\u001b[0;31mTypeError\u001b[0m                                 Traceback (most recent call last)",
            "\u001b[0;32m<ipython-input-1-d4b5bb8e0535>\u001b[0m in \u001b[0;36m<module>\u001b[0;34m\u001b[0m\n\u001b[1;32m      4\u001b[0m    \u001b[0mobj1\u001b[0m\u001b[0;34m.\u001b[0m\u001b[0mwrite\u001b[0m\u001b[0;34m(\u001b[0m\u001b[0mx\u001b[0m\u001b[0;34m)\u001b[0m \u001b[0;31m#Write number X to a file\u001b[0m\u001b[0;34m\u001b[0m\u001b[0;34m\u001b[0m\u001b[0m\n\u001b[1;32m      5\u001b[0m  \u001b[0mobj1\u001b[0m\u001b[0;34m.\u001b[0m\u001b[0mclose\u001b[0m\u001b[0;34m(\u001b[0m\u001b[0;34m)\u001b[0m\u001b[0;34m\u001b[0m\u001b[0;34m\u001b[0m\u001b[0m\n\u001b[0;32m----> 6\u001b[0;31m \u001b[0mmain\u001b[0m\u001b[0;34m(\u001b[0m\u001b[0;34m)\u001b[0m\u001b[0;34m\u001b[0m\u001b[0;34m\u001b[0m\u001b[0m\n\u001b[0m",
            "\u001b[0;32m<ipython-input-1-d4b5bb8e0535>\u001b[0m in \u001b[0;36mmain\u001b[0;34m()\u001b[0m\n\u001b[1;32m      2\u001b[0m  \u001b[0mobj1\u001b[0m \u001b[0;34m=\u001b[0m \u001b[0mopen\u001b[0m\u001b[0;34m(\u001b[0m\u001b[0;34m\"WriteNumbers.txt\"\u001b[0m\u001b[0;34m,\u001b[0m\u001b[0;34m\"w\"\u001b[0m\u001b[0;34m)\u001b[0m \u001b[0;31m#Open file in Write mode\u001b[0m\u001b[0;34m\u001b[0m\u001b[0;34m\u001b[0m\u001b[0m\n\u001b[1;32m      3\u001b[0m  \u001b[0;32mfor\u001b[0m \u001b[0mx\u001b[0m \u001b[0;32min\u001b[0m \u001b[0mrange\u001b[0m\u001b[0;34m(\u001b[0m\u001b[0;36m1\u001b[0m\u001b[0;34m,\u001b[0m\u001b[0;36m20\u001b[0m\u001b[0;34m)\u001b[0m\u001b[0;34m:\u001b[0m\u001b[0;34m\u001b[0m\u001b[0;34m\u001b[0m\u001b[0m\n\u001b[0;32m----> 4\u001b[0;31m    \u001b[0mobj1\u001b[0m\u001b[0;34m.\u001b[0m\u001b[0mwrite\u001b[0m\u001b[0;34m(\u001b[0m\u001b[0mx\u001b[0m\u001b[0;34m)\u001b[0m \u001b[0;31m#Write number X to a file\u001b[0m\u001b[0;34m\u001b[0m\u001b[0;34m\u001b[0m\u001b[0m\n\u001b[0m\u001b[1;32m      5\u001b[0m  \u001b[0mobj1\u001b[0m\u001b[0;34m.\u001b[0m\u001b[0mclose\u001b[0m\u001b[0;34m(\u001b[0m\u001b[0;34m)\u001b[0m\u001b[0;34m\u001b[0m\u001b[0;34m\u001b[0m\u001b[0m\n\u001b[1;32m      6\u001b[0m \u001b[0mmain\u001b[0m\u001b[0;34m(\u001b[0m\u001b[0;34m)\u001b[0m\u001b[0;34m\u001b[0m\u001b[0;34m\u001b[0m\u001b[0m\n",
            "\u001b[0;31mTypeError\u001b[0m: write() argument must be str, not int"
          ]
        }
      ]
    },
    {
      "cell_type": "code",
      "source": [
        "def main():\n",
        " obj1 = open(\"WriteNumbers.txt\",\"w\") #Open file in Write mode\n",
        " for x in range(1,20):\n",
        "   x = str(x)\n",
        "   obj1.write(x) #Write number X to a file\n",
        "   obj1.write(\" \")\n",
        " obj1.close()\n",
        "main()"
      ],
      "metadata": {
        "id": "SPxcOnxEOHAA"
      },
      "execution_count": null,
      "outputs": []
    },
    {
      "cell_type": "code",
      "source": [
        "obj2 = open(\"WriteNumbers.txt\",\"r\")\n",
        "obj2.read()"
      ],
      "metadata": {
        "colab": {
          "base_uri": "https://localhost:8080/",
          "height": 36
        },
        "id": "iIPP7azUiXua",
        "outputId": "3183e06d-d02d-4a2f-f1ab-d91ae4db25cf"
      },
      "execution_count": null,
      "outputs": [
        {
          "output_type": "execute_result",
          "data": {
            "text/plain": [
              "'1 2 3 4 5 6 7 8 9 10 11 12 13 14 15 16 17 18 19 '"
            ],
            "application/vnd.google.colaboratory.intrinsic+json": {
              "type": "string"
            }
          },
          "metadata": {},
          "execution_count": 27
        }
      ]
    },
    {
      "cell_type": "markdown",
      "source": [
        "Generate 50 random numbers within a range 500 to 1000 and write them to file WriteNumRandom.txt"
      ],
      "metadata": {
        "id": "hOmPC9YFOtBK"
      }
    },
    {
      "cell_type": "code",
      "source": [
        "range(51)"
      ],
      "metadata": {
        "colab": {
          "base_uri": "https://localhost:8080/"
        },
        "id": "x_Cdp_62jDfZ",
        "outputId": "44a03727-2c3c-4114-e8f3-002265cb21eb"
      },
      "execution_count": null,
      "outputs": [
        {
          "output_type": "execute_result",
          "data": {
            "text/plain": [
              "range(0, 51)"
            ]
          },
          "metadata": {},
          "execution_count": 30
        }
      ]
    },
    {
      "cell_type": "code",
      "source": [
        "from random import randint # Import Random Module\n",
        "fp1 = open(\"WriteNumRandom.txt\",\"w\") # Open file in write mode \n",
        "for itr in range(1,51): #Iterates for 50 times\n",
        " x = randint(500,1000) #Generate one random number \n",
        " x = str(x) #Convert Number to String\n",
        " fp1.write(x + \" \") #Write Number to Output file \n",
        "fp1.close() #Finish Writing Close the file"
      ],
      "metadata": {
        "id": "2NzuPvG9OyLI"
      },
      "execution_count": null,
      "outputs": []
    },
    {
      "cell_type": "code",
      "source": [
        "fp1 = open(\"WriteNumRandom.txt\",\"r\")\n",
        "tx = fp1.read()\n",
        "\n"
      ],
      "metadata": {
        "id": "UgWrRAw_jR9B"
      },
      "execution_count": null,
      "outputs": []
    },
    {
      "cell_type": "code",
      "source": [
        "tx"
      ],
      "metadata": {
        "colab": {
          "base_uri": "https://localhost:8080/",
          "height": 55
        },
        "id": "vyj-W9jM3wKg",
        "outputId": "f5fd3508-4c67-4065-ee4b-2bc91e54d781"
      },
      "execution_count": null,
      "outputs": [
        {
          "output_type": "execute_result",
          "data": {
            "text/plain": [
              "'524 550 612 989 690 707 804 572 548 632 628 915 862 758 835 953 524 947 871 981 590 562 535 769 557 848 842 523 979 618 917 665 701 712 696 860 843 584 632 526 560 750 896 566 646 738 963 535 995 930 '"
            ],
            "application/vnd.google.colaboratory.intrinsic+json": {
              "type": "string"
            }
          },
          "metadata": {},
          "execution_count": 30
        }
      ]
    },
    {
      "cell_type": "code",
      "source": [
        "tx1= tx.split()\n",
        "len(tx1)"
      ],
      "metadata": {
        "colab": {
          "base_uri": "https://localhost:8080/"
        },
        "id": "HxeUGG2Ft0Vu",
        "outputId": "2fd2ffdd-c38d-48a3-d055-bac756457cba"
      },
      "execution_count": null,
      "outputs": [
        {
          "output_type": "execute_result",
          "data": {
            "text/plain": [
              "50"
            ]
          },
          "metadata": {},
          "execution_count": 46
        }
      ]
    },
    {
      "cell_type": "markdown",
      "source": [
        "# Reading Multiple Items on one Line"
      ],
      "metadata": {
        "id": "2U-87t3oPVQK"
      }
    },
    {
      "cell_type": "code",
      "source": [
        "fp1 = open(\"Demo1.txt\",\"r\") #open file in read mode\n",
        "tx = fp1.readline()\n",
        "tx"
      ],
      "metadata": {
        "colab": {
          "base_uri": "https://localhost:8080/",
          "height": 36
        },
        "id": "J4g8LPVnPXM-",
        "outputId": "19d5dcf5-a2a9-4db5-f54a-a020623b7752"
      },
      "execution_count": null,
      "outputs": [
        {
          "output_type": "execute_result",
          "data": {
            "text/plain": [
              "'Hello, How are You ?\\n'"
            ],
            "application/vnd.google.colaboratory.intrinsic+json": {
              "type": "string"
            }
          },
          "metadata": {},
          "execution_count": 31
        }
      ]
    },
    {
      "cell_type": "code",
      "source": [
        "for i in range(len(tx)):\n",
        "   print(tx[i])"
      ],
      "metadata": {
        "colab": {
          "base_uri": "https://localhost:8080/"
        },
        "id": "BJ_ihpyIQPai",
        "outputId": "fa2f944a-76b1-4a51-90d1-0d5beb494453"
      },
      "execution_count": null,
      "outputs": [
        {
          "output_type": "stream",
          "name": "stdout",
          "text": [
            "H\n",
            "e\n",
            "l\n",
            "l\n",
            "o\n",
            ",\n",
            " \n",
            "H\n",
            "o\n",
            "w\n",
            " \n",
            "a\n",
            "r\n",
            "e\n",
            " \n",
            "Y\n",
            "o\n",
            "u\n",
            " \n",
            "?\n",
            "\n",
            "\n"
          ]
        }
      ]
    },
    {
      "cell_type": "code",
      "source": [
        "tx=tx.split()\n",
        "tx"
      ],
      "metadata": {
        "id": "fYVZfjCGQCdl",
        "colab": {
          "base_uri": "https://localhost:8080/"
        },
        "outputId": "112f9075-a297-4640-cc33-437f0a062065"
      },
      "execution_count": null,
      "outputs": [
        {
          "output_type": "execute_result",
          "data": {
            "text/plain": [
              "['Hello,', 'How', 'are', 'You', '?']"
            ]
          },
          "metadata": {},
          "execution_count": 52
        }
      ]
    },
    {
      "cell_type": "code",
      "source": [
        "for i in range(len(tx)):\n",
        "   print(tx[i])"
      ],
      "metadata": {
        "id": "iVGz-OZHQmqs",
        "colab": {
          "base_uri": "https://localhost:8080/"
        },
        "outputId": "27f05d73-913c-471b-ed75-f5b925a1084a"
      },
      "execution_count": null,
      "outputs": [
        {
          "output_type": "stream",
          "name": "stdout",
          "text": [
            "Hello,\n",
            "How\n",
            "are\n",
            "You\n",
            "?\n"
          ]
        }
      ]
    },
    {
      "cell_type": "code",
      "source": [
        "%%writefile grades.txt\n",
        "5\n",
        "60 70 80 90 100\n",
        "55 65 75 85 60\n",
        "70 60 80 90 67 \n",
        "89 76 56 43 90\n",
        "67 89 76 54 90"
      ],
      "metadata": {
        "colab": {
          "base_uri": "https://localhost:8080/"
        },
        "id": "jyOH0ZzaRDY6",
        "outputId": "dda57a21-ffdd-483c-ac40-9cccb9e664e7"
      },
      "execution_count": null,
      "outputs": [
        {
          "output_type": "stream",
          "name": "stdout",
          "text": [
            "Writing grades.txt\n"
          ]
        }
      ]
    },
    {
      "cell_type": "code",
      "source": [
        "# Write a program to read the contents of a fi le Grades.txt and calculate the total marks and percentage obtained by a student\n",
        "fp1 = open('grades.txt','r') #Open file in read mode \n",
        "n = int(fp1.readline()) #Read first line of file\n",
        "print('Total Number of Students: ',n)\n",
        "for i in range(n):\n",
        " print('Student #',i+1,':', end = ' ')\n",
        " allgrades = (fp1.readline().split())\n",
        " print(allgrades) \n",
        " sum = 0\n",
        " for j in range(len(allgrades)):\n",
        "   sum = sum + int(allgrades[j])\n",
        " per = float((sum/500)*100)\n",
        " print('Total = ',sum, ' \\nPercentage = ',per)\n",
        " print('\\n')"
      ],
      "metadata": {
        "id": "fC8QOYDjRt_K",
        "colab": {
          "base_uri": "https://localhost:8080/"
        },
        "outputId": "83873afe-43b8-4209-83b1-e0466037d939"
      },
      "execution_count": null,
      "outputs": [
        {
          "output_type": "error",
          "ename": "FileNotFoundError",
          "evalue": "ignored",
          "traceback": [
            "\u001b[0;31m---------------------------------------------------------------------------\u001b[0m",
            "\u001b[0;31mFileNotFoundError\u001b[0m                         Traceback (most recent call last)",
            "\u001b[0;32m<ipython-input-1-59f54b1c14c8>\u001b[0m in \u001b[0;36m<module>\u001b[0;34m\u001b[0m\n\u001b[1;32m      1\u001b[0m \u001b[0;31m# Write a program to read the contents of a fi le Grades.txt and calculate the total marks and percentage obtained by a student\u001b[0m\u001b[0;34m\u001b[0m\u001b[0;34m\u001b[0m\u001b[0;34m\u001b[0m\u001b[0m\n\u001b[0;32m----> 2\u001b[0;31m \u001b[0mfp1\u001b[0m \u001b[0;34m=\u001b[0m \u001b[0mopen\u001b[0m\u001b[0;34m(\u001b[0m\u001b[0;34m'grades.txt'\u001b[0m\u001b[0;34m,\u001b[0m\u001b[0;34m'r'\u001b[0m\u001b[0;34m)\u001b[0m \u001b[0;31m#Open file in read mode\u001b[0m\u001b[0;34m\u001b[0m\u001b[0;34m\u001b[0m\u001b[0m\n\u001b[0m\u001b[1;32m      3\u001b[0m \u001b[0mn\u001b[0m \u001b[0;34m=\u001b[0m \u001b[0mint\u001b[0m\u001b[0;34m(\u001b[0m\u001b[0mfp1\u001b[0m\u001b[0;34m.\u001b[0m\u001b[0mreadline\u001b[0m\u001b[0;34m(\u001b[0m\u001b[0;34m)\u001b[0m\u001b[0;34m)\u001b[0m \u001b[0;31m#Read first line of file\u001b[0m\u001b[0;34m\u001b[0m\u001b[0;34m\u001b[0m\u001b[0m\n\u001b[1;32m      4\u001b[0m \u001b[0mprint\u001b[0m\u001b[0;34m(\u001b[0m\u001b[0;34m'Total Number of Students: '\u001b[0m\u001b[0;34m,\u001b[0m\u001b[0mn\u001b[0m\u001b[0;34m)\u001b[0m\u001b[0;34m\u001b[0m\u001b[0;34m\u001b[0m\u001b[0m\n\u001b[1;32m      5\u001b[0m \u001b[0;32mfor\u001b[0m \u001b[0mi\u001b[0m \u001b[0;32min\u001b[0m \u001b[0mrange\u001b[0m\u001b[0;34m(\u001b[0m\u001b[0mn\u001b[0m\u001b[0;34m)\u001b[0m\u001b[0;34m:\u001b[0m\u001b[0;34m\u001b[0m\u001b[0;34m\u001b[0m\u001b[0m\n",
            "\u001b[0;31mFileNotFoundError\u001b[0m: [Errno 2] No such file or directory: 'grades.txt'"
          ]
        }
      ]
    },
    {
      "cell_type": "markdown",
      "source": [
        "# Appending Data"
      ],
      "metadata": {
        "id": "2dOnm-kiRuuz"
      }
    },
    {
      "cell_type": "code",
      "source": [
        "fp1 = open('grades.txt','a')\n",
        "fp1.write(\"\\n 50 55 60 65 70\")"
      ],
      "metadata": {
        "colab": {
          "base_uri": "https://localhost:8080/"
        },
        "id": "Z8WSha57SfDJ",
        "outputId": "220cc03a-1999-40d8-ffd3-8f784aa332e8"
      },
      "execution_count": null,
      "outputs": [
        {
          "output_type": "execute_result",
          "data": {
            "text/plain": [
              "16"
            ]
          },
          "metadata": {},
          "execution_count": 6
        }
      ]
    },
    {
      "cell_type": "code",
      "source": [
        "fp2 = open('grades.txt','r')\n",
        "print(fp2.read())\n"
      ],
      "metadata": {
        "colab": {
          "base_uri": "https://localhost:8080/"
        },
        "id": "U8lKI4Le5ftP",
        "outputId": "e18b12ef-81c1-48c5-c66a-74e2c773ce28"
      },
      "execution_count": null,
      "outputs": [
        {
          "output_type": "stream",
          "name": "stdout",
          "text": [
            "\n",
            " 50 55 60 65 70\n"
          ]
        }
      ]
    },
    {
      "cell_type": "code",
      "source": [
        "fp2.read()"
      ],
      "metadata": {
        "colab": {
          "base_uri": "https://localhost:8080/",
          "height": 36
        },
        "id": "lnKuy9E86yz8",
        "outputId": "be30de41-90cc-41ae-b25c-c8b98f2293a6"
      },
      "execution_count": null,
      "outputs": [
        {
          "output_type": "execute_result",
          "data": {
            "text/plain": [
              "''"
            ],
            "application/vnd.google.colaboratory.intrinsic+json": {
              "type": "string"
            }
          },
          "metadata": {},
          "execution_count": 78
        }
      ]
    },
    {
      "cell_type": "code",
      "source": [
        "fp1.close()\n",
        "fp2.close()"
      ],
      "metadata": {
        "id": "e5fgdjh_oMtW"
      },
      "execution_count": null,
      "outputs": []
    },
    {
      "cell_type": "markdown",
      "source": [
        "# THE seek() FUNCTION \n",
        "\n",
        "When a file is opened, we can imagine an imaginary pointer positioned at the beginning of the file. \n",
        "\n",
        "Python provides an inbuilt function called seek() for moving the pointer explicitly to any position in a file. \n",
        "\n",
        "Thus, the seek() method is used to set the file pointer to a specific position in a file. "
      ],
      "metadata": {
        "id": "JN_hm2KsUql9"
      }
    },
    {
      "cell_type": "code",
      "source": [
        "fp1 = open('grades.txt','r')\n",
        "fp1.seek(5) "
      ],
      "metadata": {
        "colab": {
          "base_uri": "https://localhost:8080/"
        },
        "id": "HFUFJGlcU_cB",
        "outputId": "2f87dc3a-fb10-44b7-9c8a-6dbaeede8a37"
      },
      "execution_count": null,
      "outputs": [
        {
          "output_type": "execute_result",
          "data": {
            "text/plain": [
              "5"
            ]
          },
          "metadata": {},
          "execution_count": 41
        }
      ]
    },
    {
      "cell_type": "code",
      "source": [
        "fp1.readline()"
      ],
      "metadata": {
        "colab": {
          "base_uri": "https://localhost:8080/",
          "height": 36
        },
        "id": "hOT0GsgPVa6D",
        "outputId": "b1a6f492-0415-4f38-9058-d55d7b5e1890"
      },
      "execution_count": null,
      "outputs": [
        {
          "output_type": "execute_result",
          "data": {
            "text/plain": [
              "'70 80 90 100\\n'"
            ],
            "application/vnd.google.colaboratory.intrinsic+json": {
              "type": "string"
            }
          },
          "metadata": {},
          "execution_count": 42
        }
      ]
    },
    {
      "cell_type": "code",
      "source": [
        "fp1 = open('grades.txt','r')"
      ],
      "metadata": {
        "id": "I0QbLFUJ9ior"
      },
      "execution_count": null,
      "outputs": []
    },
    {
      "cell_type": "code",
      "source": [
        "fp1.seek(0, 1) # move two characters ahead from the current position (1)\n",
        "fp1.readline()"
      ],
      "metadata": {
        "colab": {
          "base_uri": "https://localhost:8080/",
          "height": 36
        },
        "id": "N2om7vP2ox1c",
        "outputId": "86541584-2324-486d-83e6-cf64b6ffae91"
      },
      "execution_count": null,
      "outputs": [
        {
          "output_type": "execute_result",
          "data": {
            "text/plain": [
              "'55 65 75 85 60\\n'"
            ],
            "application/vnd.google.colaboratory.intrinsic+json": {
              "type": "string"
            }
          },
          "metadata": {},
          "execution_count": 43
        }
      ]
    },
    {
      "cell_type": "code",
      "source": [
        "fp1.seek(5) \n",
        "fp1.readline()"
      ],
      "metadata": {
        "colab": {
          "base_uri": "https://localhost:8080/",
          "height": 36
        },
        "id": "u475Zd5YkRyV",
        "outputId": "25333244-c0cd-46bc-97f8-984b1cd6f703"
      },
      "execution_count": null,
      "outputs": [
        {
          "output_type": "execute_result",
          "data": {
            "text/plain": [
              "'70 80 90 100\\n'"
            ],
            "application/vnd.google.colaboratory.intrinsic+json": {
              "type": "string"
            }
          },
          "metadata": {},
          "execution_count": 44
        }
      ]
    },
    {
      "cell_type": "code",
      "source": [
        "fp1.seek(0, 0) # move two characters ahead from the absolute position (0)\n",
        "fp1.readline()"
      ],
      "metadata": {
        "colab": {
          "base_uri": "https://localhost:8080/",
          "height": 36
        },
        "id": "TfziyDuuj3KN",
        "outputId": "eb409b5e-bfe8-4106-ed4d-ffb8b87d38b0"
      },
      "execution_count": null,
      "outputs": [
        {
          "output_type": "execute_result",
          "data": {
            "text/plain": [
              "'5\\n'"
            ],
            "application/vnd.google.colaboratory.intrinsic+json": {
              "type": "string"
            }
          },
          "metadata": {},
          "execution_count": 45
        }
      ]
    },
    {
      "cell_type": "code",
      "source": [
        "fp1.seek(0, 2) # move two characters ahead from the end position (2)\n",
        "fp1.readline()"
      ],
      "metadata": {
        "colab": {
          "base_uri": "https://localhost:8080/",
          "height": 36
        },
        "id": "6JAzxweMkDcz",
        "outputId": "4376f8ca-8ce7-4ff9-d5eb-aa135fa52c6b"
      },
      "execution_count": null,
      "outputs": [
        {
          "output_type": "execute_result",
          "data": {
            "text/plain": [
              "''"
            ],
            "application/vnd.google.colaboratory.intrinsic+json": {
              "type": "string"
            }
          },
          "metadata": {},
          "execution_count": 46
        }
      ]
    },
    {
      "cell_type": "markdown",
      "source": [
        "#  Pipe\n",
        "A pipe is a method to pass information from one process to another process. It offers only one-way communication and the passed information is held by the system until it is read by the receiving process.\n",
        "\n",
        "\n",
        "\n",
        "https://python-course.eu/applications-python/pipes-in-python.php"
      ],
      "metadata": {
        "id": "SxwQcrZbLXhT"
      }
    },
    {
      "cell_type": "code",
      "source": [],
      "metadata": {
        "id": "sB5AyGYHTbwl"
      },
      "execution_count": null,
      "outputs": []
    },
    {
      "cell_type": "code",
      "source": [
        "msgs = [\"hey\",\"hello\",\"hru?\",\"end\"]"
      ],
      "metadata": {
        "id": "k7eWAOpTRL_n"
      },
      "execution_count": null,
      "outputs": []
    },
    {
      "cell_type": "code",
      "source": [
        "def send_msg(conn, msgs):\n",
        "  for msg in msgs:\n",
        "    conn.send(msg)\n",
        "  conn.close()\n",
        "\n",
        "def recv_msg(conn):\n",
        "  while 1:\n",
        "    msg = conn.recv()\n",
        "    if msg==\"end\":\n",
        "      break\n",
        "    print(msg)"
      ],
      "metadata": {
        "id": "svWzsTqIRYY9"
      },
      "execution_count": null,
      "outputs": []
    },
    {
      "cell_type": "code",
      "source": [
        "#We are creating two connections for connecting two processes, kind of parent child relationship, \n",
        "#(but here both are just two process at the same level), these coneections will be passed as arguments\n",
        "import multiprocessing\n",
        "parent_conn, child_conn = multiprocessing.Pipe() #Returns two connection object connected by a pipe"
      ],
      "metadata": {
        "id": "YRDN4IqdS1JE"
      },
      "execution_count": null,
      "outputs": []
    },
    {
      "cell_type": "code",
      "source": [
        "# creating two processes, one will act as parent and other as child\n",
        "p1 = multiprocessing.Process(target=send_msg, args=(parent_conn, msgs)) #connections are being passed in the arguments\n",
        "p2 = multiprocessing.Process(target=recv_msg, args=(child_conn,)) #arguments always take tupples, so need to put ',' "
      ],
      "metadata": {
        "id": "zyOiHyWoTifh"
      },
      "execution_count": null,
      "outputs": []
    },
    {
      "cell_type": "code",
      "source": [
        "p1.start()\n",
        "p2.start()\n",
        "\n",
        "p1.join()\n",
        "p2.join()"
      ],
      "metadata": {
        "colab": {
          "base_uri": "https://localhost:8080/"
        },
        "id": "B1VC1IDBTs_M",
        "outputId": "4cf80fb1-330f-4f5e-ebae-166bed1779b8"
      },
      "execution_count": null,
      "outputs": [
        {
          "output_type": "stream",
          "name": "stdout",
          "text": [
            "hey\n",
            "hello\n",
            "hru?\n"
          ]
        }
      ]
    },
    {
      "cell_type": "code",
      "source": [
        "# https://www.youtube.com/watch?v=5ff4_YK83fQ"
      ],
      "metadata": {
        "id": "4UaqR-nHUY3_"
      },
      "execution_count": null,
      "outputs": []
    },
    {
      "cell_type": "markdown",
      "source": [
        "![image.png](data:image/png;base64,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)"
      ],
      "metadata": {
        "id": "cVBFW-iKUahL"
      }
    },
    {
      "cell_type": "markdown",
      "source": [
        "Data in a pipe may become corrupted if two processes (or threads) try to read from or write to the same end of the pipe at the same time. Of course there is no risk of corruption from processes using different ends of the pipe at the same time. "
      ],
      "metadata": {
        "id": "stUwVMErXN9n"
      }
    },
    {
      "cell_type": "code",
      "source": [
        "# https://www.delftstack.com/howto/python/python-pipe/\n",
        "\n",
        "import os\n",
        "#The os.pipe() function returns two file descriptors; one for writing data to \n",
        "#the pipe and one for reading data written to the pipe. We will create a pipe \n",
        "#to pass information between two processes.\n",
        "r, w = os.pipe() \n",
        "p_id = os.fork()\n",
        "print(p_id)\n",
        "if p_id:\n",
        "   os.close(w)\n",
        "   r = os.fdopen(r)\n",
        "   print (\"Parent process reading data from the pipe\")\n",
        "   data = r.read()\n",
        "   print (\"data =\", data)\n",
        "else:\n",
        "   os.close(r)\n",
        "   w = os.fdopen(w, 'w')\n",
        "   print (\"Child writing data to the pipe\")\n",
        "   w.write(\"data written by the child\")\n",
        "   w.close()"
      ],
      "metadata": {
        "colab": {
          "base_uri": "https://localhost:8080/"
        },
        "id": "GT8EsMKSddYV",
        "outputId": "2a94a7af-b9e8-4647-f560-604095b989d8"
      },
      "execution_count": null,
      "outputs": [
        {
          "output_type": "stream",
          "name": "stdout",
          "text": [
            "0\n",
            "Child writing data to the pipe\n",
            "480\n",
            "Parent process reading data from the pipe\n",
            "data = data written by the child\n"
          ]
        }
      ]
    },
    {
      "cell_type": "code",
      "source": [
        "%%writefile pipeTest.py\n",
        "# https://linuxhint.com/python-pipe-example/\n",
        "import os\n",
        "# Create a pipe\n",
        "r, w = os.pipe()\n",
        "\n",
        "# Create a child process\n",
        "pid = os.fork()\n",
        "\n",
        "# pid greater than 0 represents the parent process\n",
        "if pid:\n",
        "  \n",
        "    # This is the parent process \n",
        "    os.close(r)\n",
        "  \n",
        "    # Write some text to file descriptor w \n",
        "    \n",
        "    print(\"Parent process is writing\")\n",
        "    text = b\"Hello child process\"\n",
        "    os.write(w, text)\n",
        "    #print(\"Written text:\", text.decode())\n",
        "    os.close(w)\n",
        "    \n",
        "else:\n",
        "  \n",
        "    # This is the child process \n",
        "    os.close(w)\n",
        "  \n",
        "    # Read the text written by parent process\n",
        "    print(\"\\nChild Process is reading\")\n",
        "    r = os.fdopen(r)\n",
        "    print(\"Read text:\", r.read())\n",
        "    "
      ],
      "metadata": {
        "colab": {
          "base_uri": "https://localhost:8080/"
        },
        "id": "3hggS_KtLj9U",
        "outputId": "a59801fe-2051-408b-a54c-427f6aca1dbb"
      },
      "execution_count": null,
      "outputs": [
        {
          "output_type": "stream",
          "name": "stdout",
          "text": [
            "Writing pipeTest.py\n"
          ]
        }
      ]
    },
    {
      "cell_type": "code",
      "source": [],
      "metadata": {
        "id": "ZJqpeKFVn4Cn"
      },
      "execution_count": null,
      "outputs": []
    },
    {
      "cell_type": "code",
      "source": [
        "#!/usr/bin/python\n",
        "# -*- coding: UTF-8 -*-\n",
        "\n",
        "import os, sys\n",
        "\n",
        "print (\"The child will write text to a pipe and \")\n",
        "print (\"the parent will read the text written by child...\")\n",
        "\n",
        "# file descriptors r, w for reading and writing\n",
        "r, w = os.pipe() \n",
        "\n",
        "processid = os.fork()\n",
        "if processid:\n",
        "    # This is the parent process \n",
        "    # Closes file descriptor w\n",
        "    os.close(w)\n",
        "    r = os.fdopen(r)\n",
        "    print (\"Parent reading\")\n",
        "    str = r.read()\n",
        "    print(\"text =\", str   )\n",
        "    \n",
        "else:\n",
        "    # This is the child process\n",
        "    os.close(r)\n",
        "    w = os.fdopen(w, 'w')\n",
        "    print (\"Child writing\")\n",
        "    w.write(\"Text written by child...\")\n",
        "    w.close()\n",
        "    print (\"Child closing\")\n",
        "    "
      ],
      "metadata": {
        "colab": {
          "base_uri": "https://localhost:8080/"
        },
        "id": "FwV0grXbYKMv",
        "outputId": "6059aded-faeb-46ee-890a-6b02166fe8e5"
      },
      "execution_count": null,
      "outputs": [
        {
          "output_type": "stream",
          "name": "stdout",
          "text": [
            "The child will write text to a pipe and \n",
            "the parent will read the text written by child...\n",
            "Child writing\n",
            "The child will write text to a pipe and \n",
            "the parent will read the text written by child...\n",
            "Parent reading\n",
            "text = Text written by child...\n",
            "Child closing\n"
          ]
        }
      ]
    },
    {
      "cell_type": "markdown",
      "source": [
        "# I/O Exception\n",
        "\n",
        "IOError means Input/Output error. It occurs when a file, file path, or OS operation we’re referencing does not exist. For example, if you are running a runtime operation on an existing file, and the file goes missing from the location, Python will throw an IOError.\n",
        "\n",
        "https://www.askpython.com/python/examples/handling-ioerrors"
      ],
      "metadata": {
        "id": "0CEx-Q1KgrC0"
      }
    },
    {
      "cell_type": "code",
      "source": [
        "import sys\n",
        "def readFile():\n",
        "    try:\n",
        "        f = open ( \"xyz.txt\", 'r' )\n",
        "    except IOError as e:\n",
        "        print (e)\n",
        "readFile()"
      ],
      "metadata": {
        "colab": {
          "base_uri": "https://localhost:8080/"
        },
        "id": "y5UrZY8tgtw1",
        "outputId": "54166eda-4cac-49a8-d9e8-0727bad7bb00"
      },
      "execution_count": null,
      "outputs": [
        {
          "output_type": "stream",
          "name": "stdout",
          "text": [
            "[Errno 2] No such file or directory: 'xyz.txt'\n"
          ]
        }
      ]
    },
    {
      "cell_type": "markdown",
      "source": [],
      "metadata": {
        "id": "T2WQcIQ-iHcC"
      }
    },
    {
      "cell_type": "markdown",
      "source": [
        "# Working with Directories\n",
        "\n",
        "All files are contained within various directories, and Python has no problem handling these too. The os module has several methods that help you create, remove, and change directories."
      ],
      "metadata": {
        "id": "LgFcrTrcbOD1"
      }
    },
    {
      "cell_type": "code",
      "source": [
        "# The getcwd() Method displays the current working directory.\n",
        "import os\n",
        "\n",
        "os.getcwd()"
      ],
      "metadata": {
        "colab": {
          "base_uri": "https://localhost:8080/",
          "height": 36
        },
        "id": "Ok8BopyAbY8n",
        "outputId": "d582ea72-89df-45be-8c66-f9d6578b85c8"
      },
      "execution_count": null,
      "outputs": [
        {
          "output_type": "execute_result",
          "data": {
            "text/plain": [
              "'/content/newdir'"
            ],
            "application/vnd.google.colaboratory.intrinsic+json": {
              "type": "string"
            }
          },
          "metadata": {},
          "execution_count": 19
        }
      ]
    },
    {
      "cell_type": "code",
      "source": [
        "# You can use the mkdir() method of the os module to create directories in the current directory\n",
        "os.mkdir(\"newdir\")"
      ],
      "metadata": {
        "id": "9Ez2Y5_cbviQ"
      },
      "execution_count": null,
      "outputs": []
    },
    {
      "cell_type": "code",
      "source": [
        "# You can use the chdir() method to change the current directory. \n",
        "os.chdir(\"newdir\")"
      ],
      "metadata": {
        "id": "CZIaTRrub5lP"
      },
      "execution_count": null,
      "outputs": []
    },
    {
      "cell_type": "code",
      "source": [
        "os.chdir(\"/content\")"
      ],
      "metadata": {
        "id": "wTjTL4PTN8Ok"
      },
      "execution_count": null,
      "outputs": []
    },
    {
      "cell_type": "code",
      "source": [
        "# The rmdir() method deletes the directory, which is passed as an argument in the method.\n",
        "os.rmdir('newdir')"
      ],
      "metadata": {
        "id": "fNqoFWJncDEv"
      },
      "execution_count": null,
      "outputs": []
    },
    {
      "cell_type": "code",
      "source": [
        "os.chdir(\"/content\")\n",
        "os.rmdir('newdir')"
      ],
      "metadata": {
        "id": "81Br2UlacRic"
      },
      "execution_count": null,
      "outputs": []
    },
    {
      "cell_type": "code",
      "source": [
        "#  get all the files or directories from a particular path is by using os.listdir() method\n",
        "import os\n",
        "for x in os.listdir('.'):\n",
        "   print(x)"
      ],
      "metadata": {
        "colab": {
          "base_uri": "https://localhost:8080/"
        },
        "id": "xI4mtOaJctkn",
        "outputId": "d8f27967-93ec-4900-f348-9c5384c197eb"
      },
      "execution_count": null,
      "outputs": [
        {
          "output_type": "stream",
          "name": "stdout",
          "text": [
            ".config\n",
            "sample_data\n"
          ]
        }
      ]
    },
    {
      "cell_type": "code",
      "source": [
        "import os\n",
        "for x in os.listdir(r'/content/sample_data'):\n",
        "   print(x)"
      ],
      "metadata": {
        "colab": {
          "base_uri": "https://localhost:8080/"
        },
        "id": "txRSFQXnc4E_",
        "outputId": "a63bae1c-59ad-4c96-d4a1-ed4df95f7e0e"
      },
      "execution_count": null,
      "outputs": [
        {
          "output_type": "stream",
          "name": "stdout",
          "text": [
            "README.md\n",
            "anscombe.json\n",
            "california_housing_test.csv\n",
            "california_housing_train.csv\n",
            "mnist_test.csv\n",
            "mnist_train_small.csv\n"
          ]
        }
      ]
    },
    {
      "cell_type": "code",
      "source": [
        "%%writefile pipeTest.py\n",
        "hhello"
      ],
      "metadata": {
        "colab": {
          "base_uri": "https://localhost:8080/"
        },
        "id": "oNEBfdfGkVAS",
        "outputId": "d3afccf0-f0fc-4beb-e6c3-50fbc78eda07"
      },
      "execution_count": null,
      "outputs": [
        {
          "output_type": "stream",
          "name": "stdout",
          "text": [
            "Writing pipeTest.py\n"
          ]
        }
      ]
    },
    {
      "cell_type": "code",
      "source": [
        "for x in os.listdir('.'):\n",
        "   if os.path.isfile(x): \n",
        "     print ('file-', x)\n",
        "   elif os.path.isdir(x): \n",
        "     print ('directory-', x)\n",
        "   elif os.path.islink(x): \n",
        "     print ('link-', x)\n",
        "   else: \n",
        "     print ('---', x)"
      ],
      "metadata": {
        "colab": {
          "base_uri": "https://localhost:8080/"
        },
        "id": "v84Eh2TpdUI-",
        "outputId": "dd74a4af-f158-4b03-a735-3785eb353c68"
      },
      "execution_count": null,
      "outputs": [
        {
          "output_type": "stream",
          "name": "stdout",
          "text": [
            "directory- .config\n",
            "file- pipeTest.py\n",
            "directory- sample_data\n"
          ]
        }
      ]
    },
    {
      "cell_type": "code",
      "source": [
        "os.chdir('./sample_data')\n",
        "for x in os.listdir('.'):\n",
        "   if os.path.isfile(x): \n",
        "     print ('file-', x)\n",
        "   elif os.path.isdir(x): \n",
        "     print ('directory-', x)\n",
        "   elif os.path.islink(x): \n",
        "     print ('link-', x)\n",
        "   else: \n",
        "     print ('---', x)"
      ],
      "metadata": {
        "colab": {
          "base_uri": "https://localhost:8080/"
        },
        "id": "F0M2vS-ze_HS",
        "outputId": "91164251-35f6-4358-a8be-3f0c17b664e8"
      },
      "execution_count": null,
      "outputs": [
        {
          "output_type": "stream",
          "name": "stdout",
          "text": [
            "file- README.md\n",
            "file- anscombe.json\n",
            "file- california_housing_test.csv\n",
            "file- california_housing_train.csv\n",
            "file- mnist_test.csv\n",
            "file- mnist_train_small.csv\n"
          ]
        }
      ]
    },
    {
      "cell_type": "code",
      "source": [
        "# We can have one-liner using filter() to collect the files from a particular path \n",
        "\n",
        "list(filter(lambda x: os.path.isfile(x), os.listdir('.')))"
      ],
      "metadata": {
        "colab": {
          "base_uri": "https://localhost:8080/"
        },
        "id": "Shked6fbfX2U",
        "outputId": "f38964fc-9337-4f0a-861b-2959c77eea7e"
      },
      "execution_count": null,
      "outputs": [
        {
          "output_type": "execute_result",
          "data": {
            "text/plain": [
              "['README.md',\n",
              " 'anscombe.json',\n",
              " 'california_housing_test.csv',\n",
              " 'california_housing_train.csv',\n",
              " 'mnist_test.csv',\n",
              " 'mnist_train_small.csv']"
            ]
          },
          "metadata": {},
          "execution_count": 31
        }
      ]
    },
    {
      "cell_type": "code",
      "source": [
        "# To get the list of directories using filter:\n",
        "\n",
        "list(filter(lambda x: os.path.isdir(x), os.listdir('.')))"
      ],
      "metadata": {
        "colab": {
          "base_uri": "https://localhost:8080/"
        },
        "id": "jI8O6qRifgv-",
        "outputId": "dbf7827c-786c-487a-9a42-a5e42e296de0"
      },
      "execution_count": null,
      "outputs": [
        {
          "output_type": "execute_result",
          "data": {
            "text/plain": [
              "['.config', 'sample_data']"
            ]
          },
          "metadata": {},
          "execution_count": 34
        }
      ]
    },
    {
      "cell_type": "code",
      "source": [
        "# Finding files of a particular type\n",
        "\n",
        "list(filter(lambda x: x.endswith('.csv'), os.listdir('.')))"
      ],
      "metadata": {
        "colab": {
          "base_uri": "https://localhost:8080/"
        },
        "id": "D4xNUIBXfpLG",
        "outputId": "ffec1422-50e2-4f41-b1c8-ec70b24e09d6"
      },
      "execution_count": null,
      "outputs": [
        {
          "output_type": "execute_result",
          "data": {
            "text/plain": [
              "['california_housing_test.csv',\n",
              " 'california_housing_train.csv',\n",
              " 'mnist_test.csv',\n",
              " 'mnist_train_small.csv']"
            ]
          },
          "metadata": {},
          "execution_count": 37
        }
      ]
    },
    {
      "cell_type": "code",
      "source": [
        "# We can write above code using list comprehension too\n",
        "list(x for x in os.listdir('.') if x.endswith('.csv'))"
      ],
      "metadata": {
        "colab": {
          "base_uri": "https://localhost:8080/"
        },
        "id": "KQunmmBGf9gV",
        "outputId": "f78c762f-21d9-4bf3-ed7d-308826bc7797"
      },
      "execution_count": null,
      "outputs": [
        {
          "output_type": "execute_result",
          "data": {
            "text/plain": [
              "['california_housing_test.csv',\n",
              " 'california_housing_train.csv',\n",
              " 'mnist_test.csv',\n",
              " 'mnist_train_small.csv']"
            ]
          },
          "metadata": {},
          "execution_count": 38
        }
      ]
    },
    {
      "cell_type": "code",
      "source": [
        "import os\n",
        "for root, dirs, files in os.walk(r'/content'):\n",
        "   for filename in files:\n",
        "      print(filename)\n",
        "   for dirname in dirs:\n",
        "      print(dirname)"
      ],
      "metadata": {
        "colab": {
          "base_uri": "https://localhost:8080/"
        },
        "id": "QMcj7eXlgYof",
        "outputId": "17698d8f-03b9-4b12-959e-b80d829ee171"
      },
      "execution_count": null,
      "outputs": [
        {
          "output_type": "stream",
          "name": "stdout",
          "text": [
            "pipeTest.py\n",
            ".config\n",
            "sample_data\n",
            "newdir\n",
            ".last_update_check.json\n",
            ".last_opt_in_prompt.yaml\n",
            "gce\n",
            "config_sentinel\n",
            "active_config\n",
            ".last_survey_prompt.yaml\n",
            "configurations\n",
            "logs\n",
            "config_default\n",
            "2022.08.31\n",
            "13.47.11.927057.log\n",
            "13.47.32.611835.log\n",
            "13.46.43.989608.log\n",
            "13.47.33.413502.log\n",
            "13.47.03.944288.log\n",
            "13.46.22.077074.log\n",
            "README.md\n",
            "anscombe.json\n",
            "california_housing_test.csv\n",
            "california_housing_train.csv\n",
            "mnist_test.csv\n",
            "mnist_train_small.csv\n",
            "newdir\n",
            "pipeTest.py\n",
            "newdir\n",
            "pipeTest.py\n",
            "newdir\n"
          ]
        }
      ]
    },
    {
      "cell_type": "markdown",
      "source": [
        "# Temporary files and directories\n",
        "The tempfile module in standard library defines functions for creating temporary files and directories. They are created in special temp directories that are defined by operating system's file system. For example, under Windows the temp folder resides in profile/AppData/Local/Temp while in linux the temporary files are held in /tmp directory."
      ],
      "metadata": {
        "id": "YQ61drXEhO4U"
      }
    },
    {
      "cell_type": "code",
      "source": [
        "import tempfile\n",
        "f = tempfile.TemporaryFile()  # The file is opened in wb+ mode by default,\n",
        "#(Opens a file for writing and reading in binary mode)\n",
        "f.write(b'Welcome to TutorialsPoint')"
      ],
      "metadata": {
        "colab": {
          "base_uri": "https://localhost:8080/"
        },
        "id": "hG26hXz8hXF4",
        "outputId": "a22024f7-05de-4980-e4e0-79fb0ca7e091"
      },
      "execution_count": null,
      "outputs": [
        {
          "output_type": "execute_result",
          "data": {
            "text/plain": [
              "25"
            ]
          },
          "metadata": {},
          "execution_count": 1
        }
      ]
    },
    {
      "cell_type": "code",
      "source": [
        "import os #In Python, seek() function is used to change the position of the \n",
        "#File Handle to a given specific position.\n",
        "f.seek(3)\n",
        "f.read()\n"
      ],
      "metadata": {
        "colab": {
          "base_uri": "https://localhost:8080/"
        },
        "id": "tsTA57Ddhktv",
        "outputId": "0b6c1ba5-dd08-40b7-9348-cb8aa89b61b5"
      },
      "execution_count": null,
      "outputs": [
        {
          "output_type": "execute_result",
          "data": {
            "text/plain": [
              "b'come to TutorialsPoint'"
            ]
          },
          "metadata": {},
          "execution_count": 4
        }
      ]
    },
    {
      "cell_type": "code",
      "source": [
        "f.close()"
      ],
      "metadata": {
        "id": "nxudG7w_kWan"
      },
      "execution_count": null,
      "outputs": []
    },
    {
      "cell_type": "code",
      "source": [
        "ff = tempfile.TemporaryFile(mode = 'w+')\n",
        "ff.name\n",
        "ff.write('hello world')\n",
        "ff.seek(0)\n",
        "ff.read()\n"
      ],
      "metadata": {
        "colab": {
          "base_uri": "https://localhost:8080/",
          "height": 35
        },
        "id": "XAZIgyVNkiBD",
        "outputId": "4cc9ceca-4fd5-4ec3-d739-1b685f8b62fb"
      },
      "execution_count": null,
      "outputs": [
        {
          "output_type": "execute_result",
          "data": {
            "text/plain": [
              "'hello world'"
            ],
            "application/vnd.google.colaboratory.intrinsic+json": {
              "type": "string"
            }
          },
          "metadata": {},
          "execution_count": 9
        }
      ]
    },
    {
      "cell_type": "code",
      "source": [
        "ff.close()"
      ],
      "metadata": {
        "id": "1Vfaqh3Tko75"
      },
      "execution_count": null,
      "outputs": []
    },
    {
      "cell_type": "code",
      "source": [
        "# NamedTemporaryFile() is similar to TemporaryFile() function. \n",
        "# The only difference is that a file with a random filename is visible in the designated temp folder \n",
        "fo = tempfile.NamedTemporaryFile()\n",
        "fo.name"
      ],
      "metadata": {
        "colab": {
          "base_uri": "https://localhost:8080/",
          "height": 35
        },
        "id": "Bf4g7u4ok9V6",
        "outputId": "60a94b91-affd-45c4-98d2-91af22ce4c51"
      },
      "execution_count": null,
      "outputs": [
        {
          "output_type": "execute_result",
          "data": {
            "text/plain": [
              "'/tmp/tmpga52xivi'"
            ],
            "application/vnd.google.colaboratory.intrinsic+json": {
              "type": "string"
            }
          },
          "metadata": {},
          "execution_count": 11
        }
      ]
    },
    {
      "cell_type": "code",
      "source": [
        "fo.write(b'hello world')\n",
        "fo.seek(0)\n",
        "fo.read()"
      ],
      "metadata": {
        "id": "c1zo0JDf0J5v"
      },
      "execution_count": null,
      "outputs": []
    },
    {
      "cell_type": "code",
      "source": [
        "fo.close()"
      ],
      "metadata": {
        "id": "Q1-LK_c3lq4S"
      },
      "execution_count": null,
      "outputs": []
    },
    {
      "cell_type": "code",
      "source": [
        "# TemporaryDirectory()\n",
        "f = tempfile.TemporaryDirectory()"
      ],
      "metadata": {
        "id": "gLPoZLwkl0dL"
      },
      "execution_count": null,
      "outputs": []
    },
    {
      "cell_type": "code",
      "source": [
        "f = tempfile.TemporaryDirectory(dir = \"/content\")\n",
        "f.name"
      ],
      "metadata": {
        "colab": {
          "base_uri": "https://localhost:8080/",
          "height": 35
        },
        "id": "Zf5f22pEmLLq",
        "outputId": "75d226c1-d584-46b0-9192-f9bc8476dd48"
      },
      "execution_count": null,
      "outputs": [
        {
          "output_type": "execute_result",
          "data": {
            "text/plain": [
              "'/content/tmp4n_f3obq'"
            ],
            "application/vnd.google.colaboratory.intrinsic+json": {
              "type": "string"
            }
          },
          "metadata": {},
          "execution_count": 18
        }
      ]
    },
    {
      "cell_type": "code",
      "source": [
        "#The directory can be explicitly cleaned up by calling the cleanup() method\n",
        "f.cleanup()"
      ],
      "metadata": {
        "id": "fxOvlBLQmovg"
      },
      "execution_count": null,
      "outputs": []
    },
    {
      "cell_type": "code",
      "source": [
        "#https://docs.python.org/3/library/tempfile.html#tempfile.mkstemp\n",
        "\n",
        "f = tempfile.mkstemp(suffix = '.tp') # creates a temporary file, similar to TemporaryFile() , Additionally, suffix and prefix parameters\n",
        "                    #Creates a temporary file in the most secure manner possible. There are no race conditions in the file’s creation.\n"
      ],
      "metadata": {
        "id": "PIpSt-vOn6Nw"
      },
      "execution_count": null,
      "outputs": []
    },
    {
      "cell_type": "code",
      "source": [
        "#https://docs.python.org/3/library/tempfile.html#tempfile.mkdtemp\n",
        "\n",
        "tempfile.mkdtemp(dir = \"/content\") #  creates a temporary directory in operating system’s temp folder and returns its absolute path name\n",
        "#Creates a temporary directory in the most secure manner possible. There are no race conditions in the directory's creation"
      ],
      "metadata": {
        "colab": {
          "base_uri": "https://localhost:8080/",
          "height": 35
        },
        "id": "zeP0_NbEoHO8",
        "outputId": "b8768bd9-adec-4269-c179-8501ec448d23"
      },
      "execution_count": null,
      "outputs": [
        {
          "output_type": "execute_result",
          "data": {
            "text/plain": [
              "'/content/tmpz45ixt19'"
            ],
            "application/vnd.google.colaboratory.intrinsic+json": {
              "type": "string"
            }
          },
          "metadata": {},
          "execution_count": 19
        }
      ]
    },
    {
      "cell_type": "code",
      "source": [
        "tempfile.gettempdir() # returns name of directory to store temporary files."
      ],
      "metadata": {
        "colab": {
          "base_uri": "https://localhost:8080/",
          "height": 36
        },
        "id": "u_2wlKIPoWE-",
        "outputId": "00a0bd03-73ba-4682-fb11-7da6da1ddcc3"
      },
      "execution_count": null,
      "outputs": [
        {
          "output_type": "execute_result",
          "data": {
            "text/plain": [
              "'/tmp'"
            ],
            "application/vnd.google.colaboratory.intrinsic+json": {
              "type": "string"
            }
          },
          "metadata": {},
          "execution_count": 17
        }
      ]
    },
    {
      "cell_type": "code",
      "source": [
        "#This os.chdir() method changes the current working directory to a specified path instance. \n",
        "#It does not return any value. This descriptor path must refer to the open directory, not to an open file.\n",
        "os.chdir('/content')"
      ],
      "metadata": {
        "id": "KYymPBWJp-39"
      },
      "execution_count": null,
      "outputs": []
    },
    {
      "cell_type": "markdown",
      "source": [
        "# Metadata\n",
        "\n",
        "Metadata is a library that provides for access to installed package metadata."
      ],
      "metadata": {
        "id": "PRnJ8CSZokhS"
      }
    },
    {
      "cell_type": "code",
      "source": [
        "import os\n",
        "\n",
        "filename = '/content/pipeTest.py'\n",
        "\n",
        "print(os.path.getsize(filename))\n",
        "print(os.path.getmtime(filename))\n",
        "print(os.path.getctime(filename))\n",
        "print(os.stat(filename))"
      ],
      "metadata": {
        "id": "J3OGVVCBArHM",
        "colab": {
          "base_uri": "https://localhost:8080/"
        },
        "outputId": "58f605fc-2616-42e6-d822-ed0359cad72a"
      },
      "execution_count": null,
      "outputs": [
        {
          "output_type": "stream",
          "name": "stdout",
          "text": [
            "661\n",
            "1663828232.9169152\n",
            "1663828232.9169152\n",
            "os.stat_result(st_mode=33188, st_ino=1966784, st_dev=45, st_nlink=1, st_uid=0, st_gid=0, st_size=661, st_atime=1663828232, st_mtime=1663828232, st_ctime=1663828232)\n"
          ]
        }
      ]
    },
    {
      "cell_type": "markdown",
      "source": [
        "st_mode: the file type and permissions<br>\n",
        "st_ino: the inode number<br>\n",
        "st_dev: the device id<br>\n",
        "st_uid: the file owner id<br>\n",
        "st_gid: the file group id<br>\n",
        "st_size: the file size"
      ],
      "metadata": {
        "id": "cUQMeSNuBPYp"
      }
    },
    {
      "cell_type": "code",
      "source": [
        "stats = os.stat(filename)\n",
        "\n",
        "print(stats.st_size)\n",
        "print(stats.st_mtime)"
      ],
      "metadata": {
        "id": "E2j350CoBm4q",
        "colab": {
          "base_uri": "https://localhost:8080/"
        },
        "outputId": "3e43af10-4513-4708-a3a3-cc765217bce3"
      },
      "execution_count": null,
      "outputs": [
        {
          "output_type": "stream",
          "name": "stdout",
          "text": [
            "661\n",
            "1663828232.9169152\n"
          ]
        }
      ]
    },
    {
      "cell_type": "code",
      "source": [
        "!pip install importlib.metadata"
      ],
      "metadata": {
        "id": "Y2NCYniOpiqH",
        "colab": {
          "base_uri": "https://localhost:8080/"
        },
        "outputId": "1c4fcf2e-d5d2-4762-b414-e6aaa31704f8"
      },
      "execution_count": null,
      "outputs": [
        {
          "output_type": "stream",
          "name": "stdout",
          "text": [
            "Looking in indexes: https://pypi.org/simple, https://us-python.pkg.dev/colab-wheels/public/simple/\n",
            "Requirement already satisfied: importlib.metadata in /usr/local/lib/python3.7/dist-packages (4.12.0)\n",
            "Requirement already satisfied: typing-extensions>=3.6.4 in /usr/local/lib/python3.7/dist-packages (from importlib.metadata) (4.1.1)\n",
            "Requirement already satisfied: zipp>=0.5 in /usr/local/lib/python3.7/dist-packages (from importlib.metadata) (3.8.1)\n"
          ]
        }
      ]
    },
    {
      "cell_type": "code",
      "source": [
        "#from importlib.metadata import version\n",
        "\n",
        "#import importlib.metada\n"
      ],
      "metadata": {
        "id": "kpfueSiRpV6O"
      },
      "execution_count": null,
      "outputs": []
    },
    {
      "cell_type": "code",
      "source": [
        "#!wget https://www.balgores.com/wp-content/uploads/2014/11/Changing_the_colour_of_my_car.jpg\n",
        "!wget https://www.rotoscopers.com/wp-content/uploads/2021/02/Tom-and-Jerry-2021-5-1024x554.jpg"
      ],
      "metadata": {
        "id": "hfSAiAXkscwe",
        "colab": {
          "base_uri": "https://localhost:8080/"
        },
        "outputId": "5c439762-39e9-4513-b5f3-10e30d77025f"
      },
      "execution_count": null,
      "outputs": [
        {
          "output_type": "stream",
          "name": "stdout",
          "text": [
            "--2022-09-22 06:51:44--  https://www.rotoscopers.com/wp-content/uploads/2021/02/Tom-and-Jerry-2021-5-1024x554.jpg\n",
            "Resolving www.rotoscopers.com (www.rotoscopers.com)... 132.148.41.26\n",
            "Connecting to www.rotoscopers.com (www.rotoscopers.com)|132.148.41.26|:443... connected.\n",
            "HTTP request sent, awaiting response... 200 OK\n",
            "Length: 46679 (46K) [image/jpeg]\n",
            "Saving to: ‘Tom-and-Jerry-2021-5-1024x554.jpg.1’\n",
            "\n",
            "Tom-and-Jerry-2021- 100%[===================>]  45.58K  --.-KB/s    in 0.06s   \n",
            "\n",
            "2022-09-22 06:51:44 (714 KB/s) - ‘Tom-and-Jerry-2021-5-1024x554.jpg.1’ saved [46679/46679]\n",
            "\n"
          ]
        }
      ]
    },
    {
      "cell_type": "code",
      "source": [
        "import os\n",
        "filename = '/content/Tom-and-Jerry-2021-5-1024x554.jpg'\n",
        "print(os.path.getsize(filename))"
      ],
      "metadata": {
        "colab": {
          "base_uri": "https://localhost:8080/"
        },
        "id": "eLyWg8539mEu",
        "outputId": "b07298ce-a1c1-4e3c-ae72-18660a10a3d1"
      },
      "execution_count": null,
      "outputs": [
        {
          "output_type": "stream",
          "name": "stdout",
          "text": [
            "46679\n"
          ]
        }
      ]
    },
    {
      "cell_type": "code",
      "source": [
        "!pip install exif"
      ],
      "metadata": {
        "id": "pFj4c3H3XIHH"
      },
      "execution_count": null,
      "outputs": []
    },
    {
      "cell_type": "code",
      "source": [
        "from exif import Image\n",
        "\n"
      ],
      "metadata": {
        "id": "HbIQnLDxuvi-"
      },
      "execution_count": null,
      "outputs": []
    },
    {
      "cell_type": "code",
      "source": [
        "!wget https://github.com/ianare/exif-samples/blob/master/jpg/Canon_40D.jpg\n"
      ],
      "metadata": {
        "colab": {
          "base_uri": "https://localhost:8080/"
        },
        "id": "d-k6QWBQqzjk",
        "outputId": "9b304d0a-b073-41ee-d246-9b3e6c71886a"
      },
      "execution_count": null,
      "outputs": [
        {
          "output_type": "stream",
          "name": "stdout",
          "text": [
            "--2022-09-22 07:00:21--  https://github.com/ianare/exif-samples/blob/master/jpg/Canon_40D.jpg\n",
            "Resolving github.com (github.com)... 192.30.255.112\n",
            "Connecting to github.com (github.com)|192.30.255.112|:443... connected.\n",
            "HTTP request sent, awaiting response... 200 OK\n",
            "Length: unspecified [text/html]\n",
            "Saving to: ‘Canon_40D.jpg.1’\n",
            "\n",
            "Canon_40D.jpg.1         [ <=>                ] 138.29K  --.-KB/s    in 0.02s   \n",
            "\n",
            "2022-09-22 07:00:21 (7.27 MB/s) - ‘Canon_40D.jpg.1’ saved [141611]\n",
            "\n"
          ]
        }
      ]
    },
    {
      "cell_type": "code",
      "source": [
        " import os\n",
        "\n",
        "filename = '/content/Canon_40D.jpg'\n",
        "\n",
        "print(os.path.getsize(filename))\n",
        "print(os.path.getmtime(filename))\n",
        "print(os.path.getctime(filename))\n",
        "print(os.stat(filename))"
      ],
      "metadata": {
        "id": "kEXNtAaq1356",
        "colab": {
          "base_uri": "https://localhost:8080/"
        },
        "outputId": "d52d5b9b-226d-4d6e-d622-f7c205468928"
      },
      "execution_count": null,
      "outputs": [
        {
          "output_type": "stream",
          "name": "stdout",
          "text": [
            "141611\n",
            "1663829242.9943907\n",
            "1663829242.9943907\n",
            "os.stat_result(st_mode=33188, st_ino=1966818, st_dev=45, st_nlink=1, st_uid=0, st_gid=0, st_size=141611, st_atime=1663829242, st_mtime=1663829242, st_ctime=1663829242)\n"
          ]
        }
      ]
    },
    {
      "cell_type": "code",
      "source": [
        "print(os.getcwd())\n",
        "os.chdir(\"/content\")"
      ],
      "metadata": {
        "id": "w2HjVYmQphEU",
        "colab": {
          "base_uri": "https://localhost:8080/"
        },
        "outputId": "fc12f57f-f010-4294-cc1a-840b70a8fb1e"
      },
      "execution_count": null,
      "outputs": [
        {
          "output_type": "stream",
          "name": "stdout",
          "text": [
            "/content\n"
          ]
        }
      ]
    },
    {
      "cell_type": "code",
      "source": [
        "with open('Canon_40D.jpg', 'rb') as image_file:\n",
        "  my_image = Image(image_file)\n",
        "  \n",
        "my_image.has_exif"
      ],
      "metadata": {
        "id": "7riOqtKgXTjM",
        "colab": {
          "base_uri": "https://localhost:8080/"
        },
        "outputId": "9433bad9-49bb-4cb5-8652-a60223f992a6"
      },
      "execution_count": null,
      "outputs": [
        {
          "output_type": "execute_result",
          "data": {
            "text/plain": [
              "False"
            ]
          },
          "metadata": {},
          "execution_count": 19
        }
      ]
    },
    {
      "cell_type": "code",
      "source": [
        "my_image.get('-v')"
      ],
      "metadata": {
        "id": "yO152yatXivz",
        "colab": {
          "base_uri": "https://localhost:8080/",
          "height": 325
        },
        "outputId": "dbc0a4b5-f12e-40f6-d08c-47de4a729e11"
      },
      "execution_count": null,
      "outputs": [
        {
          "output_type": "error",
          "ename": "KeyError",
          "evalue": "ignored",
          "traceback": [
            "\u001b[0;31m---------------------------------------------------------------------------\u001b[0m",
            "\u001b[0;31mKeyError\u001b[0m                                  Traceback (most recent call last)",
            "\u001b[0;32m<ipython-input-21-cb1a78338569>\u001b[0m in \u001b[0;36m<module>\u001b[0;34m\u001b[0m\n\u001b[0;32m----> 1\u001b[0;31m \u001b[0mmy_image\u001b[0m\u001b[0;34m.\u001b[0m\u001b[0mget\u001b[0m\u001b[0;34m(\u001b[0m\u001b[0;34m'-v'\u001b[0m\u001b[0;34m)\u001b[0m\u001b[0;34m\u001b[0m\u001b[0;34m\u001b[0m\u001b[0m\n\u001b[0m",
            "\u001b[0;32m/usr/local/lib/python3.7/dist-packages/exif/_image.py\u001b[0m in \u001b[0;36mget\u001b[0;34m(self, attribute, default)\u001b[0m\n\u001b[1;32m    169\u001b[0m         \"\"\"\n\u001b[1;32m    170\u001b[0m         \u001b[0;32mtry\u001b[0m\u001b[0;34m:\u001b[0m\u001b[0;34m\u001b[0m\u001b[0;34m\u001b[0m\u001b[0m\n\u001b[0;32m--> 171\u001b[0;31m             \u001b[0mretval\u001b[0m \u001b[0;34m=\u001b[0m \u001b[0mself\u001b[0m\u001b[0;34m.\u001b[0m\u001b[0m__getattr__\u001b[0m\u001b[0;34m(\u001b[0m\u001b[0mattribute\u001b[0m\u001b[0;34m)\u001b[0m\u001b[0;34m\u001b[0m\u001b[0;34m\u001b[0m\u001b[0m\n\u001b[0m\u001b[1;32m    172\u001b[0m         \u001b[0;32mexcept\u001b[0m \u001b[0;34m(\u001b[0m\u001b[0mAttributeError\u001b[0m\u001b[0;34m,\u001b[0m \u001b[0mNotImplementedError\u001b[0m\u001b[0;34m)\u001b[0m\u001b[0;34m:\u001b[0m\u001b[0;34m\u001b[0m\u001b[0;34m\u001b[0m\u001b[0m\n\u001b[1;32m    173\u001b[0m             \u001b[0mretval\u001b[0m \u001b[0;34m=\u001b[0m \u001b[0mdefault\u001b[0m\u001b[0;34m\u001b[0m\u001b[0;34m\u001b[0m\u001b[0m\n",
            "\u001b[0;32m/usr/local/lib/python3.7/dist-packages/exif/_image.py\u001b[0m in \u001b[0;36m__getattr__\u001b[0;34m(self, item)\u001b[0m\n\u001b[1;32m    102\u001b[0m \u001b[0;34m\u001b[0m\u001b[0m\n\u001b[1;32m    103\u001b[0m     \u001b[0;32mdef\u001b[0m \u001b[0m__getattr__\u001b[0m\u001b[0;34m(\u001b[0m\u001b[0mself\u001b[0m\u001b[0;34m,\u001b[0m \u001b[0mitem\u001b[0m\u001b[0;34m)\u001b[0m\u001b[0;34m:\u001b[0m\u001b[0;34m\u001b[0m\u001b[0;34m\u001b[0m\u001b[0m\n\u001b[0;32m--> 104\u001b[0;31m         \u001b[0;32mreturn\u001b[0m \u001b[0mgetattr\u001b[0m\u001b[0;34m(\u001b[0m\u001b[0mself\u001b[0m\u001b[0;34m.\u001b[0m\u001b[0m_segments\u001b[0m\u001b[0;34m[\u001b[0m\u001b[0;34m\"APP1\"\u001b[0m\u001b[0;34m]\u001b[0m\u001b[0;34m,\u001b[0m \u001b[0mitem\u001b[0m\u001b[0;34m)\u001b[0m\u001b[0;34m\u001b[0m\u001b[0;34m\u001b[0m\u001b[0m\n\u001b[0m\u001b[1;32m    105\u001b[0m \u001b[0;34m\u001b[0m\u001b[0m\n\u001b[1;32m    106\u001b[0m     \u001b[0;32mdef\u001b[0m \u001b[0m__setattr__\u001b[0m\u001b[0;34m(\u001b[0m\u001b[0mself\u001b[0m\u001b[0;34m,\u001b[0m \u001b[0mkey\u001b[0m\u001b[0;34m,\u001b[0m \u001b[0mvalue\u001b[0m\u001b[0;34m)\u001b[0m\u001b[0;34m:\u001b[0m\u001b[0;34m\u001b[0m\u001b[0;34m\u001b[0m\u001b[0m\n",
            "\u001b[0;31mKeyError\u001b[0m: 'APP1'"
          ]
        }
      ]
    },
    {
      "cell_type": "markdown",
      "source": [
        "# Generic Database Connectivity using ODBC"
      ],
      "metadata": {
        "id": "OXJhF2zOpYxO"
      }
    },
    {
      "cell_type": "markdown",
      "source": [
        "# Go More With\n",
        "\n",
        "https://www.youtube.com/watch?v=qOyDrR3h5uI\n",
        "\n",
        "https://www.youtube.com/watch?v=3c1dT47Fh5g\n",
        "\n"
      ],
      "metadata": {
        "id": "b6SHprXbpZQA"
      }
    },
    {
      "cell_type": "markdown",
      "source": [
        "# Postgres connection in Python\n",
        "\n",
        "https://www.postgresql.org/download/\n",
        "\n",
        "\n",
        "\n",
        "PostgreSQL Details <br>\n",
        "<pwd>lokesh\n",
        "<port>5432"
      ],
      "metadata": {
        "id": "C7H-lynhGMnS"
      }
    },
    {
      "cell_type": "markdown",
      "source": [
        "# Go More with\n",
        "\n",
        "\n",
        "\n",
        "https://www.youtube.com/watch?v=RAFZleZYxsc\n",
        "\n",
        "https://www.youtube.com/watch?v=M2NzvnfS-hI\n",
        "\n",
        "https://www.youtube.com/watch?v=FQzzQnYERBc\n",
        "\n",
        "https://www.postgresqltutorial.com/\n"
      ],
      "metadata": {
        "id": "rWAmmc8wFbBV"
      }
    },
    {
      "cell_type": "markdown",
      "source": [
        "# MySQL connection in python\n",
        "\n",
        "https://www.youtube.com/watch?v=WuBcTJnIuzo\n",
        "\n",
        "\n",
        "https://dev.mysql.com/downloads/mysql/\n",
        "\n",
        "R-lokesh-U-lokesh-p-lokesh\n",
        "\n",
        "Details in Mail of\n",
        "\n",
        "Subject: Your Database is setup\n",
        "Date: Mon, Mar 14 at 3:30 PM"
      ],
      "metadata": {
        "id": "dkmX7-X55TLD"
      }
    },
    {
      "cell_type": "markdown",
      "source": [
        "# Reference\n",
        "\n",
        "https://www.youtube.com/watch?v=8Vysa-Oa0k8\n",
        "\n"
      ],
      "metadata": {
        "id": "JO5fSkTU66Tf"
      }
    },
    {
      "cell_type": "markdown",
      "source": [
        "# SQLlite with Colab\n",
        "\n",
        "https://www.youtube.com/watch?v=WaKOnXTKyhU"
      ],
      "metadata": {
        "id": "vIE8jFwZ7sta"
      }
    },
    {
      "cell_type": "code",
      "source": [
        "!pip install db-sqlite3"
      ],
      "metadata": {
        "colab": {
          "base_uri": "https://localhost:8080/"
        },
        "id": "tsabd2x_7XeL",
        "outputId": "b8a78d8c-e7fe-4e2e-b3d8-1b1d250c3e6c"
      },
      "execution_count": null,
      "outputs": [
        {
          "output_type": "stream",
          "name": "stdout",
          "text": [
            "Looking in indexes: https://pypi.org/simple, https://us-python.pkg.dev/colab-wheels/public/simple/\n",
            "Collecting db-sqlite3\n",
            "  Downloading db-sqlite3-0.0.1.tar.gz (1.4 kB)\n",
            "Collecting db\n",
            "  Downloading db-0.1.1.tar.gz (3.4 kB)\n",
            "Collecting antiorm\n",
            "  Downloading antiorm-1.2.1.tar.gz (171 kB)\n",
            "\u001b[K     |████████████████████████████████| 171 kB 17.1 MB/s \n",
            "\u001b[?25hBuilding wheels for collected packages: db-sqlite3, db, antiorm\n",
            "  Building wheel for db-sqlite3 (setup.py) ... \u001b[?25l\u001b[?25hdone\n",
            "  Created wheel for db-sqlite3: filename=db_sqlite3-0.0.1-py3-none-any.whl size=1794 sha256=b34b4b705764314610e02ad17ffcec221935ad18593315e63bce3a7cf865e9df\n",
            "  Stored in directory: /root/.cache/pip/wheels/02/38/d5/2f54461050571bf5330fee2a37ab1c9b5e7540b0572f1acdab\n",
            "  Building wheel for db (setup.py) ... \u001b[?25l\u001b[?25hdone\n",
            "  Created wheel for db: filename=db-0.1.1-py3-none-any.whl size=3895 sha256=b7c3e3cef916e0043d05e473f3b774f5f99c7bb4d608d9da6e5b6eddf01e2882\n",
            "  Stored in directory: /root/.cache/pip/wheels/8e/97/82/741d2b360507411ec233d0280d7371faa94b03bde834e4a9be\n",
            "  Building wheel for antiorm (setup.py) ... \u001b[?25l\u001b[?25hdone\n",
            "  Created wheel for antiorm: filename=antiorm-1.2.1-py3-none-any.whl size=31679 sha256=74866b74922f0301cc26e436137cb8f94355d93eac552e1215b149fca021954c\n",
            "  Stored in directory: /root/.cache/pip/wheels/c5/43/70/e9729370cfff40c49d3e3d05377d54b3ecd71f64e62341ea80\n",
            "Successfully built db-sqlite3 db antiorm\n",
            "Installing collected packages: antiorm, db, db-sqlite3\n",
            "Successfully installed antiorm-1.2.1 db-0.1.1 db-sqlite3-0.0.1\n"
          ]
        }
      ]
    },
    {
      "cell_type": "code",
      "source": [
        "import sqlite3"
      ],
      "metadata": {
        "id": "_VSqzXnz7ok2"
      },
      "execution_count": null,
      "outputs": []
    },
    {
      "cell_type": "code",
      "source": [
        "#connecting with the database\n",
        "db = sqlite3.connect(\"testing.db\")"
      ],
      "metadata": {
        "id": "HM8nllWY8FRY"
      },
      "execution_count": null,
      "outputs": []
    },
    {
      "cell_type": "code",
      "source": [
        "db2 = sqlite3.connect(\"stud.db\")"
      ],
      "metadata": {
        "id": "uRwQo8wT2CUj"
      },
      "execution_count": null,
      "outputs": []
    },
    {
      "cell_type": "code",
      "source": [
        "db.execute(\"drop table if exists reslts;\")\n",
        "\n",
        "try:\n",
        "  db.execute(\"create table results(Name text,Date datetime, Mobile text, Mail text)\")\n",
        "except:\n",
        "  print(\"Already table existed  !!\")\n",
        "\n"
      ],
      "metadata": {
        "id": "vJSF-qGe9buX",
        "colab": {
          "base_uri": "https://localhost:8080/"
        },
        "outputId": "9515369e-f06f-421e-9558-1b01d3ca932e"
      },
      "execution_count": null,
      "outputs": [
        {
          "output_type": "stream",
          "name": "stdout",
          "text": [
            "Already table existed  !!\n"
          ]
        }
      ]
    },
    {
      "cell_type": "code",
      "source": [
        "db.execute(\"insert into results(Name, Mobile, Date, Mail) values('Ash','97708905', '14-03-2022', 'ash@gmail.com')\")\n",
        "db.commit()"
      ],
      "metadata": {
        "id": "h8dOPnTg-oHg"
      },
      "execution_count": null,
      "outputs": []
    },
    {
      "cell_type": "code",
      "source": [
        "# query your data\n",
        "\n",
        "rs= db.execute(\"Select * from results\")\n",
        "for row in rs:\n",
        "  print(row)"
      ],
      "metadata": {
        "colab": {
          "base_uri": "https://localhost:8080/"
        },
        "id": "wXv_cCj1F3_j",
        "outputId": "90644f9c-a320-4556-bfd1-3f209f94e9fb"
      },
      "execution_count": null,
      "outputs": [
        {
          "output_type": "stream",
          "name": "stdout",
          "text": [
            "('Ash', '14-03-2022', '97708905', 'ash@gmail.com')\n",
            "('Ash', '14-03-2022', '97708905', 'ash@gmail.com')\n",
            "('Ash', '14-03-2022', '97708905', 'ash@gmail.com')\n"
          ]
        }
      ]
    },
    {
      "cell_type": "code",
      "source": [],
      "metadata": {
        "id": "Jv8vroDG20di"
      },
      "execution_count": null,
      "outputs": []
    },
    {
      "cell_type": "code",
      "source": [
        "import pandas as pd\n",
        "qry = \"\"\"\n",
        "Select * from results\n",
        "\n",
        "\"\"\"\n",
        "df = pd.read_sql_query(qry,db)\n",
        "df.head()"
      ],
      "metadata": {
        "colab": {
          "base_uri": "https://localhost:8080/",
          "height": 143
        },
        "id": "is4atLPAGkO5",
        "outputId": "375a8f25-9c1b-4fd1-adce-c6c79a162b8f"
      },
      "execution_count": null,
      "outputs": [
        {
          "output_type": "execute_result",
          "data": {
            "text/plain": [
              "  Name        Date    Mobile           Mail\n",
              "0  Ash  14-03-2022  97708905  ash@gmail.com\n",
              "1  Ash  14-03-2022  97708905  ash@gmail.com\n",
              "2  Ash  14-03-2022  97708905  ash@gmail.com"
            ],
            "text/html": [
              "\n",
              "  <div id=\"df-fc9319c0-4023-4558-b098-5e23f5526222\">\n",
              "    <div class=\"colab-df-container\">\n",
              "      <div>\n",
              "<style scoped>\n",
              "    .dataframe tbody tr th:only-of-type {\n",
              "        vertical-align: middle;\n",
              "    }\n",
              "\n",
              "    .dataframe tbody tr th {\n",
              "        vertical-align: top;\n",
              "    }\n",
              "\n",
              "    .dataframe thead th {\n",
              "        text-align: right;\n",
              "    }\n",
              "</style>\n",
              "<table border=\"1\" class=\"dataframe\">\n",
              "  <thead>\n",
              "    <tr style=\"text-align: right;\">\n",
              "      <th></th>\n",
              "      <th>Name</th>\n",
              "      <th>Date</th>\n",
              "      <th>Mobile</th>\n",
              "      <th>Mail</th>\n",
              "    </tr>\n",
              "  </thead>\n",
              "  <tbody>\n",
              "    <tr>\n",
              "      <th>0</th>\n",
              "      <td>Ash</td>\n",
              "      <td>14-03-2022</td>\n",
              "      <td>97708905</td>\n",
              "      <td>ash@gmail.com</td>\n",
              "    </tr>\n",
              "    <tr>\n",
              "      <th>1</th>\n",
              "      <td>Ash</td>\n",
              "      <td>14-03-2022</td>\n",
              "      <td>97708905</td>\n",
              "      <td>ash@gmail.com</td>\n",
              "    </tr>\n",
              "    <tr>\n",
              "      <th>2</th>\n",
              "      <td>Ash</td>\n",
              "      <td>14-03-2022</td>\n",
              "      <td>97708905</td>\n",
              "      <td>ash@gmail.com</td>\n",
              "    </tr>\n",
              "  </tbody>\n",
              "</table>\n",
              "</div>\n",
              "      <button class=\"colab-df-convert\" onclick=\"convertToInteractive('df-fc9319c0-4023-4558-b098-5e23f5526222')\"\n",
              "              title=\"Convert this dataframe to an interactive table.\"\n",
              "              style=\"display:none;\">\n",
              "        \n",
              "  <svg xmlns=\"http://www.w3.org/2000/svg\" height=\"24px\"viewBox=\"0 0 24 24\"\n",
              "       width=\"24px\">\n",
              "    <path d=\"M0 0h24v24H0V0z\" fill=\"none\"/>\n",
              "    <path d=\"M18.56 5.44l.94 2.06.94-2.06 2.06-.94-2.06-.94-.94-2.06-.94 2.06-2.06.94zm-11 1L8.5 8.5l.94-2.06 2.06-.94-2.06-.94L8.5 2.5l-.94 2.06-2.06.94zm10 10l.94 2.06.94-2.06 2.06-.94-2.06-.94-.94-2.06-.94 2.06-2.06.94z\"/><path d=\"M17.41 7.96l-1.37-1.37c-.4-.4-.92-.59-1.43-.59-.52 0-1.04.2-1.43.59L10.3 9.45l-7.72 7.72c-.78.78-.78 2.05 0 2.83L4 21.41c.39.39.9.59 1.41.59.51 0 1.02-.2 1.41-.59l7.78-7.78 2.81-2.81c.8-.78.8-2.07 0-2.86zM5.41 20L4 18.59l7.72-7.72 1.47 1.35L5.41 20z\"/>\n",
              "  </svg>\n",
              "      </button>\n",
              "      \n",
              "  <style>\n",
              "    .colab-df-container {\n",
              "      display:flex;\n",
              "      flex-wrap:wrap;\n",
              "      gap: 12px;\n",
              "    }\n",
              "\n",
              "    .colab-df-convert {\n",
              "      background-color: #E8F0FE;\n",
              "      border: none;\n",
              "      border-radius: 50%;\n",
              "      cursor: pointer;\n",
              "      display: none;\n",
              "      fill: #1967D2;\n",
              "      height: 32px;\n",
              "      padding: 0 0 0 0;\n",
              "      width: 32px;\n",
              "    }\n",
              "\n",
              "    .colab-df-convert:hover {\n",
              "      background-color: #E2EBFA;\n",
              "      box-shadow: 0px 1px 2px rgba(60, 64, 67, 0.3), 0px 1px 3px 1px rgba(60, 64, 67, 0.15);\n",
              "      fill: #174EA6;\n",
              "    }\n",
              "\n",
              "    [theme=dark] .colab-df-convert {\n",
              "      background-color: #3B4455;\n",
              "      fill: #D2E3FC;\n",
              "    }\n",
              "\n",
              "    [theme=dark] .colab-df-convert:hover {\n",
              "      background-color: #434B5C;\n",
              "      box-shadow: 0px 1px 3px 1px rgba(0, 0, 0, 0.15);\n",
              "      filter: drop-shadow(0px 1px 2px rgba(0, 0, 0, 0.3));\n",
              "      fill: #FFFFFF;\n",
              "    }\n",
              "  </style>\n",
              "\n",
              "      <script>\n",
              "        const buttonEl =\n",
              "          document.querySelector('#df-fc9319c0-4023-4558-b098-5e23f5526222 button.colab-df-convert');\n",
              "        buttonEl.style.display =\n",
              "          google.colab.kernel.accessAllowed ? 'block' : 'none';\n",
              "\n",
              "        async function convertToInteractive(key) {\n",
              "          const element = document.querySelector('#df-fc9319c0-4023-4558-b098-5e23f5526222');\n",
              "          const dataTable =\n",
              "            await google.colab.kernel.invokeFunction('convertToInteractive',\n",
              "                                                     [key], {});\n",
              "          if (!dataTable) return;\n",
              "\n",
              "          const docLinkHtml = 'Like what you see? Visit the ' +\n",
              "            '<a target=\"_blank\" href=https://colab.research.google.com/notebooks/data_table.ipynb>data table notebook</a>'\n",
              "            + ' to learn more about interactive tables.';\n",
              "          element.innerHTML = '';\n",
              "          dataTable['output_type'] = 'display_data';\n",
              "          await google.colab.output.renderOutput(dataTable, element);\n",
              "          const docLink = document.createElement('div');\n",
              "          docLink.innerHTML = docLinkHtml;\n",
              "          element.appendChild(docLink);\n",
              "        }\n",
              "      </script>\n",
              "    </div>\n",
              "  </div>\n",
              "  "
            ]
          },
          "metadata": {},
          "execution_count": 11
        }
      ]
    },
    {
      "cell_type": "code",
      "source": [
        "def pushtoDB(Name, Mobile, Mail):\n",
        "   from datetime import date\n",
        "   Date = date.today().strftime(\"%d-%m-%y\")\n",
        "   cmd=\"insert into results(Name, Mobile, Date, Mail) values('{}','{}','{}','{}')\".format(Name, Mobile, Date, Mail)\n",
        "   db.execute(cmd)\n",
        "   db.commit()"
      ],
      "metadata": {
        "id": "QqXj2j4qHoZY"
      },
      "execution_count": null,
      "outputs": []
    },
    {
      "cell_type": "code",
      "source": [
        "%%writefile dummy.csv\n",
        "Name, Mobile, Mail\n",
        "Ashok, 977, ash@gmail.com\n",
        "Kumar, 089, kum@gmail.com\n",
        "Patel, 058, pat@gmail.com"
      ],
      "metadata": {
        "colab": {
          "base_uri": "https://localhost:8080/"
        },
        "id": "7wSw733hV861",
        "outputId": "31e7efd8-ca5f-47e6-9c73-1c7831e4f933"
      },
      "execution_count": null,
      "outputs": [
        {
          "output_type": "stream",
          "name": "stdout",
          "text": [
            "Writing dummy.csv\n"
          ]
        }
      ]
    },
    {
      "cell_type": "code",
      "source": [
        "import pandas as pd\n",
        "data = pd.read_csv(\"dummy.csv\")\n",
        "data.head()"
      ],
      "metadata": {
        "id": "z-GN8cUFJcXr",
        "colab": {
          "base_uri": "https://localhost:8080/",
          "height": 143
        },
        "outputId": "e2b9d04a-f387-4cc7-878f-89254ae0dd87"
      },
      "execution_count": null,
      "outputs": [
        {
          "output_type": "execute_result",
          "data": {
            "text/plain": [
              "    Name   Mobile            Mail\n",
              "0  Ashok      977   ash@gmail.com\n",
              "1  Kumar       89   kum@gmail.com\n",
              "2  Patel       58   pat@gmail.com"
            ],
            "text/html": [
              "\n",
              "  <div id=\"df-a1b70167-198b-4464-a920-9dfc3a1a9f5d\">\n",
              "    <div class=\"colab-df-container\">\n",
              "      <div>\n",
              "<style scoped>\n",
              "    .dataframe tbody tr th:only-of-type {\n",
              "        vertical-align: middle;\n",
              "    }\n",
              "\n",
              "    .dataframe tbody tr th {\n",
              "        vertical-align: top;\n",
              "    }\n",
              "\n",
              "    .dataframe thead th {\n",
              "        text-align: right;\n",
              "    }\n",
              "</style>\n",
              "<table border=\"1\" class=\"dataframe\">\n",
              "  <thead>\n",
              "    <tr style=\"text-align: right;\">\n",
              "      <th></th>\n",
              "      <th>Name</th>\n",
              "      <th>Mobile</th>\n",
              "      <th>Mail</th>\n",
              "    </tr>\n",
              "  </thead>\n",
              "  <tbody>\n",
              "    <tr>\n",
              "      <th>0</th>\n",
              "      <td>Ashok</td>\n",
              "      <td>977</td>\n",
              "      <td>ash@gmail.com</td>\n",
              "    </tr>\n",
              "    <tr>\n",
              "      <th>1</th>\n",
              "      <td>Kumar</td>\n",
              "      <td>89</td>\n",
              "      <td>kum@gmail.com</td>\n",
              "    </tr>\n",
              "    <tr>\n",
              "      <th>2</th>\n",
              "      <td>Patel</td>\n",
              "      <td>58</td>\n",
              "      <td>pat@gmail.com</td>\n",
              "    </tr>\n",
              "  </tbody>\n",
              "</table>\n",
              "</div>\n",
              "      <button class=\"colab-df-convert\" onclick=\"convertToInteractive('df-a1b70167-198b-4464-a920-9dfc3a1a9f5d')\"\n",
              "              title=\"Convert this dataframe to an interactive table.\"\n",
              "              style=\"display:none;\">\n",
              "        \n",
              "  <svg xmlns=\"http://www.w3.org/2000/svg\" height=\"24px\"viewBox=\"0 0 24 24\"\n",
              "       width=\"24px\">\n",
              "    <path d=\"M0 0h24v24H0V0z\" fill=\"none\"/>\n",
              "    <path d=\"M18.56 5.44l.94 2.06.94-2.06 2.06-.94-2.06-.94-.94-2.06-.94 2.06-2.06.94zm-11 1L8.5 8.5l.94-2.06 2.06-.94-2.06-.94L8.5 2.5l-.94 2.06-2.06.94zm10 10l.94 2.06.94-2.06 2.06-.94-2.06-.94-.94-2.06-.94 2.06-2.06.94z\"/><path d=\"M17.41 7.96l-1.37-1.37c-.4-.4-.92-.59-1.43-.59-.52 0-1.04.2-1.43.59L10.3 9.45l-7.72 7.72c-.78.78-.78 2.05 0 2.83L4 21.41c.39.39.9.59 1.41.59.51 0 1.02-.2 1.41-.59l7.78-7.78 2.81-2.81c.8-.78.8-2.07 0-2.86zM5.41 20L4 18.59l7.72-7.72 1.47 1.35L5.41 20z\"/>\n",
              "  </svg>\n",
              "      </button>\n",
              "      \n",
              "  <style>\n",
              "    .colab-df-container {\n",
              "      display:flex;\n",
              "      flex-wrap:wrap;\n",
              "      gap: 12px;\n",
              "    }\n",
              "\n",
              "    .colab-df-convert {\n",
              "      background-color: #E8F0FE;\n",
              "      border: none;\n",
              "      border-radius: 50%;\n",
              "      cursor: pointer;\n",
              "      display: none;\n",
              "      fill: #1967D2;\n",
              "      height: 32px;\n",
              "      padding: 0 0 0 0;\n",
              "      width: 32px;\n",
              "    }\n",
              "\n",
              "    .colab-df-convert:hover {\n",
              "      background-color: #E2EBFA;\n",
              "      box-shadow: 0px 1px 2px rgba(60, 64, 67, 0.3), 0px 1px 3px 1px rgba(60, 64, 67, 0.15);\n",
              "      fill: #174EA6;\n",
              "    }\n",
              "\n",
              "    [theme=dark] .colab-df-convert {\n",
              "      background-color: #3B4455;\n",
              "      fill: #D2E3FC;\n",
              "    }\n",
              "\n",
              "    [theme=dark] .colab-df-convert:hover {\n",
              "      background-color: #434B5C;\n",
              "      box-shadow: 0px 1px 3px 1px rgba(0, 0, 0, 0.15);\n",
              "      filter: drop-shadow(0px 1px 2px rgba(0, 0, 0, 0.3));\n",
              "      fill: #FFFFFF;\n",
              "    }\n",
              "  </style>\n",
              "\n",
              "      <script>\n",
              "        const buttonEl =\n",
              "          document.querySelector('#df-a1b70167-198b-4464-a920-9dfc3a1a9f5d button.colab-df-convert');\n",
              "        buttonEl.style.display =\n",
              "          google.colab.kernel.accessAllowed ? 'block' : 'none';\n",
              "\n",
              "        async function convertToInteractive(key) {\n",
              "          const element = document.querySelector('#df-a1b70167-198b-4464-a920-9dfc3a1a9f5d');\n",
              "          const dataTable =\n",
              "            await google.colab.kernel.invokeFunction('convertToInteractive',\n",
              "                                                     [key], {});\n",
              "          if (!dataTable) return;\n",
              "\n",
              "          const docLinkHtml = 'Like what you see? Visit the ' +\n",
              "            '<a target=\"_blank\" href=https://colab.research.google.com/notebooks/data_table.ipynb>data table notebook</a>'\n",
              "            + ' to learn more about interactive tables.';\n",
              "          element.innerHTML = '';\n",
              "          dataTable['output_type'] = 'display_data';\n",
              "          await google.colab.output.renderOutput(dataTable, element);\n",
              "          const docLink = document.createElement('div');\n",
              "          docLink.innerHTML = docLinkHtml;\n",
              "          element.appendChild(docLink);\n",
              "        }\n",
              "      </script>\n",
              "    </div>\n",
              "  </div>\n",
              "  "
            ]
          },
          "metadata": {},
          "execution_count": 13
        }
      ]
    },
    {
      "cell_type": "code",
      "source": [
        "data.shape"
      ],
      "metadata": {
        "colab": {
          "base_uri": "https://localhost:8080/"
        },
        "id": "751Yc4jnW7UE",
        "outputId": "d9eb8983-b783-4070-db8e-aef5d40310f5"
      },
      "execution_count": null,
      "outputs": [
        {
          "output_type": "execute_result",
          "data": {
            "text/plain": [
              "(3, 3)"
            ]
          },
          "metadata": {},
          "execution_count": 14
        }
      ]
    },
    {
      "cell_type": "code",
      "source": [
        "for i in range(0,len(data)):\n",
        "  pushtoDB(data.iloc[i][0],data.iloc[i][1],data.iloc[i][2])"
      ],
      "metadata": {
        "id": "WqsOc9_CXFto"
      },
      "execution_count": null,
      "outputs": []
    },
    {
      "cell_type": "code",
      "source": [
        "import pandas as pd\n",
        "qry = \"\"\"\n",
        "Select * from results\n",
        "\n",
        "\"\"\"\n",
        "df = pd.read_sql_query(qry,db)\n",
        "df.tail()"
      ],
      "metadata": {
        "colab": {
          "base_uri": "https://localhost:8080/",
          "height": 206
        },
        "id": "rlPwy7mpXuZ0",
        "outputId": "43e70747-94d2-4b67-e8c8-833af1522f2d"
      },
      "execution_count": null,
      "outputs": [
        {
          "output_type": "execute_result",
          "data": {
            "text/plain": [
              "    Name        Date    Mobile            Mail\n",
              "1    Ash  14-03-2022  97708905   ash@gmail.com\n",
              "2    Ash  14-03-2022  97708905   ash@gmail.com\n",
              "3  Ashok    12-09-22       977   ash@gmail.com\n",
              "4  Kumar    12-09-22        89   kum@gmail.com\n",
              "5  Patel    12-09-22        58   pat@gmail.com"
            ],
            "text/html": [
              "\n",
              "  <div id=\"df-f1563bba-bdf8-4462-841d-79c2ddfefd1a\">\n",
              "    <div class=\"colab-df-container\">\n",
              "      <div>\n",
              "<style scoped>\n",
              "    .dataframe tbody tr th:only-of-type {\n",
              "        vertical-align: middle;\n",
              "    }\n",
              "\n",
              "    .dataframe tbody tr th {\n",
              "        vertical-align: top;\n",
              "    }\n",
              "\n",
              "    .dataframe thead th {\n",
              "        text-align: right;\n",
              "    }\n",
              "</style>\n",
              "<table border=\"1\" class=\"dataframe\">\n",
              "  <thead>\n",
              "    <tr style=\"text-align: right;\">\n",
              "      <th></th>\n",
              "      <th>Name</th>\n",
              "      <th>Date</th>\n",
              "      <th>Mobile</th>\n",
              "      <th>Mail</th>\n",
              "    </tr>\n",
              "  </thead>\n",
              "  <tbody>\n",
              "    <tr>\n",
              "      <th>1</th>\n",
              "      <td>Ash</td>\n",
              "      <td>14-03-2022</td>\n",
              "      <td>97708905</td>\n",
              "      <td>ash@gmail.com</td>\n",
              "    </tr>\n",
              "    <tr>\n",
              "      <th>2</th>\n",
              "      <td>Ash</td>\n",
              "      <td>14-03-2022</td>\n",
              "      <td>97708905</td>\n",
              "      <td>ash@gmail.com</td>\n",
              "    </tr>\n",
              "    <tr>\n",
              "      <th>3</th>\n",
              "      <td>Ashok</td>\n",
              "      <td>12-09-22</td>\n",
              "      <td>977</td>\n",
              "      <td>ash@gmail.com</td>\n",
              "    </tr>\n",
              "    <tr>\n",
              "      <th>4</th>\n",
              "      <td>Kumar</td>\n",
              "      <td>12-09-22</td>\n",
              "      <td>89</td>\n",
              "      <td>kum@gmail.com</td>\n",
              "    </tr>\n",
              "    <tr>\n",
              "      <th>5</th>\n",
              "      <td>Patel</td>\n",
              "      <td>12-09-22</td>\n",
              "      <td>58</td>\n",
              "      <td>pat@gmail.com</td>\n",
              "    </tr>\n",
              "  </tbody>\n",
              "</table>\n",
              "</div>\n",
              "      <button class=\"colab-df-convert\" onclick=\"convertToInteractive('df-f1563bba-bdf8-4462-841d-79c2ddfefd1a')\"\n",
              "              title=\"Convert this dataframe to an interactive table.\"\n",
              "              style=\"display:none;\">\n",
              "        \n",
              "  <svg xmlns=\"http://www.w3.org/2000/svg\" height=\"24px\"viewBox=\"0 0 24 24\"\n",
              "       width=\"24px\">\n",
              "    <path d=\"M0 0h24v24H0V0z\" fill=\"none\"/>\n",
              "    <path d=\"M18.56 5.44l.94 2.06.94-2.06 2.06-.94-2.06-.94-.94-2.06-.94 2.06-2.06.94zm-11 1L8.5 8.5l.94-2.06 2.06-.94-2.06-.94L8.5 2.5l-.94 2.06-2.06.94zm10 10l.94 2.06.94-2.06 2.06-.94-2.06-.94-.94-2.06-.94 2.06-2.06.94z\"/><path d=\"M17.41 7.96l-1.37-1.37c-.4-.4-.92-.59-1.43-.59-.52 0-1.04.2-1.43.59L10.3 9.45l-7.72 7.72c-.78.78-.78 2.05 0 2.83L4 21.41c.39.39.9.59 1.41.59.51 0 1.02-.2 1.41-.59l7.78-7.78 2.81-2.81c.8-.78.8-2.07 0-2.86zM5.41 20L4 18.59l7.72-7.72 1.47 1.35L5.41 20z\"/>\n",
              "  </svg>\n",
              "      </button>\n",
              "      \n",
              "  <style>\n",
              "    .colab-df-container {\n",
              "      display:flex;\n",
              "      flex-wrap:wrap;\n",
              "      gap: 12px;\n",
              "    }\n",
              "\n",
              "    .colab-df-convert {\n",
              "      background-color: #E8F0FE;\n",
              "      border: none;\n",
              "      border-radius: 50%;\n",
              "      cursor: pointer;\n",
              "      display: none;\n",
              "      fill: #1967D2;\n",
              "      height: 32px;\n",
              "      padding: 0 0 0 0;\n",
              "      width: 32px;\n",
              "    }\n",
              "\n",
              "    .colab-df-convert:hover {\n",
              "      background-color: #E2EBFA;\n",
              "      box-shadow: 0px 1px 2px rgba(60, 64, 67, 0.3), 0px 1px 3px 1px rgba(60, 64, 67, 0.15);\n",
              "      fill: #174EA6;\n",
              "    }\n",
              "\n",
              "    [theme=dark] .colab-df-convert {\n",
              "      background-color: #3B4455;\n",
              "      fill: #D2E3FC;\n",
              "    }\n",
              "\n",
              "    [theme=dark] .colab-df-convert:hover {\n",
              "      background-color: #434B5C;\n",
              "      box-shadow: 0px 1px 3px 1px rgba(0, 0, 0, 0.15);\n",
              "      filter: drop-shadow(0px 1px 2px rgba(0, 0, 0, 0.3));\n",
              "      fill: #FFFFFF;\n",
              "    }\n",
              "  </style>\n",
              "\n",
              "      <script>\n",
              "        const buttonEl =\n",
              "          document.querySelector('#df-f1563bba-bdf8-4462-841d-79c2ddfefd1a button.colab-df-convert');\n",
              "        buttonEl.style.display =\n",
              "          google.colab.kernel.accessAllowed ? 'block' : 'none';\n",
              "\n",
              "        async function convertToInteractive(key) {\n",
              "          const element = document.querySelector('#df-f1563bba-bdf8-4462-841d-79c2ddfefd1a');\n",
              "          const dataTable =\n",
              "            await google.colab.kernel.invokeFunction('convertToInteractive',\n",
              "                                                     [key], {});\n",
              "          if (!dataTable) return;\n",
              "\n",
              "          const docLinkHtml = 'Like what you see? Visit the ' +\n",
              "            '<a target=\"_blank\" href=https://colab.research.google.com/notebooks/data_table.ipynb>data table notebook</a>'\n",
              "            + ' to learn more about interactive tables.';\n",
              "          element.innerHTML = '';\n",
              "          dataTable['output_type'] = 'display_data';\n",
              "          await google.colab.output.renderOutput(dataTable, element);\n",
              "          const docLink = document.createElement('div');\n",
              "          docLink.innerHTML = docLinkHtml;\n",
              "          element.appendChild(docLink);\n",
              "        }\n",
              "      </script>\n",
              "    </div>\n",
              "  </div>\n",
              "  "
            ]
          },
          "metadata": {},
          "execution_count": 18
        }
      ]
    },
    {
      "cell_type": "code",
      "source": [
        " # db = sqlite3.connect(\"new.db\")"
      ],
      "metadata": {
        "id": "YkyqWQ09Rv3d"
      },
      "execution_count": null,
      "outputs": []
    },
    {
      "cell_type": "code",
      "source": [],
      "metadata": {
        "id": "erMCq6HZYccF"
      },
      "execution_count": null,
      "outputs": []
    },
    {
      "cell_type": "markdown",
      "source": [
        "# Connecting to SQL\n",
        "\n",
        "https://www.youtube.com/watch?v=g60QghtJmjY"
      ],
      "metadata": {
        "id": "4Ict7YnpYfY_"
      }
    },
    {
      "cell_type": "code",
      "source": [],
      "metadata": {
        "id": "wZeur63VYcf4"
      },
      "execution_count": null,
      "outputs": []
    },
    {
      "cell_type": "code",
      "source": [],
      "metadata": {
        "id": "0hZOuPHoYcjo"
      },
      "execution_count": null,
      "outputs": []
    },
    {
      "cell_type": "code",
      "source": [],
      "metadata": {
        "id": "PnRi1BLaYcnH"
      },
      "execution_count": null,
      "outputs": []
    },
    {
      "cell_type": "code",
      "source": [],
      "metadata": {
        "id": "8aYWb_hpYcp3"
      },
      "execution_count": null,
      "outputs": []
    },
    {
      "cell_type": "code",
      "source": [],
      "metadata": {
        "id": "8L5ul5YpYcs9"
      },
      "execution_count": null,
      "outputs": []
    },
    {
      "cell_type": "code",
      "source": [],
      "metadata": {
        "id": "4HaW2JmJYcvm"
      },
      "execution_count": null,
      "outputs": []
    },
    {
      "cell_type": "code",
      "source": [],
      "metadata": {
        "id": "9WtyttOeYcym"
      },
      "execution_count": null,
      "outputs": []
    },
    {
      "cell_type": "code",
      "source": [],
      "metadata": {
        "id": "oQwvuo4tYc1_"
      },
      "execution_count": null,
      "outputs": []
    },
    {
      "cell_type": "code",
      "source": [],
      "metadata": {
        "id": "ALDxmLn6YdrR"
      },
      "execution_count": null,
      "outputs": []
    },
    {
      "cell_type": "code",
      "source": [],
      "metadata": {
        "id": "PrZwG77IYdus"
      },
      "execution_count": null,
      "outputs": []
    },
    {
      "cell_type": "code",
      "source": [
        "!pip install urllib3\n"
      ],
      "metadata": {
        "colab": {
          "base_uri": "https://localhost:8080/"
        },
        "id": "vxNSFxdOMeq5",
        "outputId": "1639ebe8-821a-4f27-a6fb-bf8f48e72afa"
      },
      "execution_count": null,
      "outputs": [
        {
          "output_type": "stream",
          "name": "stdout",
          "text": [
            "Requirement already satisfied: urllib3 in /usr/local/lib/python3.7/dist-packages (1.24.3)\n"
          ]
        }
      ]
    },
    {
      "cell_type": "code",
      "source": [
        "import csv\n",
        "import urllib3\n",
        "\n",
        "http = urllib3.PoolManager()\n",
        "r = http.request('GET', 'http://winterolympicsmedals.com/medals.csv')\n",
        "r.status\n",
        "r.data\n",
        "\n",
        "\n",
        "\n",
        "cr = csv.reader(r.data)\n",
        "\n",
        "for row in cr:\n",
        "    print(row)"
      ],
      "metadata": {
        "colab": {
          "base_uri": "https://localhost:8080/",
          "height": 245
        },
        "id": "s4ssM5U-MSDp",
        "outputId": "48e8e5b6-f4fe-4281-e0fd-253e7eb3b3b2"
      },
      "execution_count": null,
      "outputs": [
        {
          "output_type": "error",
          "ename": "Error",
          "evalue": "ignored",
          "traceback": [
            "\u001b[0;31m---------------------------------------------------------------------------\u001b[0m",
            "\u001b[0;31mError\u001b[0m                                     Traceback (most recent call last)",
            "\u001b[0;32m<ipython-input-27-7a28718ea7aa>\u001b[0m in \u001b[0;36m<module>\u001b[0;34m()\u001b[0m\n\u001b[1;32m     11\u001b[0m \u001b[0mcr\u001b[0m \u001b[0;34m=\u001b[0m \u001b[0mcsv\u001b[0m\u001b[0;34m.\u001b[0m\u001b[0mreader\u001b[0m\u001b[0;34m(\u001b[0m\u001b[0mr\u001b[0m\u001b[0;34m.\u001b[0m\u001b[0mdata\u001b[0m\u001b[0;34m)\u001b[0m\u001b[0;34m\u001b[0m\u001b[0;34m\u001b[0m\u001b[0m\n\u001b[1;32m     12\u001b[0m \u001b[0;34m\u001b[0m\u001b[0m\n\u001b[0;32m---> 13\u001b[0;31m \u001b[0;32mfor\u001b[0m \u001b[0mrow\u001b[0m \u001b[0;32min\u001b[0m \u001b[0mcr\u001b[0m\u001b[0;34m:\u001b[0m\u001b[0;34m\u001b[0m\u001b[0;34m\u001b[0m\u001b[0m\n\u001b[0m\u001b[1;32m     14\u001b[0m     \u001b[0mprint\u001b[0m\u001b[0;34m(\u001b[0m\u001b[0mrow\u001b[0m\u001b[0;34m)\u001b[0m\u001b[0;34m\u001b[0m\u001b[0;34m\u001b[0m\u001b[0m\n",
            "\u001b[0;31mError\u001b[0m: iterator should return strings, not int (did you open the file in text mode?)"
          ]
        }
      ]
    }
  ]
}