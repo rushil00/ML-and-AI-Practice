{
 "cells": [
  {
   "cell_type": "code",
   "execution_count": 1,
   "metadata": {},
   "outputs": [
    {
     "ename": "error",
     "evalue": "OpenCV(4.5.4) D:\\a\\opencv-python\\opencv-python\\opencv\\modules\\highgui\\src\\window_w32.cpp:2563: error: (-27:Null pointer) NULL window: 'mu_drawing' in function 'cvSetMouseCallback'\n",
     "output_type": "error",
     "traceback": [
      "\u001b[1;31m---------------------------------------------------------------------------\u001b[0m",
      "\u001b[1;31merror\u001b[0m                                     Traceback (most recent call last)",
      "\u001b[1;32md:\\Rushil 2021\\Programming 2022-23\\ML-and-AI-Practice\\cvimageBasics2.ipynb Cell 1\u001b[0m in \u001b[0;36m<cell line: 24>\u001b[1;34m()\u001b[0m\n\u001b[0;32m     <a href='vscode-notebook-cell:/d%3A/Rushil%202021/Programming%202022-23/ML-and-AI-Practice/cvimageBasics2.ipynb#W0sZmlsZQ%3D%3D?line=21'>22</a>\u001b[0m img \u001b[39m=\u001b[39m np\u001b[39m.\u001b[39mzeros((\u001b[39m512\u001b[39m,\u001b[39m521\u001b[39m,\u001b[39m3\u001b[39m))\n\u001b[0;32m     <a href='vscode-notebook-cell:/d%3A/Rushil%202021/Programming%202022-23/ML-and-AI-Practice/cvimageBasics2.ipynb#W0sZmlsZQ%3D%3D?line=22'>23</a>\u001b[0m cv2\u001b[39m.\u001b[39mnamedWindow(winname\u001b[39m=\u001b[39m\u001b[39m'\u001b[39m\u001b[39mmy_drawing\u001b[39m\u001b[39m'\u001b[39m)\n\u001b[1;32m---> <a href='vscode-notebook-cell:/d%3A/Rushil%202021/Programming%202022-23/ML-and-AI-Practice/cvimageBasics2.ipynb#W0sZmlsZQ%3D%3D?line=23'>24</a>\u001b[0m cv2\u001b[39m.\u001b[39;49msetMouseCallback(\u001b[39m'\u001b[39;49m\u001b[39mmu_drawing\u001b[39;49m\u001b[39m'\u001b[39;49m,draw_rectangle)\n\u001b[0;32m     <a href='vscode-notebook-cell:/d%3A/Rushil%202021/Programming%202022-23/ML-and-AI-Practice/cvimageBasics2.ipynb#W0sZmlsZQ%3D%3D?line=25'>26</a>\u001b[0m \u001b[39mwhile\u001b[39;00m \u001b[39mTrue\u001b[39;00m:\n\u001b[0;32m     <a href='vscode-notebook-cell:/d%3A/Rushil%202021/Programming%202022-23/ML-and-AI-Practice/cvimageBasics2.ipynb#W0sZmlsZQ%3D%3D?line=26'>27</a>\u001b[0m     cv2\u001b[39m.\u001b[39mimshow(\u001b[39m'\u001b[39m\u001b[39mmy_drawing\u001b[39m\u001b[39m'\u001b[39m, img)\n",
      "\u001b[1;31merror\u001b[0m: OpenCV(4.5.4) D:\\a\\opencv-python\\opencv-python\\opencv\\modules\\highgui\\src\\window_w32.cpp:2563: error: (-27:Null pointer) NULL window: 'mu_drawing' in function 'cvSetMouseCallback'\n"
     ]
    },
    {
     "ename": "",
     "evalue": "",
     "output_type": "error",
     "traceback": [
      "\u001b[1;31mThe Kernel crashed while executing code in the the current cell or a previous cell. Please review the code in the cell(s) to identify a possible cause of the failure. Click <a href='https://aka.ms/vscodeJupyterKernelCrash'>here</a> for more info. View Jupyter <a href='command:jupyter.viewOutput'>log</a> for further details."
     ]
    }
   ],
   "source": [
    "import matplotlib.pyplot as plt\n",
    "import cv2\n",
    "import numpy as np\n",
    "#VARIABLES\n",
    "#True while mouse button down and false if mouse is up\n",
    "drawing = False\n",
    "ix,iy = -1,-1\n",
    "#function\n",
    "def draw_rectangle(event,x,y,flags,params):\n",
    "    global ix,iy,drawing\n",
    "    if event == cv2.EVENT_LBUTTONDOWN:\n",
    "        drawing = True\n",
    "        ix,iy = x,y\n",
    "    elif event == cv2.EVENT_MOUSEMOVE:\n",
    "        if drawing == True:\n",
    "            cv2.rectangle(img,(ix,iy),(x,y),(0,255,0),-1)\n",
    "    elif event == cv2.EVENT_LBUTTONUP:\n",
    "        drawing = False\n",
    "        cv2.rectangle(img,(ix,iy),(x,y),(0,255,0),-1)\n",
    "\n",
    "#SHOWING THE IMAGE\n",
    "img = np.zeros((512,521,3))\n",
    "cv2.namedWindow(winname='my_drawing')\n",
    "cv2.setMouseCallback('mu_drawing',draw_rectangle)\n",
    "\n",
    "while True:\n",
    "    cv2.imshow('my_drawing', img)\n",
    "    #checks for Esc:\n",
    "    if cv2.waitKey(1) & 0xFF == 27:\n",
    "        break\n",
    "cv2.destroyAllWindows()"
   ]
  }
 ],
 "metadata": {
  "kernelspec": {
   "display_name": "Python 3",
   "language": "python",
   "name": "python3"
  },
  "language_info": {
   "codemirror_mode": {
    "name": "ipython",
    "version": 3
   },
   "file_extension": ".py",
   "mimetype": "text/x-python",
   "name": "python",
   "nbconvert_exporter": "python",
   "pygments_lexer": "ipython3",
   "version": "3.8.10 (tags/v3.8.10:3d8993a, May  3 2021, 11:48:03) [MSC v.1928 64 bit (AMD64)]"
  },
  "orig_nbformat": 4,
  "vscode": {
   "interpreter": {
    "hash": "5933ba2b7e267bd53c3577d65ba0ea58c7c124d1a99153533b0d09db04233e25"
   }
  }
 },
 "nbformat": 4,
 "nbformat_minor": 2
}
