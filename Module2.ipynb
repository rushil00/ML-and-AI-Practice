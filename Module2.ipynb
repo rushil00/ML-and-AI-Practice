{
  "cells": [
    {
      "cell_type": "markdown",
      "metadata": {
        "id": "view-in-github",
        "colab_type": "text"
      },
      "source": [
        "<a href=\"https://colab.research.google.com/github/rushil00/ML-and-AI-Practice/blob/main/Module2.ipynb\" target=\"_parent\"><img src=\"https://colab.research.google.com/assets/colab-badge.svg\" alt=\"Open In Colab\"/></a>"
      ]
    },
    {
      "cell_type": "markdown",
      "metadata": {
        "id": "Xe7fAXmeDDwi"
      },
      "source": [
        "# Module 2\n",
        "\n",
        "<b>Conditions, boolean logic, logical operators, ranges, Control \n",
        "statements: if-else, loops (for, while), Flow control, Functions, \n",
        "Scoping, Exceptions, Input and output, Modules, Collections, \n",
        "Lists, Tuples, Sets, Dictionaries, Modules, Standard Modules, \n",
        "Regular Expressions, Quantifiers, Basic String Operations <b>"
      ]
    },
    {
      "cell_type": "markdown",
      "metadata": {
        "id": "LUTw77gpNHh6"
      },
      "source": [
        "# Conditions\n",
        "Conditions in Python or Conditional statements are used to perform decision making challenges. Python uses boolean logic to evaluate conditions. The boolean values True and False are returned when an expression is compared or evaluated. \n",
        "\n",
        "\n",
        "<h5> https://www.learnpython.org/en/Conditions </h5>"
      ]
    },
    {
      "cell_type": "code",
      "execution_count": null,
      "metadata": {
        "colab": {
          "base_uri": "https://localhost:8080/"
        },
        "id": "l0lHRCwRNQQo",
        "outputId": "a34a1475-d9bc-421c-9eb4-857a2891e6d7"
      },
      "outputs": [
        {
          "name": "stdout",
          "output_type": "stream",
          "text": [
            "True\n",
            "False\n",
            "True\n"
          ]
        }
      ],
      "source": [
        "x = 2\n",
        "print(x == 2) # prints out True\n",
        "print(x == 3) # prints out False\n",
        "print(x < 3) # prints out True"
      ]
    },
    {
      "cell_type": "code",
      "execution_count": null,
      "metadata": {
        "id": "Y66lNt7ENtLk"
      },
      "outputs": [],
      "source": []
    },
    {
      "cell_type": "markdown",
      "metadata": {
        "id": "GLe8_HY_NuIz"
      },
      "source": [
        "# Boolean operators\n",
        "The \"and\" and \"or\" boolean operators allow building complex boolean expressions"
      ]
    },
    {
      "cell_type": "code",
      "execution_count": null,
      "metadata": {
        "colab": {
          "base_uri": "https://localhost:8080/"
        },
        "id": "7vd8HCVENxQf",
        "outputId": "9e44513f-bc2b-44de-b854-09987881edcb"
      },
      "outputs": [
        {
          "name": "stdout",
          "output_type": "stream",
          "text": [
            "Your name is John, and you are also 23 years old.\n",
            "Your name is either John or Rick.\n"
          ]
        }
      ],
      "source": [
        "name = \"John\"\n",
        "age = 23\n",
        "if name == \"John\" and age == 23:\n",
        "    print(\"Your name is John, and you are also 23 years old.\")\n",
        "\n",
        "if name == \"John\" or name == \"Rick\":\n",
        "    print(\"Your name is either John or Rick.\")"
      ]
    },
    {
      "cell_type": "markdown",
      "metadata": {
        "id": "D5f44UQ9OMkk"
      },
      "source": [
        "# The \"in\" operator\n",
        "The \"in\" operator could be used to check if a specified object exists within an iterable object container, such as a list"
      ]
    },
    {
      "cell_type": "code",
      "execution_count": null,
      "metadata": {
        "id": "cSu70k7uOO2F"
      },
      "outputs": [],
      "source": [
        "name = \"John\"\n",
        "if name in [\"John\", \"Rick\"]:\n",
        "    print(\"Your name is either John or Rick.\")"
      ]
    },
    {
      "cell_type": "markdown",
      "metadata": {
        "id": "x2lqFFggOSK2"
      },
      "source": [
        "# The 'is' operator\n",
        "Unlike the double equals operator \"==\", the \"is\" operator does not match the values of the variables, but the instances themselves. "
      ]
    },
    {
      "cell_type": "code",
      "execution_count": null,
      "metadata": {
        "colab": {
          "base_uri": "https://localhost:8080/"
        },
        "id": "ORYesYitOZYc",
        "outputId": "1310b00f-8ba3-4c2e-ce07-d3e8df36da0e"
      },
      "outputs": [
        {
          "name": "stdout",
          "output_type": "stream",
          "text": [
            "True\n",
            "False\n"
          ]
        }
      ],
      "source": [
        "x = [1,2,3]\n",
        "y = [1,2,3]\n",
        "print(x == y) \n",
        "print(x is y) "
      ]
    },
    {
      "cell_type": "code",
      "execution_count": null,
      "metadata": {
        "colab": {
          "base_uri": "https://localhost:8080/"
        },
        "id": "AuFlmyRKQHpI",
        "outputId": "28109b83-f6a3-427a-e4ad-be1821b69fc5"
      },
      "outputs": [
        {
          "data": {
            "text/plain": [
              "140339392643632"
            ]
          },
          "execution_count": 3,
          "metadata": {},
          "output_type": "execute_result"
        }
      ],
      "source": [
        "id(x)"
      ]
    },
    {
      "cell_type": "code",
      "execution_count": null,
      "metadata": {
        "colab": {
          "base_uri": "https://localhost:8080/"
        },
        "id": "mBrf_CppQKqi",
        "outputId": "18670719-1401-45a6-c2cd-62bbfce8df92"
      },
      "outputs": [
        {
          "data": {
            "text/plain": [
              "140339392643952"
            ]
          },
          "execution_count": 4,
          "metadata": {},
          "output_type": "execute_result"
        }
      ],
      "source": [
        "id(y)"
      ]
    },
    {
      "cell_type": "markdown",
      "metadata": {
        "id": "IsyRU6vjOinE"
      },
      "source": [
        "# The \"not\" operator\n",
        "Using \"not\" before a boolean expression inverts it"
      ]
    },
    {
      "cell_type": "code",
      "execution_count": null,
      "metadata": {
        "colab": {
          "base_uri": "https://localhost:8080/"
        },
        "id": "KeM6r18eOkq1",
        "outputId": "ffdf2b1e-4da6-490c-b9e9-f4e6e726bbda"
      },
      "outputs": [
        {
          "name": "stdout",
          "output_type": "stream",
          "text": [
            "True\n",
            "False\n"
          ]
        }
      ],
      "source": [
        "print(not False) \n",
        "print((not False) == (False)) "
      ]
    },
    {
      "cell_type": "markdown",
      "metadata": {
        "id": "tyDwqbgExmFf"
      },
      "source": [
        "https://towardsdatascience.com/cheat-sheet-for-google-colab-63853778c093\n"
      ]
    },
    {
      "cell_type": "markdown",
      "metadata": {
        "id": "q8WkvcFxuSvg"
      },
      "source": [
        "# Boolean logic \n",
        "\n",
        "## George Boole (1815–1864) developed what is now called Boolean algebra, which is the foundation of the digital logic behind computer hardware and programming languages.\n",
        "\n",
        "##With the help of Boolean logic, you can evaluate conditions and decide what operations your programs will execute, depending on the truth value of those conditions. This is an important cornerstone in programming and provides you with the tools to decide the execution flow of your programs.\n",
        "\n",
        "Python has three Boolean operators that are typed out as plain English words:\n",
        "1.   and\n",
        "2.   or\n",
        "3.   not\n",
        "\n",
        "## Syntax for Boolean expression with or in Python\n",
        "```\n",
        "    exp1 or exp2\n",
        "```\n",
        "\n",
        "<h2>Here’s a summary of the Python or operator’s behavior:<h2>\n",
        "<table>\n",
        "<tr>\n",
        "<th>Result of exp1\n",
        "<th>Result of exp2<th>\tResult of exp1 or exp2\n",
        "<tr>\n",
        "<th>True <th> True <th> True\n",
        "<tr>\n",
        "<th>True <th>\tFalse\t<th>True\n",
        "<tr>\n",
        "<th>False <th>\tTrue <th>\tTrue\n",
        "<tr>\n",
        "<th>False\t<th> False <th>\tFalse\n",
        "</table>\n",
        "\n",
        "\n",
        "\n",
        "\n",
        "\n",
        "\n",
        "\n",
        "\n",
        "\n",
        "<h5>https://realpython.com/python-or-operator/<h5>"
      ]
    },
    {
      "cell_type": "code",
      "execution_count": null,
      "metadata": {
        "colab": {
          "base_uri": "https://localhost:8080/"
        },
        "id": "7JLaSNRAzui5",
        "outputId": "b3f1f7a7-a8b2-40c6-ad90-0c715c16cfdf"
      },
      "outputs": [
        {
          "data": {
            "text/plain": [
              "False"
            ]
          },
          "execution_count": 9,
          "metadata": {},
          "output_type": "execute_result"
        }
      ],
      "source": [
        "exp1 = 1 == 2\n",
        "exp1"
      ]
    },
    {
      "cell_type": "code",
      "execution_count": null,
      "metadata": {
        "colab": {
          "base_uri": "https://localhost:8080/"
        },
        "id": "K6AefrQFz15X",
        "outputId": "43a2b590-d647-4f01-ff51-ad4a24fa6739"
      },
      "outputs": [
        {
          "data": {
            "text/plain": [
              "True"
            ]
          },
          "execution_count": 10,
          "metadata": {},
          "output_type": "execute_result"
        }
      ],
      "source": [
        "exp2 = 7 > 3\n",
        "exp2"
      ]
    },
    {
      "cell_type": "code",
      "execution_count": null,
      "metadata": {
        "colab": {
          "base_uri": "https://localhost:8080/"
        },
        "id": "XN_9IsDaz7_L",
        "outputId": "58ad6d03-fffd-47b7-cfe0-e26b6841cfc7"
      },
      "outputs": [
        {
          "data": {
            "text/plain": [
              "True"
            ]
          },
          "execution_count": 11,
          "metadata": {},
          "output_type": "execute_result"
        }
      ],
      "source": [
        "exp1 or exp2"
      ]
    },
    {
      "cell_type": "code",
      "execution_count": null,
      "metadata": {
        "colab": {
          "base_uri": "https://localhost:8080/"
        },
        "id": "4W41xsXqz-69",
        "outputId": "01d80d95-26ff-4569-ddf8-72f406f198cf"
      },
      "outputs": [
        {
          "data": {
            "text/plain": [
              "True"
            ]
          },
          "execution_count": 12,
          "metadata": {},
          "output_type": "execute_result"
        }
      ],
      "source": [
        "exp2 or exp1"
      ]
    },
    {
      "cell_type": "code",
      "execution_count": null,
      "metadata": {
        "colab": {
          "base_uri": "https://localhost:8080/"
        },
        "id": "w0MdYjNq0B-Q",
        "outputId": "9e54ddd7-cd95-4ed5-9519-a82c04337056"
      },
      "outputs": [
        {
          "data": {
            "text/plain": [
              "False"
            ]
          },
          "execution_count": 13,
          "metadata": {},
          "output_type": "execute_result"
        }
      ],
      "source": [
        "exp3 = 3 < 1\n",
        "exp1 or exp3"
      ]
    },
    {
      "cell_type": "markdown",
      "metadata": {
        "id": "CmxBLF-H0rxX"
      },
      "source": [
        "## If the operands involved in an or operation are objects instead of Boolean expressions, then the Python or operator returns a true or false object, not the values True or False as you could expect. The truth value of this object is determined according to the rules you’ve seen before.\n",
        "\n",
        "### You can summarize the behavior as follows:\n",
        "\n",
        "<table>\n",
        "<tr>\n",
        "<th>Left Object\t<th>Right Object\t<th>Result of x or y\n",
        "<tr>\n",
        "<th>x\t<th>y\t<th>x, if it evaluates to true, otherwise y.\n",
        "<table>"
      ]
    },
    {
      "cell_type": "code",
      "execution_count": null,
      "metadata": {
        "colab": {
          "base_uri": "https://localhost:8080/"
        },
        "id": "9DTn9dFF1pho",
        "outputId": "49b18599-4f72-44aa-90bd-f7c14ff9eff0"
      },
      "outputs": [
        {
          "data": {
            "text/plain": [
              "2"
            ]
          },
          "execution_count": 14,
          "metadata": {},
          "output_type": "execute_result"
        }
      ],
      "source": [
        "2 or 3 #the first operands are true (nonzero), so the Python or operator always returns the first one"
      ]
    },
    {
      "cell_type": "code",
      "execution_count": null,
      "metadata": {
        "colab": {
          "base_uri": "https://localhost:8080/"
        },
        "id": "rRvAeGV01rnM",
        "outputId": "a9ee216a-833c-408b-a49e-210484f9ff65"
      },
      "outputs": [
        {
          "data": {
            "text/plain": [
              "5"
            ]
          },
          "execution_count": 15,
          "metadata": {},
          "output_type": "execute_result"
        }
      ],
      "source": [
        "5 or 0.0  #the first operands are true (nonzero), so the Python or operator always returns the first one"
      ]
    },
    {
      "cell_type": "code",
      "execution_count": null,
      "metadata": {
        "colab": {
          "base_uri": "https://localhost:8080/"
        },
        "id": "aWtd0JDj1ttV",
        "outputId": "f4cd2e0c-67c7-49ed-f6df-b6afd32cb841"
      },
      "outputs": [
        {
          "data": {
            "text/plain": [
              "3"
            ]
          },
          "execution_count": 16,
          "metadata": {},
          "output_type": "execute_result"
        }
      ],
      "source": [
        "[] or 3   # {}, (), [] the left operand is false (an empty object). The Python or operator evaluates both operands and returns the object on the right, which may evaluate to either true or false."
      ]
    },
    {
      "cell_type": "code",
      "execution_count": null,
      "metadata": {
        "colab": {
          "base_uri": "https://localhost:8080/"
        },
        "id": "DY1HmRwX1yHF",
        "outputId": "0ef4f269-e0f0-4069-ecdf-ef83850a9e36"
      },
      "outputs": [
        {
          "data": {
            "text/plain": [
              "{}"
            ]
          },
          "execution_count": 14,
          "metadata": {},
          "output_type": "execute_result"
        }
      ],
      "source": [
        "0 or {}  # the left operand is false (an empty object). The Python or operator evaluates both operands and returns the object on the right, which may evaluate to either true or false."
      ]
    },
    {
      "cell_type": "markdown",
      "metadata": {
        "id": "RXh_JvVS2wdB"
      },
      "source": [
        "## You can also combine Boolean expressions and common Python objects in an or operation.You can also combine Boolean expressions and common Python objects in an or operation.\n",
        "\n",
        "<h2>Here’s a summary:<h2>\n",
        "<table>\n",
        "<tr>\n",
        "<th>Result of exp <th>Result of obj<th>\tResult of exp or obj\n",
        "<tr>\n",
        "<th>True <th> True <th> True\n",
        "<tr>\n",
        "<th>True <th>\tFalse\t<th>True\n",
        "<tr>\n",
        "<th>False <th>\tTrue <th>\tobj\n",
        "<tr>\n",
        "<th>False\t<th> False <th>\tobj\n",
        "</table>\n"
      ]
    },
    {
      "cell_type": "code",
      "execution_count": null,
      "metadata": {
        "colab": {
          "base_uri": "https://localhost:8080/"
        },
        "id": "woDBiIU33zA3",
        "outputId": "0ec4671d-c7f0-483d-ad61-3ad1ac04e71c"
      },
      "outputs": [
        {
          "data": {
            "text/plain": [
              "True"
            ]
          },
          "execution_count": 17,
          "metadata": {},
          "output_type": "execute_result"
        }
      ],
      "source": [
        "2 < 4 or 2  # Case 1"
      ]
    },
    {
      "cell_type": "code",
      "execution_count": null,
      "metadata": {
        "colab": {
          "base_uri": "https://localhost:8080/"
        },
        "id": "SVc_LkUM34Oz",
        "outputId": "48d5de38-a9a8-45d3-d487-657e82300f7e"
      },
      "outputs": [
        {
          "data": {
            "text/plain": [
              "True"
            ]
          },
          "execution_count": 18,
          "metadata": {},
          "output_type": "execute_result"
        }
      ],
      "source": [
        "2 < 4 or []  # Case 2"
      ]
    },
    {
      "cell_type": "code",
      "execution_count": null,
      "metadata": {
        "colab": {
          "base_uri": "https://localhost:8080/"
        },
        "id": "hgSKRvqO36VJ",
        "outputId": "1866c6bd-5f81-4535-b6a6-15103b7ee55f"
      },
      "outputs": [
        {
          "data": {
            "text/plain": [
              "[]"
            ]
          },
          "execution_count": 19,
          "metadata": {},
          "output_type": "execute_result"
        }
      ],
      "source": [
        "5 > 10 or []  # Case 3"
      ]
    },
    {
      "cell_type": "code",
      "execution_count": null,
      "metadata": {
        "colab": {
          "base_uri": "https://localhost:8080/"
        },
        "id": "qTesWtD-VoFz",
        "outputId": "ae12d480-353b-423d-82ad-17c812d8d55d"
      },
      "outputs": [
        {
          "data": {
            "text/plain": [
              "False"
            ]
          },
          "execution_count": 20,
          "metadata": {},
          "output_type": "execute_result"
        }
      ],
      "source": [
        "[] or 5>10"
      ]
    },
    {
      "cell_type": "code",
      "execution_count": null,
      "metadata": {
        "colab": {
          "base_uri": "https://localhost:8080/"
        },
        "id": "KWInpFlX384-",
        "outputId": "8096dd18-afb7-4b3e-d6ad-ab6cea08a9f5"
      },
      "outputs": [
        {
          "data": {
            "text/plain": [
              "4"
            ]
          },
          "execution_count": 21,
          "metadata": {},
          "output_type": "execute_result"
        }
      ],
      "source": [
        "5 > 10 or 4  # Case 4"
      ]
    },
    {
      "cell_type": "code",
      "execution_count": null,
      "metadata": {
        "colab": {
          "base_uri": "https://localhost:8080/"
        },
        "id": "qGTm7sgnVeLy",
        "outputId": "1a8bfe92-c1ac-4395-b756-6bcc2f6aab69"
      },
      "outputs": [
        {
          "data": {
            "text/plain": [
              "4"
            ]
          },
          "execution_count": 22,
          "metadata": {},
          "output_type": "execute_result"
        }
      ],
      "source": [
        "4 or 5>10"
      ]
    },
    {
      "cell_type": "markdown",
      "metadata": {
        "id": "LrdgZGgJ5izz"
      },
      "source": [
        "## Python’s <b>and</b> operator takes two operands, which can be Boolean expressions, objects, or a combination. With those operands, the and operator builds more elaborate expressions. The operands in an and expression are commonly known as <b>conditions</b>. If both <b>conditions</b> are true, then the and expression returns a true result. Otherwise, it returns a false result.\n",
        "\n",
        "Syntex:\n",
        "```\n",
        "expression1 and expression2\n",
        "```\n",
        "\n",
        "<h3>The and operator’s truth table:</h3>\n",
        "\n",
        "<table>\n",
        "<tr>\n",
        "<th>Result of exp1 <th>Result of obj<th>\tResult of exp1 and exp2\n",
        "<tr>\n",
        "<th>True <th> True <th> True\n",
        "<tr>\n",
        "<th>True <th>\tFalse\t<th>False\n",
        "<tr>\n",
        "<th>False <th>\tTrue <th>\tFalse\n",
        "<tr>\n",
        "<th>False\t<th> False <th>\tFalse\n",
        "</table>\n",
        "\n",
        "\n",
        "<h5>https://realpython.com/python-and-operator/<h5>"
      ]
    },
    {
      "cell_type": "code",
      "execution_count": null,
      "metadata": {
        "colab": {
          "base_uri": "https://localhost:8080/"
        },
        "id": "cQYQfXNI6NiC",
        "outputId": "f2d16683-7180-489d-aa3a-fef404a0c35d"
      },
      "outputs": [
        {
          "data": {
            "text/plain": [
              "True"
            ]
          },
          "execution_count": 23,
          "metadata": {},
          "output_type": "execute_result"
        }
      ],
      "source": [
        "True and True"
      ]
    },
    {
      "cell_type": "code",
      "execution_count": null,
      "metadata": {
        "colab": {
          "base_uri": "https://localhost:8080/"
        },
        "id": "xuPwlmGX6QDw",
        "outputId": "1052c5f3-7d7c-4ca6-c3de-26664e4fd485"
      },
      "outputs": [
        {
          "data": {
            "text/plain": [
              "False"
            ]
          },
          "execution_count": 24,
          "metadata": {},
          "output_type": "execute_result"
        }
      ],
      "source": [
        "False and False"
      ]
    },
    {
      "cell_type": "code",
      "execution_count": null,
      "metadata": {
        "colab": {
          "base_uri": "https://localhost:8080/"
        },
        "id": "T_UfPv4h6Ru8",
        "outputId": "396ddca6-75d1-4761-fc7f-66fc22f648e5"
      },
      "outputs": [
        {
          "data": {
            "text/plain": [
              "False"
            ]
          },
          "execution_count": 25,
          "metadata": {},
          "output_type": "execute_result"
        }
      ],
      "source": [
        "True and False"
      ]
    },
    {
      "cell_type": "code",
      "execution_count": null,
      "metadata": {
        "colab": {
          "base_uri": "https://localhost:8080/"
        },
        "id": "thXDsK4z6T_f",
        "outputId": "897b2aa7-496e-414c-b43b-944a21233947"
      },
      "outputs": [
        {
          "data": {
            "text/plain": [
              "False"
            ]
          },
          "execution_count": 26,
          "metadata": {},
          "output_type": "execute_result"
        }
      ],
      "source": [
        "False and True"
      ]
    },
    {
      "cell_type": "code",
      "execution_count": null,
      "metadata": {
        "colab": {
          "base_uri": "https://localhost:8080/"
        },
        "id": "D3sx_0kmEDm8",
        "outputId": "d7698213-aa1f-4af7-e6ae-92e44ec28e19"
      },
      "outputs": [
        {
          "data": {
            "text/plain": [
              "True"
            ]
          },
          "execution_count": 27,
          "metadata": {},
          "output_type": "execute_result"
        }
      ],
      "source": [
        " 5 > 3 and 5 == 3 + 2"
      ]
    },
    {
      "cell_type": "code",
      "execution_count": null,
      "metadata": {
        "colab": {
          "base_uri": "https://localhost:8080/"
        },
        "id": "4_jf93T_EGxp",
        "outputId": "1ca7be57-1501-4ce6-92d5-7e00ab320641"
      },
      "outputs": [
        {
          "data": {
            "text/plain": [
              "False"
            ]
          },
          "execution_count": 28,
          "metadata": {},
          "output_type": "execute_result"
        }
      ],
      "source": [
        "5 < 3 and 5 == 5"
      ]
    },
    {
      "cell_type": "code",
      "execution_count": null,
      "metadata": {
        "colab": {
          "base_uri": "https://localhost:8080/"
        },
        "id": "yWrlta0ZEMzq",
        "outputId": "a28d28a6-29bc-44c7-d25a-f8ee42b1a48c"
      },
      "outputs": [
        {
          "data": {
            "text/plain": [
              "False"
            ]
          },
          "execution_count": 29,
          "metadata": {},
          "output_type": "execute_result"
        }
      ],
      "source": [
        "5 == 5 and 5 != 5"
      ]
    },
    {
      "cell_type": "code",
      "execution_count": null,
      "metadata": {
        "colab": {
          "base_uri": "https://localhost:8080/"
        },
        "id": "oEgMdPPkEQsz",
        "outputId": "52feec42-9797-4a5d-f4ed-7bddf2a9973f"
      },
      "outputs": [
        {
          "data": {
            "text/plain": [
              "False"
            ]
          },
          "execution_count": 30,
          "metadata": {},
          "output_type": "execute_result"
        }
      ],
      "source": [
        "5 < 3 and 5 != 5"
      ]
    },
    {
      "cell_type": "markdown",
      "metadata": {
        "id": "x0ej3hcR_dMe"
      },
      "source": [
        "<table>\n",
        "<tr>\n",
        "<th>Left Object\t<th>Right Object\t<th>Result of x and y\n",
        "<tr>\n",
        "<th>x\t<th>y\t<th>y, if it evaluates x as true, otherwise x.\n",
        "<table>"
      ]
    },
    {
      "cell_type": "code",
      "execution_count": null,
      "metadata": {
        "colab": {
          "base_uri": "https://localhost:8080/"
        },
        "id": "8gJXTmC7WrKD",
        "outputId": "51267795-595e-40c8-fc57-17ad1a168e65"
      },
      "outputs": [
        {
          "data": {
            "text/plain": [
              "3"
            ]
          },
          "execution_count": 31,
          "metadata": {},
          "output_type": "execute_result"
        }
      ],
      "source": [
        "2 and 3"
      ]
    },
    {
      "cell_type": "code",
      "execution_count": null,
      "metadata": {
        "colab": {
          "base_uri": "https://localhost:8080/"
        },
        "id": "DBzxePVZXBQV",
        "outputId": "3f84ca46-6628-4799-da8e-6bc9323551e6"
      },
      "outputs": [
        {
          "data": {
            "text/plain": [
              "[]"
            ]
          },
          "execution_count": 32,
          "metadata": {},
          "output_type": "execute_result"
        }
      ],
      "source": [
        "[] and 3"
      ]
    },
    {
      "cell_type": "code",
      "execution_count": null,
      "metadata": {
        "colab": {
          "base_uri": "https://localhost:8080/"
        },
        "id": "f70YsrpXXHxQ",
        "outputId": "84813978-aeef-4fe5-cf6e-52ff242d912a"
      },
      "outputs": [
        {
          "data": {
            "text/plain": [
              "[]"
            ]
          },
          "execution_count": 33,
          "metadata": {},
          "output_type": "execute_result"
        }
      ],
      "source": [
        "[] and 0"
      ]
    },
    {
      "cell_type": "code",
      "execution_count": null,
      "metadata": {
        "colab": {
          "base_uri": "https://localhost:8080/"
        },
        "id": "oXnP5T-fXPao",
        "outputId": "4e459092-779b-4c6f-9ae5-75d6c81798df"
      },
      "outputs": [
        {
          "data": {
            "text/plain": [
              "[]"
            ]
          },
          "execution_count": 34,
          "metadata": {},
          "output_type": "execute_result"
        }
      ],
      "source": [
        "4 and []"
      ]
    },
    {
      "cell_type": "markdown",
      "metadata": {
        "id": "VhcNKA5GWOU1"
      },
      "source": [
        "Write a program to prompt a user to enter the values of the three different variables and display the output of the following expressions.\n",
        "```\n",
        "a. p>q>r\n",
        "b. p<q<r\n",
        "c. p<q and q<z\n",
        "d. p<q or q<z\n",
        "```"
      ]
    },
    {
      "cell_type": "code",
      "execution_count": null,
      "metadata": {
        "colab": {
          "base_uri": "https://localhost:8080/"
        },
        "id": "iDwZD3ShWyEe",
        "outputId": "c7b0892f-4faf-4d46-9c82-c82678f70428"
      },
      "outputs": [
        {
          "name": "stdout",
          "output_type": "stream",
          "text": [
            "Enter Three Numbers:12,15,17\n"
          ]
        }
      ],
      "source": [
        "p,q,r=eval(input('Enter Three Numbers:'))"
      ]
    },
    {
      "cell_type": "code",
      "execution_count": null,
      "metadata": {
        "colab": {
          "base_uri": "https://localhost:8080/"
        },
        "id": "WurxaRDAW7gK",
        "outputId": "0900a977-7df6-490c-9446-e5e2d3d30f3d"
      },
      "outputs": [
        {
          "name": "stdout",
          "output_type": "stream",
          "text": [
            "False\n"
          ]
        }
      ],
      "source": [
        "print(p>q>r)"
      ]
    },
    {
      "cell_type": "code",
      "execution_count": null,
      "metadata": {
        "colab": {
          "base_uri": "https://localhost:8080/"
        },
        "id": "3oNyLEVSXKRJ",
        "outputId": "66042d1a-0c2b-4c8c-bc69-7b10438d57a6"
      },
      "outputs": [
        {
          "name": "stdout",
          "output_type": "stream",
          "text": [
            "True\n"
          ]
        }
      ],
      "source": [
        "print(p<q<r)"
      ]
    },
    {
      "cell_type": "code",
      "execution_count": null,
      "metadata": {
        "colab": {
          "base_uri": "https://localhost:8080/"
        },
        "id": "fNO86bkXXSBM",
        "outputId": "d2968ce7-0722-4ce2-cca0-6ae411f54035"
      },
      "outputs": [
        {
          "data": {
            "text/plain": [
              "True"
            ]
          },
          "execution_count": 38,
          "metadata": {},
          "output_type": "execute_result"
        }
      ],
      "source": [
        "p<q and q<r"
      ]
    },
    {
      "cell_type": "code",
      "execution_count": null,
      "metadata": {
        "colab": {
          "base_uri": "https://localhost:8080/"
        },
        "id": "pIBc736cXcQY",
        "outputId": "f0cf719f-d4cc-4a6e-be0e-3904c38a22b9"
      },
      "outputs": [
        {
          "data": {
            "text/plain": [
              "True"
            ]
          },
          "execution_count": 37,
          "metadata": {},
          "output_type": "execute_result"
        }
      ],
      "source": [
        "p<q or q<r"
      ]
    },
    {
      "cell_type": "markdown",
      "metadata": {
        "id": "sBOaPjxAnalI"
      },
      "source": [
        "# Control statements: if-else<br>\n",
        "\n",
        "Python supports various decision-making statements. These are:\n",
        " 1. if statements\n",
        " 2. if-else statements\n",
        " 3. Nested if statements\n",
        " 4. Multi-way if-elif-else statements\n",
        "\n",
        "\n",
        " # The if Statements\n",
        "The if statement executes a statement if a condition is true\n",
        "\n",
        "```\n",
        "if condition:\n",
        " statement(s)\n",
        "```\n",
        "\n",
        "\n"
      ]
    },
    {
      "cell_type": "code",
      "execution_count": null,
      "metadata": {
        "colab": {
          "base_uri": "https://localhost:8080/"
        },
        "id": "hX5xmzZrJXzi",
        "outputId": "b37aece8-c17d-44a1-c567-21b999ec760a"
      },
      "outputs": [
        {
          "name": "stdout",
          "output_type": "stream",
          "text": [
            "Enter the Number: 5\n"
          ]
        },
        {
          "data": {
            "text/plain": [
              "25"
            ]
          },
          "execution_count": 1,
          "metadata": {},
          "output_type": "execute_result"
        }
      ],
      "source": [
        "Number=eval(input(\"Enter the Number: \"))\n",
        "if Number>0:\n",
        " Number = Number * Number\n",
        "\n",
        "Number"
      ]
    },
    {
      "cell_type": "code",
      "execution_count": null,
      "metadata": {
        "colab": {
          "base_uri": "https://localhost:8080/"
        },
        "id": "ZUGpayRR9RXc",
        "outputId": "9f994e2d-9abb-49ef-f974-79be97481b30"
      },
      "outputs": [
        {
          "name": "stdout",
          "output_type": "stream",
          "text": [
            "Enter the Number: 8\n",
            "Number is even\n"
          ]
        }
      ],
      "source": [
        "Number=eval(input(\"Enter the Number: \"))\n",
        "if Number%2==0:\n",
        "  print(\"Number is even\")"
      ]
    },
    {
      "cell_type": "markdown",
      "metadata": {
        "id": "R7jysSBPJ0Yd"
      },
      "source": [
        "# The if-else Statement\n",
        "The if-else statement takes care of a true as well a false condition.\n",
        "\n",
        "```\n",
        "if condition:\n",
        " statement(s)\n",
        "else:\n",
        " statement(s)\n",
        "```\n",
        "\n"
      ]
    },
    {
      "cell_type": "code",
      "execution_count": null,
      "metadata": {
        "colab": {
          "base_uri": "https://localhost:8080/"
        },
        "id": "bNigWobE996j",
        "outputId": "e8dc2fd5-54fa-46b1-d6c6-0a7cd317a89b"
      },
      "outputs": [
        {
          "name": "stdout",
          "output_type": "stream",
          "text": [
            "Enter the Number: 8\n",
            "Number is even\n"
          ]
        }
      ],
      "source": [
        "Number=eval(input(\"Enter the Number: \"))\n",
        "if Number%2==0:\n",
        "  print(\"Number is even\")\n",
        "else:\n",
        "  print(\"Number is odd\")"
      ]
    },
    {
      "cell_type": "code",
      "execution_count": null,
      "metadata": {
        "colab": {
          "base_uri": "https://localhost:8080/"
        },
        "id": "kS3Ztb5mKEjG",
        "outputId": "174af520-eeee-48cc-9e80-712aa258468f"
      },
      "outputs": [
        {
          "name": "stdout",
          "output_type": "stream",
          "text": [
            "Enter the First Number:55\n",
            "Enter the Second Number:87\n",
            "87 is greater than  55\n"
          ]
        }
      ],
      "source": [
        "num1=int(input(\"Enter the First Number:\"))\n",
        "num2=int(input(\"Enter the Second Number:\"))\n",
        "if num1>num2:\n",
        " print(num1,\"is greater than \",num2)\n",
        "else:\n",
        " print(num2,\"is greater than \",num1)"
      ]
    },
    {
      "cell_type": "markdown",
      "metadata": {
        "id": "FswZcKNELlvI"
      },
      "source": [
        "# Nested if Statements\n",
        "When a programmer writes one if statement inside another if statement then it is called a nested if statement. \n",
        "\n",
        "A general syntax for nested if statements is given as follows:\n",
        "```\n",
        "if Boolean-expression1:\n",
        " if Boolean-expression2:\n",
        "  statement1\n",
        " else:\n",
        "  statement2\n",
        "else:\n",
        "  statement3\n",
        "```"
      ]
    },
    {
      "cell_type": "code",
      "execution_count": null,
      "metadata": {
        "colab": {
          "base_uri": "https://localhost:8080/"
        },
        "id": "DAe5vw7lME4S",
        "outputId": "834fc1c7-0baa-4d6b-ba0e-6b010fe9ba79"
      },
      "outputs": [
        {
          "name": "stdout",
          "output_type": "stream",
          "text": [
            "Enter the number:12\n",
            "Enter the number:54\n",
            "Enter the number:10\n",
            "54  is greater than  12 and 10\n",
            "End of Nested if\n"
          ]
        }
      ],
      "source": [
        "# Find the largest value in three number\n",
        "num1=int(input(\"Enter the number:\"))\n",
        "num2=int(input(\"Enter the number:\"))\n",
        "num3=int(input(\"Enter the number:\"))\n",
        "if num1>num2:\n",
        "  if num1>num3:\n",
        "    print(num1,\"is greater than \",num2,\"and \",num3)\n",
        "  else:\n",
        "    print(num3,\"is greater than \",num1,\"and \",num2)\n",
        "else:\n",
        "  if num2>num3:\n",
        "    print(num2,\" is greater than \",num1, \"and\",num3)\n",
        "  else:\n",
        "    print(num3,\"is greater than \",num1,\"and \",num2)\n",
        "print(\"End of Nested if\")"
      ]
    },
    {
      "cell_type": "markdown",
      "metadata": {
        "id": "tldLH4pTdv39"
      },
      "source": [
        "## Write a program to calculate the salary of a medical representative considering the sales bonus and incentives offered to him are based on the total sales. If the sales exceed or equal to Rs. 1,00,000 follow the particulars of Column 1, else follow Column 2.\n"
      ]
    },
    {
      "cell_type": "code",
      "execution_count": null,
      "metadata": {
        "colab": {
          "base_uri": "https://localhost:8080/"
        },
        "id": "7PtWuGvheFzD",
        "outputId": "6bf3f906-a503-4beb-e2f1-d3372c9aec36"
      },
      "outputs": [
        {
          "name": "stdout",
          "output_type": "stream",
          "text": [
            "Enter your sell values120000\n",
            "Thank you, this month your salary is : 22700.0\n"
          ]
        }
      ],
      "source": [
        "sell = int(input(\"Enter your sell values\"))\n",
        "Basic=4000\n",
        "Conveyance =500\n",
        "DA =Basic*1.10\n",
        "\n",
        "if sell>=100000:\n",
        "  Salary=Basic+Basic*0.20+ DA +Conveyance+sell*0.1+ 1000\n",
        "else:\n",
        "  Salary=Basic+Basic*0.10+ DA +Conveyance+sell*0.04+ 500\n",
        "\n",
        "print(\"Thank you, this month your salary is :\", Salary)\n"
      ]
    },
    {
      "cell_type": "code",
      "execution_count": null,
      "metadata": {
        "colab": {
          "base_uri": "https://localhost:8080/"
        },
        "id": "lg3sR31-ma_I",
        "outputId": "79e9d997-14cb-4e93-a430-5ded94e6390c"
      },
      "outputs": [
        {
          "name": "stdout",
          "output_type": "stream",
          "text": [
            "D\n"
          ]
        }
      ],
      "source": [
        "mark = 70\n",
        "if mark>90:\n",
        "  print(\"A\")\n",
        "elif mark>80:\n",
        "  print(\"B\")\n",
        "elif mark>70:\n",
        "  print(\"C\")\n",
        "elif mark>60:\n",
        "  print(\"D\")\n",
        "else:\n",
        "  print(\"F\")"
      ]
    },
    {
      "cell_type": "markdown",
      "metadata": {
        "id": "lMDXiCQPh-1d"
      },
      "source": [
        "https://www.hackerrank.com/challenges/30-conditional-statements/problem"
      ]
    },
    {
      "cell_type": "code",
      "execution_count": null,
      "metadata": {
        "colab": {
          "base_uri": "https://localhost:8080/"
        },
        "id": "qdNVFyTIiH8d",
        "outputId": "bfb3c82f-f7e0-41f6-8380-5a49125e2c6c"
      },
      "outputs": [
        {
          "name": "stdout",
          "output_type": "stream",
          "text": [
            "Enter n10\n",
            "Weird\n"
          ]
        }
      ],
      "source": [
        "n = int(input(\"Enter n\"))\n",
        "if n%2 != 0:\n",
        "  print(\"Weird\")\n",
        "elif n>=2 and n<=5:\n",
        "  print(\"Not Weird\")\n",
        "elif n>=6 and n<=20:\n",
        "  print(\"Weird\")\n",
        "else:\n",
        "  print(\"Not Weird\")"
      ]
    },
    {
      "cell_type": "markdown",
      "metadata": {
        "id": "oC2Qfhv7n4Wb"
      },
      "source": [
        "# Loop <br>\n",
        "## In a programming language, a loop is a statement that contains instructions that continually repeats until a certain condition is reached.\n",
        "\n",
        "\n",
        "1.   Loops help us remove the redundancy of code when a task has to be repeated several times. \n",
        "2.   List item\n",
        "\n",
        "## The three types of loops in Python programming are:\n",
        "\n",
        "1.   while loop\n",
        "2.   for loop\n",
        "3.   nested loops\n",
        "\n"
      ]
    },
    {
      "cell_type": "markdown",
      "metadata": {
        "id": "8NMTFgH8qpBV"
      },
      "source": [
        "# while loop<br>\n",
        "\n",
        "## It continually executes the statements(code) as long as the given condition is TRUE. It first checks the condition and then jumps into the instructions.\n",
        "\n",
        "Syntax:\n",
        "```\n",
        "while condition:\n",
        "   statements(code)\n",
        "```\n",
        "\n",
        "\n",
        "\n",
        "\n",
        "\n"
      ]
    },
    {
      "cell_type": "code",
      "execution_count": null,
      "metadata": {
        "colab": {
          "base_uri": "https://localhost:8080/"
        },
        "id": "AcIJ_2pJqn7B",
        "outputId": "4843fb73-5eb2-407f-e2cf-0478e0c17c2e"
      },
      "outputs": [
        {
          "name": "stdout",
          "output_type": "stream",
          "text": [
            "Hello, World!\n",
            "Hello, World!\n",
            "Hello, World!\n",
            "Hello, World!\n",
            "Hello, World!\n",
            "Loop Completed\n"
          ]
        }
      ],
      "source": [
        "#Example 1: Print the text “Hello, World!” 5 times.\n",
        "num_of_times = 1\n",
        "while num_of_times <= 5:\n",
        "  print(\"Hello, World!\")\n",
        "  num_of_times += 1\n",
        "print(\"Loop Completed\")"
      ]
    },
    {
      "cell_type": "code",
      "execution_count": null,
      "metadata": {
        "colab": {
          "base_uri": "https://localhost:8080/"
        },
        "id": "Yvrqix_Bqd_D",
        "outputId": "e19b2459-6f26-4f6d-9afe-33e088ad6bf3"
      },
      "outputs": [
        {
          "name": "stdout",
          "output_type": "stream",
          "text": [
            "Even Numbers list:  [1, 3, 5, 7, 9]\n"
          ]
        }
      ],
      "source": [
        "# Example 2: Create a list of all the even numbers between 1 and 10\n",
        "num = 1\n",
        "even_numbers = []\n",
        "while num <= 10:\n",
        "  if num % 2 == 0:\n",
        "    even_numbers .append(num)\n",
        "  num += 1\n",
        "print(\"Even Numbers list: \", even_numbers )"
      ]
    },
    {
      "cell_type": "markdown",
      "metadata": {
        "id": "X8oPiGKdthyW"
      },
      "source": [
        "# for loop<br>\n",
        "\n",
        "## A for loop is used to iterate over a sequence like lists, type, dictionaries, sets, or even strings.\n",
        "\n",
        "##Loop statements will be executed for each item of the sequence.\n",
        "\n",
        "*Syntax of for loop:*\n",
        "```\n",
        "for item in iterator:\n",
        "    statements(code)\n",
        "```"
      ]
    },
    {
      "cell_type": "code",
      "execution_count": null,
      "metadata": {
        "colab": {
          "base_uri": "https://localhost:8080/"
        },
        "id": "77LrTQ7tuGvu",
        "outputId": "8f329664-8bba-45a2-bb70-047bf9658821"
      },
      "outputs": [
        {
          "name": "stdout",
          "output_type": "stream",
          "text": [
            "Hello, World! 1\n",
            "Hello, World! 2\n",
            "Hello, World! 3\n",
            "Hello, World! 4\n",
            "Hello, World! 5\n"
          ]
        }
      ],
      "source": [
        "# Example 1: Print the text “Hello, World!” 5 times.\n",
        "list = [1, 2, 3, 4, 5]\n",
        "for num in list:\n",
        "    print(\"Hello, World!\", num)"
      ]
    },
    {
      "cell_type": "code",
      "execution_count": null,
      "metadata": {
        "colab": {
          "base_uri": "https://localhost:8080/"
        },
        "id": "6BhxCfDMPdYo",
        "outputId": "125d0d12-3bbc-4031-b22a-fd7ad353067f"
      },
      "outputs": [
        {
          "name": "stdout",
          "output_type": "stream",
          "text": [
            "11\n",
            "9\n",
            "7\n",
            "5\n",
            "3\n"
          ]
        }
      ],
      "source": [
        "a=range(11,1,-2)\n",
        "for i in a:\n",
        "  print(i)"
      ]
    },
    {
      "cell_type": "code",
      "execution_count": null,
      "metadata": {
        "colab": {
          "base_uri": "https://localhost:8080/"
        },
        "id": "bvi66WVMJgyL",
        "outputId": "472fb8d7-4b7c-4c06-b9ad-97df5431b5ab"
      },
      "outputs": [
        {
          "data": {
            "text/plain": [
              "range(1, 11)"
            ]
          },
          "execution_count": 10,
          "metadata": {},
          "output_type": "execute_result"
        }
      ],
      "source": [
        "a=range(1,11)\n",
        "a"
      ]
    },
    {
      "cell_type": "code",
      "execution_count": null,
      "metadata": {
        "colab": {
          "base_uri": "https://localhost:8080/"
        },
        "id": "0LUotVLJ7n8Z",
        "outputId": "74ff71c7-fb4f-4380-c093-634002985d5e"
      },
      "outputs": [
        {
          "name": "stdout",
          "output_type": "stream",
          "text": [
            "Even Numbers:  [2, 4, 6, 8, 10]\n"
          ]
        }
      ],
      "source": [
        "# Example 2: Create a list of all the even numbers between 1 and 10\n",
        "even_nums = []\n",
        "for i in range(1, 11):\n",
        "    if i % 2 == 0:\n",
        "        even_nums.append(i)\n",
        "print(\"Even Numbers: \", even_nums)"
      ]
    },
    {
      "cell_type": "code",
      "execution_count": null,
      "metadata": {
        "colab": {
          "base_uri": "https://localhost:8080/"
        },
        "id": "f9WLj8VTWXRk",
        "outputId": "1138623a-9aec-450c-a739-d59ac431e93d"
      },
      "outputs": [
        {
          "name": "stdout",
          "output_type": "stream",
          "text": [
            "Bhopal\n",
            "Indore\n",
            "Nagpur\n",
            "Jhansi\n",
            "Bhopal\n",
            "Indore\n",
            "Nagpur\n",
            "Jhansi\n"
          ]
        }
      ],
      "source": [
        "city = [\"Bhopal\",\"Indore\", \"Nagpur\", \"Jhansi\"]\n",
        "for i in city:\n",
        "  print(i)\n",
        "\n",
        "i = 0\n",
        "while i<len(city):\n",
        "  print(city[i])\n",
        "  i+=1"
      ]
    },
    {
      "cell_type": "code",
      "execution_count": null,
      "metadata": {
        "colab": {
          "base_uri": "https://localhost:8080/"
        },
        "id": "KSX2nfSd8XsC",
        "outputId": "5ac22fb3-eeb2-4b34-a005-f7f90341751f"
      },
      "outputs": [
        {
          "name": "stdout",
          "output_type": "stream",
          "text": [
            "iterator: dictionary\n",
            "loop: for\n",
            "operation: display dictionary elements\n",
            " dictionary\n",
            " for\n",
            " display dictionary elements\n"
          ]
        }
      ],
      "source": [
        "# Example 3: Display the items of a dictionary\n",
        "example = {\n",
        "    'iterator': 'dictionary',\n",
        "    'loop': 'for',\n",
        "    'operation': 'display dictionary elements'\n",
        "}\n",
        "for key in example:\n",
        "    print(f\"{key}: {example[key]}\")\n",
        "\n",
        "for val in example.values():\n",
        "    print(f\" {val}\")"
      ]
    },
    {
      "cell_type": "markdown",
      "metadata": {
        "id": "NSQUUSseN1cb"
      },
      "source": [
        "# Nested loops<br>\n",
        "## Nested loops mean using a loop inside another loop. We can use any type of loop inside any type of loop. We can use\n",
        "1. a while loop inside for loop, \n",
        "2. a for loop inside a while loop, \n",
        "3. a while loop inside a while loop, or \n",
        "4. a for loop inside a for  loop.\n",
        "\n",
        "\n"
      ]
    },
    {
      "cell_type": "code",
      "execution_count": null,
      "metadata": {
        "colab": {
          "base_uri": "https://localhost:8080/"
        },
        "id": "4H38JbObQ20R",
        "outputId": "e987d62b-d509-403e-b60e-46331671e8e0"
      },
      "outputs": [
        {
          "name": "stdout",
          "output_type": "stream",
          "text": [
            "Even Numbers:  [2, 4, 6, 8, 10]\n"
          ]
        }
      ],
      "source": [
        "# Example: Create a list of even numbers between 1 and 10\n",
        "\n",
        "even_list = []\n",
        "for item in range(1, 11):\n",
        "    while item % 2 == 0:\n",
        "        even_list.append(item)\n",
        "        break\n",
        "print(\"Even Numbers: \", even_list)"
      ]
    },
    {
      "cell_type": "code",
      "execution_count": null,
      "metadata": {
        "colab": {
          "base_uri": "https://localhost:8080/"
        },
        "id": "hRRPSaN8KogD",
        "outputId": "252e3162-a04a-4c30-caff-044a1510fb7f"
      },
      "outputs": [
        {
          "name": "stdout",
          "output_type": "stream",
          "text": [
            "1 2 3 \n",
            "2 4 6 \n",
            "3 6 9 \n"
          ]
        }
      ],
      "source": [
        "for i in [1,2,3]:\n",
        "  for j in [1,2,3]:\n",
        "    print(i*j,end=\" \")\n",
        "  print()"
      ]
    },
    {
      "cell_type": "code",
      "execution_count": null,
      "metadata": {
        "colab": {
          "base_uri": "https://localhost:8080/"
        },
        "id": "_9eA6mOOQpJb",
        "outputId": "59fac29b-1dcf-42a4-eb17-82b9f581b4c3"
      },
      "outputs": [
        {
          "name": "stdout",
          "output_type": "stream",
          "text": [
            "[[1, 2, 3, 4], [4, 5, 6, 4], [7, 8, 9, 4]]\n"
          ]
        }
      ],
      "source": [
        "matrix = [[1,2,3,4],[4,5,6,4],[7,8,9,4]]\n",
        "print(matrix)"
      ]
    },
    {
      "cell_type": "code",
      "execution_count": null,
      "metadata": {
        "colab": {
          "base_uri": "https://localhost:8080/"
        },
        "id": "e39YKtGsRicO",
        "outputId": "c76e5e58-3db7-4a5c-aaaf-4fdd4e5a5662"
      },
      "outputs": [
        {
          "name": "stdout",
          "output_type": "stream",
          "text": [
            "3\n",
            "4\n"
          ]
        }
      ],
      "source": [
        "print(len(matrix))\n",
        "print(len(matrix[0]))"
      ]
    },
    {
      "cell_type": "code",
      "execution_count": null,
      "metadata": {
        "colab": {
          "base_uri": "https://localhost:8080/"
        },
        "id": "1MWuo-NGRPak",
        "outputId": "54f5c06b-6841-434d-dcfc-607ee11ae318"
      },
      "outputs": [
        {
          "name": "stdout",
          "output_type": "stream",
          "text": [
            "[1, 2, 3, 4]\n",
            "[4, 5, 6, 4]\n",
            "[7, 8, 9, 4]\n"
          ]
        }
      ],
      "source": [
        "i=0\n",
        "while i<len(matrix):  \n",
        "  print(matrix[i])  \n",
        "  i+=1"
      ]
    },
    {
      "cell_type": "code",
      "execution_count": null,
      "metadata": {
        "colab": {
          "base_uri": "https://localhost:8080/"
        },
        "id": "oSlgrpwDTnzy",
        "outputId": "c98b3e82-e682-42e9-d861-5312b24a79ae"
      },
      "outputs": [
        {
          "name": "stdout",
          "output_type": "stream",
          "text": [
            "[2, 4, 6, 8]\n",
            "[8, 10, 12, 8]\n",
            "[14, 16, 18, 8]\n"
          ]
        }
      ],
      "source": [
        "# addition of matrix\n",
        "i=0\n",
        "while i<len(matrix): \n",
        "  j=0\n",
        "  while j<len(matrix[0]):\n",
        "    matrix[i][j]=matrix[i][j]+matrix[i][j]\n",
        "    j+=1\n",
        "  print(matrix[i])  \n",
        "  i+=1"
      ]
    },
    {
      "cell_type": "markdown",
      "metadata": {
        "id": "vA2FETRkLi_J"
      },
      "source": [
        "Write a Program for squre matrix multiplication (#row == #column)"
      ]
    },
    {
      "cell_type": "markdown",
      "metadata": {
        "id": "BfUV6AnzTYrY"
      },
      "source": [
        "# Loop Control Statements\n",
        "## Loop control statements are used to change the flow of execution. These can be used if you wish to skip an iteration or stop the execution.\n",
        "\n",
        "## The three types of loop control statements are:\n",
        "\n",
        "1. break statement\n",
        "2. continue statement\n",
        "3. pass statement"
      ]
    },
    {
      "cell_type": "code",
      "execution_count": null,
      "metadata": {
        "colab": {
          "base_uri": "https://localhost:8080/"
        },
        "id": "L-QetXjEYm56",
        "outputId": "8b91e5f9-239b-42e5-dd5b-deaf40a2c8ea"
      },
      "outputs": [
        {
          "name": "stdout",
          "output_type": "stream",
          "text": [
            "Odd numbers:  [1, 3, 5, 7, 9, 11, 13, 15, 17, 19]\n"
          ]
        }
      ],
      "source": [
        "# Example: Create a list of the odd numbers between 1 and 20 (use while, break)\n",
        "\n",
        "num = 1\n",
        "odd_nums = []\n",
        "while num:\n",
        "    if num % 2 != 0:\n",
        "        odd_nums.append(num)\n",
        "    if num >=20:\n",
        "        break\n",
        "    num += 1\n",
        "print(\"Odd numbers: \", odd_nums)"
      ]
    },
    {
      "cell_type": "code",
      "execution_count": null,
      "metadata": {
        "colab": {
          "base_uri": "https://localhost:8080/"
        },
        "id": "LJ95Um5EE2--",
        "outputId": "489f68f3-8e66-4906-82ca-cbd801128bd6"
      },
      "outputs": [
        {
          "name": "stdout",
          "output_type": "stream",
          "text": [
            "Number:  1\n",
            "Number:  3\n",
            "Number:  4\n",
            "Number:  5\n",
            "Number:  6\n",
            "Number:  7\n",
            "Number:  8\n",
            "Number:  9\n",
            "Number:  10\n"
          ]
        }
      ],
      "source": [
        "for num in range(1, 11):\n",
        "  if num is 2:\n",
        "    pass # Pass statement\n",
        "  else:\n",
        "    print (\"Number: \", num)"
      ]
    },
    {
      "cell_type": "code",
      "execution_count": null,
      "metadata": {
        "id": "9pu6IejSF8UA"
      },
      "outputs": [],
      "source": [
        "def display(number):\n",
        "  \n",
        "  if number is 2:\n",
        "    pass # Pass statement as Cotinue can not be used\n",
        "  else:\n",
        "    print (\"Number: \", number)"
      ]
    },
    {
      "cell_type": "code",
      "execution_count": null,
      "metadata": {
        "colab": {
          "base_uri": "https://localhost:8080/"
        },
        "id": "IxlBR9ufF-Ip",
        "outputId": "8ab4007a-f76b-4ad2-812b-b06d179e86be"
      },
      "outputs": [
        {
          "name": "stdout",
          "output_type": "stream",
          "text": [
            "Number:  3\n"
          ]
        }
      ],
      "source": [
        "display(3)"
      ]
    },
    {
      "cell_type": "code",
      "execution_count": null,
      "metadata": {
        "id": "52zqsdlUGEcy"
      },
      "outputs": [],
      "source": [
        "display(2)"
      ]
    },
    {
      "cell_type": "code",
      "execution_count": null,
      "metadata": {
        "colab": {
          "base_uri": "https://localhost:8080/"
        },
        "id": "Pxih0jMbcsfV",
        "outputId": "d4e6ee01-33bb-4cf6-95f4-7802d744d627"
      },
      "outputs": [
        {
          "name": "stdout",
          "output_type": "stream",
          "text": [
            "1\n",
            "3\n",
            "5\n",
            "7\n",
            "9\n"
          ]
        }
      ],
      "source": [
        "# Example: Print odd number 1 to 10\n",
        "\n",
        "for num in range(1, 11):\n",
        "    if num %2 == 0:\n",
        "        continue\n",
        "    else:\n",
        "        print(num)\n",
        "        "
      ]
    },
    {
      "cell_type": "markdown",
      "metadata": {
        "id": "4Iyk32bJGple"
      },
      "source": [
        "<h2>Write a program to display the pattern of stars given as follows<br>\n",
        "\n",
        "```\n",
        "*  *  *  *  *\n",
        "*  *  *  *  \n",
        "*  *  * \n",
        "*  *\n",
        "*\n",
        "```"
      ]
    },
    {
      "cell_type": "code",
      "execution_count": null,
      "metadata": {
        "colab": {
          "base_uri": "https://localhost:8080/"
        },
        "id": "Kike4O4FGj6K",
        "outputId": "5e476cba-38f1-484f-f44a-4162d6361da0"
      },
      "outputs": [
        {
          "name": "stdout",
          "output_type": "stream",
          "text": [
            "* * * * * \r\n",
            "* * * * \r\n",
            "* * * \r\n",
            "* * \r\n",
            "* \r\n"
          ]
        }
      ],
      "source": [
        "for i in range(5,0,-1):\n",
        "  for j in range(0,i):\n",
        "    print(\"*\",end = \" \")\n",
        "  print(\"\\r\")"
      ]
    },
    {
      "cell_type": "code",
      "execution_count": null,
      "metadata": {
        "colab": {
          "base_uri": "https://localhost:8080/"
        },
        "id": "CAodgE6MIov4",
        "outputId": "b70a555d-928c-49de-eda9-0227258007c4"
      },
      "outputs": [
        {
          "name": "stdout",
          "output_type": "stream",
          "text": [
            "* * * * * \n",
            "* * * * \n",
            "* * * \n",
            "* * \n",
            "* \n"
          ]
        }
      ],
      "source": [
        "for i in range(5,0,-1):\n",
        "  print(\"* \"*i)\n",
        "  "
      ]
    },
    {
      "cell_type": "markdown",
      "metadata": {
        "id": "xY8GAtfeJ-x1"
      },
      "source": [
        "<h2>Write a program to display the pattern of stars given as follows<br>\n",
        "\n",
        "```\n",
        "*\n",
        "*  *\n",
        "*  *  *\n",
        "*  *  *  *\n",
        "*  *  *  *  *\n",
        "*  *  *  *  \n",
        "*  *  * \n",
        "*  *\n",
        "*\n",
        "```"
      ]
    },
    {
      "cell_type": "code",
      "execution_count": null,
      "metadata": {
        "colab": {
          "base_uri": "https://localhost:8080/"
        },
        "id": "zoOZ2MAsKP1m",
        "outputId": "20d72392-5ffb-4e9f-84b6-df6b5fcb7a1a"
      },
      "outputs": [
        {
          "name": "stdout",
          "output_type": "stream",
          "text": [
            "* \r\n",
            "* * \r\n",
            "* * * \r\n",
            "* * * * \r\n",
            "* * * * * \r\n",
            "* * * * \r\n",
            "* * * \r\n",
            "* * \r\n",
            "* \r\n"
          ]
        }
      ],
      "source": [
        "i = 1\n",
        "while i < 10:\n",
        "  j=1\n",
        "  while j<=i and i<=5:\n",
        "    print(\"*\",end = \" \")\n",
        "    j+=1\n",
        "  while j<=10-i and i>5:\n",
        "    print(\"*\",end = \" \")\n",
        "    j+=1\n",
        "  print(\"\\r\")\n",
        "  i+=1\n",
        "\n"
      ]
    },
    {
      "cell_type": "code",
      "execution_count": null,
      "metadata": {
        "colab": {
          "base_uri": "https://localhost:8080/"
        },
        "id": "GP9XkXQTMH-z",
        "outputId": "ce67f6ba-98fd-4c51-ef32-5144accb6270"
      },
      "outputs": [
        {
          "name": "stdout",
          "output_type": "stream",
          "text": [
            "9\n",
            "* \n",
            "* * \n",
            "* * * \n",
            "* * * * \n",
            "* * * * * \n",
            "* * * * \n",
            "* * * \n",
            "* * \n",
            "* \n"
          ]
        }
      ],
      "source": [
        "n = int(input())\n",
        "i = 1\n",
        "while (i <= n//2 + 1 ):\n",
        "    print(\"* \"*i)\n",
        "    i += 1\n",
        "i -= 2\n",
        "while (i>0):\n",
        "    print(\"* \"*i)\n",
        "    i -= 1"
      ]
    },
    {
      "cell_type": "code",
      "execution_count": null,
      "metadata": {
        "id": "0CO0l9RehDIv"
      },
      "outputs": [],
      "source": []
    },
    {
      "cell_type": "markdown",
      "metadata": {
        "id": "paLJfCbDeuzb"
      },
      "source": [
        "# Exception Handling \n",
        "Python indicates errors and exceptional conditions by raising exceptions, although some third-party Python libraries use more old-fashioned techniques,\n",
        "such as “error” return values.\n",
        "\n",
        "Exceptions are caught using try … except blocks, whose general syntax is:\n",
        "```\n",
        "try:\n",
        "  try_suite\n",
        "except exception_group1 as variable1:\n",
        "  except_suite1 \n",
        "…\n",
        "except exception_groupN as variableN:\n",
        "  except_suiteN\n",
        "else:\n",
        "  else_suite\n",
        "finally:\n",
        "    finally_suite\n",
        "```\n",
        "\n",
        "There must be at least one except block, but both the else and the finally\n",
        "blocks are optional. \n",
        "<br>The else block’s suite is executed when the try block’s suite has finished normally—but it is not executed if an exception occurs. \n",
        "<br>If there is a finally block, it is always executed at the end.\n",
        "\n",
        "![Capture.PNG](data:image/png;base64,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)"
      ]
    },
    {
      "cell_type": "code",
      "execution_count": null,
      "metadata": {
        "colab": {
          "base_uri": "https://localhost:8080/"
        },
        "id": "yQ6LfEAthHfU",
        "outputId": "c04a6711-b216-4512-c50c-84620d00aaf9"
      },
      "outputs": [
        {
          "name": "stdout",
          "output_type": "stream",
          "text": [
            "Lookup error occurred\n"
          ]
        }
      ],
      "source": [
        "d={1: \"ashok\",2:\"lokesh\"}\n",
        "try:\n",
        "  x = d[5]\n",
        "except LookupError: # WRONG ORDER\n",
        "  print(\"Lookup error occurred\")\n",
        "except KeyError:\n",
        "  print(\"Invalid key used\")"
      ]
    },
    {
      "cell_type": "code",
      "execution_count": null,
      "metadata": {
        "colab": {
          "base_uri": "https://localhost:8080/"
        },
        "id": "Eh_jFAy9hmmR",
        "outputId": "75914966-d58d-4898-caa6-49ae7bff0548"
      },
      "outputs": [
        {
          "name": "stdout",
          "output_type": "stream",
          "text": [
            "Invalid key used\n"
          ]
        }
      ],
      "source": [
        "#e={1: \"ashok\",2:\"lokesh\"}\n",
        "e=[1,2,3]\n",
        "try:\n",
        "  y = e[5]\n",
        "except KeyError:\n",
        "  print(\"Invalid key used\")\n",
        "except LookupError: \n",
        "  print(\"Lookup error occurred\")"
      ]
    },
    {
      "cell_type": "markdown",
      "metadata": {
        "id": "DEOaLghWF3NX"
      },
      "source": [
        "# Function\n",
        "Functions are a means by which we can package up and parameterize functionality. \n",
        "<br><br>Four kinds of functions can be created in Python: \n",
        "<ol>\n",
        "<li>global functions, \n",
        "<li>local functions, \n",
        "<li>lambda functions, and \n",
        "<li>methods.\n",
        "</ol>\n",
        "\n",
        "\n",
        "<dl>\n",
        "  <dt>Global functions:</dt>\n",
        "  <dd>- Every function we have created so far has been a global function. Global\n",
        "objects (including functions) are accessible to any code in the same module\n",
        "(i.e., the same .py file) in which the object is created.</dd>\n",
        "  <dt>Local functions:</dt>\n",
        "  <dd>- Local functions (also called nested functions) are functions that are defined inside other functions. These functions are visible only to the function where they are defined; they are especially useful for creating small helper functions that have no use elsewhere.</dd>\n",
        "  <dt>Lambda functions:</dt>\n",
        "  <dd>- Lambda functions are expressions, so they can be created at their point of use; however, they are much more limited than normal functions.</dd>\n",
        "  <dt>Methods:</dt>\n",
        "  <dd>- Methods are functions that are associated with a particular data type and can be used only in conjunction with the data type</dd>\n",
        "</dl>\n",
        "\n",
        "\n",
        "\n",
        "\n",
        "The general syntax for creating a (global or local) function is:\n",
        "```\n",
        "def functionName(parameters):\n",
        "  suite\n",
        "```\n",
        "\n",
        "The parameters are optional, and if there is more than one they are written as a sequence of comma-separated identifiers i.e. (a, b, c), or as a sequence of identifier=value pairs i.e. (a, b=1, c=2)\n",
        "\n",
        "Note:<i> The parameter syntax does not permit us to follow parameters with default values with parameters that don’t have defaults i.e. (a, b=1, c)</i>"
      ]
    },
    {
      "cell_type": "code",
      "execution_count": null,
      "metadata": {
        "id": "uHlZIW2EIjYc"
      },
      "outputs": [],
      "source": [
        "# A function that calculates the area of a triangle using Heron’s formula:\n",
        "import math\n",
        "def heron(a, b, c):\n",
        "  s = (a + b + c) / 2\n",
        "  return math.sqrt(s * (s - a) * (s - b) * (s - c))\n",
        "\n"
      ]
    },
    {
      "cell_type": "code",
      "execution_count": null,
      "metadata": {
        "colab": {
          "base_uri": "https://localhost:8080/"
        },
        "id": "ZNy_f-Y4I1Nb",
        "outputId": "9ce11300-e8cc-4540-9dc3-ae3f44f9632d"
      },
      "outputs": [
        {
          "data": {
            "text/plain": [
              "2.9047375096555625"
            ]
          },
          "execution_count": 4,
          "metadata": {},
          "output_type": "execute_result"
        }
      ],
      "source": [
        "heron(2, 3,  4)"
      ]
    },
    {
      "cell_type": "code",
      "execution_count": null,
      "metadata": {
        "colab": {
          "base_uri": "https://localhost:8080/"
        },
        "id": "g-3_hr3bXEDe",
        "outputId": "567e4a16-be25-4faa-decf-49d7a4f07dfa"
      },
      "outputs": [
        {
          "data": {
            "text/plain": [
              "3.0"
            ]
          },
          "execution_count": 5,
          "metadata": {},
          "output_type": "execute_result"
        }
      ],
      "source": [
        "math.sqrt(-9)"
      ]
    },
    {
      "cell_type": "code",
      "execution_count": null,
      "metadata": {
        "colab": {
          "base_uri": "https://localhost:8080/",
          "height": 165
        },
        "id": "dTNtY6o3JD3i",
        "outputId": "39a18a48-ad1c-4749-d7ac-5a7406022d89"
      },
      "outputs": [
        {
          "ename": "TypeError",
          "evalue": "ignored",
          "output_type": "error",
          "traceback": [
            "\u001b[0;31m---------------------------------------------------------------------------\u001b[0m",
            "\u001b[0;31mTypeError\u001b[0m                                 Traceback (most recent call last)",
            "\u001b[0;32m<ipython-input-34-351df1bd8474>\u001b[0m in \u001b[0;36m<module>\u001b[0;34m()\u001b[0m\n\u001b[0;32m----> 1\u001b[0;31m \u001b[0mheron\u001b[0m\u001b[0;34m(\u001b[0m\u001b[0;36m3\u001b[0m\u001b[0;34m,\u001b[0m \u001b[0;36m4\u001b[0m\u001b[0;34m)\u001b[0m \u001b[0;31m#  If we give too few or too many arguments, a TypeError exception will be raised\u001b[0m\u001b[0;34m\u001b[0m\u001b[0;34m\u001b[0m\u001b[0m\n\u001b[0m",
            "\u001b[0;31mTypeError\u001b[0m: heron() missing 1 required positional argument: 'c'"
          ]
        }
      ],
      "source": [
        "heron(3, 4) #  If we give too few or too many arguments, a TypeError exception will be raised"
      ]
    },
    {
      "cell_type": "markdown",
      "metadata": {
        "id": "5NiLZU2WJzAt"
      },
      "source": [
        "Every function in Python returns a value, although it is perfectly acceptable\n",
        "(and common) to ignore the return value. \n",
        "<br>The return value is either a single value or a tuple of values, and the values returned can be collections, so there are no practical limitations on what we can return. \n",
        "<br>We can leave a function at any point by using the return statement. \n",
        "<br>If we use return with no arguments, or if we don’t have a return statement at all, the function will return None."
      ]
    },
    {
      "cell_type": "code",
      "execution_count": null,
      "metadata": {
        "id": "t5N7ff7ZX1tv"
      },
      "outputs": [],
      "source": [
        "def testreturn():\n",
        "  print(\"without return\")\n",
        "  "
      ]
    },
    {
      "cell_type": "code",
      "execution_count": null,
      "metadata": {
        "colab": {
          "base_uri": "https://localhost:8080/"
        },
        "id": "vbtP8VrJYCEU",
        "outputId": "c11a41c1-ba89-42bb-ce9e-9296183ddef6"
      },
      "outputs": [
        {
          "name": "stdout",
          "output_type": "stream",
          "text": [
            "without return\n"
          ]
        }
      ],
      "source": [
        "testreturn()"
      ]
    },
    {
      "cell_type": "code",
      "execution_count": null,
      "metadata": {
        "id": "j9vZdYkaJX6n"
      },
      "outputs": [],
      "source": [
        "# Some functions have parameters for which there can be a sensible default\n",
        "# Here is a function that counts the letters in a string, defaulting to the ASCII letters:\n",
        "\n",
        "import string\n",
        "\n",
        "def letter_count(text, letters=string.ascii_letters):\n",
        "  letters = frozenset(letters) #The frozenset() is an inbuilt function in Python which takes an iterable object as input and makes them immutable. \n",
        "  count = 0\n",
        "  for char in text:\n",
        "    if char in letters:\n",
        "      count += 1\n",
        "  return count"
      ]
    },
    {
      "cell_type": "code",
      "execution_count": null,
      "metadata": {
        "colab": {
          "base_uri": "https://localhost:8080/",
          "height": 35
        },
        "id": "qkv5PpMlJtqj",
        "outputId": "5035bd14-0e4b-4eab-fe63-7cbb5d2526b7"
      },
      "outputs": [
        {
          "data": {
            "application/vnd.google.colaboratory.intrinsic+json": {
              "type": "string"
            },
            "text/plain": [
              "'abcdefghijklmnopqrstuvwxyzABCDEFGHIJKLMNOPQRSTUVWXYZ'"
            ]
          },
          "execution_count": 5,
          "metadata": {},
          "output_type": "execute_result"
        }
      ],
      "source": [
        "string.ascii_letters"
      ]
    },
    {
      "cell_type": "code",
      "execution_count": null,
      "metadata": {
        "colab": {
          "base_uri": "https://localhost:8080/"
        },
        "id": "bg1NT3AeM77_",
        "outputId": "832eaace-6938-4699-81f6-9e19b13ea1d2"
      },
      "outputs": [
        {
          "data": {
            "text/plain": [
              "14"
            ]
          },
          "execution_count": 12,
          "metadata": {},
          "output_type": "execute_result"
        }
      ],
      "source": [
        "letter_count(\"Maggie and Hopey\")"
      ]
    },
    {
      "cell_type": "code",
      "execution_count": null,
      "metadata": {
        "colab": {
          "base_uri": "https://localhost:8080/"
        },
        "id": "TWyV1EWnZbxC",
        "outputId": "1a9c04f4-eb99-4d0f-f0e0-7ce290e2a624"
      },
      "outputs": [
        {
          "data": {
            "text/plain": [
              "16"
            ]
          },
          "execution_count": 17,
          "metadata": {},
          "output_type": "execute_result"
        }
      ],
      "source": [
        "len(\"Maggie and Hopey\")"
      ]
    },
    {
      "cell_type": "code",
      "execution_count": null,
      "metadata": {
        "colab": {
          "base_uri": "https://localhost:8080/"
        },
        "id": "s26p29j_NEq1",
        "outputId": "f7074b0e-b545-42c5-d070-dc8fd8ade5b1"
      },
      "outputs": [
        {
          "data": {
            "text/plain": [
              "6"
            ]
          },
          "execution_count": 13,
          "metadata": {},
          "output_type": "execute_result"
        }
      ],
      "source": [
        "letter_count(\"Maggie and Hopey\", \"aeiouAEIOU\") # can still change the default, by using an extra positional argument"
      ]
    },
    {
      "cell_type": "code",
      "execution_count": null,
      "metadata": {
        "colab": {
          "base_uri": "https://localhost:8080/"
        },
        "id": "WNX4IDZPNcfl",
        "outputId": "6aa69ffc-07d3-4b54-c4b0-6774bbda9e05"
      },
      "outputs": [
        {
          "data": {
            "text/plain": [
              "6"
            ]
          },
          "execution_count": 15,
          "metadata": {},
          "output_type": "execute_result"
        }
      ],
      "source": [
        "letter_count(letters=\"aeiouAEIOU\", text= \"Maggie and Hopey\") # can still change the default, by using an extra keyword argument"
      ]
    },
    {
      "cell_type": "code",
      "execution_count": null,
      "metadata": {
        "id": "0DFOKG58P2PJ"
      },
      "outputs": [],
      "source": [
        "# Here is a tiny function that returns the string it is given, or \n",
        "# if it is longer than the specified length, it returns a shortened version with an indicator added:\n",
        "def shorten(text, length=25, indicator=\"...\"):\n",
        "  if len(text) > length:\n",
        "    text = text[:length - len(indicator)] + indicator\n",
        "  return text"
      ]
    },
    {
      "cell_type": "code",
      "execution_count": null,
      "metadata": {
        "colab": {
          "base_uri": "https://localhost:8080/",
          "height": 35
        },
        "id": "TFevDDL_QD3K",
        "outputId": "bf301859-ffed-478b-8718-9bad58bf2dde"
      },
      "outputs": [
        {
          "data": {
            "application/vnd.google.colaboratory.intrinsic+json": {
              "type": "string"
            },
            "text/plain": [
              "'The Silkie'"
            ]
          },
          "execution_count": 17,
          "metadata": {},
          "output_type": "execute_result"
        }
      ],
      "source": [
        "  shorten(\"The Silkie\")"
      ]
    },
    {
      "cell_type": "code",
      "execution_count": null,
      "metadata": {
        "colab": {
          "base_uri": "https://localhost:8080/",
          "height": 35
        },
        "id": "U4SZPy7xddkQ",
        "outputId": "4481e79e-5ef3-46df-c604-f6f37bea67d9"
      },
      "outputs": [
        {
          "data": {
            "application/vnd.google.colaboratory.intrinsic+json": {
              "type": "string"
            },
            "text/plain": [
              "'if it is longer than t...'"
            ]
          },
          "execution_count": 18,
          "metadata": {},
          "output_type": "execute_result"
        }
      ],
      "source": [
        "shorten(\"if it is longer than the specified length, it returns a shortened version with an indicator added\")"
      ]
    },
    {
      "cell_type": "code",
      "execution_count": null,
      "metadata": {
        "colab": {
          "base_uri": "https://localhost:8080/",
          "height": 35
        },
        "id": "Sk-5tHegQJOp",
        "outputId": "d7dc9ed5-7607-4f73-afd5-ef49dbcb11ee"
      },
      "outputs": [
        {
          "data": {
            "application/vnd.google.colaboratory.intrinsic+json": {
              "type": "string"
            },
            "text/plain": [
              "'The Si...'"
            ]
          },
          "execution_count": 19,
          "metadata": {},
          "output_type": "execute_result"
        }
      ],
      "source": [
        "shorten(length=9, text=\"The Silkie\")"
      ]
    },
    {
      "cell_type": "code",
      "execution_count": null,
      "metadata": {
        "colab": {
          "base_uri": "https://localhost:8080/",
          "height": 35
        },
        "id": "Pt43fed4QWoI",
        "outputId": "b49f04db-f223-46db-dea1-2b7842965816"
      },
      "outputs": [
        {
          "data": {
            "application/vnd.google.colaboratory.intrinsic+json": {
              "type": "string"
            },
            "text/plain": [
              "'The Si&'"
            ]
          },
          "execution_count": 23,
          "metadata": {},
          "output_type": "execute_result"
        }
      ],
      "source": [
        "shorten(\"The Silkie\", indicator=\"&\", length=7)"
      ]
    },
    {
      "cell_type": "code",
      "execution_count": null,
      "metadata": {
        "colab": {
          "base_uri": "https://localhost:8080/",
          "height": 35
        },
        "id": "VNafc_rzQaqA",
        "outputId": "643fe373-6d86-4dca-fb73-5b4458e9e3a4"
      },
      "outputs": [
        {
          "data": {
            "application/vnd.google.colaboratory.intrinsic+json": {
              "type": "string"
            },
            "text/plain": [
              "'The Si&'"
            ]
          },
          "execution_count": 43,
          "metadata": {},
          "output_type": "execute_result"
        }
      ],
      "source": [
        "shorten(\"The Silkie\", 7, \"&\")"
      ]
    },
    {
      "cell_type": "markdown",
      "metadata": {
        "id": "AuXnJ7WPQ9Fo"
      },
      "source": [
        "The careful use of default values can simplify our code and make calls much cleaner. \n",
        "<br><br>Recall that the built-in open()function has one mandatory argument i.e. open(filename), and six optional arguments i.e. open(filename, \"r\", None, \"utf8\", None, None, True).\n",
        "<br><br>When default values are given they are created at the time the def statement is executed (i.e., when the function is created), not when the function is called.\n",
        "<br><br>For immutable arguments like numbers and strings this doesn’t make any\n",
        "difference, but for mutable arguments a subtle trap is lurking."
      ]
    },
    {
      "cell_type": "code",
      "execution_count": null,
      "metadata": {
        "id": "4F9xlWAUUAEB"
      },
      "outputs": [],
      "source": [
        "def append_if_even(x, lst=[]): # WRONG!\n",
        "  if x % 2 == 0:\n",
        "    lst.append(x)\n",
        "  return lst"
      ]
    },
    {
      "cell_type": "code",
      "execution_count": null,
      "metadata": {
        "colab": {
          "base_uri": "https://localhost:8080/"
        },
        "id": "qIJ6ctMLUUDf",
        "outputId": "a9c489d8-a7c5-4fd2-9cf1-10d44c1fe46a"
      },
      "outputs": [
        {
          "data": {
            "text/plain": [
              "[4, 4, 6]"
            ]
          },
          "execution_count": 27,
          "metadata": {},
          "output_type": "execute_result"
        }
      ],
      "source": [
        "x=append_if_even(6)  #  the default list will be the one that was created at the same time as the function itself—so\n",
        "                           #no new list is created\n",
        "x"
      ]
    },
    {
      "cell_type": "code",
      "execution_count": null,
      "metadata": {
        "colab": {
          "base_uri": "https://localhost:8080/"
        },
        "id": "hX7pHAcRUcGj",
        "outputId": "0f90801b-0136-46eb-d179-ccf43fe0187e"
      },
      "outputs": [
        {
          "data": {
            "text/plain": [
              "[4, 4, 6, 4]"
            ]
          },
          "execution_count": 28,
          "metadata": {},
          "output_type": "execute_result"
        }
      ],
      "source": [
        "y=append_if_even(4)\n",
        "y"
      ]
    },
    {
      "cell_type": "code",
      "execution_count": null,
      "metadata": {
        "colab": {
          "base_uri": "https://localhost:8080/"
        },
        "id": "7WUALvAuWwzh",
        "outputId": "648607f7-083b-4925-d98e-7ce9addb73c0"
      },
      "outputs": [
        {
          "data": {
            "text/plain": [
              "True"
            ]
          },
          "execution_count": 29,
          "metadata": {},
          "output_type": "execute_result"
        }
      ],
      "source": [
        "x is y"
      ]
    },
    {
      "cell_type": "code",
      "execution_count": null,
      "metadata": {
        "colab": {
          "base_uri": "https://localhost:8080/"
        },
        "id": "tUHqMtbdfoGt",
        "outputId": "49376a95-cd9e-4bed-f2d9-013e6771ca3e"
      },
      "outputs": [
        {
          "data": {
            "text/plain": [
              "[4, 4, 6, 4]"
            ]
          },
          "execution_count": 30,
          "metadata": {},
          "output_type": "execute_result"
        }
      ],
      "source": [
        "x"
      ]
    },
    {
      "cell_type": "code",
      "execution_count": null,
      "metadata": {
        "id": "L-nNnazkVSSB"
      },
      "outputs": [],
      "source": [
        "def append_if_even1(x, lst=None):\n",
        "  if lst is None:\n",
        "    lst = []\n",
        "  if x % 2 == 0:\n",
        "    lst.append(x)\n",
        "  return lst"
      ]
    },
    {
      "cell_type": "code",
      "execution_count": null,
      "metadata": {
        "colab": {
          "base_uri": "https://localhost:8080/"
        },
        "id": "glzi0Sd_WTBf",
        "outputId": "fcd303bb-fe53-4a82-e523-2f0464d95c20"
      },
      "outputs": [
        {
          "data": {
            "text/plain": [
              "[4]"
            ]
          },
          "execution_count": 33,
          "metadata": {},
          "output_type": "execute_result"
        }
      ],
      "source": [
        "x= append_if_even1(4)\n",
        "x"
      ]
    },
    {
      "cell_type": "code",
      "execution_count": null,
      "metadata": {
        "colab": {
          "base_uri": "https://localhost:8080/"
        },
        "id": "eFXWCQd6VeXS",
        "outputId": "9fc69e67-e774-497d-96dd-034c43983ba0"
      },
      "outputs": [
        {
          "data": {
            "text/plain": [
              "[4]"
            ]
          },
          "execution_count": 34,
          "metadata": {},
          "output_type": "execute_result"
        }
      ],
      "source": [
        "y= append_if_even1(4)\n",
        "y"
      ]
    },
    {
      "cell_type": "code",
      "execution_count": null,
      "metadata": {
        "colab": {
          "base_uri": "https://localhost:8080/"
        },
        "id": "Dlvf_6W_XPGA",
        "outputId": "9086c81f-c8e9-4eb6-e43b-c9f1bc1307d3"
      },
      "outputs": [
        {
          "data": {
            "text/plain": [
              "False"
            ]
          },
          "execution_count": 35,
          "metadata": {},
          "output_type": "execute_result"
        }
      ],
      "source": [
        "x is y"
      ]
    },
    {
      "cell_type": "code",
      "execution_count": null,
      "metadata": {
        "colab": {
          "base_uri": "https://localhost:8080/"
        },
        "id": "KYVayaroCWad",
        "outputId": "2116c1b4-0dd5-4f29-867a-01e74420dce2"
      },
      "outputs": [
        {
          "name": "stdout",
          "output_type": "stream",
          "text": [
            "0 1 1 2 3 5 8 13 21 34 55 89 144 233 377 610 987 1597 \n"
          ]
        }
      ],
      "source": [
        "# We can create a function that writes the Fibonacci series to an arbitrary boundary\n",
        "def fib(n):    # write Fibonacci series up to n\n",
        "  \"\"\"Print a Fibonacci series up to n.\"\"\"\n",
        "  a, b = 0, 1\n",
        "  while a < n:\n",
        "    print(a, end=' ')\n",
        "    a, b = b, a+b\n",
        "  print()\n",
        "\n",
        "fib(2000)"
      ]
    },
    {
      "cell_type": "markdown",
      "metadata": {
        "id": "5Po7UbmNY4IZ"
      },
      "source": [
        "# Lambda functions\n",
        "Lambda functions are functions created using the following syntax:\n",
        "```\n",
        "lambda parameters: expression\n",
        "```"
      ]
    },
    {
      "cell_type": "code",
      "execution_count": null,
      "metadata": {
        "id": "Nv6x725XZXNC"
      },
      "outputs": [],
      "source": [
        "#  a simple lambda function for adding an s (or not) depending on whether its argument is 1\n",
        "s = lambda x: \"\" if x == 1 else \"s\""
      ]
    },
    {
      "cell_type": "code",
      "execution_count": null,
      "metadata": {
        "colab": {
          "base_uri": "https://localhost:8080/",
          "height": 35
        },
        "id": "dfxTR7IxZbzD",
        "outputId": "96e6671a-1f84-4516-81fd-b13a93efd800"
      },
      "outputs": [
        {
          "data": {
            "application/vnd.google.colaboratory.intrinsic+json": {
              "type": "string"
            },
            "text/plain": [
              "'s'"
            ]
          },
          "execution_count": 38,
          "metadata": {},
          "output_type": "execute_result"
        }
      ],
      "source": [
        "s(3)"
      ]
    },
    {
      "cell_type": "code",
      "execution_count": null,
      "metadata": {
        "colab": {
          "base_uri": "https://localhost:8080/",
          "height": 35
        },
        "id": "2LKlfzYcZ0eb",
        "outputId": "c98d5966-b4b3-4121-c878-892c049d4006"
      },
      "outputs": [
        {
          "data": {
            "application/vnd.google.colaboratory.intrinsic+json": {
              "type": "string"
            },
            "text/plain": [
              "''"
            ]
          },
          "execution_count": 39,
          "metadata": {},
          "output_type": "execute_result"
        }
      ],
      "source": [
        "s(1)"
      ]
    },
    {
      "cell_type": "code",
      "execution_count": null,
      "metadata": {
        "colab": {
          "base_uri": "https://localhost:8080/"
        },
        "id": "Zqw3v-5waW9O",
        "outputId": "782fbb73-66bb-47fd-c686-14e7f38ae175"
      },
      "outputs": [
        {
          "data": {
            "text/plain": [
              "[(1, 3, 'Li'), (1, 11, 'Na'), (2, 4, 'Be'), (2, 12, 'Mg')]"
            ]
          },
          "execution_count": 40,
          "metadata": {},
          "output_type": "execute_result"
        }
      ],
      "source": [
        "# Lambda functions are often used as the key function for the built-in sorted() function and for the list.sort() method.\n",
        "\n",
        "# Suppose we have a list of elements as 3-tuples of (group, number, name)\n",
        "elements = [(2, 12, \"Mg\"), (1, 11, \"Na\"), (1, 3, \"Li\"), (2, 4, \"Be\")]\n",
        "elements.sort()\n",
        "elements"
      ]
    },
    {
      "cell_type": "code",
      "execution_count": null,
      "metadata": {
        "colab": {
          "base_uri": "https://localhost:8080/"
        },
        "id": "PkfDE4Pibe8q",
        "outputId": "2ae9310d-e02c-429a-81d7-73f2866a2f89"
      },
      "outputs": [
        {
          "data": {
            "text/plain": [
              "[(1, 3, 'Li'), (2, 4, 'Be'), (1, 11, 'Na'), (2, 12, 'Mg')]"
            ]
          },
          "execution_count": 32,
          "metadata": {},
          "output_type": "execute_result"
        }
      ],
      "source": [
        "elements = [(2, 12, \"Mg\"), (1, 11, \"Na\"), (1, 3, \"Li\"), (2, 4, \"Be\")]\n",
        "elements.sort(key=lambda e: (e[1], e[2]))\n",
        "elements"
      ]
    },
    {
      "cell_type": "code",
      "execution_count": null,
      "metadata": {
        "colab": {
          "base_uri": "https://localhost:8080/"
        },
        "id": "wIPpyKUZbz7T",
        "outputId": "03ab75ee-8c60-474d-9c17-69561110b180"
      },
      "outputs": [
        {
          "data": {
            "text/plain": [
              "[(1, 3, 'Li'), (2, 4, 'Be'), (1, 11, 'Na'), (2, 12, 'Mg')]"
            ]
          },
          "execution_count": 33,
          "metadata": {},
          "output_type": "execute_result"
        }
      ],
      "source": [
        "elements = [(2, 12, \"Mg\"), (1, 11, \"Na\"), (1, 3, \"Li\"), (2, 4, \"Be\")]\n",
        "elements.sort(key=lambda e: e[1:3])\n",
        "elements"
      ]
    },
    {
      "cell_type": "code",
      "execution_count": null,
      "metadata": {
        "colab": {
          "base_uri": "https://localhost:8080/"
        },
        "id": "WTIggduzcAdI",
        "outputId": "45407654-9036-4e6e-8442-d7d07217591e"
      },
      "outputs": [
        {
          "data": {
            "text/plain": [
              "[(2, 4, 'Be'), (1, 3, 'Li'), (2, 12, 'Mg'), (1, 11, 'Na')]"
            ]
          },
          "execution_count": 41,
          "metadata": {},
          "output_type": "execute_result"
        }
      ],
      "source": [
        "elements = [(2, 12, \"Mg\"), (1, 11, \"Na\"), (1, 3, \"Li\"), (2, 4, \"Be\")]\n",
        "elements.sort(key=lambda e: (e[2].lower(), e[1]))\n",
        "elements"
      ]
    },
    {
      "cell_type": "code",
      "execution_count": null,
      "metadata": {
        "id": "X2CBOIbkbHbZ"
      },
      "outputs": [],
      "source": [
        "area = lambda b, h: 0.5 *b*h"
      ]
    },
    {
      "cell_type": "code",
      "execution_count": null,
      "metadata": {
        "colab": {
          "base_uri": "https://localhost:8080/"
        },
        "id": "lnraLLiXbI46",
        "outputId": "3deb6eee-2528-4a71-e587-ea5d23c1a9d8"
      },
      "outputs": [
        {
          "data": {
            "text/plain": [
              "25.0"
            ]
          },
          "execution_count": 43,
          "metadata": {},
          "output_type": "execute_result"
        }
      ],
      "source": [
        "area(5,10)"
      ]
    },
    {
      "cell_type": "markdown",
      "metadata": {
        "id": "ONhAcFu7m21u"
      },
      "source": [
        "# Modules and Packages\n",
        "\n",
        "Whereas functions allow us to parcel up pieces of code so that they can be\n",
        "reused throughout a program, modules provide a means of collecting sets of\n",
        "functions together so that they can be used by any number of programs.\n",
        "\n",
        "Python also has facilities for creating packages—these are sets of modules that are grouped together, usually because their modules provide related functionality or because they depend on each other.\n",
        "\n",
        "<ol>\n",
        "<li>A Python module, simply put, is a .py file. A module can contain any Python\n",
        "code we like. \n",
        "<li>All the programs we have written so far have been contained in a\n",
        "single .py file, and so they are modules as well as programs. \n",
        "<li>The key difference is that programs are designed to be run, whereas modules are designed to be imported and used by programs.\n",
        "</ol>\n",
        "\n",
        "\n",
        "<br><i>Several syntaxes can be used when importing. For example:</i>\n",
        "```\n",
        "import importable\n",
        "import importable1, importable2, ..., importableN\n",
        "import importable as preferred_name\n",
        "```\n",
        "\n",
        "Here <b>importable</b> is usually a module such as collections, but could be a package or a module in a package, in which case each part is separated with a dot (.), for example, os.path."
      ]
    },
    {
      "cell_type": "code",
      "execution_count": null,
      "metadata": {
        "colab": {
          "base_uri": "https://localhost:8080/"
        },
        "id": "KssxS6DwtnLw",
        "outputId": "49e3531a-e8d0-4d00-d4d1-8e88851b2b06"
      },
      "outputs": [
        {
          "name": "stdout",
          "output_type": "stream",
          "text": [
            "mnist_test.csv\n"
          ]
        }
      ],
      "source": [
        "filename=\"/content/sample_data/mnist_test.csv\"\n",
        "import os\n",
        "print(os.path.basename(filename)) # safe fully qualified access"
      ]
    },
    {
      "cell_type": "code",
      "execution_count": null,
      "metadata": {
        "colab": {
          "base_uri": "https://localhost:8080/"
        },
        "id": "AM2HoSzutrCn",
        "outputId": "78ef35bf-ea58-4c0a-e1e2-927ddd325988"
      },
      "outputs": [
        {
          "name": "stdout",
          "output_type": "stream",
          "text": [
            "mnist_test.csv\n"
          ]
        }
      ],
      "source": [
        "import os.path as path\n",
        "print(path.basename(filename)) # risk of name collision with path"
      ]
    },
    {
      "cell_type": "code",
      "execution_count": null,
      "metadata": {
        "colab": {
          "base_uri": "https://localhost:8080/"
        },
        "id": "VHpJcNCNuoEm",
        "outputId": "812b1175-de21-410f-bbae-d4893db29d43"
      },
      "outputs": [
        {
          "name": "stdout",
          "output_type": "stream",
          "text": [
            "mnist_test.csv\n"
          ]
        }
      ],
      "source": [
        "from os import path\n",
        "print(path.basename(filename)) # risk of name collision with path"
      ]
    },
    {
      "cell_type": "code",
      "execution_count": null,
      "metadata": {
        "colab": {
          "base_uri": "https://localhost:8080/"
        },
        "id": "nrr5F36UutzS",
        "outputId": "b8e28e5d-d9f2-4713-abdb-ff7d688966c3"
      },
      "outputs": [
        {
          "name": "stdout",
          "output_type": "stream",
          "text": [
            "mnist_test.csv\n"
          ]
        }
      ],
      "source": [
        "from os.path import basename\n",
        "print(basename(filename)) # risk of name collision with basename"
      ]
    },
    {
      "cell_type": "code",
      "execution_count": null,
      "metadata": {
        "colab": {
          "base_uri": "https://localhost:8080/"
        },
        "id": "M1jI3MWauyMo",
        "outputId": "a0008e78-c386-4d53-f752-714afd2be05d"
      },
      "outputs": [
        {
          "name": "stdout",
          "output_type": "stream",
          "text": [
            "mnist_test.csv\n",
            "/content/sample_data\n"
          ]
        }
      ],
      "source": [
        "from os.path import *\n",
        "print(basename(filename)) # risk of many name collisions\n",
        "print(dirname(filename))"
      ]
    },
    {
      "cell_type": "markdown",
      "metadata": {
        "id": "F0pL8nuBx-rS"
      },
      "source": [
        "# how does Python know where to look for the modules and packages that are imported?\n",
        "The built-in sys module has a list called sys.path that holds a list of the directories that constitute the Python\n",
        "path. \n",
        "<ol>\n",
        "<li>The first directory is the directory that contains the program itself, even if the program was invoked from another directory. \n",
        "<li>If the PYTHONPATH environment variable is set, the paths specified in it are the next ones in the list, and\n",
        "<li>the final paths are those needed to access Python’s standard library—these are set when Python is installed.\n",
        "</ol>\n",
        "\n"
      ]
    },
    {
      "cell_type": "markdown",
      "metadata": {
        "id": "AhFy-Psn1wZl"
      },
      "source": [
        "A package is simply a directory that contains a set of modules and a file called\n",
        "```__init__.py```. Suppose, for example, that we had a fictitious set of module files\n",
        "for reading and writing various graphics file formats, such as Bmp.py, Jpeg.py,\n",
        "Png.py, Tiff.py, and Xpm.py, all of which provided the functions load(), save(),\n",
        "and so on.\n",
        "\n",
        "```\n",
        "Graphics/\n",
        " __init__.py\n",
        " Bmp.py\n",
        " Jpeg.py\n",
        " Png.py\n",
        " Tiff.py\n",
        " Xpm.py\n",
        " ```"
      ]
    },
    {
      "cell_type": "code",
      "execution_count": null,
      "metadata": {
        "id": "A87PyQkU2N7y"
      },
      "outputs": [],
      "source": [
        "!mkdir ash\n"
      ]
    },
    {
      "cell_type": "markdown",
      "metadata": {
        "id": "KLSHTGWthRrJ"
      },
      "source": [
        "Copy the file from desktop ash folder"
      ]
    },
    {
      "cell_type": "code",
      "execution_count": null,
      "metadata": {
        "id": "j0i3ZlJ8p14L"
      },
      "outputs": [],
      "source": []
    },
    {
      "cell_type": "code",
      "execution_count": null,
      "metadata": {
        "colab": {
          "base_uri": "https://localhost:8080/",
          "height": 35
        },
        "id": "78YJdLdIbRMY",
        "outputId": "8cabca81-5ce9-46ec-e932-015c85bf675f"
      },
      "outputs": [
        {
          "data": {
            "application/vnd.google.colaboratory.intrinsic+json": {
              "type": "string"
            },
            "text/plain": [
              "'/content'"
            ]
          },
          "execution_count": 5,
          "metadata": {},
          "output_type": "execute_result"
        }
      ],
      "source": [
        "import os\n",
        "os.getcwd()"
      ]
    },
    {
      "cell_type": "code",
      "execution_count": null,
      "metadata": {
        "colab": {
          "base_uri": "https://localhost:8080/",
          "height": 35
        },
        "id": "ubpLkrtqbxMX",
        "outputId": "7e175036-e48b-47be-dd1c-46d92f6f9e3f"
      },
      "outputs": [
        {
          "data": {
            "application/vnd.google.colaboratory.intrinsic+json": {
              "type": "string"
            },
            "text/plain": [
              "'/content/ash'"
            ]
          },
          "execution_count": 6,
          "metadata": {},
          "output_type": "execute_result"
        }
      ],
      "source": [
        "os.chdir('ash')\n",
        "os.getcwd()"
      ]
    },
    {
      "cell_type": "code",
      "execution_count": null,
      "metadata": {
        "id": "mmP0VRstp63v"
      },
      "outputs": [],
      "source": [
        "import ash.add as add"
      ]
    },
    {
      "cell_type": "code",
      "execution_count": null,
      "metadata": {
        "colab": {
          "base_uri": "https://localhost:8080/"
        },
        "id": "lNtCyuHJp-O7",
        "outputId": "c5e993ae-30b9-4d8f-dbb3-967727c67fc4"
      },
      "outputs": [
        {
          "name": "stdout",
          "output_type": "stream",
          "text": [
            "Its adding two number\n"
          ]
        }
      ],
      "source": [
        "add.add2()"
      ]
    },
    {
      "cell_type": "code",
      "execution_count": null,
      "metadata": {
        "id": "ycKO4bifqbmD"
      },
      "outputs": [],
      "source": [
        "from ash.add import *"
      ]
    },
    {
      "cell_type": "code",
      "execution_count": null,
      "metadata": {
        "colab": {
          "base_uri": "https://localhost:8080/"
        },
        "id": "sCP4YnpRqg5g",
        "outputId": "a4ee9c37-4679-4d68-df60-432db37aa15c"
      },
      "outputs": [
        {
          "name": "stdout",
          "output_type": "stream",
          "text": [
            "Its adding two number\n",
            "Its adding three number\n"
          ]
        }
      ],
      "source": [
        "add2()\n",
        "add3()"
      ]
    },
    {
      "cell_type": "code",
      "execution_count": null,
      "metadata": {
        "colab": {
          "base_uri": "https://localhost:8080/",
          "height": 35
        },
        "id": "KnDFRS7Jb4kT",
        "outputId": "d37cdba0-a06a-44aa-b4ac-c3028366e52f"
      },
      "outputs": [
        {
          "data": {
            "application/vnd.google.colaboratory.intrinsic+json": {
              "type": "string"
            },
            "text/plain": [
              "'/content'"
            ]
          },
          "execution_count": 7,
          "metadata": {},
          "output_type": "execute_result"
        }
      ],
      "source": [
        "os.chdir('/content')\n",
        "os.getcwd()"
      ]
    },
    {
      "cell_type": "markdown",
      "metadata": {
        "id": "xPso7QaxbQVo"
      },
      "source": [
        "# Sequence Types \n",
        "A sequence type is one that supports the membership operator (in), the size function (len()), slices ([]), and is iterable. \n",
        "Python provides five built-in sequence types: \n",
        "<ol>\n",
        "<li>bytearray, \n",
        "<li>bytes, \n",
        "<li>list, \n",
        "<li>str, and\n",
        "<li>tuple."
      ]
    },
    {
      "cell_type": "markdown",
      "metadata": {
        "id": "JZUju7aciU5D"
      },
      "source": [
        "# Tuples \n",
        "A tuple is an ordered sequence of zero or more object references. Tuples String support the same slicing and striding syntax as strings. This makes it easy to extract items from a tuple. \n",
        "\n",
        "Like strings, tuples are immutable, so we cannot replace or delete any of their items. If we want to be able to modify an ordered sequence, we simply use a list instead of a tuple; or if we already have a tuple but want to modify it, we can convert it to a list using the list() conversion\n",
        "function and then apply the changes to the resultant list."
      ]
    },
    {
      "cell_type": "code",
      "execution_count": null,
      "metadata": {
        "colab": {
          "base_uri": "https://localhost:8080/"
        },
        "id": "2QL-L8YjjNrB",
        "outputId": "b5c25b45-de4d-401e-8a09-c46690b99598"
      },
      "outputs": [
        {
          "data": {
            "text/plain": [
              "()"
            ]
          },
          "execution_count": 1,
          "metadata": {},
          "output_type": "execute_result"
        }
      ],
      "source": [
        "# The tuple data type can be called as a function, tuple()—with no arguments it returns an empty tuple\n",
        "s=tuple()\n",
        "s"
      ]
    },
    {
      "cell_type": "code",
      "execution_count": null,
      "metadata": {
        "colab": {
          "base_uri": "https://localhost:8080/"
        },
        "id": "v6UjLSq4jllA",
        "outputId": "20d89e2b-12b9-47d7-d75e-7cb7a9f923bc"
      },
      "outputs": [
        {
          "data": {
            "text/plain": [
              "('a', 's', 'h', 'o', 'k')"
            ]
          },
          "execution_count": 2,
          "metadata": {},
          "output_type": "execute_result"
        }
      ],
      "source": [
        "# -with any other argument it attempts to convert the given object to a tuple.\n",
        "s=tuple(\"ashok\")\n",
        "s"
      ]
    },
    {
      "cell_type": "code",
      "execution_count": null,
      "metadata": {
        "colab": {
          "base_uri": "https://localhost:8080/",
          "height": 183
        },
        "id": "OSNNYxB3j3Sr",
        "outputId": "239641d8-d338-450e-ea07-72046f45c5c6"
      },
      "outputs": [
        {
          "ename": "TypeError",
          "evalue": "ignored",
          "output_type": "error",
          "traceback": [
            "\u001b[0;31m---------------------------------------------------------------------------\u001b[0m",
            "\u001b[0;31mTypeError\u001b[0m                                 Traceback (most recent call last)",
            "\u001b[0;32m<ipython-input-3-4b7fd37241d4>\u001b[0m in \u001b[0;36m<module>\u001b[0;34m\u001b[0m\n\u001b[0;32m----> 1\u001b[0;31m \u001b[0mt\u001b[0m\u001b[0;34m=\u001b[0m\u001b[0mtuple\u001b[0m\u001b[0;34m(\u001b[0m\u001b[0;34m\"ashok\"\u001b[0m\u001b[0;34m,\u001b[0m\u001b[0;36m56\u001b[0m\u001b[0;34m)\u001b[0m\u001b[0;34m\u001b[0m\u001b[0;34m\u001b[0m\u001b[0m\n\u001b[0m\u001b[1;32m      2\u001b[0m \u001b[0mt\u001b[0m\u001b[0;34m\u001b[0m\u001b[0;34m\u001b[0m\u001b[0m\n",
            "\u001b[0;31mTypeError\u001b[0m: tuple expected at most 1 arguments, got 2"
          ]
        }
      ],
      "source": [
        "t=tuple(\"ashok\",56)\n",
        "t"
      ]
    },
    {
      "cell_type": "code",
      "execution_count": null,
      "metadata": {
        "colab": {
          "base_uri": "https://localhost:8080/"
        },
        "id": "EbCmbbiJkncZ",
        "outputId": "f5df97cf-ba03-4e11-91b0-274c8603138a"
      },
      "outputs": [
        {
          "data": {
            "text/plain": [
              "()"
            ]
          },
          "execution_count": 4,
          "metadata": {},
          "output_type": "execute_result"
        }
      ],
      "source": [
        "t=()\n",
        "t"
      ]
    },
    {
      "cell_type": "code",
      "execution_count": null,
      "metadata": {
        "colab": {
          "base_uri": "https://localhost:8080/",
          "height": 252
        },
        "id": "ZgxFqQ8Hk6mv",
        "outputId": "d35e1dee-bfdb-4cc7-dec2-45f52536193d"
      },
      "outputs": [
        {
          "name": "stdout",
          "output_type": "stream",
          "text": [
            "2\n",
            "0\n",
            "3\n"
          ]
        },
        {
          "ename": "ValueError",
          "evalue": "ignored",
          "output_type": "error",
          "traceback": [
            "\u001b[0;31m---------------------------------------------------------------------------\u001b[0m",
            "\u001b[0;31mValueError\u001b[0m                                Traceback (most recent call last)",
            "\u001b[0;32m<ipython-input-5-e69dd5b9b892>\u001b[0m in \u001b[0;36m<module>\u001b[0;34m\u001b[0m\n\u001b[1;32m      7\u001b[0m \u001b[0mprint\u001b[0m\u001b[0;34m(\u001b[0m\u001b[0mt\u001b[0m\u001b[0;34m.\u001b[0m\u001b[0mindex\u001b[0m\u001b[0;34m(\u001b[0m\u001b[0;34m\"i\"\u001b[0m\u001b[0;34m)\u001b[0m\u001b[0;34m)\u001b[0m\u001b[0;34m\u001b[0m\u001b[0;34m\u001b[0m\u001b[0m\n\u001b[1;32m      8\u001b[0m \u001b[0;31m# raises a ValueError exception if there is no x in the tuple.\u001b[0m\u001b[0;34m\u001b[0m\u001b[0;34m\u001b[0m\u001b[0;34m\u001b[0m\u001b[0m\n\u001b[0;32m----> 9\u001b[0;31m \u001b[0mprint\u001b[0m\u001b[0;34m(\u001b[0m\u001b[0mt\u001b[0m\u001b[0;34m.\u001b[0m\u001b[0mindex\u001b[0m\u001b[0;34m(\u001b[0m\u001b[0;34m\"z\"\u001b[0m\u001b[0;34m)\u001b[0m\u001b[0;34m)\u001b[0m\u001b[0;34m\u001b[0m\u001b[0;34m\u001b[0m\u001b[0m\n\u001b[0m",
            "\u001b[0;31mValueError\u001b[0m: substring not found"
          ]
        }
      ],
      "source": [
        "# Tuples provide just two methods, \n",
        "# t.count(x), which returns the number of times object x occurs in tuple t, and \n",
        "t='India is the best'\n",
        "print(t.count(\"i\"))\n",
        "print(t.count(\"z\"))\n",
        "# t.index(x), which returns the index position of the leftmost occurrence of object x in tuple t, or\n",
        "print(t.index(\"i\"))\n",
        "# raises a ValueError exception if there is no x in the tuple.\n",
        "print(t.index(\"z\"))"
      ]
    },
    {
      "cell_type": "code",
      "execution_count": null,
      "metadata": {
        "colab": {
          "base_uri": "https://localhost:8080/"
        },
        "id": "52rsKim4mYrD",
        "outputId": "25cdeadb-d105-4744-c10d-c7be71721138"
      },
      "outputs": [
        {
          "name": "stdout",
          "output_type": "stream",
          "text": [
            "('black', 'brown', 'gray', 'blonde', 'red')\n",
            "('black', 'brown', 'blonde', 'red', 'black', 'brown', 'blonde', 'red', 'black', 'brown', 'blonde', 'red')\n",
            "blonde\n",
            "('brown', 'blonde', 'red')\n",
            "('black', 'brown') gray ('blonde', 'red')\n",
            "True\n",
            "False\n"
          ]
        }
      ],
      "source": [
        "# In addition, tuples can be used with the operators\n",
        "# + (concatenation), \n",
        "hair = \"black\", \"brown\", \"blonde\", \"red\"\n",
        "print(hair[:2] + (\"gray\",) + hair[2:])\n",
        "# * (replication), and \n",
        "hair =hair*3\n",
        "print(hair)\n",
        "# [] (slice), and \n",
        "hair = \"black\", \"brown\", \"blonde\", \"red\"\n",
        "print(hair[2])\n",
        "print(hair[-3:])\n",
        "print(hair[:2], \"gray\", hair[2:])\n",
        "\n",
        "# with in and \n",
        "print(\"black\" in hair)\n",
        "# not in to test for membership\n",
        "print(\"black\" not in hair)"
      ]
    },
    {
      "cell_type": "code",
      "execution_count": null,
      "metadata": {
        "colab": {
          "base_uri": "https://localhost:8080/"
        },
        "id": "nExAtPA3Caq5",
        "outputId": "461f4949-a572-42bd-811b-59cb85bf8632"
      },
      "outputs": [
        {
          "name": "stdout",
          "output_type": "stream",
          "text": [
            "<class 'str'>\n",
            "<class 'tuple'>\n"
          ]
        }
      ],
      "source": [
        "a=(\"string\")\n",
        "print(type(a))\n",
        "a=(\"string\",)\n",
        "print(type(a))"
      ]
    },
    {
      "cell_type": "markdown",
      "metadata": {
        "id": "D3uwzmwTjkMh"
      },
      "source": [
        "The += and *= augmented assignment operators can be used even though tuples are immutable—behind the scenes Python creates a new tuple to hold the result and sets the left-hand object reference to refer to it; the same technique is used when these operators are applied to strings. \n",
        "\n",
        "Tuples can be compared using the standard comparison operators (<, <=, ==, !=, >=, >), with the comparisons being\n",
        "applied item by item"
      ]
    },
    {
      "cell_type": "code",
      "execution_count": null,
      "metadata": {
        "colab": {
          "base_uri": "https://localhost:8080/"
        },
        "id": "gJMMHuf_EE6X",
        "outputId": "2696d818-330f-4a16-fcca-59ba85e2f3d4"
      },
      "outputs": [
        {
          "data": {
            "text/plain": [
              "True"
            ]
          },
          "execution_count": 14,
          "metadata": {},
          "output_type": "execute_result"
        }
      ],
      "source": [
        "a=(2,3,4,5,6,7)\n",
        "b=(2,3)\n",
        "a[1]<=b[1]"
      ]
    },
    {
      "cell_type": "code",
      "execution_count": null,
      "metadata": {
        "colab": {
          "base_uri": "https://localhost:8080/"
        },
        "id": "_qPOAN_YqGtN",
        "outputId": "b041fd1d-9efb-48fd-ebed-ff1e9243b9d4"
      },
      "outputs": [
        {
          "name": "stdout",
          "output_type": "stream",
          "text": [
            "1 2\n",
            "1 1\n",
            "2 4\n",
            "3 9\n"
          ]
        }
      ],
      "source": [
        "# When we have tuples on the left-hand side of a binary operator, we will omit the parentheses,\n",
        "a, b = (1, 2) # left of binary operator\n",
        "print(a, b)\n",
        "# or on the right-hand side of a unary statement, we will omit the parentheses,\n",
        "del a, b # right of unary statement\n",
        "# print(a, b)\n",
        "# and in all other cases we will use parentheses.\n",
        "for x, y in ((1, 1), (2, 4), (3, 9)): # left of binary operator\n",
        "  print(x, y)"
      ]
    },
    {
      "cell_type": "code",
      "execution_count": null,
      "metadata": {
        "id": "WTykQeLqq-X7"
      },
      "outputs": [],
      "source": [
        "def f(x):\n",
        " return x, x ** 2 # right of unary statement"
      ]
    },
    {
      "cell_type": "code",
      "execution_count": null,
      "metadata": {
        "colab": {
          "base_uri": "https://localhost:8080/"
        },
        "id": "07eziN2IrCD3",
        "outputId": "b7e5df5d-fd78-4ef5-c8b2-c536cc91af8b"
      },
      "outputs": [
        {
          "data": {
            "text/plain": [
              "(5, 25)"
            ]
          },
          "execution_count": 17,
          "metadata": {},
          "output_type": "execute_result"
        }
      ],
      "source": [
        "f(5)"
      ]
    },
    {
      "cell_type": "code",
      "execution_count": null,
      "metadata": {
        "colab": {
          "base_uri": "https://localhost:8080/"
        },
        "id": "MGbvpCitsOpN",
        "outputId": "8aac5d54-22df-492a-ceab-a73c20c60339"
      },
      "outputs": [
        {
          "data": {
            "text/plain": [
              "(('black', 'brown', 'blonde', 'red'),\n",
              " ('brown', 'hazel', 'amber', 'green', 'blue', 'gray'))"
            ]
          },
          "execution_count": 18,
          "metadata": {},
          "output_type": "execute_result"
        }
      ],
      "source": [
        "hair = \"black\", \"brown\", \"blonde\", \"red\"\n",
        "eyes = (\"brown\", \"hazel\", \"amber\", \"green\", \"blue\", \"gray\")\n",
        "colors = (hair, eyes)\n",
        "colors # [1][3:-1]"
      ]
    },
    {
      "cell_type": "code",
      "execution_count": null,
      "metadata": {
        "colab": {
          "base_uri": "https://localhost:8080/"
        },
        "id": "r51Jh38OGZpl",
        "outputId": "74f52891-bd3c-42c8-ad5e-ea5d71fe52d1"
      },
      "outputs": [
        {
          "data": {
            "text/plain": [
              "('hazel', 'amber', 'green', 'blue')"
            ]
          },
          "execution_count": 19,
          "metadata": {},
          "output_type": "execute_result"
        }
      ],
      "source": [
        "colors [1][1:-1]"
      ]
    },
    {
      "cell_type": "code",
      "execution_count": null,
      "metadata": {
        "colab": {
          "base_uri": "https://localhost:8080/",
          "height": 53
        },
        "id": "Yv4uYF78stel",
        "outputId": "4525d5f9-b84f-4cc2-b46b-2ab4f726673a"
      },
      "outputs": [
        {
          "name": "stdout",
          "output_type": "stream",
          "text": [
            "3\n"
          ]
        },
        {
          "data": {
            "application/vnd.google.colaboratory.intrinsic+json": {
              "type": "string"
            },
            "text/plain": [
              "'z'"
            ]
          },
          "execution_count": 20,
          "metadata": {},
          "output_type": "execute_result"
        }
      ],
      "source": [
        "# Nested collections to any level of depth can be created like this without formality. \n",
        "things = (1, -7.5, (\"pea\", (5, \"Xyz\"), \"queue\"))\n",
        "print(len(things[2][1][1]))\n",
        "things[2][1][1][2]"
      ]
    },
    {
      "cell_type": "code",
      "execution_count": null,
      "metadata": {
        "colab": {
          "base_uri": "https://localhost:8080/",
          "height": 35
        },
        "id": "kvJZor9cdHha",
        "outputId": "0a46380c-0fd7-4d1b-e2f3-f3a644f94d52"
      },
      "outputs": [
        {
          "data": {
            "application/vnd.google.colaboratory.intrinsic+json": {
              "type": "string"
            },
            "text/plain": [
              "'Xyz'"
            ]
          },
          "execution_count": 21,
          "metadata": {},
          "output_type": "execute_result"
        }
      ],
      "source": [
        "things = (1, -7.5, (\"pea\", (5, \"Xyz\"), \"queue\"))\n",
        "things[2][1][1]"
      ]
    },
    {
      "cell_type": "code",
      "execution_count": null,
      "metadata": {
        "colab": {
          "base_uri": "https://localhost:8080/"
        },
        "id": "oE6lZZtttg1P",
        "outputId": "c54d7775-75aa-475e-ad31-84a8b975d6c5"
      },
      "outputs": [
        {
          "data": {
            "text/plain": [
              "220"
            ]
          },
          "execution_count": 22,
          "metadata": {},
          "output_type": "execute_result"
        }
      ],
      "source": [
        "# Using complex nested data structures like this can easily become confusing.\n",
        "# One solution is to give names to particular index positions.\n",
        "MANUFACTURER, MODEL, SEATING = (0, 1, 2)\n",
        "MINIMUM, MAXIMUM = (0, 1)\n",
        "aircraft = (\"Airbus\", \"A320-200\", (100, 220))\n",
        "aircraft[SEATING][MAXIMUM]"
      ]
    },
    {
      "cell_type": "code",
      "execution_count": null,
      "metadata": {
        "colab": {
          "base_uri": "https://localhost:8080/",
          "height": 35
        },
        "id": "aChV_AIAHNrh",
        "outputId": "ed53574b-45c6-4c56-ff77-0c7ce71838f9"
      },
      "outputs": [
        {
          "data": {
            "application/vnd.google.colaboratory.intrinsic+json": {
              "type": "string"
            },
            "text/plain": [
              "'A320-200'"
            ]
          },
          "execution_count": 23,
          "metadata": {},
          "output_type": "execute_result"
        }
      ],
      "source": [
        "aircraft[MODEL]"
      ]
    },
    {
      "cell_type": "code",
      "execution_count": null,
      "metadata": {
        "colab": {
          "base_uri": "https://localhost:8080/"
        },
        "id": "T_P1DsK5tvKL",
        "outputId": "92d2f5b9-782b-460a-8e5e-8437420cd9d7"
      },
      "outputs": [
        {
          "name": "stdout",
          "output_type": "stream",
          "text": [
            "5.0\n",
            "13.0\n",
            "53.0\n"
          ]
        }
      ],
      "source": [
        "# examples of sequence unpacking in the context of for … in loops\n",
        "import math\n",
        "for x, y in ((-3, 4), (5, 12), (28, -45)):\n",
        "  print(math.hypot(x, y))"
      ]
    },
    {
      "cell_type": "markdown",
      "metadata": {
        "id": "m0blp7mAueOh"
      },
      "source": [
        "# Named Tuples \n",
        "A named tuple behaves just like a plain tuple, and has the same performance characteristics. What it adds is the ability to refer to items in the tuple by name as well as by index position, and this allows us to create aggregates of\n",
        "data items"
      ]
    },
    {
      "cell_type": "code",
      "execution_count": null,
      "metadata": {
        "colab": {
          "background_save": true
        },
        "id": "npl2HJORuqS1"
      },
      "outputs": [],
      "source": [
        "# The collections module provides the namedtuple() function. \n",
        "# This function is used to create custom tuple data types. For example:\n",
        "import collections\n",
        "Sale = collections.namedtuple(\"Sale\", \"productid customerid date quantity price\")"
      ]
    },
    {
      "cell_type": "markdown",
      "metadata": {
        "id": "qgf6tTf1vPcV"
      },
      "source": [
        "The first argument to collections.namedtuple() is the name of the custom tuple data type that we want to be created. The second argument is a string of space separated names, one for each item that our tuples will take"
      ]
    },
    {
      "cell_type": "code",
      "execution_count": null,
      "metadata": {
        "colab": {
          "background_save": true
        },
        "id": "nzmyTFxjvc6a"
      },
      "outputs": [],
      "source": [
        "sales = []\n",
        "sales.append(Sale(432, 921, \"2008-09-14\", 3, 7.99))\n",
        "sales.append(Sale(419, 874, \"2008-09-15\", 1, 18.49))"
      ]
    },
    {
      "cell_type": "code",
      "execution_count": null,
      "metadata": {
        "colab": {
          "background_save": true,
          "base_uri": "https://localhost:8080/"
        },
        "id": "GC0DI0mNvmK6",
        "outputId": "15ecfc07-1663-4a29-f89f-730c882870da"
      },
      "outputs": [
        {
          "name": "stdout",
          "output_type": "stream",
          "text": [
            "Total $42.46\n"
          ]
        }
      ],
      "source": [
        "total = 0\n",
        "for sale in sales:\n",
        "  total += sale.quantity * sale.price\n",
        "print(\"Total ${0:.4f}\".format(total)) # prints: Total $42.46"
      ]
    },
    {
      "cell_type": "markdown",
      "metadata": {
        "id": "AGjxL_n1wCza"
      },
      "source": [
        "# Lists \n",
        "A list is an ordered sequence of zero or more object references. Lists support the same slicing and striding syntax as strings and tuples. This makes it easy\n",
        "to extract items from a list. \n",
        "\n",
        "Unlike strings and tuples, lists are mutable, so we\n",
        "can replace and delete any of their items. It is also possible to insert, replace,\n",
        "and delete slices of lists."
      ]
    },
    {
      "cell_type": "code",
      "execution_count": null,
      "metadata": {
        "colab": {
          "base_uri": "https://localhost:8080/"
        },
        "id": "XMSWKtG8wsot",
        "outputId": "df3db18c-ccbe-449e-bf00-89e46eba2c75"
      },
      "outputs": [
        {
          "name": "stdout",
          "output_type": "stream",
          "text": [
            "[]\n",
            "[2, 3, 4]\n",
            "['a', 's', 'h', 'o', 'k']\n"
          ]
        }
      ],
      "source": [
        "# The list data type can be called as a function, list()—\n",
        "# with no arguments it returns an empty list,\n",
        "l=list()\n",
        "print(l)\n",
        "#with a list argument it returns a shallow copy of the argument, and\n",
        "b=[2,3,4]\n",
        "l=list(b)\n",
        "print(l)\n",
        "# with any other argument it attempts to convert the given object to a list.\n",
        "l1=list(\"ashok\")\n",
        "print(l1)"
      ]
    },
    {
      "cell_type": "code",
      "execution_count": null,
      "metadata": {
        "colab": {
          "base_uri": "https://localhost:8080/"
        },
        "id": "Wk07-z-8FwBU",
        "outputId": "72bb58eb-eee4-48eb-9868-597c075142f4"
      },
      "outputs": [
        {
          "data": {
            "text/plain": [
              "False"
            ]
          },
          "execution_count": 4,
          "metadata": {},
          "output_type": "execute_result"
        }
      ],
      "source": [
        "b is l"
      ]
    },
    {
      "cell_type": "code",
      "execution_count": null,
      "metadata": {
        "colab": {
          "base_uri": "https://localhost:8080/",
          "height": 200
        },
        "id": "68WfNZFHxf5p",
        "outputId": "7f9c4f36-e3b8-4d7f-8ae9-0a209ee079f1"
      },
      "outputs": [
        {
          "ename": "TypeError",
          "evalue": "ignored",
          "output_type": "error",
          "traceback": [
            "\u001b[0;31m---------------------------------------------------------------------------\u001b[0m",
            "\u001b[0;31mTypeError\u001b[0m                                 Traceback (most recent call last)",
            "\u001b[0;32m<ipython-input-5-ad09344e404d>\u001b[0m in \u001b[0;36m<module>\u001b[0;34m\u001b[0m\n\u001b[1;32m      1\u001b[0m \u001b[0;31m# It does not accept more than one argument\u001b[0m\u001b[0;34m\u001b[0m\u001b[0;34m\u001b[0m\u001b[0;34m\u001b[0m\u001b[0m\n\u001b[0;32m----> 2\u001b[0;31m \u001b[0ml\u001b[0m\u001b[0;34m=\u001b[0m\u001b[0mlist\u001b[0m\u001b[0;34m(\u001b[0m\u001b[0;34m\"ashok\"\u001b[0m\u001b[0;34m,\u001b[0m\u001b[0;34m\"kumar\"\u001b[0m\u001b[0;34m)\u001b[0m\u001b[0;34m\u001b[0m\u001b[0;34m\u001b[0m\u001b[0m\n\u001b[0m\u001b[1;32m      3\u001b[0m \u001b[0mprint\u001b[0m\u001b[0;34m(\u001b[0m\u001b[0ml\u001b[0m\u001b[0;34m)\u001b[0m\u001b[0;34m\u001b[0m\u001b[0;34m\u001b[0m\u001b[0m\n",
            "\u001b[0;31mTypeError\u001b[0m: list expected at most 1 arguments, got 2"
          ]
        }
      ],
      "source": [
        "# It does not accept more than one argument\n",
        "l=list(\"ashok\",\"kumar\")\n",
        "print(l)"
      ]
    },
    {
      "cell_type": "code",
      "execution_count": null,
      "metadata": {
        "colab": {
          "base_uri": "https://localhost:8080/"
        },
        "id": "oiQIa6Nxxj2d",
        "outputId": "ad611473-04be-4f21-97ea-a09b91f1fd9c"
      },
      "outputs": [
        {
          "name": "stdout",
          "output_type": "stream",
          "text": [
            "[]\n",
            "[2, 3, 4]\n"
          ]
        }
      ],
      "source": [
        "#  Lists can also be created without using the list() function. \n",
        "# An empty list is created using empty brackets, [], and \n",
        "l=[]\n",
        "print(l)\n",
        "# a list of one or more items can be created by using a comma-separated sequence of items inside brackets. \n",
        "l=[2,3,4]\n",
        "print(l)"
      ]
    },
    {
      "cell_type": "code",
      "execution_count": null,
      "metadata": {
        "colab": {
          "base_uri": "https://localhost:8080/"
        },
        "id": "2AT6aWRsyowB",
        "outputId": "5c40bec9-c4bc-41c5-ebb8-6ef3e9c7e2ca"
      },
      "outputs": [
        {
          "data": {
            "text/plain": [
              "(9, [2, -4, 8, 7])"
            ]
          },
          "execution_count": 7,
          "metadata": {},
          "output_type": "execute_result"
        }
      ],
      "source": [
        "# Lists can be nested, iterated over, and sliced, the same as tuples.\n",
        "first, *rest = [9, 2, -4, 8, 7]\n",
        "first, rest\n",
        "\n",
        "# When the sequence unpacking operator is used like this, the expression *rest,\n",
        "# and similar expressions, are called starred expressions"
      ]
    },
    {
      "cell_type": "code",
      "execution_count": null,
      "metadata": {
        "colab": {
          "base_uri": "https://localhost:8080/"
        },
        "id": "Wg9il-kjy4v8",
        "outputId": "4c93c4fb-3c69-4688-9bf5-a1c43a726ef2"
      },
      "outputs": [
        {
          "data": {
            "text/plain": [
              "('Charles', ['Philip', 'Arthur', 'George'], 'Windsor')"
            ]
          },
          "execution_count": 8,
          "metadata": {},
          "output_type": "execute_result"
        }
      ],
      "source": [
        "first, *mid, last = \"Charles Philip Arthur George Windsor\".split()\n",
        "first, mid, last"
      ]
    },
    {
      "cell_type": "code",
      "execution_count": null,
      "metadata": {
        "colab": {
          "base_uri": "https://localhost:8080/"
        },
        "id": "A5tcKcPsy_Ct",
        "outputId": "9ab8ce2b-8fe1-4dce-b834-6f028ca1c6c9"
      },
      "outputs": [
        {
          "data": {
            "text/plain": [
              "(['', 'usr', 'local', 'bin', 'gvim'], 'app.txt')"
            ]
          },
          "execution_count": 45,
          "metadata": {},
          "output_type": "execute_result"
        }
      ],
      "source": [
        "\n",
        "*directories, executable = \"/usr/local/bin/gvim/app.txt\".split(\"/\")\n",
        "directories, executable"
      ]
    },
    {
      "cell_type": "code",
      "execution_count": null,
      "metadata": {
        "id": "4-RX7QIvzwkI"
      },
      "outputs": [],
      "source": [
        "# Python also has a related concept called starred arguments.\n",
        "def product(a, b, c):\n",
        "  return a*b*c # here, * is the multiplication operator"
      ]
    },
    {
      "cell_type": "code",
      "execution_count": null,
      "metadata": {
        "colab": {
          "base_uri": "https://localhost:8080/"
        },
        "id": "qy2aYCFRz2tu",
        "outputId": "1c0efaad-fbe8-467c-fbfe-41557d6cc0ad"
      },
      "outputs": [
        {
          "data": {
            "text/plain": [
              "30"
            ]
          },
          "execution_count": 10,
          "metadata": {},
          "output_type": "execute_result"
        }
      ],
      "source": [
        "product(2, 3, 5)"
      ]
    },
    {
      "cell_type": "code",
      "execution_count": null,
      "metadata": {
        "colab": {
          "base_uri": "https://localhost:8080/"
        },
        "id": "NAchut1Pz7Yz",
        "outputId": "312b7f7e-d578-4b5f-95de-ee3169c447ca"
      },
      "outputs": [
        {
          "data": {
            "text/plain": [
              "30"
            ]
          },
          "execution_count": 11,
          "metadata": {},
          "output_type": "execute_result"
        }
      ],
      "source": [
        "L = [2, 3, 5]\n",
        "product(*L)"
      ]
    },
    {
      "cell_type": "code",
      "execution_count": null,
      "metadata": {
        "colab": {
          "base_uri": "https://localhost:8080/"
        },
        "id": "tu-o0b3y0Dq0",
        "outputId": "8f58e7cf-9fbb-4b78-f51a-14152a031fc5"
      },
      "outputs": [
        {
          "data": {
            "text/plain": [
              "30"
            ]
          },
          "execution_count": 50,
          "metadata": {},
          "output_type": "execute_result"
        }
      ],
      "source": [
        "product(2, *L[1:])"
      ]
    },
    {
      "cell_type": "markdown",
      "metadata": {
        "id": "vupO8uXa0Vac"
      },
      "source": [
        "<H2>Table 3.1 List Methods</h2>\n",
        "<dl>\n",
        "<dt>L.append(x) <dd>Appends item x to the end of list L\n",
        "<dt>L.count(x) <dd>Returns the number of times item x occurs in list L\n",
        "<dt>L.extend(m) L += m <dd> Appends all of iterable m’s items to the end of list L; the operator += does the same thing\n",
        "<dt>L.index(x,start, end) <dd>Returns the index position of the leftmost occurrence of item x in list L (or in the start:end slice of L); otherwise, raises a ValueError exception\n",
        "<dt>L.insert(i, x) <dd>Inserts item x into list L at index position int i\n",
        "<dt>L.pop() <dd>Returns and removes the rightmost item of list L\n",
        "<dt>L.pop(i) <dd>Returns and removes the item at index position int i in L\n",
        "<dt>L.remove(x) <dd>Removes the leftmost occurrence of item x from list L, or raises a ValueError exception if x is not found\n",
        "<dt>L.reverse() <dd>Reverses list L in-place\n",
        "<dt>L.sort(...) <dd>Sorts list L in-place; this method accepts the same key and reverse optional arguments as the built-in sorted()\n",
        "</dl>"
      ]
    },
    {
      "cell_type": "code",
      "execution_count": null,
      "metadata": {
        "colab": {
          "base_uri": "https://localhost:8080/"
        },
        "id": "6AbU3YHq18Ct",
        "outputId": "dda89020-ab1c-423f-8e59-8bfc27e0c910"
      },
      "outputs": [
        {
          "data": {
            "text/plain": [
              "['Cedar', 'Yew', 'Fir', 'Kauri', 'Larch']"
            ]
          },
          "execution_count": 15,
          "metadata": {},
          "output_type": "execute_result"
        }
      ],
      "source": [
        "woods= [\"Cedar\", \"Yew\", \"Fir\"]\n",
        "woods += [\"Kauri\", \"Larch\"]\n",
        "woods"
      ]
    },
    {
      "cell_type": "code",
      "execution_count": null,
      "metadata": {
        "colab": {
          "base_uri": "https://localhost:8080/"
        },
        "id": "uTdf2EcTfr6r",
        "outputId": "35b433f5-e2b6-4736-e06b-692a7cd838c8"
      },
      "outputs": [
        {
          "data": {
            "text/plain": [
              "['Cedar', 'Yew', 'Fir', ['Kauri', 'Larch']]"
            ]
          },
          "execution_count": 13,
          "metadata": {},
          "output_type": "execute_result"
        }
      ],
      "source": [
        "woods= [\"Cedar\", \"Yew\", \"Fir\"]\n",
        "woods.append( [\"Kauri\", \"Larch\"])\n",
        "woods"
      ]
    },
    {
      "cell_type": "code",
      "execution_count": null,
      "metadata": {
        "colab": {
          "base_uri": "https://localhost:8080/"
        },
        "id": "T1tynXLcIdNd",
        "outputId": "390b303c-bb05-48c9-a76d-dadcf05b7f86"
      },
      "outputs": [
        {
          "data": {
            "text/plain": [
              "['Cedar', 'Yew', 'Fir', 'Kauri', 'Larch', [...]]"
            ]
          },
          "execution_count": 16,
          "metadata": {},
          "output_type": "execute_result"
        }
      ],
      "source": [
        "woods.append(woods)\n",
        "woods"
      ]
    },
    {
      "cell_type": "code",
      "execution_count": null,
      "metadata": {
        "colab": {
          "base_uri": "https://localhost:8080/"
        },
        "id": "eXXCzJV1IuF8",
        "outputId": "5da8778d-dfec-4885-ec56-6adb637002c4"
      },
      "outputs": [
        {
          "data": {
            "text/plain": [
              "['Cedar', 'Yew', 'Fir', 'Kauri', 'Larch', [...]]"
            ]
          },
          "execution_count": 17,
          "metadata": {},
          "output_type": "execute_result"
        }
      ],
      "source": [
        "woods[5][5][5][5][5]"
      ]
    },
    {
      "cell_type": "code",
      "execution_count": null,
      "metadata": {
        "colab": {
          "base_uri": "https://localhost:8080/"
        },
        "id": "7U2GPoxv2LB0",
        "outputId": "0be754f6-387a-44dd-d1a2-cfad2c521aaf"
      },
      "outputs": [
        {
          "data": {
            "text/plain": [
              "['Cedar', 'Yew', 'Fir', 'Kauri', 'Larch']"
            ]
          },
          "execution_count": 18,
          "metadata": {},
          "output_type": "execute_result"
        }
      ],
      "source": [
        "woods= [\"Cedar\", \"Yew\", \"Fir\"]\n",
        "woods.extend([\"Kauri\", \"Larch\"])\n",
        "woods"
      ]
    },
    {
      "cell_type": "code",
      "execution_count": null,
      "metadata": {
        "colab": {
          "base_uri": "https://localhost:8080/"
        },
        "id": "_ECOcBDM2Xoo",
        "outputId": "e213bce1-b459-4e1e-aeb2-4e42d8b23107"
      },
      "outputs": [
        {
          "data": {
            "text/plain": [
              "['Cedar', 'Yew', 'Pine', 'Fir', 'Spruce']"
            ]
          },
          "execution_count": 19,
          "metadata": {},
          "output_type": "execute_result"
        }
      ],
      "source": [
        "woods = [\"Cedar\", \"Yew\", \"Fir\", \"Spruce\"]\n",
        "woods[2:2] = [\"Pine\"] \n",
        "woods"
      ]
    },
    {
      "cell_type": "code",
      "execution_count": null,
      "metadata": {
        "colab": {
          "base_uri": "https://localhost:8080/"
        },
        "id": "MTzSrv2s2lw8",
        "outputId": "4fc5c015-be30-474d-a242-59c8c27259b7"
      },
      "outputs": [
        {
          "data": {
            "text/plain": [
              "['Cedar', 'Yew', 'Pine', 'Fir', 'Spruce']"
            ]
          },
          "execution_count": 20,
          "metadata": {},
          "output_type": "execute_result"
        }
      ],
      "source": [
        "woods = [\"Cedar\", \"Yew\", \"Fir\", \"Spruce\"]\n",
        "woods.insert(2, \"Pine\")\n",
        "woods"
      ]
    },
    {
      "cell_type": "code",
      "execution_count": null,
      "metadata": {
        "colab": {
          "base_uri": "https://localhost:8080/"
        },
        "id": "SksWhP4k2ywC",
        "outputId": "1413ef40-5029-4d9d-96d8-0cb1f8f48724"
      },
      "outputs": [
        {
          "data": {
            "text/plain": [
              "['Cedar', 'Yew']"
            ]
          },
          "execution_count": 21,
          "metadata": {},
          "output_type": "execute_result"
        }
      ],
      "source": [
        "woods = [\"Cedar\", \"Yew\", \"Fir\", \"Spruce\"]\n",
        "woods[2:4] = []\n",
        "woods"
      ]
    },
    {
      "cell_type": "code",
      "execution_count": null,
      "metadata": {
        "colab": {
          "base_uri": "https://localhost:8080/"
        },
        "id": "NbGYZc8x2zqL",
        "outputId": "5df4e48b-8298-41f6-b918-24f14d05fe1b"
      },
      "outputs": [
        {
          "data": {
            "text/plain": [
              "['Cedar', 'Yew']"
            ]
          },
          "execution_count": 22,
          "metadata": {},
          "output_type": "execute_result"
        }
      ],
      "source": [
        "woods = [\"Cedar\", \"Yew\", \"Fir\", \"Spruce\"]\n",
        "del woods[2:4]\n",
        "woods"
      ]
    },
    {
      "cell_type": "code",
      "execution_count": null,
      "metadata": {
        "colab": {
          "base_uri": "https://localhost:8080/"
        },
        "id": "f2Uu863eKLet",
        "outputId": "bf8d51c7-b0b8-43d4-898b-5af5d5ba0562"
      },
      "outputs": [
        {
          "name": "stdout",
          "output_type": "stream",
          "text": [
            "Spruce\n",
            "Yew\n",
            "['Cedar', 'Fir']\n"
          ]
        }
      ],
      "source": [
        "woods = [\"Cedar\", \"Yew\", \"Fir\", \"Spruce\"]\n",
        "\n",
        "print(woods.pop())\n",
        "print(woods.pop(1))\n",
        "print(woods)"
      ]
    },
    {
      "cell_type": "code",
      "execution_count": null,
      "metadata": {
        "colab": {
          "base_uri": "https://localhost:8080/"
        },
        "id": "jbzHAABSKiT-",
        "outputId": "4f623df9-1a9f-4c16-e4be-562829a2fda8"
      },
      "outputs": [
        {
          "data": {
            "text/plain": [
              "['Spruce', 'Fir', 'Yew', 'Cedar']"
            ]
          },
          "execution_count": 24,
          "metadata": {},
          "output_type": "execute_result"
        }
      ],
      "source": [
        "woods = [\"Cedar\", \"Yew\", \"Fir\", \"Spruce\"]\n",
        "\n",
        "woods.reverse()\n",
        "woods"
      ]
    },
    {
      "cell_type": "code",
      "execution_count": null,
      "metadata": {
        "colab": {
          "base_uri": "https://localhost:8080/"
        },
        "id": "OJ4C-Y56hMOd",
        "outputId": "281ee037-25ad-41d5-b67d-d67eb3a40a0e"
      },
      "outputs": [
        {
          "data": {
            "text/plain": [
              "['Spruce', 'Fir', 'Yew', 'Cedar']"
            ]
          },
          "execution_count": 27,
          "metadata": {},
          "output_type": "execute_result"
        }
      ],
      "source": [
        "woods = [\"Cedar\", \"Yew\", \"Fir\", \"Spruce\"]\n",
        "\n",
        "woods = woods[::-1]\n",
        "woods"
      ]
    },
    {
      "cell_type": "code",
      "execution_count": null,
      "metadata": {
        "colab": {
          "base_uri": "https://localhost:8080/"
        },
        "id": "gX7OHxwSKrM8",
        "outputId": "951fa34a-5bc9-4c21-842d-cad725d774ac"
      },
      "outputs": [
        {
          "data": {
            "text/plain": [
              "['Cedar', 'Fir', 'Spruce', 'Yew']"
            ]
          },
          "execution_count": 28,
          "metadata": {},
          "output_type": "execute_result"
        }
      ],
      "source": [
        "woods = [\"Cedar\", \"Yew\", \"Fir\", \"Spruce\"]\n",
        "woods.sort()\n",
        "woods"
      ]
    },
    {
      "cell_type": "markdown",
      "metadata": {
        "id": "JJQGDujmAt8B"
      },
      "source": [
        "# Sets \n",
        "A set is an unordered collection of zero or more object references that refer to\n",
        "hashable objects. Sets are mutable, so we can easily add or remove items, but\n",
        "since they are unordered they have no notion of index position and so cannot\n",
        "be sliced or strided."
      ]
    },
    {
      "cell_type": "markdown",
      "metadata": {
        "id": "hlnfEslXLUt6"
      },
      "source": []
    },
    {
      "cell_type": "code",
      "execution_count": null,
      "metadata": {
        "colab": {
          "base_uri": "https://localhost:8080/"
        },
        "id": "tv5sqSG4LVpk",
        "outputId": "0bb0d8fe-42b4-4821-f84a-9f999d3dca81"
      },
      "outputs": [
        {
          "data": {
            "text/plain": [
              "{1, 2, 3}"
            ]
          },
          "execution_count": 65,
          "metadata": {},
          "output_type": "execute_result"
        }
      ],
      "source": [
        "s={2,3,1,2}\n",
        "s"
      ]
    },
    {
      "cell_type": "code",
      "execution_count": null,
      "metadata": {
        "colab": {
          "base_uri": "https://localhost:8080/"
        },
        "id": "HzRdobBhA4en",
        "outputId": "bc9cffd7-c8a6-461c-f9fb-61020822d084"
      },
      "outputs": [
        {
          "data": {
            "text/plain": [
              "{('x', 11), -29, 0, 7, 913, frozenset({4, 7, 8}), 'sun', 'veil'}"
            ]
          },
          "execution_count": 20,
          "metadata": {},
          "output_type": "execute_result"
        }
      ],
      "source": [
        "S = {7, \"veil\", 0, -29, (\"x\", 11), \"sun\", frozenset({8, 4, 7}), 913}\n",
        "S"
      ]
    },
    {
      "cell_type": "code",
      "execution_count": null,
      "metadata": {
        "colab": {
          "base_uri": "https://localhost:8080/"
        },
        "id": "eOLbi5IkBDzS",
        "outputId": "431672bc-9439-4b9c-d1af-4ecf1119ce01"
      },
      "outputs": [
        {
          "data": {
            "text/plain": [
              "set()"
            ]
          },
          "execution_count": 66,
          "metadata": {},
          "output_type": "execute_result"
        }
      ],
      "source": [
        "# The set data type can be called as a function, set()—with no arguments it returns an empty set,\n",
        "T = set()\n",
        "T"
      ]
    },
    {
      "cell_type": "code",
      "execution_count": null,
      "metadata": {
        "colab": {
          "base_uri": "https://localhost:8080/"
        },
        "id": "cpW8KodjBT0r",
        "outputId": "bd474de4-221a-4eb9-d22b-d67af84ea91c"
      },
      "outputs": [
        {
          "data": {
            "text/plain": [
              "{('x', 11), -29, 0, 7, 913, frozenset({4, 7, 8}), 'sun', 'veil'}"
            ]
          },
          "execution_count": 21,
          "metadata": {},
          "output_type": "execute_result"
        }
      ],
      "source": [
        "# with a set argument it returns a shallow copy of the argument,\n",
        "T=set(S)\n",
        "T"
      ]
    },
    {
      "cell_type": "code",
      "execution_count": null,
      "metadata": {
        "colab": {
          "base_uri": "https://localhost:8080/"
        },
        "id": "a6-8QTH3BsgH",
        "outputId": "2f58e26b-e3bb-4332-f754-0fcd120429ac"
      },
      "outputs": [
        {
          "data": {
            "text/plain": [
              "{2, 3, 4}"
            ]
          },
          "execution_count": 30,
          "metadata": {},
          "output_type": "execute_result"
        }
      ],
      "source": [
        "#  and with any other argument it attempts to convert the given object to a set\n",
        "a=[2,3,4]\n",
        "b = \"String\"\n",
        "T=set(a)\n",
        "T"
      ]
    },
    {
      "cell_type": "markdown",
      "metadata": {
        "id": "gZDgUJdZjhjk"
      },
      "source": [
        "Remove dupliate elemnt from the lit given\n",
        "l = [1,2,1,2,3,4,5,3,4,5,6,7,8,6,7,8]"
      ]
    },
    {
      "cell_type": "code",
      "execution_count": null,
      "metadata": {
        "colab": {
          "base_uri": "https://localhost:8080/"
        },
        "id": "UeL_p2W4jgvA",
        "outputId": "07bebfb2-1749-46d5-b6b4-9eda7633fd44"
      },
      "outputs": [
        {
          "data": {
            "text/plain": [
              "[1, 2, 3, 4, 5, 6, 7, 8]"
            ]
          },
          "execution_count": 31,
          "metadata": {},
          "output_type": "execute_result"
        }
      ],
      "source": [
        "l = [1,2,1,2,3,4,5,3,4,5,6,7,8,6,7,8]\n",
        "s=set(l)\n",
        "l=list(s)\n",
        "l"
      ]
    },
    {
      "cell_type": "markdown",
      "metadata": {
        "id": "muIeRmCLBB7k"
      },
      "source": [
        "# Set Methods and Operators\n",
        "\n",
        "<dl>\n",
        "<dt>\n",
        "s.add(x) \n",
        "<dd>Adds item x to set s if it is not already in s\n",
        "<dt>s.clear() \n",
        "<dd>Removes all the items from set s\n",
        "<dt>s.copy() \n",
        "<dd>Returns a shallow copy of set \n",
        "<dt>s.difference(t)  s-t\n",
        "<dd>Returns a new set that has every item that is in set s that is not in set t <dt>s.difference_update(t) s -= t\n",
        "<dd>Removes every item that is in set t from set s\n",
        "<dt>s.discard(x) \n",
        "<dd>Removes item x from set s if it is in s; see also set.remove()\n",
        "<dt>s.intersection(t) s&t\n",
        "<dd>Returns a new set that has each item that is in both set s and set t\n",
        "<dt>s.intersection_update(t) s &= t\n",
        "<dd>Makes set s contain the intersection of itself and set t\n",
        "<dt>s.isdisjoint(t) \n",
        "<dd>Returns True if sets s and t have no items in common\n",
        "<dt>s.issubset(t) <= t\n",
        "<dd>Returns True if set s is equal to or a subset of set t; use s < t to test whether s is a proper superset of t\n",
        "<dt>s.issuperset(t) s >= t\n",
        "<dd>Returns True if set s is equal to or a superset of set t; use s>t to test whether s is a proper superset of t\n",
        "<dt>s.pop() \n",
        "<dd>Returns and removes a random item from set s, or raises a KeyError exception if s is empty\n",
        "<dt>s.remove(x) \n",
        "<dd>Removes item x from set s, or raises a KeyError exception if x is not in s; see also set.discard()\n",
        "<dt>s.symmetric_difference(t)  s^t\n",
        "<dd>Returns a new set that has every item that is in set s and every item that is in set t, but excluding items that are in both sets\n",
        "<dt>s.symmetric_difference_update(t)  s ^= t\n",
        "<dd>Makes set s contain the symmetric difference of itself and set t\n",
        "<dt>s.union(t)  s|t\n",
        "<dd>Returns a new set that has all the items in set s and all the items in set t that are not in set ❄s\n",
        "<dt>s.update(t) s |= t\n",
        "<dd> Adds every item in set t that is not in set s, to set ss.add(x) Adds item x to set s if it is not already in s\n",
        "\n",
        "</dl>"
      ]
    },
    {
      "cell_type": "code",
      "execution_count": null,
      "metadata": {
        "colab": {
          "base_uri": "https://localhost:8080/"
        },
        "id": "7ySPbqpDNKCf",
        "outputId": "1ef2de8f-89b9-4e2f-c03e-4caddf757796"
      },
      "outputs": [
        {
          "data": {
            "text/plain": [
              "True"
            ]
          },
          "execution_count": 32,
          "metadata": {},
          "output_type": "execute_result"
        }
      ],
      "source": [
        "s={1,2,3}\n",
        "t={2,3}\n",
        "s.issuperset(t)"
      ]
    },
    {
      "cell_type": "code",
      "execution_count": null,
      "metadata": {
        "colab": {
          "base_uri": "https://localhost:8080/"
        },
        "id": "pDEnp6_M6T9w",
        "outputId": "17e1744c-37f7-4295-bf3e-823fedbca7da"
      },
      "outputs": [
        {
          "name": "stdout",
          "output_type": "stream",
          "text": [
            "Writing greetings.py\n"
          ]
        }
      ],
      "source": [
        "%%writefile greetings.py\n",
        "# One common use case for sets is when we want fast membership testing.\n",
        "#For example, we might want to give the user a usage message if they don’t enter any command-line arguments, \n",
        "# or if they enter an argument of “-h” or “--help”:\n",
        "import sys\n",
        "if len(sys.argv) == 1 or sys.argv[1] in {\"-h\", \"--help\"}:\n",
        "  print(\"This is a function required three input\")\n",
        "\n"
      ]
    },
    {
      "cell_type": "code",
      "execution_count": null,
      "metadata": {
        "colab": {
          "base_uri": "https://localhost:8080/"
        },
        "id": "m9RfMy77-Dgx",
        "outputId": "8081a05f-93f4-4e26-ae6f-701379494379"
      },
      "outputs": [
        {
          "name": "stdout",
          "output_type": "stream",
          "text": [
            "This is a function required three input\n"
          ]
        }
      ],
      "source": [
        "%run greetings.py \"-h\""
      ]
    },
    {
      "cell_type": "code",
      "execution_count": null,
      "metadata": {
        "id": "9VFWSMhKT-bZ"
      },
      "outputs": [],
      "source": []
    },
    {
      "cell_type": "code",
      "execution_count": null,
      "metadata": {
        "colab": {
          "base_uri": "https://localhost:8080/"
        },
        "id": "ntjLevL39oBD",
        "outputId": "70d8e202-1dc1-4552-d685-d1636e000ac9"
      },
      "outputs": [
        {
          "data": {
            "text/plain": [
              "{1, 2, 3, 4, 5, 6, 7}"
            ]
          },
          "execution_count": 34,
          "metadata": {},
          "output_type": "execute_result"
        }
      ],
      "source": [
        "# Another common use case for sets is to ensure that we don’t process duplicate data\n",
        "ips = [1,2,3,4,1,2,5,6,7]\n",
        "\n",
        "seen = set()\n",
        "for ip in ips:\n",
        "  if ip not in seen:\n",
        "    seen.add(ip)\n",
        "\n",
        "seen\n",
        "    "
      ]
    },
    {
      "cell_type": "code",
      "execution_count": null,
      "metadata": {
        "colab": {
          "base_uri": "https://localhost:8080/"
        },
        "id": "vgeHPxf4OXod",
        "outputId": "5497d52d-cf6a-495e-d2db-fe8659f48094"
      },
      "outputs": [
        {
          "data": {
            "text/plain": [
              "{1, 2, 3, 4, 5, 6, 7}"
            ]
          },
          "execution_count": 35,
          "metadata": {},
          "output_type": "execute_result"
        }
      ],
      "source": [
        "ips = [1,2,3,4,1,2,5,6,7]\n",
        "seen=set(ips)\n",
        "seen"
      ]
    },
    {
      "cell_type": "markdown",
      "metadata": {
        "id": "HZ7PxKAGVOnc"
      },
      "source": [
        "# Dictionaries \n",
        "A dict is an unordered collection of zero or more key–value pairs whose keys are object references that refer to hashable objects, and whose values are object references referring to objects of any type. Dictionaries are mutable, so we can easily add or remove items, but since they are unordered they have no notion of index position and so cannot be sliced or strided."
      ]
    },
    {
      "cell_type": "code",
      "execution_count": null,
      "metadata": {
        "colab": {
          "base_uri": "https://localhost:8080/"
        },
        "id": "ZC1Nx47TNNKh",
        "outputId": "a8274a6a-b021-41eb-970f-72a3d44eefe0"
      },
      "outputs": [
        {
          "name": "stdout",
          "output_type": "stream",
          "text": [
            "{}\n",
            "{'id': 100270}\n"
          ]
        }
      ],
      "source": [
        "# The dict data type can be called as a function, dict()—\n",
        "# with no arguments it returns an empty dictionary, \n",
        "d=dict()\n",
        "print(d)\n",
        "\n",
        "# with a mapping argument it returns a dictionary based on the argument\n",
        "d=dict(id = 100270)\n",
        "print(d)"
      ]
    },
    {
      "cell_type": "code",
      "execution_count": null,
      "metadata": {
        "colab": {
          "base_uri": "https://localhost:8080/"
        },
        "id": "aMaWxPLfO18v",
        "outputId": "1dbf4c2d-4368-498e-faad-b95cc9cb9372"
      },
      "outputs": [
        {
          "name": "stdout",
          "output_type": "stream",
          "text": [
            "{}\n",
            "{'id': 100270, 'name': 'ashok'}\n"
          ]
        }
      ],
      "source": [
        "# Dictionaries can also be created using braces—empty braces, {}, create an empty dictionary;\n",
        "d={}\n",
        "print(d)\n",
        "# nonempty braces must contain one or more comma separated items each of which consists of a key, a literal colon, and a value\n",
        "d={\"id\":100270, \"name\":\"ashok\"}\n",
        "print(d)"
      ]
    },
    {
      "cell_type": "code",
      "execution_count": null,
      "metadata": {
        "colab": {
          "base_uri": "https://localhost:8080/"
        },
        "id": "oLsr74BKVkQI",
        "outputId": "8231a195-5ccc-44da-eb11-3492e4af3b07"
      },
      "outputs": [
        {
          "name": "stdout",
          "output_type": "stream",
          "text": [
            "{'id': 1948, 'name': 'Washer', 'size': 3}\n",
            "{'id': 1948, 'name': 'Washer', 'size': 3}\n",
            "{'id': 1948, 'name': 'Washer', 'size': 3}\n",
            "{'id': 1948, 'name': 'Washer', 'size': 3}\n",
            "{'id': 1948, 'name': 'Washer', 'size': 3}\n"
          ]
        }
      ],
      "source": [
        "d1 = dict({\"id\": 1948, \"name\": \"Washer\", \"size\": 3}) # created using a dictionary literal\n",
        "d2 = dict(id=1948, name=\"Washer\", size=3) # created using a dictionary keyword arguments\n",
        "d3 = dict([(\"id\", 1948), (\"name\", \"Washer\"), (\"size\", 3)]) # created from sequences\n",
        "d4 = dict(zip((\"id\", \"name\", \"size\"), (1948, \"Washer\", 3))) # created from sequences\n",
        "d5 = {\"id\": 1948, \"name\": \"Washer\", \"size\": 3} #  created from a dictionary literal.\n",
        "print(d1)\n",
        "print(d2)\n",
        "print(d3)\n",
        "print(d4)\n",
        "print(d5)"
      ]
    },
    {
      "cell_type": "code",
      "execution_count": null,
      "metadata": {
        "colab": {
          "background_save": true,
          "base_uri": "https://localhost:8080/",
          "height": 269
        },
        "id": "NwFfX6teR1zE",
        "outputId": "49cf8808-5703-4ef2-9272-5f70412a9f02"
      },
      "outputs": [
        {
          "name": "stdout",
          "output_type": "stream",
          "text": [
            "{'root': 'rover', 'blue': [75, 'R', 2], 21: 'venus', -14: None, (4, 11): 18, 0: 18}\n",
            "rover\n",
            "venus\n",
            "18\n"
          ]
        },
        {
          "ename": "KeyError",
          "evalue": "ignored",
          "output_type": "error",
          "traceback": [
            "\u001b[0;31m---------------------------------------------------------------------------\u001b[0m",
            "\u001b[0;31mKeyError\u001b[0m                                  Traceback (most recent call last)",
            "\u001b[0;32m<ipython-input-4-421366edbf00>\u001b[0m in \u001b[0;36m<module>\u001b[0;34m\u001b[0m\n\u001b[1;32m      5\u001b[0m \u001b[0mprint\u001b[0m\u001b[0;34m(\u001b[0m\u001b[0md\u001b[0m\u001b[0;34m[\u001b[0m\u001b[0;36m21\u001b[0m\u001b[0;34m]\u001b[0m\u001b[0;34m)\u001b[0m\u001b[0;34m\u001b[0m\u001b[0;34m\u001b[0m\u001b[0m\n\u001b[1;32m      6\u001b[0m \u001b[0mprint\u001b[0m\u001b[0;34m(\u001b[0m\u001b[0md\u001b[0m\u001b[0;34m[\u001b[0m\u001b[0;34m(\u001b[0m\u001b[0;36m4\u001b[0m\u001b[0;34m,\u001b[0m\u001b[0;36m11\u001b[0m\u001b[0;34m)\u001b[0m\u001b[0;34m]\u001b[0m\u001b[0;34m)\u001b[0m\u001b[0;34m\u001b[0m\u001b[0;34m\u001b[0m\u001b[0m\n\u001b[0;32m----> 7\u001b[0;31m \u001b[0mprint\u001b[0m\u001b[0;34m(\u001b[0m\u001b[0md\u001b[0m\u001b[0;34m[\u001b[0m\u001b[0;36m91\u001b[0m\u001b[0;34m]\u001b[0m\u001b[0;34m)\u001b[0m\u001b[0;34m\u001b[0m\u001b[0;34m\u001b[0m\u001b[0m\n\u001b[0m",
            "\u001b[0;31mKeyError\u001b[0m: 91"
          ]
        }
      ],
      "source": [
        "d = {\"root\": 18, \"blue\": [75, \"R\", 2], 21: \"venus\", -14: None,\n",
        "\"root\": \"rover\", (4, 11): 18, 0:18}\n",
        "print(d)\n",
        "print(d[\"root\"])\n",
        "print(d[21])\n",
        "print(d[(4,11)])\n",
        "print(d[91])"
      ]
    },
    {
      "cell_type": "code",
      "execution_count": null,
      "metadata": {
        "colab": {
          "base_uri": "https://localhost:8080/"
        },
        "id": "pCPuyANDRC9b",
        "outputId": "7a424df7-a7cb-4a18-a61e-6c0e8d13c560"
      },
      "outputs": [
        {
          "data": {
            "text/plain": [
              "{(4, 11): 18,\n",
              " -14: None,\n",
              " 0: 18,\n",
              " 21: 'venus',\n",
              " 'blue': [75, 'R', 2],\n",
              " 'root': 'rover'}"
            ]
          },
          "execution_count": 9,
          "metadata": {},
          "output_type": "execute_result"
        }
      ],
      "source": [
        "l=d.copy()\n",
        "l"
      ]
    },
    {
      "cell_type": "code",
      "execution_count": null,
      "metadata": {
        "colab": {
          "base_uri": "https://localhost:8080/"
        },
        "id": "yGhfI_X0ROz1",
        "outputId": "3f457f12-bd58-4c83-f635-649c23d8bdff"
      },
      "outputs": [
        {
          "data": {
            "text/plain": [
              "False"
            ]
          },
          "execution_count": 10,
          "metadata": {},
          "output_type": "execute_result"
        }
      ],
      "source": [
        "l is d"
      ]
    },
    {
      "cell_type": "code",
      "execution_count": null,
      "metadata": {
        "colab": {
          "base_uri": "https://localhost:8080/"
        },
        "id": "vqnNhJ7RW7QH",
        "outputId": "a72a37d1-0231-4c71-ffbe-472c1d1d5c25"
      },
      "outputs": [
        {
          "data": {
            "text/plain": [
              "{(4, 11): 18,\n",
              " -14: None,\n",
              " 0: 18,\n",
              " 21: 'venus',\n",
              " 'blue': [75, 'R', 2],\n",
              " 'root': 'rover'}"
            ]
          },
          "execution_count": 11,
          "metadata": {},
          "output_type": "execute_result"
        }
      ],
      "source": [
        "l=d\n",
        "l"
      ]
    },
    {
      "cell_type": "code",
      "execution_count": null,
      "metadata": {
        "colab": {
          "base_uri": "https://localhost:8080/"
        },
        "id": "qM73_bEEXJez",
        "outputId": "4492e5e2-9b3a-45cf-a58a-85154e441934"
      },
      "outputs": [
        {
          "data": {
            "text/plain": [
              "True"
            ]
          },
          "execution_count": 12,
          "metadata": {},
          "output_type": "execute_result"
        }
      ],
      "source": [
        "l is d"
      ]
    },
    {
      "cell_type": "code",
      "execution_count": null,
      "metadata": {
        "colab": {
          "base_uri": "https://localhost:8080/",
          "height": 53
        },
        "id": "gm4K95pxR-Ue",
        "outputId": "fc7fccae-75f6-4ce7-9df0-4a12dda73c43"
      },
      "outputs": [
        {
          "name": "stdout",
          "output_type": "stream",
          "text": [
            "venus\n"
          ]
        },
        {
          "data": {
            "application/vnd.google.colaboratory.intrinsic+json": {
              "type": "string"
            },
            "text/plain": [
              "'wrong'"
            ]
          },
          "execution_count": 13,
          "metadata": {},
          "output_type": "execute_result"
        }
      ],
      "source": [
        "print(l.get(21))\n",
        "l.get(22,\"wrong\")"
      ]
    },
    {
      "cell_type": "code",
      "execution_count": null,
      "metadata": {
        "colab": {
          "base_uri": "https://localhost:8080/",
          "height": 235
        },
        "id": "-eBJv1eDW0u1",
        "outputId": "4348cdc0-07f1-4655-f570-c1de4187f104"
      },
      "outputs": [
        {
          "name": "stdout",
          "output_type": "stream",
          "text": [
            "{'root': 'rover', 'blue': [75, 'R', 2], 21: 'venus', -14: None, (4, 11): 18, 0: 18, 'X': 59}\n",
            "{'root': 'rover', 'blue': [75, 'R', 2], 21: 'venus', -14: None, (4, 11): 18, 0: 18}\n"
          ]
        },
        {
          "ename": "KeyError",
          "evalue": "ignored",
          "output_type": "error",
          "traceback": [
            "\u001b[0;31m---------------------------------------------------------------------------\u001b[0m",
            "\u001b[0;31mKeyError\u001b[0m                                  Traceback (most recent call last)",
            "\u001b[0;32m<ipython-input-15-9ed981d45111>\u001b[0m in \u001b[0;36m<module>\u001b[0;34m()\u001b[0m\n\u001b[1;32m      6\u001b[0m \u001b[0;32mdel\u001b[0m \u001b[0md\u001b[0m\u001b[0;34m[\u001b[0m\u001b[0;34m\"X\"\u001b[0m\u001b[0;34m]\u001b[0m   \u001b[0;31m# will delete the item whose key is “mars” from the dictionary,\u001b[0m\u001b[0;34m\u001b[0m\u001b[0;34m\u001b[0m\u001b[0m\n\u001b[1;32m      7\u001b[0m \u001b[0mprint\u001b[0m\u001b[0;34m(\u001b[0m\u001b[0md\u001b[0m\u001b[0;34m)\u001b[0m\u001b[0;34m\u001b[0m\u001b[0;34m\u001b[0m\u001b[0m\n\u001b[0;32m----> 8\u001b[0;31m \u001b[0;32mdel\u001b[0m \u001b[0md\u001b[0m\u001b[0;34m[\u001b[0m\u001b[0;34m\"X\"\u001b[0m\u001b[0;34m]\u001b[0m   \u001b[0;31m# raise a KeyError exception if no item has that key\u001b[0m\u001b[0;34m\u001b[0m\u001b[0;34m\u001b[0m\u001b[0m\n\u001b[0m",
            "\u001b[0;31mKeyError\u001b[0m: 'X'"
          ]
        }
      ],
      "source": [
        "# To add an item we can use the = operator, f\n",
        "d[\"X\"] = 59\n",
        "print(d)\n",
        "\n",
        "# To delete an item we use the del statement\n",
        "del d[\"X\"]   # will delete the item whose key is “mars” from the dictionary, \n",
        "print(d)\n",
        "del d[\"X\"]   # raise a KeyError exception if no item has that key"
      ]
    },
    {
      "cell_type": "code",
      "execution_count": null,
      "metadata": {
        "colab": {
          "base_uri": "https://localhost:8080/"
        },
        "id": "E8mobvgsS5Ex",
        "outputId": "afce0ac1-c235-48e3-faae-f437d41c398d"
      },
      "outputs": [
        {
          "data": {
            "text/plain": [
              "(0, 18)"
            ]
          },
          "execution_count": 16,
          "metadata": {},
          "output_type": "execute_result"
        }
      ],
      "source": [
        "d.popitem()"
      ]
    },
    {
      "cell_type": "code",
      "execution_count": null,
      "metadata": {
        "id": "6hsjzQVih7Mo"
      },
      "outputs": [],
      "source": [
        "d.get(22)"
      ]
    },
    {
      "cell_type": "markdown",
      "metadata": {
        "id": "2HApolf6XqAR"
      },
      "source": [
        "<dl>\n",
        "<dt>d.clear() <dd>Removes all items from dict d\n",
        "<dt>d.copy()  <dd>Returns a shallow copy of dict d \n",
        "<dt>d.fromkeys(s, v)\n",
        " <dd>Returns a dict whose keys are the items in sequence s and whose values are None or v if v is given\n",
        "<dt>d.get(k)  <dd>Returns key k’s associated value, or None if k isn’t in dict d\n",
        "<dt>d.get(k, v)  <dd>Returns key k’s associated value, or v if k isn’t in dict d\n",
        "<dt>d.items()  <dd>Returns a view★ of all the (key, value) pairs in dict d\n",
        "<dt>d.keys()  <dd>Returns a view★ of all the keys in dict d\n",
        "<dt>d.pop(k)  <dd>Returns key k’s associated value and removes the item\n",
        "whose key is k, or raises a KeyError exception if k isn’t in d\n",
        "<dt>d.pop(k, v)  <dd>Returns key k’s associated value and removes the item\n",
        "whose key is k, or returns v if k isn’t in dict d\n",
        "<dt>d.popitem()  <dd>Returns and removes an arbitrary (key, value) pair from\n",
        "dict d, or raises a KeyError exception if d is empty\n",
        "<dt>d.setdefault(k, v)\n",
        " <dd>The same as the dict.get() method, except that if the key is not in dict d, a new item is inserted with the key k, and with a value of None or of v if v is given\n",
        "<dt>d.update(a)  <dd>Adds every (key, value) pair from a that isn’t in dict d to d,\n",
        "and for every key that is in both d and a, replaces the corre\u0002sponding value in d with the one in a—a can be a dictionary,\n",
        "an iterable of (key, value) pairs, or keyword arguments\n",
        "<dt>d.values()  <dd>Returns a view★ of all the values in dict d\n",
        "</dl>"
      ]
    },
    {
      "cell_type": "code",
      "execution_count": null,
      "metadata": {
        "colab": {
          "base_uri": "https://localhost:8080/"
        },
        "id": "2IAY7niLiofJ",
        "outputId": "31c1e3db-1511-4bf6-e34c-6527e24cc3dc"
      },
      "outputs": [
        {
          "data": {
            "text/plain": [
              "{1: 0, 2: 0}"
            ]
          },
          "execution_count": 19,
          "metadata": {},
          "output_type": "execute_result"
        }
      ],
      "source": [
        "p={}\n",
        "p.setdefault(1, 0)\n",
        "p.setdefault(2, 0)\n",
        "p"
      ]
    },
    {
      "cell_type": "code",
      "execution_count": null,
      "metadata": {
        "colab": {
          "base_uri": "https://localhost:8080/"
        },
        "id": "YS-MQW7tZ_Yl",
        "outputId": "1a7ba600-e1a7-4f57-c255-bd9e4c9129f2"
      },
      "outputs": [
        {
          "name": "stdout",
          "output_type": "stream",
          "text": [
            "dict_items([('root', 18), ('blue', [75, 'R', 2]), (21, 'venus'), (-14, None), ('mars', 'rover'), ((4, 11), 18), (0, 45)])\n",
            "dict_keys(['root', 'blue', 21, -14, 'mars', (4, 11), 0])\n",
            "dict_values([18, [75, 'R', 2], 'venus', None, 'rover', 18, 45])\n"
          ]
        }
      ],
      "source": [
        "d = {\"root\": 18, \"blue\": [75, \"R\", 2], 21: \"venus\", -14: None,\n",
        "\"mars\": \"rover\", (4, 11): 18, 0: 45}\n",
        "\n",
        "print(d.items())\n",
        "print(d.keys())\n",
        "print(d.values())"
      ]
    },
    {
      "cell_type": "code",
      "execution_count": null,
      "metadata": {
        "colab": {
          "base_uri": "https://localhost:8080/"
        },
        "id": "GQ9vYIDObSyM",
        "outputId": "dd76b614-1c78-4cf5-f023-a8708ed5be67"
      },
      "outputs": [
        {
          "name": "stdout",
          "output_type": "stream",
          "text": [
            "dict_items([])\n"
          ]
        }
      ],
      "source": [
        "d.clear()\n",
        "print(d.items())"
      ]
    },
    {
      "cell_type": "code",
      "execution_count": null,
      "metadata": {
        "colab": {
          "base_uri": "https://localhost:8080/"
        },
        "id": "Qlz4ocLWbjLo",
        "outputId": "62c1daca-d7a7-4242-a5be-3509a78d1a1d"
      },
      "outputs": [
        {
          "name": "stdout",
          "output_type": "stream",
          "text": [
            "18\n",
            "dict_items([('blue', [75, 'R', 2]), (21, 'venus'), (-14, None), ('mars', 'rover'), ((4, 11), 18), (0, 45)])\n",
            "[75, 'R', 2]\n",
            "dict_items([(21, 'venus'), (-14, None), ('mars', 'rover'), ((4, 11), 18), (0, 45)])\n",
            "(0, 45)\n",
            "dict_items([(21, 'venus'), (-14, None), ('mars', 'rover'), ((4, 11), 18)])\n",
            "((4, 11), 18)\n",
            "dict_items([(21, 'venus'), (-14, None), ('mars', 'rover')])\n"
          ]
        }
      ],
      "source": [
        "d = {\"root\": 18, \"blue\": [75, \"R\", 2], 21: \"venus\", -14: None,\n",
        "\"mars\": \"rover\", (4, 11): 18, 0: 45}\n",
        "\n",
        "print(d.pop(\"root\"))\n",
        "print(d.items())\n",
        "\n",
        "print(d.pop(\"blue\",[75, \"R\", 2]))\n",
        "print(d.items())\n",
        "\n",
        "print(d.popitem())\n",
        "print(d.items())\n",
        "\n",
        "print(d.popitem())\n",
        "print(d.items())\n"
      ]
    },
    {
      "cell_type": "code",
      "execution_count": null,
      "metadata": {
        "colab": {
          "base_uri": "https://localhost:8080/"
        },
        "id": "3d2iChQ_co1i",
        "outputId": "64d555ef-4713-4f7e-e511-dd8ad6df791a"
      },
      "outputs": [
        {
          "name": "stdout",
          "output_type": "stream",
          "text": [
            "ash 18\n",
            "blue [75, 'R', 2]\n",
            "21 venus\n",
            "-14 None\n",
            "mars rover\n",
            "(4, 11) 18\n",
            "0 45\n"
          ]
        }
      ],
      "source": [
        "d = {\"ash\": 18, \"blue\": [75, \"R\", 2], 21: \"venus\", -14: None,\n",
        "\"mars\": \"rover\", (4, 11): 18, 0: 45}\n",
        "\n",
        "for item in d.items():\n",
        "  print(item[0], item[1])"
      ]
    },
    {
      "cell_type": "code",
      "execution_count": null,
      "metadata": {
        "colab": {
          "base_uri": "https://localhost:8080/"
        },
        "id": "ehJIVxdyc1VQ",
        "outputId": "47de10be-0780-46a2-ffe4-7ce53cf9026e"
      },
      "outputs": [
        {
          "name": "stdout",
          "output_type": "stream",
          "text": [
            "root 18\n",
            "blue [75, 'R', 2]\n",
            "21 venus\n",
            "-14 None\n",
            "mars rover\n",
            "(4, 11) 18\n",
            "0 45\n"
          ]
        }
      ],
      "source": [
        "for key, value in d.items(): \n",
        "  print(key, value)"
      ]
    },
    {
      "cell_type": "code",
      "execution_count": null,
      "metadata": {
        "colab": {
          "base_uri": "https://localhost:8080/"
        },
        "id": "elH-5jxodCae",
        "outputId": "43fd0afc-30a1-4548-f266-2da18e1f503d"
      },
      "outputs": [
        {
          "name": "stdout",
          "output_type": "stream",
          "text": [
            "18\n",
            "[75, 'R', 2]\n",
            "venus\n",
            "None\n",
            "rover\n",
            "18\n",
            "45\n"
          ]
        }
      ],
      "source": [
        "for value in d.values():\n",
        "  print(value)"
      ]
    },
    {
      "cell_type": "code",
      "execution_count": null,
      "metadata": {
        "colab": {
          "base_uri": "https://localhost:8080/"
        },
        "id": "coSIZGpSdFao",
        "outputId": "0359d646-6418-4d4e-fd33-7decede28178"
      },
      "outputs": [
        {
          "name": "stdout",
          "output_type": "stream",
          "text": [
            "ash 18\n",
            "blue [75, 'R', 2]\n",
            "21 venus\n",
            "-14 None\n",
            "mars rover\n",
            "(4, 11) 18\n",
            "0 45\n"
          ]
        }
      ],
      "source": [
        "for key in d:\n",
        "  print(key, d[key])"
      ]
    },
    {
      "cell_type": "code",
      "execution_count": null,
      "metadata": {
        "colab": {
          "base_uri": "https://localhost:8080/"
        },
        "id": "optF8xCwdTGQ",
        "outputId": "42dd70e7-c8fe-431d-ba78-772829a6f866"
      },
      "outputs": [
        {
          "name": "stdout",
          "output_type": "stream",
          "text": [
            "ash\n",
            "blue\n",
            "21\n",
            "-14\n",
            "mars\n",
            "(4, 11)\n",
            "0\n"
          ]
        }
      ],
      "source": [
        "for key in d.keys():\n",
        "  print(key)"
      ]
    },
    {
      "cell_type": "code",
      "execution_count": null,
      "metadata": {
        "colab": {
          "base_uri": "https://localhost:8080/",
          "height": 269
        },
        "id": "qO2-lsI7er4N",
        "outputId": "b309287a-f449-4b2d-fe9e-4dc27221f272"
      },
      "outputs": [
        {
          "name": "stdout",
          "output_type": "stream",
          "text": [
            "root 19\n",
            "blue 76\n",
            "R 3\n",
            "venus 22\n"
          ]
        },
        {
          "ename": "TypeError",
          "evalue": "ignored",
          "output_type": "error",
          "traceback": [
            "\u001b[0;31m---------------------------------------------------------------------------\u001b[0m",
            "\u001b[0;31mTypeError\u001b[0m                                 Traceback (most recent call last)",
            "\u001b[0;32m<ipython-input-27-7cbf1e423336>\u001b[0m in \u001b[0;36m<module>\u001b[0;34m()\u001b[0m\n\u001b[1;32m      7\u001b[0m \"mars\": \"rover\", (4, 11): 18, 0: 45}\n\u001b[1;32m      8\u001b[0m \u001b[0;32mfor\u001b[0m \u001b[0mkey\u001b[0m \u001b[0;32min\u001b[0m \u001b[0md\u001b[0m\u001b[0;34m:\u001b[0m\u001b[0;34m\u001b[0m\u001b[0;34m\u001b[0m\u001b[0m\n\u001b[0;32m----> 9\u001b[0;31m   \u001b[0md\u001b[0m\u001b[0;34m[\u001b[0m\u001b[0mkey\u001b[0m\u001b[0;34m]\u001b[0m \u001b[0;34m+=\u001b[0m \u001b[0;36m1\u001b[0m\u001b[0;34m\u001b[0m\u001b[0;34m\u001b[0m\u001b[0m\n\u001b[0m",
            "\u001b[0;31mTypeError\u001b[0m: 'int' object is not iterable"
          ]
        }
      ],
      "source": [
        "d = {\"root\": 18, \"blue\": 75, \"R\": 2, \"venus\":21}\n",
        "for key in d:\n",
        "  d[key] += 1\n",
        "  print(key, d[key] )\n",
        "\n",
        "d = {\"root\": 18, \"blue\": [75, \"R\", 2], 21: \"venus\", -14: None,\n",
        "\"mars\": \"rover\", (4, 11): 18, 0: 45}\n",
        "for key in d:\n",
        "  d[key] += 1"
      ]
    },
    {
      "cell_type": "code",
      "execution_count": null,
      "metadata": {
        "colab": {
          "base_uri": "https://localhost:8080/"
        },
        "id": "X1xZMFoGiRwz",
        "outputId": "23133c66-e94d-4ca1-c320-aa54af4aadc2"
      },
      "outputs": [
        {
          "name": "stdout",
          "output_type": "stream",
          "text": [
            "{('100271', 'Kumar')}\n",
            "{('100270', 'Ashok'), ('100271', 'Kumar'), ('100370', 'Rakesh')}\n",
            "{('100270', 'Ashok')}\n",
            "{('100370', 'Rakesh')}\n",
            "{('100270', 'Ashok'), ('100370', 'Rakesh')}\n"
          ]
        }
      ],
      "source": [
        "#  key and item views support some set-like operations\n",
        "a={\"100270\":\"Ashok\",\"100271\":\"Kumar\"}\n",
        "b={\"100370\":\"Rakesh\",\"100271\":\"Kumar\"}\n",
        "\n",
        "print(a.items() & b.items()) #intersection\n",
        "print(a.items() | b.items()) #union\n",
        "print(a.items() - b.items()) #difference\n",
        "print(b.items() - a.items()) #difference\n",
        "print(a.items() ^ b.items()) #symmetric difference\n"
      ]
    },
    {
      "cell_type": "code",
      "execution_count": null,
      "metadata": {
        "colab": {
          "base_uri": "https://localhost:8080/"
        },
        "id": "CCrFvRpIkg_F",
        "outputId": "ed111fc2-df30-4685-8042-6f82d49834a5"
      },
      "outputs": [
        {
          "name": "stdout",
          "output_type": "stream",
          "text": [
            "Writing uniquewords1.py\n"
          ]
        }
      ],
      "source": [
        "%%writefile uniquewords1.py\n",
        "# a complete program (uniquewords1.py) that lists every word and the number of \n",
        "# times it occurs in alphabetical order for all the files listed on the command line\n",
        "\n",
        "import string\n",
        "import sys\n",
        "words = {}\n",
        "strip1 = string.whitespace + string.punctuation + string.digits + \"\\\"'\"\n",
        "for filename in sys.argv[1:]:\n",
        "  for line in open(filename):\n",
        "    for word in line.lower().split():\n",
        "      word = word.strip(strip1)  # lstrip(), rstrip()\n",
        "      if len(word) > 2:\n",
        "        words[word] = words.get(word, 0) + 1\n",
        "\n",
        "for word in sorted(words):\n",
        "  print(\"'{0}' occurs {1} times\".format(word, words[word]))"
      ]
    },
    {
      "cell_type": "code",
      "execution_count": null,
      "metadata": {
        "colab": {
          "base_uri": "https://localhost:8080/",
          "height": 35
        },
        "id": "gmvjPhlVVK1D",
        "outputId": "7514dfd1-47c2-4403-8615-d41bca65673d"
      },
      "outputs": [
        {
          "data": {
            "application/vnd.google.colaboratory.intrinsic+json": {
              "type": "string"
            },
            "text/plain": [
              "' \\t\\n\\r\\x0b\\x0c!\"#$%&\\'()*+,-./:;<=>?@[\\\\]^_`{|}~0123456789\"\\''"
            ]
          },
          "execution_count": 17,
          "metadata": {},
          "output_type": "execute_result"
        }
      ],
      "source": [
        "import string\n",
        "strip = string.whitespace + string.punctuation + string.digits + \"\\\"'\"\n",
        "strip"
      ]
    },
    {
      "cell_type": "code",
      "execution_count": null,
      "metadata": {
        "colab": {
          "base_uri": "https://localhost:8080/",
          "height": 35
        },
        "id": "Bjz9VtF7XCIX",
        "outputId": "154697ee-12f3-4edb-b655-9a86c56d34f9"
      },
      "outputs": [
        {
          "data": {
            "application/vnd.google.colaboratory.intrinsic+json": {
              "type": "string"
            },
            "text/plain": [
              "'ashok'"
            ]
          },
          "execution_count": 27,
          "metadata": {},
          "output_type": "execute_result"
        }
      ],
      "source": [
        "word=\"@ashok\\t\"\n",
        "word=word.strip(strip)\n",
        "word"
      ]
    },
    {
      "cell_type": "code",
      "execution_count": null,
      "metadata": {
        "colab": {
          "base_uri": "https://localhost:8080/"
        },
        "id": "RUxx2qhymN55",
        "outputId": "1a574baa-7763-4bc3-d3d7-d77f5a97714d"
      },
      "outputs": [
        {
          "name": "stdout",
          "output_type": "stream",
          "text": [
            "Writing mywords.txt\n"
          ]
        }
      ],
      "source": [
        "%%writefile mywords.txt\n",
        "Hello!\n",
        "Welcome@ to the world of python.\n",
        "You will enjoy learning when you practice your own and found it running successfully."
      ]
    },
    {
      "cell_type": "code",
      "execution_count": null,
      "metadata": {
        "colab": {
          "base_uri": "https://localhost:8080/"
        },
        "id": "JS_-PglvnSw-",
        "outputId": "d85bf45b-4987-4b0b-ea87-d916938f8e31"
      },
      "outputs": [
        {
          "name": "stdout",
          "output_type": "stream",
          "text": [
            "'and' occurs 2 times\n",
            "'enjoy' occurs 2 times\n",
            "'found' occurs 2 times\n",
            "'hello' occurs 2 times\n",
            "'learning' occurs 2 times\n",
            "'own' occurs 2 times\n",
            "'practice' occurs 2 times\n",
            "'python' occurs 2 times\n",
            "'running' occurs 2 times\n",
            "'successfully' occurs 2 times\n",
            "'the' occurs 2 times\n",
            "'welcome' occurs 2 times\n",
            "'when' occurs 2 times\n",
            "'will' occurs 2 times\n",
            "'world' occurs 2 times\n",
            "'you' occurs 4 times\n",
            "'your' occurs 2 times\n"
          ]
        }
      ],
      "source": [
        "%run uniquewords1.py mywords.txt mywords.txt"
      ]
    },
    {
      "cell_type": "markdown",
      "metadata": {
        "id": "V23UYJY-rrN2"
      },
      "source": [
        "# Built-in Modules\n",
        "<ol>\n",
        "<li>Mathematics and Numbers\n",
        "\n",
        "</ol>"
      ]
    },
    {
      "cell_type": "markdown",
      "metadata": {
        "id": "v42eddqqsLnR"
      },
      "source": [
        "# Mathematics and Numbers\n",
        "\n",
        "In addition to the built-in <b>int, float, and complex numbers</b>, the library provides the <b>decimal.Decimal and fractions.Fraction</b> numbers. \n",
        "\n",
        "Three numeric libraries are available: \n",
        "<ol>\n",
        "<li><b>math</b> for the standard mathematical functions, \n",
        "<li><b>cmath</b> for complex number mathematical functions, and \n",
        "<li><b>random</b> which provides many functions for random number generation;"
      ]
    },
    {
      "cell_type": "code",
      "execution_count": null,
      "metadata": {
        "colab": {
          "base_uri": "https://localhost:8080/"
        },
        "id": "M-csq7pvsJGM",
        "outputId": "57e578c5-5c5b-4c46-86fb-631e17d62925"
      },
      "outputs": [
        {
          "name": "stdout",
          "output_type": "stream",
          "text": [
            "3 <class 'int'>\n",
            "3 True\n",
            "120000.0 <class 'float'>\n",
            "(3+5j) <class 'complex'>\n",
            "2/5 True\n"
          ]
        }
      ],
      "source": [
        "import numbers\n",
        "x=3\n",
        "print(x,type(x))\n",
        "print(x, isinstance(x,numbers.Number))\n",
        "x=12E4\n",
        "print(x,type(x))\n",
        "x=3+5j\n",
        "print(x,type(x))\n",
        "\n",
        "\n",
        "from fractions import Fraction\n",
        "x = Fraction(2,5)\n",
        "print(x,isinstance(x, numbers.Rational))\n",
        "\n"
      ]
    },
    {
      "cell_type": "code",
      "execution_count": null,
      "metadata": {
        "colab": {
          "base_uri": "https://localhost:8080/"
        },
        "id": "urzt7ci1aVdZ",
        "outputId": "b0d9a8ad-edc9-476b-a8c6-fa904263568c"
      },
      "outputs": [
        {
          "name": "stdout",
          "output_type": "stream",
          "text": [
            "27\n",
            "6.0\n"
          ]
        }
      ],
      "source": [
        "import math\n",
        "x=3\n",
        "print(pow(x,3))\n",
        "x=36\n",
        "print(math.sqrt(x))"
      ]
    },
    {
      "cell_type": "code",
      "execution_count": null,
      "metadata": {
        "colab": {
          "base_uri": "https://localhost:8080/"
        },
        "id": "t47s3an6686v",
        "outputId": "5fcdacab-4221-45c8-b671-c445ae1219f7"
      },
      "outputs": [
        {
          "name": "stdout",
          "output_type": "stream",
          "text": [
            "(9.15449914691143-4.168906959966565j)\n",
            "(-0.9880316240928618+0j)\n",
            "(0.5569716761534184+0.42682189085546657j)\n"
          ]
        }
      ],
      "source": [
        "import cmath\n",
        "print (cmath.sin(2 + 3j))\n",
        "print (cmath.sin(30+0j))\n",
        "\n",
        "print (cmath.log10(2+ 3j))"
      ]
    },
    {
      "cell_type": "code",
      "execution_count": null,
      "metadata": {
        "colab": {
          "base_uri": "https://localhost:8080/"
        },
        "id": "SA-BaD167yUa",
        "outputId": "5a71f4eb-8073-4bb9-8e62-d5ff7f313a6b"
      },
      "outputs": [
        {
          "name": "stdout",
          "output_type": "stream",
          "text": [
            "0.4288890546751146\n",
            "0.5780913011344704\n",
            "0.5714025946899135\n",
            "0.5714025946899135\n"
          ]
        }
      ],
      "source": [
        "import random\n",
        "\n",
        "print(random.random()) # By default the random number generator uses the current system time.\n",
        "\n",
        "print(random.random())\n",
        "\n",
        "random.seed(10) # Use the seed() method to customize the start number of the random number generator.\n",
        "print(random.random())\n",
        "\n",
        "random.seed(10)\n",
        "print(random.random())"
      ]
    },
    {
      "cell_type": "markdown",
      "metadata": {
        "id": "nNp2reWl9lVn"
      },
      "source": [
        "# Times and Dates\n",
        "The calendar and datetime modules provide functions and classes for date and\n",
        "time handling. However, they are based on an idealized Gregorian calendar,\n",
        "so they are not suitable for dealing with pre-Gregorian dates. \n",
        "\n",
        "Time and date handling is a very complex topic—the calendars in use have varied in differ\u0002ent places and at different times, a day is not precisely 24 hours, a year is not exactly 365 days, and daylight saving time and time zones vary"
      ]
    },
    {
      "cell_type": "code",
      "execution_count": null,
      "metadata": {
        "colab": {
          "base_uri": "https://localhost:8080/"
        },
        "id": "UAzjoDyn_v-S",
        "outputId": "bab1079f-00bd-4c6b-fdb7-d1be49990707"
      },
      "outputs": [
        {
          "name": "stdout",
          "output_type": "stream",
          "text": [
            "2022-07-28 07:18:04.971200\n",
            "time.struct_time(tm_year=2022, tm_mon=7, tm_mday=28, tm_hour=7, tm_min=18, tm_sec=4, tm_wday=3, tm_yday=209, tm_isdst=0)\n"
          ]
        }
      ],
      "source": [
        "from datetime import datetime\n",
        " \n",
        "dt = datetime.today()\n",
        "print(dt)\n",
        "struct = dt.utctimetuple()\n",
        "print(struct)"
      ]
    },
    {
      "cell_type": "code",
      "execution_count": null,
      "metadata": {
        "colab": {
          "base_uri": "https://localhost:8080/"
        },
        "id": "5G9EfBfRAsUm",
        "outputId": "4f83a679-df3b-4bf2-dbba-7394eed1e3c9"
      },
      "outputs": [
        {
          "name": "stdout",
          "output_type": "stream",
          "text": [
            "1658993077.0\n",
            "1658993077\n"
          ]
        }
      ],
      "source": [
        "import calendar\n",
        "import time\n",
        "from datetime import datetime\n",
        "#dt = datetime(2017, 12, 31)\n",
        "dt = datetime.today()\n",
        "print(time.mktime(dt.timetuple())) # time.mktime() assumes that the passed tuple is in local time, \n",
        "print(calendar.timegm(dt.timetuple())) # calendar.timegm() assumes it's in GMT/UTC."
      ]
    },
    {
      "cell_type": "code",
      "execution_count": null,
      "metadata": {
        "id": "mLgfFFyoC1KP"
      },
      "outputs": [],
      "source": []
    },
    {
      "cell_type": "markdown",
      "metadata": {
        "id": "VoU-7FJkZbAJ"
      },
      "source": [
        "# File, Directory, and Process Handling \n",
        "\n",
        "The shutil module provides high-level functions for file and directory handling,\n",
        "including shutil.copy() and shutil.copytree() for copying files and entire\n",
        "directory trees, shutil.move() for moving directory trees, and shutil.rmtree()\n",
        "for removing entire directory trees, including nonempty ones.\n",
        "\n",
        "The filecmp module can be used to compare files with the filecmp.cmp() function and to compare entire directories with the filecmp.cmpfiles() function\n",
        "\n",
        "The subprocess module which can start other processes, communicate with them using pipes, and retrieve their results. \n",
        "\n",
        "The multiprocessing module, provides extensive facilities for offloading work to multiple processes and for accumulating results, and can often be used as an alternative to multithreading.\n",
        "\n",
        "The os module provides platform-independent access to operating system functionality. The os.environ variable holds a mapping object whose items are environment variable names and their values. The program’s working directory\n",
        "is provided by os.getcwd() and can be changed using os.chdir()."
      ]
    },
    {
      "cell_type": "code",
      "execution_count": null,
      "metadata": {
        "colab": {
          "base_uri": "https://localhost:8080/",
          "height": 35
        },
        "id": "Luw1xYTJaugW",
        "outputId": "450a9d0d-4a03-46e2-fe99-f51a7aa66ae0"
      },
      "outputs": [
        {
          "data": {
            "application/vnd.google.colaboratory.intrinsic+json": {
              "type": "string"
            },
            "text/plain": [
              "'/content'"
            ]
          },
          "execution_count": 46,
          "metadata": {},
          "output_type": "execute_result"
        }
      ],
      "source": [
        "import os\n",
        "os.getcwd()"
      ]
    },
    {
      "cell_type": "code",
      "execution_count": null,
      "metadata": {
        "colab": {
          "base_uri": "https://localhost:8080/",
          "height": 122
        },
        "id": "t6guCdd8a4lp",
        "outputId": "0971932e-a113-4203-e52f-63de78b2fda2"
      },
      "outputs": [
        {
          "name": "stdout",
          "output_type": "stream",
          "text": [
            "/content/sample_data\n",
            "True\n",
            "True\n",
            "True\n",
            "False\n"
          ]
        },
        {
          "data": {
            "application/vnd.google.colaboratory.intrinsic+json": {
              "type": "string"
            },
            "text/plain": [
              "'/content'"
            ]
          },
          "execution_count": 47,
          "metadata": {},
          "output_type": "execute_result"
        }
      ],
      "source": [
        "os.chdir('/content/sample_data')\n",
        "print(os.getcwd())\n",
        "\n",
        "# os.access() function can be used to determine whether a file exists or whether it is readable or writable\n",
        "print(os.access(\"mnist_test.csv\",os.F_OK)) #  to test the existence of path\n",
        "print(os.access(\"mnist_test.csv\",os.R_OK)) # to test the readability of path\n",
        "print(os.access(\"mnist_test.csv\",os.W_OK)) # to test the writability of path\n",
        "print(os.access(\"mnist_test.csv\",os.X_OK)) # to test the executability of path\n",
        "\n",
        "os.chdir('/content')\n",
        "os.getcwd()\n"
      ]
    },
    {
      "cell_type": "code",
      "execution_count": null,
      "metadata": {
        "colab": {
          "base_uri": "https://localhost:8080/"
        },
        "id": "FSA39z7rdHXi",
        "outputId": "6ac90a8a-86ad-47cd-a616-d0041f8ba2a4"
      },
      "outputs": [
        {
          "data": {
            "text/plain": [
              "['.config', 'uniquewords1.py', 'mywords.txt', 'sample_data']"
            ]
          },
          "execution_count": 48,
          "metadata": {},
          "output_type": "execute_result"
        }
      ],
      "source": [
        "# The os.listdir() function returns a list of the entries \n",
        "# (e.g., the files and directories, but excluding the . and .. entries), \n",
        "# in the directory it is given\n",
        "\n",
        "os.listdir()"
      ]
    },
    {
      "cell_type": "code",
      "execution_count": null,
      "metadata": {
        "colab": {
          "base_uri": "https://localhost:8080/"
        },
        "id": "nMGNISvOdjAX",
        "outputId": "e70a7af7-90f1-421b-cff7-f52826a3857f"
      },
      "outputs": [
        {
          "data": {
            "text/plain": [
              "os.stat_result(st_mode=16877, st_ino=4063266, st_dev=38, st_nlink=1, st_uid=0, st_gid=0, st_size=4096, st_atime=1658845531, st_mtime=1657719788, st_ctime=1658845531)"
            ]
          },
          "execution_count": 49,
          "metadata": {},
          "output_type": "execute_result"
        }
      ],
      "source": [
        "# The os.stat() function returns various items of information about a file or \n",
        "# directory, such as its mode, access time, and size\n",
        "os.stat('sample_data')"
      ]
    },
    {
      "cell_type": "code",
      "execution_count": null,
      "metadata": {
        "id": "CDc7dHKMeRH4"
      },
      "outputs": [],
      "source": [
        "# Directories can be created using \n",
        "os.mkdir(\"Ashok\")\n",
        "os.mkdir(\"Ashok1\")\n",
        "os.mkdir(\"Ashok2\")\n",
        "os.mkdir(\"Ashok3\")\n",
        "# or if intermediate directories need to be created, using \n",
        "os.makedirs(\"Ashok/Kumar/Patel\")\n",
        "\n"
      ]
    },
    {
      "cell_type": "code",
      "execution_count": null,
      "metadata": {
        "id": "UfMkprSTe1Nu"
      },
      "outputs": [],
      "source": [
        "# Empty directories can be removed using \n",
        "os.rmdir(\"Ashok1\"), \n",
        "# and directory trees that contain only empty directories can be removed using \n",
        "os.removedirs(\"Ashok/Kumar/Patel\")"
      ]
    },
    {
      "cell_type": "code",
      "execution_count": null,
      "metadata": {
        "id": "d74tmAkvfqnk"
      },
      "outputs": [],
      "source": [
        "# Files or directories can be removed using\n",
        "os.remove(\"mywords.txt\"), \n",
        "\n",
        "# and can be renamed using \n",
        "os.rename(\"Ashok3\",\"Kumar\")"
      ]
    },
    {
      "cell_type": "code",
      "execution_count": null,
      "metadata": {
        "colab": {
          "base_uri": "https://localhost:8080/"
        },
        "id": "0_Dfe1_9iCX9",
        "outputId": "b0baf84c-3e12-4ee6-9f98-8b46ab519066"
      },
      "outputs": [
        {
          "name": "stdout",
          "output_type": "stream",
          "text": [
            "./uniquewords1.py\n",
            "./.config\n",
            "./Ashok2\n",
            "./Kumar\n",
            "./sample_data\n",
            "./.config/active_config\n",
            "./.config/.last_update_check.json\n",
            "./.config/gce\n",
            "./.config/.last_survey_prompt.yaml\n",
            "./.config/.last_opt_in_prompt.yaml\n",
            "./.config/config_sentinel\n",
            "./.config/logs\n",
            "./.config/configurations\n",
            "./.config/logs/2022.07.13\n",
            "./.config/logs/2022.07.13/13.42.32.441281.log\n",
            "./.config/logs/2022.07.13/13.41.43.930690.log\n",
            "./.config/logs/2022.07.13/13.42.53.106562.log\n",
            "./.config/logs/2022.07.13/13.42.53.841315.log\n",
            "./.config/logs/2022.07.13/13.42.05.105178.log\n",
            "./.config/logs/2022.07.13/13.42.25.014838.log\n",
            "./.config/configurations/config_default\n",
            "./sample_data/anscombe.json\n",
            "./sample_data/README.md\n",
            "./sample_data/mnist_test.csv\n",
            "./sample_data/california_housing_train.csv\n",
            "./sample_data/california_housing_test.csv\n",
            "./sample_data/mnist_train_small.csv\n"
          ]
        }
      ],
      "source": [
        "# The os.walk() function iterates over an entire directory tree, retrieving the\n",
        "# name of every file and directory in turn\n",
        "\n",
        "\n",
        "for root, dirs, files in os.walk(\".\", topdown=True):\n",
        "   for name in files:\n",
        "      print(os.path.join(root, name))\n",
        "   for name in dirs:\n",
        "      print(os.path.join(root, name))"
      ]
    },
    {
      "cell_type": "markdown",
      "metadata": {
        "id": "J21vCkIbC1nT"
      },
      "source": [
        "# String Handling\n",
        "The string module provides some useful constants such as string.ascii_letters and string.hexdigits. It also provides the string.Formatter class which we\n",
        "can subclass to provide custom string formatters. \n",
        "\n",
        "The textwrap module can be used to wrap lines of text to a specified width, and to minimize indentation.\n",
        "\n",
        "The struct module provides functions for packing and unpacking numbers, Booleans, and strings to and from bytes objects using their binary representations.\n",
        "\n",
        "The difflib module provides classes and methods for comparing sequences,\n",
        "such as strings, and is able to produce output both in standard “diff ” formats\n",
        "and in HTML\n",
        "\n",
        "Python’s most powerful string handling module is the re (regular expression)\n",
        "module."
      ]
    },
    {
      "cell_type": "code",
      "execution_count": null,
      "metadata": {
        "id": "B0c62qmxF5Uj"
      },
      "outputs": [],
      "source": []
    },
    {
      "cell_type": "markdown",
      "metadata": {
        "id": "TINz7Xd-F7F0"
      },
      "source": [
        "# Regular Expressions \n",
        "\n",
        "A regular expression is a compact notation for representing a collection of strings. What makes regular expressions so powerful is that a single regular\n",
        "expression can represent an unlimited number of strings—providing they meet the regular expression’s requirements.\n",
        "\n",
        "Regexes are used for five main purposes:\n",
        "<ul>\n",
        "<li> Parsing: identifying and extracting pieces of text that match certain\n",
        "criteria—regexes are used for creating ad hoc parsers and also by traditional parsing tools\n",
        "<li> Searching: locating substrings that can have more than one form, for\n",
        "example, finding any of “pet.png”, “pet.jpg”, “pet.jpeg”, or “pet.svg” while\n",
        "avoiding “carpet.png” and similar\n",
        "<li> Searching and replacing: replacing everywhere the regex matches with\n",
        "a string, for example, finding “bicycle” or “human powered vehicle” and\n",
        "replacing either with “bike”\n",
        "<li> Splitting strings: splitting a string at each place the regex matches, for\n",
        "example, splitting everywhere colon-space or equals (“: ” or “=”) occurs\n",
        "<li> Validation: checking whether a piece of text meets some criteria, for\n",
        "example, contains a currency symbol followed by digit\n",
        "</ul>\n",
        "\n"
      ]
    },
    {
      "cell_type": "code",
      "execution_count": null,
      "metadata": {
        "colab": {
          "base_uri": "https://localhost:8080/"
        },
        "id": "EYlcoPNoHvwT",
        "outputId": "a42c7995-f942-4373-93b9-99b151a0ff3b"
      },
      "outputs": [
        {
          "data": {
            "text/plain": [
              "<re.Match object; span=(0, 18), match='Python Programming'>"
            ]
          },
          "execution_count": 3,
          "metadata": {},
          "output_type": "execute_result"
        }
      ],
      "source": [
        "# The match() method returns zero or more characters which match the pattern at the beginning of \n",
        "# string. The match() function returns none if the string does not matches the pattern\n",
        "import re\n",
        "match_obj = re.match(\"Python Programming\", \"Python Programming Language\")\n",
        "match_obj"
      ]
    },
    {
      "cell_type": "code",
      "execution_count": null,
      "metadata": {
        "colab": {
          "base_uri": "https://localhost:8080/",
          "height": 36
        },
        "id": "cqfS-BCZIDIm",
        "outputId": "9c202132-b721-446c-b4c6-674534eda0eb"
      },
      "outputs": [
        {
          "data": {
            "application/vnd.google.colaboratory.intrinsic+json": {
              "type": "string"
            },
            "text/plain": [
              "'Python Programming'"
            ]
          },
          "execution_count": 4,
          "metadata": {},
          "output_type": "execute_result"
        }
      ],
      "source": [
        "# The method group() on match returns the matching string.\n",
        "match_obj.group(0) #group() method on match"
      ]
    },
    {
      "cell_type": "code",
      "execution_count": null,
      "metadata": {
        "colab": {
          "base_uri": "https://localhost:8080/"
        },
        "id": "ypxuLXHJIbyO",
        "outputId": "5c7351a4-1e54-4b8c-a3e7-cb23517a024f"
      },
      "outputs": [
        {
          "name": "stdout",
          "output_type": "stream",
          "text": [
            "0 18\n"
          ]
        }
      ],
      "source": [
        "# index position of match string from where it starts and ends\n",
        "print(match_obj.start(),match_obj.end())"
      ]
    },
    {
      "cell_type": "code",
      "execution_count": null,
      "metadata": {
        "id": "udbiWnenHR4r"
      },
      "outputs": [],
      "source": [
        "match_obj = re.match(\"Programming\", \"Python Programming Language\")\n",
        "match_obj  # return none as match in the begining of string not found"
      ]
    },
    {
      "cell_type": "code",
      "execution_count": null,
      "metadata": {
        "colab": {
          "base_uri": "https://localhost:8080/"
        },
        "id": "1SIIBhj2JjF3",
        "outputId": "babdea65-4060-432c-a774-2544533ba6ec"
      },
      "outputs": [
        {
          "name": "stdout",
          "output_type": "stream",
          "text": [
            "<re.Match object; span=(7, 18), match='Programming'>\n",
            "Programming\n",
            "7 18\n"
          ]
        }
      ],
      "source": [
        "# The search() method same as that of macth() method of regular expression. \n",
        "# The main advantage of serach() method is that it does not restrict us to \n",
        "# find matches at the beginning of the string only. \n",
        "\n",
        "search_obj = re.search(r\"Programming\", \"Python Programming Language\")\n",
        "print(search_obj)\n",
        "print(search_obj.group(0))\n",
        "print(search_obj.start(),search_obj.end())"
      ]
    },
    {
      "cell_type": "code",
      "execution_count": null,
      "metadata": {
        "colab": {
          "base_uri": "https://localhost:8080/"
        },
        "id": "-UaSPMRNHwVr",
        "outputId": "402de719-4644-485a-eacb-cbeeb17c93ab"
      },
      "outputs": [
        {
          "name": "stdout",
          "output_type": "stream",
          "text": [
            "<re.Match object; span=(7, 18), match='Programming'>\n",
            "Programming\n",
            "7 18\n"
          ]
        }
      ],
      "source": [
        "search_obj = re.search(r\"Programming\", \"Python Programming is my favorate Programming Language\")\n",
        "print(search_obj)\n",
        "print(search_obj.group(0))\n",
        "print(search_obj.start(),search_obj.end())"
      ]
    },
    {
      "cell_type": "code",
      "execution_count": null,
      "metadata": {
        "colab": {
          "base_uri": "https://localhost:8080/"
        },
        "id": "mfGUImfPKXuL",
        "outputId": "698b1a6c-b2e1-4cf5-ef04-0b77cb1dc1ec"
      },
      "outputs": [
        {
          "data": {
            "text/plain": [
              "['Python', 'Python']"
            ]
          },
          "execution_count": 9,
          "metadata": {},
          "output_type": "execute_result"
        }
      ],
      "source": [
        "# The string is scanned from left to right and the pattern is to be searched \n",
        "# if matched ones are returned in the order they are found. \n",
        "# Finally, it returns the list of all matching patterns from the string.\n",
        "\n",
        "re.findall(\"Python\",\"Programming in Python.I like Python\")"
      ]
    },
    {
      "cell_type": "markdown",
      "metadata": {
        "id": "k_vtFmdUPOaW"
      },
      "source": [
        "Regular expression containing operators\n",
        "<dl>\n",
        "<dt><b>.</b> <dd>Matches any character except a new line. \n",
        "<dt>^ <dd>Matches beginning of the string. \n",
        "<dt>$ <dd>Matches the end of the string. \n",
        "<dt>x? <dd>Matches x 0 or 1 time.\n",
        "<dt>+ <dd>Matches x 1 or more times. \n",
        "<dt>x* <dd>Matches x 0 or more times.\n",
        "<dt>[] <dd>Uses to indicate a set of characters. \n",
        "<dt>\\w <dd>Matches any alphanumeric characters and the underscores. \n",
        "<dt>\\D <dd>Matches any non-digit characters. \n",
        "<dt>\\d <dd>Matches any numeric digit. \n",
        "<dt>\\A <dd>Matches only at the start of the string. \n",
        "<dt>a|b <dd>Matches either a or b.\n",
        "<dt>x{m} <dd>Matches exactly ‘m’ copies of x. \n",
        "<dt>{m,n} <dd>It will match m to n repetitions\n",
        "</dl>"
      ]
    },
    {
      "cell_type": "code",
      "execution_count": null,
      "metadata": {
        "colab": {
          "base_uri": "https://localhost:8080/"
        },
        "id": "Ek1cflq2NfR7",
        "outputId": "b03ede17-98e8-477d-e8f3-07adbb1ab069"
      },
      "outputs": [
        {
          "data": {
            "text/plain": [
              "['P',\n",
              " 'y',\n",
              " 't',\n",
              " 'h',\n",
              " 'o',\n",
              " 'n',\n",
              " ' ',\n",
              " 'P',\n",
              " 'r',\n",
              " 'o',\n",
              " 'g',\n",
              " 'r',\n",
              " 'a',\n",
              " 'm',\n",
              " 'm',\n",
              " 'i',\n",
              " 'n',\n",
              " 'g',\n",
              " ' ',\n",
              " ' ',\n",
              " 'W',\n",
              " 'e',\n",
              " 'l',\n",
              " 'c',\n",
              " 'o',\n",
              " 'm',\n",
              " 'e',\n",
              " 's',\n",
              " ' ',\n",
              " 'y',\n",
              " 'o',\n",
              " 'u']"
            ]
          },
          "execution_count": 10,
          "metadata": {},
          "output_type": "execute_result"
        }
      ],
      "source": [
        "re.findall('.','Python Programming \\n Welcomes you') #Extract each character from the given string except \\n (new line)"
      ]
    },
    {
      "cell_type": "code",
      "execution_count": null,
      "metadata": {
        "colab": {
          "base_uri": "https://localhost:8080/"
        },
        "id": "R8rGFNX-Iz_T",
        "outputId": "7e3382b3-7e02-41e9-d9f4-a6e6967f8b83"
      },
      "outputs": [
        {
          "data": {
            "text/plain": [
              "['Python Programming, Py Welcomes you']"
            ]
          },
          "execution_count": 16,
          "metadata": {},
          "output_type": "execute_result"
        }
      ],
      "source": [
        "re.findall('^P.*','Python Programming, Py Welcomes you')"
      ]
    },
    {
      "cell_type": "code",
      "execution_count": null,
      "metadata": {
        "colab": {
          "base_uri": "https://localhost:8080/"
        },
        "id": "W82bBhNIR8Uw",
        "outputId": "c289f461-6ecf-44e2-fbdc-8b3fca150de7"
      },
      "outputs": [
        {
          "data": {
            "text/plain": [
              "['Python Programming, Py Welcomes you']"
            ]
          },
          "execution_count": 17,
          "metadata": {},
          "output_type": "execute_result"
        }
      ],
      "source": [
        "re.findall('.*you$','Python Programming, Py Welcomes you')"
      ]
    },
    {
      "cell_type": "code",
      "execution_count": null,
      "metadata": {
        "colab": {
          "base_uri": "https://localhost:8080/"
        },
        "id": "stUQj7PFNzB6",
        "outputId": "908ed82a-9fd8-4a1e-c655-6401b30846a2"
      },
      "outputs": [
        {
          "data": {
            "text/plain": [
              "['P',\n",
              " 'y',\n",
              " 't',\n",
              " 'h',\n",
              " 'o',\n",
              " 'n',\n",
              " 'P',\n",
              " 'r',\n",
              " 'o',\n",
              " 'g',\n",
              " 'r',\n",
              " 'a',\n",
              " 'm',\n",
              " 'm',\n",
              " 'i',\n",
              " 'n',\n",
              " 'g']"
            ]
          },
          "execution_count": 18,
          "metadata": {},
          "output_type": "execute_result"
        }
      ],
      "source": [
        "re.findall('\\w','Python Programming') #To avoid space ' ' as in previous example \\w is used instead of “.”"
      ]
    },
    {
      "cell_type": "code",
      "execution_count": null,
      "metadata": {
        "colab": {
          "base_uri": "https://localhost:8080/"
        },
        "id": "ZjYRgfBUOL7U",
        "outputId": "c7e2d410-a427-450e-80f4-5e716f7f4a47"
      },
      "outputs": [
        {
          "data": {
            "text/plain": [
              "['I', '', 'Love', '', 'Python', '']"
            ]
          },
          "execution_count": 19,
          "metadata": {},
          "output_type": "execute_result"
        }
      ],
      "source": [
        "re.findall('\\w*','I Love Python') # Extract words from given string"
      ]
    },
    {
      "cell_type": "code",
      "execution_count": null,
      "metadata": {
        "colab": {
          "base_uri": "https://localhost:8080/"
        },
        "id": "2gebEbI_OVln",
        "outputId": "119f02cb-92c7-486a-c42d-11c47aabf0da"
      },
      "outputs": [
        {
          "data": {
            "text/plain": [
              "['I', 'Love', 'Python']"
            ]
          },
          "execution_count": 63,
          "metadata": {},
          "output_type": "execute_result"
        }
      ],
      "source": [
        "re.findall('\\w+','I Love Python') # “*” returns zero or more different matches. In order to remove space, we will go with ‘+’."
      ]
    },
    {
      "cell_type": "code",
      "execution_count": null,
      "metadata": {
        "colab": {
          "base_uri": "https://localhost:8080/"
        },
        "id": "n27Cn5LaQWyj",
        "outputId": "f575f73c-5796-49f7-9823-b51ce748dab1"
      },
      "outputs": [
        {
          "data": {
            "text/plain": [
              "['I']"
            ]
          },
          "execution_count": 20,
          "metadata": {},
          "output_type": "execute_result"
        }
      ],
      "source": [
        "re.findall('^\\w+','I Love Python') # Extract only first word from the sentence"
      ]
    },
    {
      "cell_type": "code",
      "execution_count": null,
      "metadata": {
        "colab": {
          "base_uri": "https://localhost:8080/"
        },
        "id": "_I8cV252Qji7",
        "outputId": "165137a0-2ccb-4510-aefd-9e3a0578a489"
      },
      "outputs": [
        {
          "data": {
            "text/plain": [
              "['Python']"
            ]
          },
          "execution_count": 21,
          "metadata": {},
          "output_type": "execute_result"
        }
      ],
      "source": [
        "re.findall('\\w+$','I Love Python') # Extract last word from the sentence"
      ]
    },
    {
      "cell_type": "code",
      "execution_count": null,
      "metadata": {
        "colab": {
          "base_uri": "https://localhost:8080/"
        },
        "id": "_VJRc59WQxNP",
        "outputId": "cafd5ea4-1538-4dea-d63a-0b5a5661d830"
      },
      "outputs": [
        {
          "data": {
            "text/plain": [
              "['15-08-1947']"
            ]
          },
          "execution_count": 58,
          "metadata": {},
          "output_type": "execute_result"
        }
      ],
      "source": [
        "re.findall('\\d{2}-\\d{2}-\\d{4}','India 15-08-1947') # Extract date from the string"
      ]
    },
    {
      "cell_type": "code",
      "execution_count": null,
      "metadata": {
        "colab": {
          "base_uri": "https://localhost:8080/"
        },
        "id": "8xJFgC29Q8gn",
        "outputId": "b02629e8-e2b4-4cc8-c77e-f55550837b78"
      },
      "outputs": [
        {
          "data": {
            "text/plain": [
              "[('@gmail', 'co'), ('@standford', 'edu')]"
            ]
          },
          "execution_count": 25,
          "metadata": {},
          "output_type": "execute_result"
        }
      ],
      "source": [
        "re.findall(\"(@\\w+).(\\w+)\", \"abc@gmail.co.in, mit@standford.edu\") # Extract domain names from the given e-mail ids"
      ]
    },
    {
      "cell_type": "code",
      "execution_count": null,
      "metadata": {
        "colab": {
          "base_uri": "https://localhost:8080/"
        },
        "id": "plSZZYQWK4eL",
        "outputId": "0cce2193-24f6-41ed-8551-db7a77bc5896"
      },
      "outputs": [
        {
          "name": "stdout",
          "output_type": "stream",
          "text": [
            "['P', 'thon']\n",
            "['978', '92', '95055', '02', '5']\n",
            "['978', '92', '95055', '02-5']\n"
          ]
        }
      ],
      "source": [
        "# split the string by the occurrences of pattern.\n",
        "print(re.split(\"y\",\"Python\"))\n",
        "\n",
        "print(re.split(\"-\",\"978-92-95055-02-5\"))\n",
        "\n",
        "print( re.split(\"-\",\"978-92-95055-02-5\", maxsplit=3))"
      ]
    },
    {
      "cell_type": "code",
      "execution_count": null,
      "metadata": {
        "colab": {
          "base_uri": "https://localhost:8080/",
          "height": 36
        },
        "id": "42lCV9F6LueB",
        "outputId": "149088fa-6c42-40d5-8d03-bd0cf6572e1b"
      },
      "outputs": [
        {
          "data": {
            "application/vnd.google.colaboratory.intrinsic+json": {
              "type": "string"
            },
            "text/plain": [
              "'I Love India'"
            ]
          },
          "execution_count": 26,
          "metadata": {},
          "output_type": "execute_result"
        }
      ],
      "source": [
        "# The sub() method helps us to search a pattern and replace with new sub-strings. \n",
        "# If the pattern to be searched is not found, then the original string will remain unchanged.\n",
        "# re.sub(pattern, repl, string)\n",
        "\n",
        "re.sub(\"Python\", \"India\", \"I Love Python\")"
      ]
    },
    {
      "cell_type": "code",
      "execution_count": null,
      "metadata": {
        "colab": {
          "base_uri": "https://localhost:8080/"
        },
        "id": "10nx9WzRMx-D",
        "outputId": "10eb4e74-17c7-44b0-af61-03f451cbf3ca"
      },
      "outputs": [
        {
          "data": {
            "text/plain": [
              "['Python']"
            ]
          },
          "execution_count": 58,
          "metadata": {},
          "output_type": "execute_result"
        }
      ],
      "source": [
        "# Let us compile the regular expression pattern into a regular expression object which later can be \n",
        "# used for matching by utilizing its match(), search() and findall() methods.\n",
        "\n",
        "Comp_obj = re.compile(\"Python\") \n",
        "result = Comp_obj.findall(\"I Love Python\")\n",
        "result"
      ]
    }
  ],
  "metadata": {
    "colab": {
      "collapsed_sections": [
        "CmxBLF-H0rxX",
        "RXh_JvVS2wdB",
        "LrdgZGgJ5izz",
        "sBOaPjxAnalI",
        "R7jysSBPJ0Yd",
        "FswZcKNELlvI",
        "tldLH4pTdv39",
        "oC2Qfhv7n4Wb",
        "8NMTFgH8qpBV",
        "X8oPiGKdthyW",
        "NSQUUSseN1cb",
        "BfUV6AnzTYrY",
        "paLJfCbDeuzb",
        "DEOaLghWF3NX",
        "5Po7UbmNY4IZ",
        "ONhAcFu7m21u"
      ],
      "provenance": [],
      "include_colab_link": true
    },
    "kernelspec": {
      "display_name": "Python 3",
      "name": "python3"
    },
    "language_info": {
      "name": "python"
    }
  },
  "nbformat": 4,
  "nbformat_minor": 0
}