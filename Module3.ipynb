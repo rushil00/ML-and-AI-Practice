{
  "nbformat": 4,
  "nbformat_minor": 0,
  "metadata": {
    "colab": {
      "provenance": [],
      "include_colab_link": true
    },
    "kernelspec": {
      "name": "python3",
      "display_name": "Python 3"
    },
    "language_info": {
      "name": "python"
    }
  },
  "cells": [
    {
      "cell_type": "markdown",
      "metadata": {
        "id": "view-in-github",
        "colab_type": "text"
      },
      "source": [
        "<a href=\"https://colab.research.google.com/github/rushil00/ML-and-AI-Practice/blob/main/Module3.ipynb\" target=\"_parent\"><img src=\"https://colab.research.google.com/assets/colab-badge.svg\" alt=\"Open In Colab\"/></a>"
      ]
    },
    {
      "cell_type": "markdown",
      "source": [
        "# Module 3\n",
        "\n",
        "Principles of Object Orientation, Classes in Python, Creating \n",
        "Classes, Instance Methods, Access Specification, data modeling, \n",
        "persistent storage of objects, inheritance, polymorphism, operator \n",
        "overloading, abstract classes, exception handling, try block"
      ],
      "metadata": {
        "id": "CV4bsOa8sRjZ"
      }
    },
    {
      "cell_type": "code",
      "source": [
        "%%html\n",
        "<marquee style='width: 100%; color: blue;'><b>Welcome to Module 3!</b></marquee>"
      ],
      "metadata": {
        "colab": {
          "base_uri": "https://localhost:8080/",
          "height": 40
        },
        "id": "jfc1YisgIIyl",
        "outputId": "cfa08237-d54a-4c45-e4a6-27c997daa3cf"
      },
      "execution_count": null,
      "outputs": [
        {
          "output_type": "display_data",
          "data": {
            "text/html": [
              "<marquee style='width: 100%; color: blue;'><b>Welcome to Module 3!</b></marquee>"
            ],
            "text/plain": [
              "<IPython.core.display.HTML object>"
            ]
          },
          "metadata": {}
        }
      ]
    },
    {
      "cell_type": "markdown",
      "source": [
        "# Principles of Object Orientation\n",
        "\n",
        "Object oriented programming is a data-centered programming paradigm that is based on the idea of grouping data and functions that act on particular data in so-called classes. A class can be seen as a complex data-type, a template if you will. Variables that are of that data type are said to be objects or instances of that class.\n",
        "\n",
        "<dl>\n",
        "<dt>Principle 1 - Abstraction\n",
        "<dd>Abstraction is the concept of hiding all the implementation of your class away from anything outside of the class.\n",
        "\n",
        "<dt>Principle 2 - Inheritance\n",
        "<dd>Inheritance is the mechanism for creating a child class that can inherit behavior and properties from a parent(derived) class.\n",
        "\n",
        "<dt> Principle 3 - Encapsulation\n",
        "<dd>Encapsulation is the method of keeping all the state, variables, and methods private unless declared to be public.\n",
        "\n",
        "<dt> Principle 4 - Polymorphism\n",
        "<dd>Polymorphism is a way of interfacing with objects and receiving different forms or results.\n",
        "</dl>"
      ],
      "metadata": {
        "id": "YKkRwcCpsgBT"
      }
    },
    {
      "cell_type": "markdown",
      "source": [
        "<h1>Classes</h1>\n",
        "\n",
        "Classes provide a means of bundling data and functionality together. Creating a new class creates a new type of object, allowing new instances of that type to be made. Each class instance can have attributes attached to it for maintaining its state. Class instances can also have methods (defined by its class) for modifying its state.\n",
        "\n",
        "\n",
        "<h6> https://docs.python.org/3/tutorial/classes.html</h6>\n"
      ],
      "metadata": {
        "id": "gw-Z8HnQPFlg"
      }
    },
    {
      "cell_type": "code",
      "source": [
        "class Person:\n",
        "  \n",
        "    def __init__(self, name, age):\n",
        "        self.name = name\n",
        "        self.age = age"
      ],
      "metadata": {
        "id": "VAhMTiwEPdYJ"
      },
      "execution_count": null,
      "outputs": []
    },
    {
      "cell_type": "markdown",
      "source": [
        "The initialisation function will be called when an object of that initialised. Any variable or methods in a class can be accessed using the period (.) syntax:\n",
        "```\n",
        "object.variable \n",
        "or \n",
        "object.method\n",
        "```"
      ],
      "metadata": {
        "id": "-KGoQrM5Nz4Q"
      }
    },
    {
      "cell_type": "code",
      "execution_count": null,
      "metadata": {
        "id": "K236Fl5nO9bD",
        "colab": {
          "base_uri": "https://localhost:8080/"
        },
        "outputId": "b2c1de66-7ab6-4d8f-ccd9-25c6baf5cd2e"
      },
      "outputs": [
        {
          "output_type": "stream",
          "name": "stdout",
          "text": [
            "My name is Maarten\n",
            "My age is 30\n"
          ]
        },
        {
          "output_type": "execute_result",
          "data": {
            "text/plain": [
              "<__main__.Person at 0x7f8e67350dd0>"
            ]
          },
          "metadata": {},
          "execution_count": 3
        }
      ],
      "source": [
        "author = Person(\"Maarten\", 30)\n",
        "print(\"My name is \" + author.name)\n",
        "print(\"My age is \" + str(author.age))\n",
        "author"
      ]
    },
    {
      "cell_type": "code",
      "source": [
        "type(author)"
      ],
      "metadata": {
        "colab": {
          "base_uri": "https://localhost:8080/"
        },
        "id": "ES30YXwaS6UM",
        "outputId": "49791e62-da55-4ff4-b2b3-4d54b7366a1d"
      },
      "execution_count": null,
      "outputs": [
        {
          "output_type": "execute_result",
          "data": {
            "text/plain": [
              "__main__.Person"
            ]
          },
          "metadata": {},
          "execution_count": 4
        }
      ]
    },
    {
      "cell_type": "markdown",
      "source": [
        "Functions within a class are called methods. The initialisation method assigns the two parameters that are passed to variables that belong to the object, within a class definition the object is always represented by self.\n",
        "\n",
        "The first argument of a method is always self, and it will always point to the instance of the class. This first argument however is never explicitly specified when you call the method. It is implicitly passed by Python itself. That is why you see a discrepancy between the number of arguments in the instantiation and in the class definition."
      ],
      "metadata": {
        "id": "M1A9cFY533p6"
      }
    },
    {
      "cell_type": "code",
      "source": [
        "class Person:\n",
        "    def __init__(self, name, age):\n",
        "        self.name = name\n",
        "        self.age = age\n",
        "        \n",
        "    def introduceyourself(self):\n",
        "        print(\"My name is \" + self.name)\n",
        "        print(\"My age is \" +str (self.age))\n",
        "        \n",
        "author = Person(\"Maarten\",30)\n",
        "author.introduceyourself()"
      ],
      "metadata": {
        "colab": {
          "base_uri": "https://localhost:8080/"
        },
        "id": "NsW_dY4934yD",
        "outputId": "57e7a6bd-7fbe-4ef8-c763-89154de4f47d"
      },
      "execution_count": null,
      "outputs": [
        {
          "output_type": "stream",
          "name": "stdout",
          "text": [
            "My name is Maarten\n",
            "My age is 30\n"
          ]
        }
      ]
    },
    {
      "cell_type": "markdown",
      "source": [
        "# Exercise\n",
        "Add a variable gender (a string) to the Person class and adapt the initialisation method accordingly. Also add a method ismale() that uses this new information and returns a boolean value (True/False)."
      ],
      "metadata": {
        "id": "gr-LknGv4Y9d"
      }
    },
    {
      "cell_type": "code",
      "source": [
        "class Person:\n",
        "    def __init__(self, name, age, gender):\n",
        "        self.name = name\n",
        "        self.age = age\n",
        "        self.gender = gender\n",
        "        \n",
        "    def introduceyourself(self):\n",
        "        print(\"My name is \" + self.name)\n",
        "        print(\"My age is \" + str(self.age))\n",
        "    \n",
        "    def ismale(self):\n",
        "      if self.gender == \"Male\":\n",
        "        return True\n",
        "      else:\n",
        "        return False\n",
        "        \n",
        "author = Person(\"Maarten\",30,\"FeMale\")\n",
        "author.introduceyourself()\n",
        "author.ismale()"
      ],
      "metadata": {
        "colab": {
          "base_uri": "https://localhost:8080/"
        },
        "id": "LR6wwC_q4X4c",
        "outputId": "8a46b0e3-a83d-460d-f107-7cb5fd2c083a"
      },
      "execution_count": null,
      "outputs": [
        {
          "output_type": "stream",
          "name": "stdout",
          "text": [
            "My name is Maarten\n",
            "My age is 30\n"
          ]
        },
        {
          "output_type": "execute_result",
          "data": {
            "text/plain": [
              "False"
            ]
          },
          "metadata": {},
          "execution_count": 4
        }
      ]
    },
    {
      "cell_type": "markdown",
      "source": [
        "# Inheritance \n",
        "One of the neat things you can do with classes is that you can build more specialised classes on top of more generic classes. \n",
        "\n",
        "Person for instance is a rather generic concept. We can use this generic class to build a more specialised class Teacher, a person that teaches a course. If you use inheritance, everything that the parent class could do, the inherited class can do as well!"
      ],
      "metadata": {
        "id": "lkjB8veK6CLg"
      }
    },
    {
      "cell_type": "code",
      "source": [
        "class Person:\n",
        "    def __init__(self, name, age):\n",
        "        self.name = name\n",
        "        self.age = age\n",
        "        \n",
        "    def introduceyourself(self):\n",
        "        print(\"My name is \" + self.name)\n",
        "        print(\"My age is \" + str(self.age))\n",
        "    \n",
        " \n",
        "\n",
        "        \n",
        "class Teacher(Person): #this class inherits the class above!\n",
        "    def stateprofession(self):\n",
        "        print(\"I am a teacher!\")\n",
        "    \n"
      ],
      "metadata": {
        "id": "lOcMxZiA6ZHu"
      },
      "execution_count": null,
      "outputs": []
    },
    {
      "cell_type": "code",
      "source": [
        "author = Teacher(\"Maarten\",30)\n",
        "author.introduceyourself()\n",
        "author.stateprofession()"
      ],
      "metadata": {
        "colab": {
          "base_uri": "https://localhost:8080/"
        },
        "id": "maOurpFp6g0B",
        "outputId": "99bc3319-ce47-42a6-c706-99718b9e2de5"
      },
      "execution_count": null,
      "outputs": [
        {
          "output_type": "stream",
          "name": "stdout",
          "text": [
            "My name is Maarten\n",
            "My age is 30\n",
            "I am a teacher!\n"
          ]
        }
      ]
    },
    {
      "cell_type": "markdown",
      "source": [
        "# Exercise\n",
        "If the class Person would have already had a method stateprofession, then it would have been overruled (we say overloaded) by the one in the Teacher class. Edit the example above, add a print like *\"I have no profession! :'(\"* and see that nothings changes"
      ],
      "metadata": {
        "id": "4eAskhkm7Oee"
      }
    },
    {
      "cell_type": "code",
      "source": [
        "class Person:\n",
        "    def __init__(self, name, age):\n",
        "        self.name = name\n",
        "        self.age = age\n",
        "        \n",
        "    def introduceyourself(self):\n",
        "        print(\"My name is \" + self.name)\n",
        "        print(\"My age is \" + str(self.age))\n",
        "        \n",
        "    def stateprofession(self):\n",
        "        print(\"I have no profession! :'(!\")\n",
        "        \n",
        "class Teacher(Person): #this class inherits the class above!\n",
        "    def stateprofession(self):\n",
        "        print(\"I am a teacher!\")"
      ],
      "metadata": {
        "id": "fpzRImI67OCE"
      },
      "execution_count": null,
      "outputs": []
    },
    {
      "cell_type": "code",
      "source": [
        "author = Teacher(\"Maarten\",30)\n",
        "author.introduceyourself()\n",
        "author.stateprofession()"
      ],
      "metadata": {
        "colab": {
          "base_uri": "https://localhost:8080/"
        },
        "id": "lu5YrtgE7nYx",
        "outputId": "f2427ae4-3492-4d34-fbe4-6b5eaee877aa"
      },
      "execution_count": null,
      "outputs": [
        {
          "output_type": "stream",
          "name": "stdout",
          "text": [
            "My name is Maarten\n",
            "My age is 30\n",
            "I am a teacher!\n"
          ]
        }
      ]
    },
    {
      "cell_type": "markdown",
      "source": [
        "Instead of completely overloading a method, you can also call the method of the parent class. The following example contains modified versions of all methods, adds some extra methods and variables to keep track of the courses that are taught by the teacher. The edited methods call the method of the parent class the avoid repetition of code (one of the deadly sins of computer programming):"
      ],
      "metadata": {
        "id": "N0YF1m2h8DqT"
      }
    },
    {
      "cell_type": "code",
      "source": [
        "class Person:\n",
        "    def __init__(self, name, age):\n",
        "        self.name = name\n",
        "        self.age = age\n",
        "        \n",
        "    def introduceyourself(self):\n",
        "        print(\"My name is \" + self.name)\n",
        "        print(\"My age is \" + str(self.age))\n",
        "\n",
        "\n",
        "class Teacher(Person): #this class inherits the class above!\n",
        "    def __init__(self, name, age):\n",
        "        self.courses = [] #initialise a new variable\n",
        "        super().__init__(name,age) #call the init of Person\n",
        "        \n",
        "    def stateprofession(self):\n",
        "        print(\"I am a teacher!\")        \n",
        "    \n",
        "    def introduceyourself(self):\n",
        "        super().introduceyourself() #call the introduceyourself() of the Person\n",
        "        self.stateprofession()\n",
        "        print(\"I teach \" + str(self.nrofcourses()) + \" course(s)\")\n",
        "        for course in self.courses:\n",
        "            print(\"I teach \" + course)     \n",
        "        \n",
        "    \n",
        "    def addcourse(self, course):\n",
        "        self.courses.append(course)\n",
        "        \n",
        "    def nrofcourses(self):\n",
        "        return len(self.courses)\n",
        "    \n",
        "    \n",
        "author = Teacher(\"Maarten\",30)\n",
        "author.addcourse(\"Python\")\n",
        "author.addcourse(\"SQL\")\n",
        "\n",
        "author.introduceyourself()"
      ],
      "metadata": {
        "colab": {
          "base_uri": "https://localhost:8080/"
        },
        "id": "k-Bxd08L8CTM",
        "outputId": "31c38b06-264a-4d89-f368-020d1b8521af"
      },
      "execution_count": null,
      "outputs": [
        {
          "output_type": "stream",
          "name": "stdout",
          "text": [
            "My name is Maarten\n",
            "My age is 30\n",
            "I am a teacher!\n",
            "I teach 2 course(s)\n",
            "I teach Python\n",
            "I teach SQL\n"
          ]
        }
      ]
    },
    {
      "cell_type": "markdown",
      "source": [
        "# Operator overloading\n",
        "If you write your own classes, you can define what needs to happen if an operator such as for example +,/ or < is used on your class. You can also define what happens when the keyword in or built-in functions such as len() are you used with your class. This allows for a very elegant way of programming. Each of these operators and built-in functions have an associated method which you can overload. All of these methods start, like __init__, with a double underscore."
      ],
      "metadata": {
        "id": "hvRuN4nl95X_"
      }
    },
    {
      "cell_type": "markdown",
      "source": [
        "##For example. \n",
        "\n",
        "Let's allow comparison of tweets using the '<' and '>' operators. The methods for the opertors are respectively ```__lt__ and __gt__```, both take one argument, the other object to compare to. A tweet qualifies as greater than another if it is a newer, more recent, tweet:"
      ],
      "metadata": {
        "id": "bQXAM3kC99ML"
      }
    },
    {
      "cell_type": "code",
      "source": [
        "(16,5)>(12,12)\n"
      ],
      "metadata": {
        "colab": {
          "base_uri": "https://localhost:8080/"
        },
        "id": "CKcXaAgUIP7M",
        "outputId": "be0f6802-eea9-4650-e890-3156787d845d"
      },
      "execution_count": null,
      "outputs": [
        {
          "output_type": "execute_result",
          "data": {
            "text/plain": [
              "True"
            ]
          },
          "metadata": {},
          "execution_count": 1
        }
      ]
    },
    {
      "cell_type": "code",
      "source": [
        "class Tweet:\n",
        "    def __init__(self, message, time):\n",
        "        self.message = message\n",
        "        self.time = time # we will assume here that time is a numerical value\n",
        "        \n",
        "    def __lt__(self, other):\n",
        "        return self.time < other.time\n",
        "        \n",
        "    def __gt__(self, other):\n",
        "        return self.time > other.time    \n",
        "    \n",
        "\n",
        "oldtweet = Tweet(\"this is an old tweet\",20)\n",
        "newtweet = Tweet(\"this is a new tweet\",1000)\n",
        "print(newtweet > oldtweet)"
      ],
      "metadata": {
        "colab": {
          "base_uri": "https://localhost:8080/"
        },
        "id": "eY1v4jol-kXB",
        "outputId": "b4a059b3-6e08-449f-c0f9-5cd4b7f0b9fa"
      },
      "execution_count": null,
      "outputs": [
        {
          "output_type": "stream",
          "name": "stdout",
          "text": [
            "True\n"
          ]
        }
      ]
    },
    {
      "cell_type": "markdown",
      "source": [
        "You may not yet see much use in this, but consider for example the built-in function sorted(). Having such methods defined now means we can sort our tweets! And because we defined the methods ``` __lt__ and __gt__ ```based on time. It will automatically sort them on time, from old to new:"
      ],
      "metadata": {
        "id": "uqLjBE1v_ajp"
      }
    },
    {
      "cell_type": "code",
      "source": [
        "tweets = [newtweet,oldtweet]\n",
        "\n",
        "for tweet in sorted(tweets):\n",
        "    print(tweet.message)"
      ],
      "metadata": {
        "colab": {
          "base_uri": "https://localhost:8080/"
        },
        "id": "oycIetSU_YmK",
        "outputId": "9b0454e6-9558-4c81-ca3e-91b124ef4fd9"
      },
      "execution_count": null,
      "outputs": [
        {
          "output_type": "stream",
          "name": "stdout",
          "text": [
            "this is an old tweet\n",
            "this is a new tweet\n"
          ]
        }
      ]
    },
    {
      "cell_type": "markdown",
      "source": [
        "# Exercise\n",
        "\n",
        "Overloading <b> in </b> operator is done using the ```__contains__```method. It takes as extra argument the item that is being searched for. The method should return a boolean value. For tweets, let's implement support for the in operator and have it check whether a certain word is in the tweet."
      ],
      "metadata": {
        "id": "pTTMkmD6AMkR"
      }
    },
    {
      "cell_type": "code",
      "source": [
        "class Tweet:\n",
        "    def __init__(self, message):\n",
        "        self.message = message\n",
        "                  \n",
        "    def __contains__(self, word):\n",
        "        #Implement the method\n",
        "        return word in self.message\n",
        "\n",
        "tweet = \"I love my India\"\n",
        "#now write code to check if the word \"love\" is in the tweet\n",
        "#and print something nice if that's the case\n",
        "mytweet=Tweet(tweet)\n",
        "if \"love\" in mytweet:\n",
        "  print(\"Yes, you also love India\")\n"
      ],
      "metadata": {
        "colab": {
          "base_uri": "https://localhost:8080/"
        },
        "id": "pBmK0CV8AzEF",
        "outputId": "b1db9dad-7a37-4ea3-f60f-2fa827819368"
      },
      "execution_count": null,
      "outputs": [
        {
          "output_type": "stream",
          "name": "stdout",
          "text": [
            "Yes, you also love India\n"
          ]
        }
      ]
    },
    {
      "cell_type": "markdown",
      "source": [
        "# Get More on\n",
        "\n",
        "Please visit\n",
        "\n",
        "```\n",
        "https://docs.python.org/3/reference/datamodel.html\n",
        "```\n",
        "\n"
      ],
      "metadata": {
        "id": "sT4IdOWadOvv"
      }
    },
    {
      "cell_type": "markdown",
      "source": [
        "```\n",
        "object.__lt__(self, other)\n",
        "object.__le__(self, other)\n",
        "object.__eq__(self, other)\n",
        "object.__ne__(self, other)\n",
        "object.__gt__(self, other)\n",
        "object.__ge__(self, other)\n",
        "object.__add__(self, other)\n",
        "object.__sub__(self, other)\n",
        "object.__mul__(self, other)\n",
        "object.__matmul__(self, other)\n",
        "object.__truediv__(self, other)¶\n",
        "object.__floordiv__(self, other)\n",
        "object.__mod__(self, other)\n",
        "object.__divmod__(self, other)\n",
        "object.__pow__(self, other[, modulo])\n",
        "object.__lshift__(self, other)\n",
        "object.__rshift__(self, other)\n",
        "object.__and__(self, other)\n",
        "object.__xor__(self, other)\n",
        "object.__or__(self, other)\n",
        "```"
      ],
      "metadata": {
        "id": "ChaBtckjdpej"
      }
    },
    {
      "cell_type": "markdown",
      "source": [
        "# Iteration over an object\n",
        "\n",
        "We can do the iteration for our own object. We can make them support iteration. This is done by overloading the ```__iter__``` method. It takes no extra arguments and should be a generator. Which if you recall means that you should use yield instead of return. \n",
        "\n",
        "Consider the following class TwitterUser, if we iterate over an instance of that class, we want to iterate over all tweets. To make it more fun, let's iterate in chronologically sorted order:"
      ],
      "metadata": {
        "id": "C4JDPz1IC7rW"
      }
    },
    {
      "cell_type": "code",
      "source": [
        "class Tweet:\n",
        "    def __init__(self, message, time):\n",
        "        self.message = message\n",
        "        self.time = time # we will assume here that time is a numerical value\n",
        "        \n",
        "    def __lt__(self, other):\n",
        "        return self.time < other.time\n",
        "        \n",
        "    def __gt__(self, other):\n",
        "        return self.time > other.time  \n",
        "\n",
        "\n",
        "class TwitterUser:\n",
        "    def __init__(self, name):\n",
        "        self.name = name\n",
        "        self.tweets = [] #This will be a list of all tweets, these should be Tweet objects\n",
        "    \n",
        "    def append(self, tweet):\n",
        "        assert isinstance(tweet, Tweet) #this code will check if tweet is an instance\n",
        "                                        #of the Tweet class. If not, an exception\n",
        "                                        #will be raised\n",
        "        #append the tweet to our list\n",
        "        self.tweets.append(tweet)\n",
        "        \n",
        "    def __iter__(self):\n",
        "        for tweet in sorted(self.tweets):\n",
        "            yield tweet\n",
        "\n",
        "        \n",
        "tweeter = TwitterUser(\"Python\")\n",
        "tweeter.append(Tweet(\"My class of python\",4)) \n",
        "tweeter.append(Tweet(\"You \",2)) \n",
        "tweeter.append(Tweet(\"All in\",3)) \n",
        "tweeter.append(Tweet(\"Welcome\",1)) \n",
        "\n",
        "for tweet in tweeter:\n",
        "    print(tweet.message)"
      ],
      "metadata": {
        "colab": {
          "base_uri": "https://localhost:8080/"
        },
        "id": "A5f8j_vFC7JT",
        "outputId": "43f48aeb-548b-4ef6-b0f3-7bfc1297116d"
      },
      "execution_count": null,
      "outputs": [
        {
          "output_type": "stream",
          "name": "stdout",
          "text": [
            "Welcome\n",
            "You \n",
            "All in\n",
            "My class of python\n"
          ]
        }
      ]
    },
    {
      "cell_type": "markdown",
      "source": [
        "https://colab.research.google.com/github/fbkarsdorp/python-course/blob/master/Chapter%206%20-%20Object%20Oriented%20Programming.ipynb#scrollTo=LO7MgKnLorM-\n",
        "\n",
        "\n",
        "https://nbviewer.org/github/ipython/ipython/blob/1.x/examples/notebooks/Cell%20Magics.ipynb"
      ],
      "metadata": {
        "id": "KfD85_TYGEmx"
      }
    },
    {
      "cell_type": "code",
      "source": [],
      "metadata": {
        "id": "DScVKRY1HXPj"
      },
      "execution_count": null,
      "outputs": []
    },
    {
      "cell_type": "markdown",
      "source": [
        "# Class and Object\n",
        "\n",
        "We use the terms class, type, and data type interchangeably. In Python we can create custom classes that are fully integrated and that can be used just like the built-in data types. We have already encountered many classes, for example, **dict, int, and str**. We use the term object, and occasionally the term instance, to refer to an instance of a particular class. \n",
        "\n",
        "* For example, <b>```5```</b> is an <b>int</b> object and <b>```\"oblong\"```</b> is a <b>str</b> object.\n",
        "\n",
        "Objects usually have attributes—methods are callable attributes, and other\n",
        "attributes are data. For example, a complex object has imag and real attributes\n",
        "and lots of methods, including special methods like ```__add__()``` and ```__sub()__``` (to\n",
        "support the binary + and - operators), and normal methods like conjugate()."
      ],
      "metadata": {
        "id": "N5oWHfGN0NMH"
      }
    },
    {
      "cell_type": "code",
      "source": [
        "import math \n",
        "class Point:\n",
        "   \n",
        "  def __init__(self, x=0, y=0):\n",
        "    self.x = x\n",
        "    self.y = y\n",
        "    \n",
        "  def distance_from_origin(self):\n",
        "    return math.hypot(self.x, self.y)\n",
        "  \n",
        "  def __eq__(self, other):\n",
        "    return self.x == other.x and self.y == other.y\n",
        "\n",
        "  def __repr__(self):\n",
        "    return \"Point({0.x!r}, {0.y!r})\".format(self)\n",
        "\n",
        "  def __str__(self):\n",
        "    return \"({0.x!r}, {0.y!r})\".format(self)\n",
        "\n",
        "  def __lt__(self, other):\n",
        "        return self.x < other.x and self.y < other.y"
      ],
      "metadata": {
        "id": "VOjGQO6y5EZZ"
      },
      "execution_count": null,
      "outputs": []
    },
    {
      "cell_type": "code",
      "source": [
        "3==5"
      ],
      "metadata": {
        "colab": {
          "base_uri": "https://localhost:8080/"
        },
        "id": "TyqVoL_yKsjA",
        "outputId": "6347b9aa-41aa-41e2-a1d3-4294686b6304"
      },
      "execution_count": null,
      "outputs": [
        {
          "output_type": "execute_result",
          "data": {
            "text/plain": [
              "False"
            ]
          },
          "metadata": {},
          "execution_count": 7
        }
      ]
    },
    {
      "cell_type": "code",
      "source": [
        "'ASH'== 'ASH'"
      ],
      "metadata": {
        "colab": {
          "base_uri": "https://localhost:8080/"
        },
        "id": "IsKxU0SZKykf",
        "outputId": "b984951f-5f97-4838-ffb3-5651f485c645"
      },
      "execution_count": null,
      "outputs": [
        {
          "output_type": "execute_result",
          "data": {
            "text/plain": [
              "True"
            ]
          },
          "metadata": {},
          "execution_count": 8
        }
      ]
    },
    {
      "cell_type": "code",
      "source": [
        "(2,4) == (2,3)"
      ],
      "metadata": {
        "colab": {
          "base_uri": "https://localhost:8080/"
        },
        "id": "TDMLm0lWK4MG",
        "outputId": "dbecf29a-655e-466e-f35c-8a8dbedf24ea"
      },
      "execution_count": null,
      "outputs": [
        {
          "output_type": "execute_result",
          "data": {
            "text/plain": [
              "False"
            ]
          },
          "metadata": {},
          "execution_count": 19
        }
      ]
    },
    {
      "cell_type": "code",
      "source": [
        "p= Point(3,2)\n",
        "p.distance_from_origin()\n"
      ],
      "metadata": {
        "colab": {
          "base_uri": "https://localhost:8080/"
        },
        "id": "5X4Y8iZF5gW3",
        "outputId": "d66062a9-f3f3-455f-90e4-630a1ea335c3"
      },
      "execution_count": null,
      "outputs": [
        {
          "output_type": "execute_result",
          "data": {
            "text/plain": [
              "3.605551275463989"
            ]
          },
          "metadata": {},
          "execution_count": 9
        }
      ]
    },
    {
      "cell_type": "code",
      "source": [
        "q=Point(4,3)\n",
        "p == q"
      ],
      "metadata": {
        "colab": {
          "base_uri": "https://localhost:8080/"
        },
        "id": "OG30dOLFLZzc",
        "outputId": "7757d37a-77ca-445c-fa8d-429ccd5bb2f5"
      },
      "execution_count": null,
      "outputs": [
        {
          "output_type": "execute_result",
          "data": {
            "text/plain": [
              "False"
            ]
          },
          "metadata": {},
          "execution_count": 12
        }
      ]
    },
    {
      "cell_type": "code",
      "source": [
        "p < q"
      ],
      "metadata": {
        "colab": {
          "base_uri": "https://localhost:8080/"
        },
        "id": "MFJeXFkKLszx",
        "outputId": "09bc5193-82da-40cf-8799-d2d1b0bfcc11"
      },
      "execution_count": null,
      "outputs": [
        {
          "output_type": "execute_result",
          "data": {
            "text/plain": [
              "True"
            ]
          },
          "metadata": {},
          "execution_count": 13
        }
      ]
    },
    {
      "cell_type": "code",
      "source": [
        "repr(p)"
      ],
      "metadata": {
        "colab": {
          "base_uri": "https://localhost:8080/",
          "height": 36
        },
        "id": "R68xRleCMeUK",
        "outputId": "c7c5a475-d569-4151-b365-0f7b03357c3f"
      },
      "execution_count": null,
      "outputs": [
        {
          "output_type": "execute_result",
          "data": {
            "text/plain": [
              "'Point(3, 2)'"
            ],
            "application/vnd.google.colaboratory.intrinsic+json": {
              "type": "string"
            }
          },
          "metadata": {},
          "execution_count": 14
        }
      ]
    },
    {
      "cell_type": "code",
      "source": [
        "str(p)"
      ],
      "metadata": {
        "colab": {
          "base_uri": "https://localhost:8080/",
          "height": 36
        },
        "id": "KPEyfevVMmnj",
        "outputId": "59357188-05fe-4a10-a887-fce064970779"
      },
      "execution_count": null,
      "outputs": [
        {
          "output_type": "execute_result",
          "data": {
            "text/plain": [
              "'(3, 2)'"
            ],
            "application/vnd.google.colaboratory.intrinsic+json": {
              "type": "string"
            }
          },
          "metadata": {},
          "execution_count": 15
        }
      ]
    },
    {
      "cell_type": "code",
      "source": [
        "# Creat a class with variable name and DOB and overite < operator to find yonger\n",
        "class Person:\n",
        "  def __init__(self, name, dob):\n",
        "    self.name=name\n",
        "    self.dob = dob\n",
        "\n",
        "  def __lt__(self, other):\n",
        "    f = self.dob\n",
        "    fd, fm, fy = map(int,f.split(\"/\"))\n",
        "    su1=fy*365+fm*30+fd\n",
        "    g = other.dob\n",
        "    gd, gm, gy = map(int,g.split(\"/\"))\n",
        "    su2=gy*365+gm*30+gd\n",
        "    return su1 > su2\n",
        "     \n",
        "  "
      ],
      "metadata": {
        "id": "SLJO4Ud2NBnJ"
      },
      "execution_count": null,
      "outputs": []
    },
    {
      "cell_type": "code",
      "source": [
        "o = Person(\"ash\",\"01/01/1989\")\n",
        "p = Person(\"kum\",\"02/01/1999\")\n",
        "o<p"
      ],
      "metadata": {
        "colab": {
          "base_uri": "https://localhost:8080/"
        },
        "id": "8k4Q_lZpQjFY",
        "outputId": "cbcedd5d-635f-4db1-d484-0e00a8fa60e1"
      },
      "execution_count": null,
      "outputs": [
        {
          "output_type": "execute_result",
          "data": {
            "text/plain": [
              "False"
            ]
          },
          "metadata": {},
          "execution_count": 19
        }
      ]
    },
    {
      "cell_type": "markdown",
      "source": [
        "# Encapsulation\n",
        "\n",
        "Most classes encapsulate both data and the methods that can be applied to that\n",
        "data. For example, the str class holds a string of Unicode characters as its data and supports methods such as str.upper().\n",
        "\n",
        "Many classes also support additional features; for example, we can concatenate two strings (or any two sequences) using the **+** operator and find a sequence’s length using the built-in **len()** function.\n",
        "\n",
        "*Special methods*—these are like normal methods except that their names always begin and end with two underscores, and are predefined. \n",
        "\n",
        "For example, if we want to create a class that supports concatenation using the **+** operator and also the **len()** function, we can do so by implementing the **```__add__()```** and **```__len__()```** special methods in our class.\n",
        "\n",
        "We should never define any method with a name that begins and ends with two underscores unless it is one of the predefined special methods and is appropriate to our class. This will ensure that we never get conflicts with later versions of Python even if they introduce new predefined special methods.\n",
        "\n",
        "Inside a method (which is just a function whose first argument is the instance\n",
        "on which it is called to operate), several kinds of variables are potentially accessible. \n",
        "* The object’s instance variables can be accessed by qualifying their name\n",
        "with the instance itself. \n",
        "* Local variables can be created inside the method; these are accessed without qualification. \n",
        "* Class variables (sometimes called static variables) can be accessed by qualifying their name with the class name, and\n",
        "* Global variables, that is, module variables, are accessed without qualification."
      ],
      "metadata": {
        "id": "OcN0tVs21ViY"
      }
    },
    {
      "cell_type": "code",
      "source": [
        "class CSStudent:\n",
        "    stream = 'cse'                  # Class Variable\n",
        "    global st \n",
        "    def __init__(self,name,roll):\n",
        "        self.name = name            # Instance Variable\n",
        "        self.roll = roll            # Instance Variable\n",
        "    \n",
        "    def f(self, t):    \n",
        "      tr = t     # local variable\n",
        "      print(st)\n",
        "      print(t)"
      ],
      "metadata": {
        "id": "NC4I0sD47pbP"
      },
      "execution_count": null,
      "outputs": []
    },
    {
      "cell_type": "code",
      "source": [
        "s=CSStudent(\"Ash\",123)\n",
        "print(CSStudent.stream)\n",
        "print(s.name)\n",
        "st='male'\n",
        "s.f(\"ashok\")"
      ],
      "metadata": {
        "colab": {
          "base_uri": "https://localhost:8080/"
        },
        "id": "dVHn5T7B84_Z",
        "outputId": "d30b9dd0-fe5c-4a6b-8abf-432187a6a144"
      },
      "execution_count": null,
      "outputs": [
        {
          "output_type": "stream",
          "name": "stdout",
          "text": [
            "cse\n",
            "Ash\n",
            "male\n",
            "ashok\n"
          ]
        }
      ]
    },
    {
      "cell_type": "markdown",
      "source": [
        "# For More\n",
        "\n",
        "Please visit\n",
        "\n",
        "```\n",
        "https://dotnettutorials.net/lesson/class-variables-in-python/\n",
        "```"
      ],
      "metadata": {
        "id": "-OaRnd0zmxMY"
      }
    },
    {
      "cell_type": "markdown",
      "source": [
        "# Inheritence\n",
        "\n",
        "One of the advantages of object orientation is that if we have a class, we can\n",
        "specialize it. This means that we make a new class that inherits all the attributes (data and methods) from the original class, usually so that we can add or replace methods or add more instance variables. We can subclass (another\n",
        "term for specialize), any Python class, whether built-in or from the standard\n",
        "library, or one of our own custom classes.\n",
        "\n",
        "We use the term base class to refer to a class that is inherited; a base class\n",
        "may be the immediate ancestor, or may be further up the inheritance tree.\n",
        "Another term for base class is super class. We use the term subclass, derived class, or derived to describe a class that inherits from (i.e., specializes) another class.\n",
        "\n"
      ],
      "metadata": {
        "id": "1A54p2H718to"
      }
    },
    {
      "cell_type": "code",
      "source": [
        "class Circle(Point):\n",
        "  def __init__(self, radius, x=0, y=0):\n",
        "    super().__init__(x, y)\n",
        "    self.radius = radius\n",
        "  \n",
        "  def edge_distance_from_origin(self):\n",
        "    return (self.distance_from_origin() - self.radius)\n",
        "\n",
        "  def area(self):\n",
        "    return math.pi * (self.radius ** 2)\n",
        "\n",
        "  def circumference(self):\n",
        "    return 2 * math.pi * self.radius\n",
        "\n",
        "  def __eq__(self, other):\n",
        "    return self.radius == other.radius and super().__eq__(other)\n",
        "\n",
        "  def __repr__(self):\n",
        "    return \"Circle({0.radius!r}, {0.x!r}, {0.y!r})\".format(self)\n",
        "\n",
        "  def __str__(self):\n",
        "    return repr(self)"
      ],
      "metadata": {
        "id": "7I__3XZpCZtI"
      },
      "execution_count": null,
      "outputs": []
    },
    {
      "cell_type": "code",
      "source": [
        "p = Point(28, 45)\n",
        "c = Circle(5, 28, 45)\n",
        "print(p.distance_from_origin())\n",
        "print(c.edge_distance_from_origin())\n",
        "print(repr(c))\n",
        "str(c)"
      ],
      "metadata": {
        "colab": {
          "base_uri": "https://localhost:8080/",
          "height": 91
        },
        "id": "IcLJ6fATC3g_",
        "outputId": "2f6f56f0-f63c-46a3-84b0-bd92403430d9"
      },
      "execution_count": null,
      "outputs": [
        {
          "output_type": "stream",
          "name": "stdout",
          "text": [
            "53.0\n",
            "48.0\n",
            "Circle(5, 28, 45)\n"
          ]
        },
        {
          "output_type": "execute_result",
          "data": {
            "text/plain": [
              "'Circle(5, 28, 45)'"
            ],
            "application/vnd.google.colaboratory.intrinsic+json": {
              "type": "string"
            }
          },
          "metadata": {},
          "execution_count": 24
        }
      ]
    },
    {
      "cell_type": "code",
      "source": [
        "# The self-parameter with instance Variable\n",
        "\n",
        "class Prac: \n",
        "  x=5 # attribute x\n",
        "  def disp(self, x):\n",
        "    x=30\n",
        "    print('The value of local variable x is ',x)\n",
        "  print('The value of instance variable x is ',x)\n"
      ],
      "metadata": {
        "colab": {
          "base_uri": "https://localhost:8080/"
        },
        "id": "FEBF8IVbGte_",
        "outputId": "4ba348a3-bec7-41b3-a387-a5c069a2313f"
      },
      "execution_count": null,
      "outputs": [
        {
          "output_type": "stream",
          "name": "stdout",
          "text": [
            "The value of instance variable x is  5\n"
          ]
        }
      ]
    },
    {
      "cell_type": "code",
      "source": [
        "ob=Prac()\n",
        "ob.disp(50)"
      ],
      "metadata": {
        "colab": {
          "base_uri": "https://localhost:8080/"
        },
        "id": "E4TunH7oHPCJ",
        "outputId": "36423601-e917-4269-d4ed-887363c26fef"
      },
      "execution_count": null,
      "outputs": [
        {
          "output_type": "stream",
          "name": "stdout",
          "text": [
            "The value of local variable x is  30\n"
          ]
        }
      ]
    },
    {
      "cell_type": "code",
      "source": [
        "# the self-parameter with method\n",
        "class Self_Demo:\n",
        " def Method_A(self):\n",
        "  print('In Method A') \n",
        "  print('wow got a called from A!!!')\n",
        " def Method_B(self):\n",
        "  print('In Method B calling Method A')\n",
        "  self.Method_A() #Calling Method_A\n"
      ],
      "metadata": {
        "id": "y85wzjPSHT0G"
      },
      "execution_count": null,
      "outputs": []
    },
    {
      "cell_type": "code",
      "source": [
        "Q=Self_Demo()\n",
        "Q.Method_B() #calling Method_B"
      ],
      "metadata": {
        "colab": {
          "base_uri": "https://localhost:8080/"
        },
        "id": "L7kdeuGBHoTb",
        "outputId": "ee54ff5a-f905-4142-9c22-02730c784db6"
      },
      "execution_count": null,
      "outputs": [
        {
          "output_type": "stream",
          "name": "stdout",
          "text": [
            "In Method B calling Method A\n",
            "In Method A\n",
            "wow got a called from A!!!\n"
          ]
        }
      ]
    },
    {
      "cell_type": "markdown",
      "source": [
        "# Access control\n",
        "\n"
      ],
      "metadata": {
        "id": "KTH7ufJGXyix"
      }
    },
    {
      "cell_type": "code",
      "source": [
        "class Person:\n",
        " def __init__(self):\n",
        "  self.Name = 'Bill Gates' #Public attribute\n",
        "  self.__BankAccNo =10101 #Private attribute\n",
        "\n",
        " def  __deposit(self):\n",
        "   print(3000000)\n",
        " \n",
        " def Display(self):\n",
        "   print('Name = ',self.Name)\n",
        "   print('Bank Account Number = ',self.__BankAccNo)\n",
        "   self.__deposit()"
      ],
      "metadata": {
        "id": "cGLrKISDIliP"
      },
      "execution_count": null,
      "outputs": []
    },
    {
      "cell_type": "code",
      "source": [],
      "metadata": {
        "id": "pxNTAKWUfjyj"
      },
      "execution_count": null,
      "outputs": []
    },
    {
      "cell_type": "code",
      "source": [
        "P = Person()\n",
        "#Access public attribute outside class\n",
        "print(' Name = ',P.Name) \n",
        "P.Display()\n",
        "#Try to access private variable outside class but fails\n",
        "print(' Salary = ',P.__BankAccNo)\n",
        "P.Display()"
      ],
      "metadata": {
        "colab": {
          "base_uri": "https://localhost:8080/",
          "height": 301
        },
        "id": "k_BX5N23I5p4",
        "outputId": "98c0a9f2-5f83-43ae-a63d-178bf106be18"
      },
      "execution_count": null,
      "outputs": [
        {
          "output_type": "stream",
          "name": "stdout",
          "text": [
            " Name =  Bill Gates\n",
            "Name =  Bill Gates\n",
            "Bank Account Number =  10101\n",
            "3000000\n"
          ]
        },
        {
          "output_type": "error",
          "ename": "AttributeError",
          "evalue": "ignored",
          "traceback": [
            "\u001b[0;31m---------------------------------------------------------------------------\u001b[0m",
            "\u001b[0;31mAttributeError\u001b[0m                            Traceback (most recent call last)",
            "\u001b[0;32m<ipython-input-2-3bad0f0174da>\u001b[0m in \u001b[0;36m<module>\u001b[0;34m()\u001b[0m\n\u001b[1;32m      4\u001b[0m \u001b[0mP\u001b[0m\u001b[0;34m.\u001b[0m\u001b[0mDisplay\u001b[0m\u001b[0;34m(\u001b[0m\u001b[0;34m)\u001b[0m\u001b[0;34m\u001b[0m\u001b[0;34m\u001b[0m\u001b[0m\n\u001b[1;32m      5\u001b[0m \u001b[0;31m#Try to access private variable outside class but fails\u001b[0m\u001b[0;34m\u001b[0m\u001b[0;34m\u001b[0m\u001b[0;34m\u001b[0m\u001b[0m\n\u001b[0;32m----> 6\u001b[0;31m \u001b[0mprint\u001b[0m\u001b[0;34m(\u001b[0m\u001b[0;34m' Salary = '\u001b[0m\u001b[0;34m,\u001b[0m\u001b[0mP\u001b[0m\u001b[0;34m.\u001b[0m\u001b[0m__BankAccNo\u001b[0m\u001b[0;34m)\u001b[0m\u001b[0;34m\u001b[0m\u001b[0;34m\u001b[0m\u001b[0m\n\u001b[0m\u001b[1;32m      7\u001b[0m \u001b[0mP\u001b[0m\u001b[0;34m.\u001b[0m\u001b[0mDisplay\u001b[0m\u001b[0;34m(\u001b[0m\u001b[0;34m)\u001b[0m\u001b[0;34m\u001b[0m\u001b[0;34m\u001b[0m\u001b[0m\n",
            "\u001b[0;31mAttributeError\u001b[0m: 'Person' object has no attribute '__BankAccNo'"
          ]
        }
      ]
    },
    {
      "cell_type": "code",
      "source": [
        "P = Person()\n",
        "P.__deposit()"
      ],
      "metadata": {
        "colab": {
          "base_uri": "https://localhost:8080/",
          "height": 190
        },
        "id": "CrV96t3NgDt0",
        "outputId": "0cb9c720-fba3-4871-d00f-f6f6665704ec"
      },
      "execution_count": null,
      "outputs": [
        {
          "output_type": "error",
          "ename": "AttributeError",
          "evalue": "ignored",
          "traceback": [
            "\u001b[0;31m---------------------------------------------------------------------------\u001b[0m",
            "\u001b[0;31mAttributeError\u001b[0m                            Traceback (most recent call last)",
            "\u001b[0;32m<ipython-input-5-58bc22194acd>\u001b[0m in \u001b[0;36m<module>\u001b[0;34m()\u001b[0m\n\u001b[1;32m      1\u001b[0m \u001b[0mP\u001b[0m \u001b[0;34m=\u001b[0m \u001b[0mPerson\u001b[0m\u001b[0;34m(\u001b[0m\u001b[0;34m)\u001b[0m\u001b[0;34m\u001b[0m\u001b[0;34m\u001b[0m\u001b[0m\n\u001b[0;32m----> 2\u001b[0;31m \u001b[0mP\u001b[0m\u001b[0;34m.\u001b[0m\u001b[0m__deposit\u001b[0m\u001b[0;34m(\u001b[0m\u001b[0;34m)\u001b[0m\u001b[0;34m\u001b[0m\u001b[0;34m\u001b[0m\u001b[0m\n\u001b[0m",
            "\u001b[0;31mAttributeError\u001b[0m: 'Person' object has no attribute '__deposit'"
          ]
        }
      ]
    },
    {
      "cell_type": "markdown",
      "source": [
        "Python performs name mangling of private variables. Every member with a double underscore will be changed to object._class__variable. So, it can still be accessed from outside the class, but the practice should be refrained"
      ],
      "metadata": {
        "id": "OBFa_7cshnvo"
      }
    },
    {
      "cell_type": "code",
      "source": [
        "# Name mangling\n",
        "P = Person()\n",
        "print(P._Person__BankAccNo)\n",
        "P._Person__deposit()"
      ],
      "metadata": {
        "colab": {
          "base_uri": "https://localhost:8080/"
        },
        "id": "SPqMBLt6haen",
        "outputId": "87ec79ff-44f5-461a-83ed-7d9a3f1bce74"
      },
      "execution_count": null,
      "outputs": [
        {
          "output_type": "stream",
          "name": "stdout",
          "text": [
            "10101\n",
            "3000000\n"
          ]
        }
      ]
    },
    {
      "cell_type": "markdown",
      "source": [
        "# Aggregation\n",
        "\n",
        "Another approach is to use aggregation (also called composition)—this is where a class includes one or more instance variables that are of other classes. Aggregation is used to model has-a relationships. In Python, every class uses inheritance—because all custom classes have object as their ultimate base class, and most classes also use aggregation since most classes have instance variables of various types."
      ],
      "metadata": {
        "id": "xlvtHmN6BMeb"
      }
    },
    {
      "cell_type": "markdown",
      "source": [
        "# Comparision with others\n",
        "\n",
        "Some object-oriented languages have two features that Python does not provide.  \n",
        "* The first is overloading, that is, having methods with the same name but\n",
        "with different parameter lists in the same class. Thanks to Python’s versatile\n",
        "argument-handling capabilities this is never a limitation in practice. \n",
        "* The second is access control—there are no bulletproof mechanisms for enforcing data privacy. However, if we create attributes (instance variables or methods) that begin with two leading underscores, Python will prevent unintentional accesses so that they can be considered to be private."
      ],
      "metadata": {
        "id": "hy1MfmGPBmuX"
      }
    },
    {
      "cell_type": "code",
      "source": [
        "class OverloadDemo:\n",
        " def add(self,a,b):\n",
        "  print(a+b)\n",
        " def add(self,a,b,c):\n",
        "  print(a+b+c)"
      ],
      "metadata": {
        "id": "uk7hnG22ZN_k"
      },
      "execution_count": null,
      "outputs": []
    },
    {
      "cell_type": "code",
      "source": [
        "o = OverloadDemo()\n",
        "o.add(2,3)"
      ],
      "metadata": {
        "colab": {
          "base_uri": "https://localhost:8080/",
          "height": 190
        },
        "id": "prtnzNl1eR8R",
        "outputId": "9b11d950-4abb-4462-bd92-f56bf3a98d22"
      },
      "execution_count": null,
      "outputs": [
        {
          "output_type": "error",
          "ename": "TypeError",
          "evalue": "ignored",
          "traceback": [
            "\u001b[0;31m---------------------------------------------------------------------------\u001b[0m",
            "\u001b[0;31mTypeError\u001b[0m                                 Traceback (most recent call last)",
            "\u001b[0;32m<ipython-input-5-736d96dc5bf5>\u001b[0m in \u001b[0;36m<module>\u001b[0;34m()\u001b[0m\n\u001b[1;32m      1\u001b[0m \u001b[0mo\u001b[0m \u001b[0;34m=\u001b[0m \u001b[0mOverloadDemo\u001b[0m\u001b[0;34m(\u001b[0m\u001b[0;34m)\u001b[0m\u001b[0;34m\u001b[0m\u001b[0;34m\u001b[0m\u001b[0m\n\u001b[0;32m----> 2\u001b[0;31m \u001b[0mo\u001b[0m\u001b[0;34m.\u001b[0m\u001b[0madd\u001b[0m\u001b[0;34m(\u001b[0m\u001b[0;36m2\u001b[0m\u001b[0;34m,\u001b[0m\u001b[0;36m3\u001b[0m\u001b[0;34m)\u001b[0m\u001b[0;34m\u001b[0m\u001b[0;34m\u001b[0m\u001b[0m\n\u001b[0m",
            "\u001b[0;31mTypeError\u001b[0m: add() missing 1 required positional argument: 'c'"
          ]
        }
      ]
    },
    {
      "cell_type": "markdown",
      "source": [
        "# Abstract Class\n",
        "An abstract class is a class, but not one you can create objects from directly. Its purpose is to define how other classes should look like, i.e. what methods and properties they are expected to have.\n",
        "\n",
        "The methods and properties defined (but not implemented) in an abstract class are called abstract methods and abstract properties. All abstract methods and properties need to be implemented in a child class in order to be able to create objects from it.\n",
        "\n",
        "\n",
        "*https://towardsdatascience.com/how-to-use-abstract-classes-in-python-d4d2ddc02e90*"
      ],
      "metadata": {
        "id": "jFL8oS82JRTs"
      }
    },
    {
      "cell_type": "code",
      "source": [
        "# We can create an abstract class by inheriting from the ABC class which is part of the abc module\n",
        "from abc import (\n",
        "  ABC,\n",
        "  abstractmethod,\n",
        ")\n",
        "class BasicPokemon(ABC):\n",
        "  def __init__(self, name):\n",
        "    self.name = name\n",
        "    self._level = 1\n",
        "  @abstractmethod\n",
        "  def main_attack(self):\n",
        "    ..."
      ],
      "metadata": {
        "id": "y6_OCw68KW0u"
      },
      "execution_count": null,
      "outputs": []
    },
    {
      "cell_type": "markdown",
      "source": [
        "In the code above, we create a new abstract class called BasicPokemon. We indicate that the method main_attack is an abstract method by using the decorator abstractmethod, which means we expect this to be implemented in every subclass of BasicPokemon."
      ],
      "metadata": {
        "id": "9X28x9IUKrxk"
      }
    },
    {
      "cell_type": "code",
      "source": [
        "firstPokemon = BasicPokemon(\"Ashok\")"
      ],
      "metadata": {
        "colab": {
          "base_uri": "https://localhost:8080/",
          "height": 172
        },
        "id": "7YafXqiuKwLr",
        "outputId": "4ab3dca5-8696-4e29-909c-a884252de42b"
      },
      "execution_count": null,
      "outputs": [
        {
          "output_type": "error",
          "ename": "NameError",
          "evalue": "ignored",
          "traceback": [
            "\u001b[0;31m---------------------------------------------------------------------------\u001b[0m",
            "\u001b[0;31mNameError\u001b[0m                                 Traceback (most recent call last)",
            "\u001b[0;32m<ipython-input-6-1bc97f08497d>\u001b[0m in \u001b[0;36m<module>\u001b[0;34m()\u001b[0m\n\u001b[0;32m----> 1\u001b[0;31m \u001b[0mfirstPokemon\u001b[0m \u001b[0;34m=\u001b[0m \u001b[0mBasicPokemon\u001b[0m\u001b[0;34m(\u001b[0m\u001b[0;34m\"Ashok\"\u001b[0m\u001b[0;34m)\u001b[0m\u001b[0;34m\u001b[0m\u001b[0;34m\u001b[0m\u001b[0m\n\u001b[0m",
            "\u001b[0;31mNameError\u001b[0m: name 'BasicPokemon' is not defined"
          ]
        }
      ]
    },
    {
      "cell_type": "code",
      "source": [
        "# This is how one would use the BasicPokemon class.\n",
        "from collections import namedtuple\n",
        "\n",
        "Attack = namedtuple('Attack', ('name', 'damage'))\n",
        "\n",
        "class Pikachu(BasicPokemon):\n",
        "  def main_attack(self):\n",
        "    return Attack('Thunder Shock', 5)\n",
        "\n",
        "class Charmander(BasicPokemon):\n",
        "  def main_attack(self):\n",
        "    return Attack('Flame Thrower', 5)"
      ],
      "metadata": {
        "id": "Mpg_6g-cLchL"
      },
      "execution_count": null,
      "outputs": []
    },
    {
      "cell_type": "code",
      "source": [
        "pik = Pikachu('Ashok')\n",
        "pik.main_attack()"
      ],
      "metadata": {
        "colab": {
          "base_uri": "https://localhost:8080/"
        },
        "id": "077WJAuvLyVu",
        "outputId": "5f3964f1-17fa-466d-dab7-c822f445f473"
      },
      "execution_count": null,
      "outputs": [
        {
          "output_type": "execute_result",
          "data": {
            "text/plain": [
              "Attack(name='Thunder Shock', damage=5)"
            ]
          },
          "metadata": {},
          "execution_count": 9
        }
      ]
    },
    {
      "cell_type": "code",
      "source": [
        "# you can also create abstract properties using the same abstractmethod decorator.\n",
        "from abc import (\n",
        "  ABC,\n",
        "  abstractmethod,\n",
        ")\n",
        "class BasicPokemon(ABC):\n",
        "  def __init__(self, name):\n",
        "    self.name = name\n",
        "  @property\n",
        "  @abstractmethod\n",
        "  def level(self):\n",
        "    ...\n",
        "  @abstractmethod\n",
        "  def main_attack(self):\n",
        "    ..."
      ],
      "metadata": {
        "id": "lMzLt4rtQqdh"
      },
      "execution_count": null,
      "outputs": []
    },
    {
      "cell_type": "code",
      "source": [
        "class Pikachu(BasicPokemon):\n",
        "  @property\n",
        "  def level(self):\n",
        "    return 1\n",
        "  def main_attack(self):\n",
        "    return Attack('Thunder Shock', 5)"
      ],
      "metadata": {
        "id": "1yykpG7dQ0sT"
      },
      "execution_count": null,
      "outputs": []
    },
    {
      "cell_type": "code",
      "source": [
        "pik = Pikachu('Ashok')\n",
        "pik.main_attack()"
      ],
      "metadata": {
        "colab": {
          "base_uri": "https://localhost:8080/"
        },
        "id": "BYanAYaeQ9UI",
        "outputId": "b99aa044-7a1d-43bb-fd7c-71304af782b5"
      },
      "execution_count": null,
      "outputs": [
        {
          "output_type": "execute_result",
          "data": {
            "text/plain": [
              "Attack(name='Thunder Shock', damage=5)"
            ]
          },
          "metadata": {},
          "execution_count": 12
        }
      ]
    },
    {
      "cell_type": "code",
      "source": [
        "class AbstractClass:\n",
        "    \n",
        "    def do_something(self):\n",
        "      ...\n",
        "      \n",
        "    \n",
        "    \n",
        "class B(AbstractClass):\n",
        "    ..."
      ],
      "metadata": {
        "id": "mTk9zle0jS3W"
      },
      "execution_count": null,
      "outputs": []
    },
    {
      "cell_type": "code",
      "source": [
        "a = AbstractClass()\n",
        "b = B()"
      ],
      "metadata": {
        "id": "B5U4DHY0jZ7g"
      },
      "execution_count": null,
      "outputs": []
    },
    {
      "cell_type": "markdown",
      "source": [
        "# Python Destructor \n",
        "Python Destructor is also a special method that gets executed automatically when an object exit from the scope. In Python, ```__del__( )``` method is used as the destructor.\n",
        "\n",
        "Constructor ```__init__( )``` and destructor ```__del__( )``` function automatically executed in Python. Constructor when an object of a class is created and Destructor when an object exit from the scope."
      ],
      "metadata": {
        "id": "jtnXiN5NYsjT"
      }
    },
    {
      "cell_type": "code",
      "source": [
        "class Sample:\n",
        "    num = 0\n",
        "\n",
        "    def __init__(self, var):\n",
        "        Sample.num += 1\n",
        "        self.var = var\n",
        "\n",
        "        print(\"Object value is = \", var)\n",
        "        print(\"Variable value = \", Sample.num)\n",
        "\n",
        "    def __del__(self):\n",
        "        Sample.num -= 1\n",
        "\n",
        "        print(\"Object with value %d is exit from the scope\" % self.var)\n",
        "\n"
      ],
      "metadata": {
        "id": "ARE5Rh-XYqzF"
      },
      "execution_count": null,
      "outputs": []
    },
    {
      "cell_type": "code",
      "source": [
        "\n",
        "S2 = Sample(10)\n",
        "del S3"
      ],
      "metadata": {
        "colab": {
          "base_uri": "https://localhost:8080/",
          "height": 209
        },
        "id": "ID5E71mBY-vW",
        "outputId": "a01fe764-2113-4e9a-ccee-7d444ad56d34"
      },
      "execution_count": null,
      "outputs": [
        {
          "output_type": "error",
          "ename": "NameError",
          "evalue": "ignored",
          "traceback": [
            "\u001b[0;31m---------------------------------------------------------------------------\u001b[0m",
            "\u001b[0;31mNameError\u001b[0m                                 Traceback (most recent call last)",
            "\u001b[0;32m<ipython-input-27-df296569ecb6>\u001b[0m in \u001b[0;36m<module>\u001b[0;34m()\u001b[0m\n\u001b[1;32m      1\u001b[0m \u001b[0;34m\u001b[0m\u001b[0m\n\u001b[1;32m      2\u001b[0m \u001b[0;31m#S2 = Sample(10)\u001b[0m\u001b[0;34m\u001b[0m\u001b[0;34m\u001b[0m\u001b[0;34m\u001b[0m\u001b[0m\n\u001b[0;32m----> 3\u001b[0;31m \u001b[0;32mdel\u001b[0m \u001b[0mS3\u001b[0m\u001b[0;34m\u001b[0m\u001b[0;34m\u001b[0m\u001b[0m\n\u001b[0m",
            "\u001b[0;31mNameError\u001b[0m: name 'S3' is not defined"
          ]
        }
      ]
    },
    {
      "cell_type": "code",
      "source": [],
      "metadata": {
        "id": "VmKaMK3SNZo0"
      },
      "execution_count": null,
      "outputs": []
    },
    {
      "cell_type": "markdown",
      "source": [
        "# Multilevel Inheritance"
      ],
      "metadata": {
        "id": "MyKVjTOONaql"
      }
    },
    {
      "cell_type": "code",
      "source": [
        "class Family:\n",
        "    def show_family(self):\n",
        "        print(\"This is our family:\")\n",
        " \n",
        " \n",
        "# Father class inherited from Family\n",
        "class Father(Family):\n",
        "    fathername = \"\"\n",
        " \n",
        "    def show_father(self):\n",
        "        print(self.fathername)\n",
        " \n",
        " \n",
        "# Mother class inherited from Family\n",
        "class Mother(Family):\n",
        "    mothername = \"\"\n",
        " \n",
        "    def show_mother(self):\n",
        "        print(self.mothername)\n",
        " \n",
        " \n",
        "# Son class inherited from Father and Mother classes\n",
        "class Son(Father, Mother):   # inheriting more than one classes so we can say multiple inhertence as well\n",
        "    def show_parent(self):\n",
        "        print(\"Father :\", self.fathername)\n",
        "        print(\"Mother :\", self.mothername)"
      ],
      "metadata": {
        "id": "VKDFcqbrNfvU"
      },
      "execution_count": null,
      "outputs": []
    },
    {
      "cell_type": "code",
      "source": [
        "s1 = Son()  # Object of Son class\n",
        "s1.fathername = \"Mark\"\n",
        "s1.mothername = \"Sonia\"\n",
        "s1.show_family()\n",
        "s1.show_parent()"
      ],
      "metadata": {
        "colab": {
          "base_uri": "https://localhost:8080/"
        },
        "id": "Ky_7hxQCNjzF",
        "outputId": "06e19ff2-bced-4a93-860a-5db379f2a0e7"
      },
      "execution_count": null,
      "outputs": [
        {
          "output_type": "stream",
          "name": "stdout",
          "text": [
            "This is our family:\n",
            "Father : Mark\n",
            "Mother : Sonia\n"
          ]
        }
      ]
    },
    {
      "cell_type": "code",
      "source": [
        "s2= Mother()\n",
        "s2.mothername = \"Sonia\"\n",
        "s2.show_family()\n",
        "s2.show_mother()"
      ],
      "metadata": {
        "colab": {
          "base_uri": "https://localhost:8080/"
        },
        "id": "OEbjf3JSTIOI",
        "outputId": "52601778-afbb-4f76-92f6-004dec80cb83"
      },
      "execution_count": null,
      "outputs": [
        {
          "output_type": "stream",
          "name": "stdout",
          "text": [
            "This is our family:\n",
            "Sonia\n"
          ]
        }
      ]
    },
    {
      "cell_type": "code",
      "source": [],
      "metadata": {
        "id": "a-mRenA0YMAn"
      },
      "execution_count": null,
      "outputs": []
    },
    {
      "cell_type": "markdown",
      "source": [
        "#  Persistent storage of objects"
      ],
      "metadata": {
        "id": "vSDEU_yCQYQQ"
      }
    },
    {
      "cell_type": "code",
      "source": [
        "import pickle\n",
        "import os\n",
        "os.system(\"clear\")"
      ],
      "metadata": {
        "colab": {
          "base_uri": "https://localhost:8080/"
        },
        "id": "3AoEfE6-Qbeu",
        "outputId": "a970bd94-b8ca-41ca-a320-45ce31f536ff"
      },
      "execution_count": null,
      "outputs": [
        {
          "output_type": "execute_result",
          "data": {
            "text/plain": [
              "0"
            ]
          },
          "metadata": {},
          "execution_count": 30
        }
      ]
    },
    {
      "cell_type": "code",
      "source": [
        "name = list([\"ashok\",\"kumar\",\"patel\"])\n",
        "print(name)\n",
        "type(name)"
      ],
      "metadata": {
        "colab": {
          "base_uri": "https://localhost:8080/"
        },
        "id": "dwzn5B1FQ5b3",
        "outputId": "71a6525f-deb6-43c0-9a93-51299e1c7324"
      },
      "execution_count": null,
      "outputs": [
        {
          "output_type": "stream",
          "name": "stdout",
          "text": [
            "['ashok', 'kumar', 'patel']\n"
          ]
        },
        {
          "output_type": "execute_result",
          "data": {
            "text/plain": [
              "list"
            ]
          },
          "metadata": {},
          "execution_count": 39
        }
      ]
    },
    {
      "cell_type": "code",
      "source": [
        "os.getcwd()"
      ],
      "metadata": {
        "colab": {
          "base_uri": "https://localhost:8080/",
          "height": 36
        },
        "id": "xIWoWiZPHPnL",
        "outputId": "5b69d60e-8038-4b9f-c088-532264f7d5f5"
      },
      "execution_count": null,
      "outputs": [
        {
          "output_type": "execute_result",
          "data": {
            "text/plain": [
              "'/content'"
            ],
            "application/vnd.google.colaboratory.intrinsic+json": {
              "type": "string"
            }
          },
          "metadata": {},
          "execution_count": 40
        }
      ]
    },
    {
      "cell_type": "code",
      "source": [
        "# save the list object\n",
        "pickle.dump(name, open(\"name.dat\",\"wb\"))  #.h5 used to store ML models"
      ],
      "metadata": {
        "id": "2dOYx4N7RKtj"
      },
      "execution_count": null,
      "outputs": []
    },
    {
      "cell_type": "code",
      "source": [
        "# edit the list\n",
        "name.remove(\"ashok\")\n",
        "print(name)"
      ],
      "metadata": {
        "colab": {
          "base_uri": "https://localhost:8080/"
        },
        "id": "-XG18q_kRwwq",
        "outputId": "d64d6703-f4b5-4ce1-e265-d05c125b715c"
      },
      "execution_count": null,
      "outputs": [
        {
          "output_type": "stream",
          "name": "stdout",
          "text": [
            "['kumar', 'patel']\n"
          ]
        }
      ]
    },
    {
      "cell_type": "code",
      "source": [
        "# load the saved data\n",
        "name = pickle.load(open(\"name.dat\",\"rb\"))\n",
        "print (name)"
      ],
      "metadata": {
        "colab": {
          "base_uri": "https://localhost:8080/"
        },
        "id": "_bBlSv4ASGtQ",
        "outputId": "050ce2ea-342f-4185-b358-d796da082b79"
      },
      "execution_count": null,
      "outputs": [
        {
          "output_type": "stream",
          "name": "stdout",
          "text": [
            "['ashok', 'kumar', 'patel']\n"
          ]
        }
      ]
    },
    {
      "cell_type": "markdown",
      "source": [
        "A pickle can be read back directly into a Python variable—we don’t have to do any parsing or other interpretation ourselves. So using pickles is ideal for saving and loading ad hoc collections of data, especially for small programs and for programs created for personal use. However, pickles have no security mechanisms (no encryption, no digital signature), so loading a pickle that comes from an untrusted source could be dangerous."
      ],
      "metadata": {
        "id": "9HOrvs4sWqJ8"
      }
    },
    {
      "cell_type": "code",
      "source": [
        "import dill\n",
        "\n",
        "name = ['ashok', 'kumar', 'patel']\n",
        "# Save the file\n",
        "dill.dump(name, file = open(\"company1.pickle\", \"wb\"))\n",
        "\n"
      ],
      "metadata": {
        "id": "f3u5W1m6EcpS"
      },
      "execution_count": null,
      "outputs": []
    },
    {
      "cell_type": "code",
      "source": [
        "# Reload the file\n",
        "company1_reloaded = dill.load(open(\"company1.pickle\", \"rb\"))\n",
        "company1_reloaded"
      ],
      "metadata": {
        "colab": {
          "base_uri": "https://localhost:8080/"
        },
        "id": "JIP87NEcYZcW",
        "outputId": "84f80f05-9b25-4cc3-d781-a8614992eac8"
      },
      "execution_count": null,
      "outputs": [
        {
          "output_type": "execute_result",
          "data": {
            "text/plain": [
              "['ashok', 'kumar', 'patel']"
            ]
          },
          "metadata": {},
          "execution_count": 45
        }
      ]
    },
    {
      "cell_type": "code",
      "source": [],
      "metadata": {
        "id": "kxBGFfCuM0WN"
      },
      "execution_count": null,
      "outputs": []
    },
    {
      "cell_type": "code",
      "source": [
        "ls=list([\"21BCE10013\"])\n",
        "ls.append(\"21BCE10002\")\n",
        "ls.append(\"21BCE10021\")\n",
        "ls.append(\"21BCE10017\")\n",
        "ls"
      ],
      "metadata": {
        "colab": {
          "base_uri": "https://localhost:8080/"
        },
        "id": "C6wpu6CKcsCx",
        "outputId": "b46d9c0e-5302-47c0-db14-05c043410a08"
      },
      "execution_count": null,
      "outputs": [
        {
          "output_type": "execute_result",
          "data": {
            "text/plain": [
              "['21BCE10013', '21BCE10002', '21BCE10021', '21BCE10017']"
            ]
          },
          "metadata": {},
          "execution_count": 38
        }
      ]
    },
    {
      "cell_type": "code",
      "source": [
        "st=set(ls)\n",
        "st"
      ],
      "metadata": {
        "colab": {
          "base_uri": "https://localhost:8080/"
        },
        "id": "SJ9hTsz4dczw",
        "outputId": "064f86d0-12e9-4389-c07b-0cd60119a5f5"
      },
      "execution_count": null,
      "outputs": [
        {
          "output_type": "execute_result",
          "data": {
            "text/plain": [
              "{'21BCE10002', '21BCE10013', '21BCE10017', '21BCE10021'}"
            ]
          },
          "metadata": {},
          "execution_count": 26
        }
      ]
    }
  ]
}