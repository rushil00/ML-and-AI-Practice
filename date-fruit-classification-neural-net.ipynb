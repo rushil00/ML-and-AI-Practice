{
 "cells": [
  {
   "cell_type": "markdown",
   "id": "62aec406",
   "metadata": {
    "papermill": {
     "duration": 0.011763,
     "end_time": "2022-06-12T14:05:07.165869",
     "exception": false,
     "start_time": "2022-06-12T14:05:07.154106",
     "status": "completed"
    },
    "tags": []
   },
   "source": [
    "#### Importing relevant libraries"
   ]
  },
  {
   "cell_type": "code",
   "execution_count": 195,
   "id": "3e317f4e",
   "metadata": {
    "execution": {
     "iopub.execute_input": "2022-06-12T14:05:07.189920Z",
     "iopub.status.busy": "2022-06-12T14:05:07.189338Z",
     "iopub.status.idle": "2022-06-12T14:05:22.412456Z",
     "shell.execute_reply": "2022-06-12T14:05:22.411015Z"
    },
    "papermill": {
     "duration": 15.237747,
     "end_time": "2022-06-12T14:05:22.414723",
     "exception": false,
     "start_time": "2022-06-12T14:05:07.176976",
     "status": "completed"
    },
    "tags": []
   },
   "outputs": [
    {
     "name": "stdout",
     "output_type": "stream",
     "text": [
      "Note: you may need to restart the kernel to use updated packages.Requirement already satisfied: openpyxl in d:\\wpsystem\\s-1-5-21-4107825695-3292302581-3182530918-1001\\appdata\\local\\packages\\pythonsoftwarefoundation.python.3.8_qbz5n2kfra8p0\\localcache\\local-packages\\python38\\site-packages (3.1.0)\n",
      "Requirement already satisfied: et-xmlfile in d:\\wpsystem\\s-1-5-21-4107825695-3292302581-3182530918-1001\\appdata\\local\\packages\\pythonsoftwarefoundation.python.3.8_qbz5n2kfra8p0\\localcache\\local-packages\\python38\\site-packages (from openpyxl) (1.1.0)\n",
      "\n"
     ]
    },
    {
     "name": "stderr",
     "output_type": "stream",
     "text": [
      "\n",
      "[notice] A new release of pip available: 22.3.1 -> 23.0.1\n",
      "[notice] To update, run: C:\\Users\\Dell\\AppData\\Local\\Microsoft\\WindowsApps\\PythonSoftwareFoundation.Python.3.8_qbz5n2kfra8p0\\python.exe -m pip install --upgrade pip\n"
     ]
    }
   ],
   "source": [
    "%pip install openpyxl"
   ]
  },
  {
   "cell_type": "code",
   "execution_count": 196,
   "id": "e435dfda",
   "metadata": {
    "execution": {
     "iopub.execute_input": "2022-06-12T14:05:22.431228Z",
     "iopub.status.busy": "2022-06-12T14:05:22.430839Z",
     "iopub.status.idle": "2022-06-12T14:05:30.831962Z",
     "shell.execute_reply": "2022-06-12T14:05:30.831062Z"
    },
    "papermill": {
     "duration": 8.412057,
     "end_time": "2022-06-12T14:05:30.834359",
     "exception": false,
     "start_time": "2022-06-12T14:05:22.422302",
     "status": "completed"
    },
    "tags": []
   },
   "outputs": [],
   "source": [
    "import numpy as np\n",
    "import pandas as pd\n",
    "import sklearn\n",
    "import matplotlib.pyplot as plt\n",
    "from tensorflow import keras\n",
    "from tensorflow.keras.layers import Dense, Input\n",
    "from sklearn.model_selection import train_test_split\n",
    "from sklearn.feature_selection import SelectKBest, chi2\n",
    "from sklearn.preprocessing import OneHotEncoder, OrdinalEncoder\n",
    "from sklearn.preprocessing import MinMaxScaler"
   ]
  },
  {
   "cell_type": "markdown",
   "id": "278bcf04",
   "metadata": {
    "papermill": {
     "duration": 0.007056,
     "end_time": "2022-06-12T14:05:30.849081",
     "exception": false,
     "start_time": "2022-06-12T14:05:30.842025",
     "status": "completed"
    },
    "tags": []
   },
   "source": [
    "#### Reading the dataset and showing its content"
   ]
  },
  {
   "cell_type": "code",
   "execution_count": 197,
   "id": "2de55691",
   "metadata": {
    "execution": {
     "iopub.execute_input": "2022-06-12T14:05:30.865351Z",
     "iopub.status.busy": "2022-06-12T14:05:30.864758Z",
     "iopub.status.idle": "2022-06-12T14:05:31.800737Z",
     "shell.execute_reply": "2022-06-12T14:05:31.799928Z"
    },
    "papermill": {
     "duration": 0.946838,
     "end_time": "2022-06-12T14:05:31.803202",
     "exception": false,
     "start_time": "2022-06-12T14:05:30.856364",
     "status": "completed"
    },
    "tags": []
   },
   "outputs": [],
   "source": [
    "dataset = pd.read_excel(\"Date_Fruit_Datasets.xlsx\")"
   ]
  },
  {
   "cell_type": "code",
   "execution_count": 198,
   "id": "702f0ff0",
   "metadata": {
    "execution": {
     "iopub.execute_input": "2022-06-12T14:05:31.820198Z",
     "iopub.status.busy": "2022-06-12T14:05:31.819736Z",
     "iopub.status.idle": "2022-06-12T14:05:31.871678Z",
     "shell.execute_reply": "2022-06-12T14:05:31.870513Z"
    },
    "papermill": {
     "duration": 0.06306,
     "end_time": "2022-06-12T14:05:31.873966",
     "exception": false,
     "start_time": "2022-06-12T14:05:31.810906",
     "status": "completed"
    },
    "tags": []
   },
   "outputs": [
    {
     "data": {
      "text/html": [
       "<div>\n",
       "<style scoped>\n",
       "    .dataframe tbody tr th:only-of-type {\n",
       "        vertical-align: middle;\n",
       "    }\n",
       "\n",
       "    .dataframe tbody tr th {\n",
       "        vertical-align: top;\n",
       "    }\n",
       "\n",
       "    .dataframe thead th {\n",
       "        text-align: right;\n",
       "    }\n",
       "</style>\n",
       "<table border=\"1\" class=\"dataframe\">\n",
       "  <thead>\n",
       "    <tr style=\"text-align: right;\">\n",
       "      <th></th>\n",
       "      <th>AREA</th>\n",
       "      <th>PERIMETER</th>\n",
       "      <th>MAJOR_AXIS</th>\n",
       "      <th>MINOR_AXIS</th>\n",
       "      <th>ECCENTRICITY</th>\n",
       "      <th>EQDIASQ</th>\n",
       "      <th>SOLIDITY</th>\n",
       "      <th>CONVEX_AREA</th>\n",
       "      <th>EXTENT</th>\n",
       "      <th>ASPECT_RATIO</th>\n",
       "      <th>...</th>\n",
       "      <th>KurtosisRR</th>\n",
       "      <th>KurtosisRG</th>\n",
       "      <th>KurtosisRB</th>\n",
       "      <th>EntropyRR</th>\n",
       "      <th>EntropyRG</th>\n",
       "      <th>EntropyRB</th>\n",
       "      <th>ALLdaub4RR</th>\n",
       "      <th>ALLdaub4RG</th>\n",
       "      <th>ALLdaub4RB</th>\n",
       "      <th>Class</th>\n",
       "    </tr>\n",
       "  </thead>\n",
       "  <tbody>\n",
       "    <tr>\n",
       "      <th>0</th>\n",
       "      <td>422163</td>\n",
       "      <td>2378.9080</td>\n",
       "      <td>837.8484</td>\n",
       "      <td>645.6693</td>\n",
       "      <td>0.6373</td>\n",
       "      <td>733.1539</td>\n",
       "      <td>0.9947</td>\n",
       "      <td>424428</td>\n",
       "      <td>0.7831</td>\n",
       "      <td>1.2976</td>\n",
       "      <td>...</td>\n",
       "      <td>3.2370</td>\n",
       "      <td>2.9574</td>\n",
       "      <td>4.2287</td>\n",
       "      <td>-59191263232</td>\n",
       "      <td>-50714214400</td>\n",
       "      <td>-39922372608</td>\n",
       "      <td>58.7255</td>\n",
       "      <td>54.9554</td>\n",
       "      <td>47.8400</td>\n",
       "      <td>BERHI</td>\n",
       "    </tr>\n",
       "    <tr>\n",
       "      <th>1</th>\n",
       "      <td>338136</td>\n",
       "      <td>2085.1440</td>\n",
       "      <td>723.8198</td>\n",
       "      <td>595.2073</td>\n",
       "      <td>0.5690</td>\n",
       "      <td>656.1464</td>\n",
       "      <td>0.9974</td>\n",
       "      <td>339014</td>\n",
       "      <td>0.7795</td>\n",
       "      <td>1.2161</td>\n",
       "      <td>...</td>\n",
       "      <td>2.6228</td>\n",
       "      <td>2.6350</td>\n",
       "      <td>3.1704</td>\n",
       "      <td>-34233065472</td>\n",
       "      <td>-37462601728</td>\n",
       "      <td>-31477794816</td>\n",
       "      <td>50.0259</td>\n",
       "      <td>52.8168</td>\n",
       "      <td>47.8315</td>\n",
       "      <td>BERHI</td>\n",
       "    </tr>\n",
       "    <tr>\n",
       "      <th>2</th>\n",
       "      <td>526843</td>\n",
       "      <td>2647.3940</td>\n",
       "      <td>940.7379</td>\n",
       "      <td>715.3638</td>\n",
       "      <td>0.6494</td>\n",
       "      <td>819.0222</td>\n",
       "      <td>0.9962</td>\n",
       "      <td>528876</td>\n",
       "      <td>0.7657</td>\n",
       "      <td>1.3150</td>\n",
       "      <td>...</td>\n",
       "      <td>3.7516</td>\n",
       "      <td>3.8611</td>\n",
       "      <td>4.7192</td>\n",
       "      <td>-93948354560</td>\n",
       "      <td>-74738221056</td>\n",
       "      <td>-60311207936</td>\n",
       "      <td>65.4772</td>\n",
       "      <td>59.2860</td>\n",
       "      <td>51.9378</td>\n",
       "      <td>BERHI</td>\n",
       "    </tr>\n",
       "    <tr>\n",
       "      <th>3</th>\n",
       "      <td>416063</td>\n",
       "      <td>2351.2100</td>\n",
       "      <td>827.9804</td>\n",
       "      <td>645.2988</td>\n",
       "      <td>0.6266</td>\n",
       "      <td>727.8378</td>\n",
       "      <td>0.9948</td>\n",
       "      <td>418255</td>\n",
       "      <td>0.7759</td>\n",
       "      <td>1.2831</td>\n",
       "      <td>...</td>\n",
       "      <td>5.0401</td>\n",
       "      <td>8.6136</td>\n",
       "      <td>8.2618</td>\n",
       "      <td>-32074307584</td>\n",
       "      <td>-32060925952</td>\n",
       "      <td>-29575010304</td>\n",
       "      <td>43.3900</td>\n",
       "      <td>44.1259</td>\n",
       "      <td>41.1882</td>\n",
       "      <td>BERHI</td>\n",
       "    </tr>\n",
       "    <tr>\n",
       "      <th>4</th>\n",
       "      <td>347562</td>\n",
       "      <td>2160.3540</td>\n",
       "      <td>763.9877</td>\n",
       "      <td>582.8359</td>\n",
       "      <td>0.6465</td>\n",
       "      <td>665.2291</td>\n",
       "      <td>0.9908</td>\n",
       "      <td>350797</td>\n",
       "      <td>0.7569</td>\n",
       "      <td>1.3108</td>\n",
       "      <td>...</td>\n",
       "      <td>2.7016</td>\n",
       "      <td>2.9761</td>\n",
       "      <td>4.4146</td>\n",
       "      <td>-39980974080</td>\n",
       "      <td>-35980042240</td>\n",
       "      <td>-25593278464</td>\n",
       "      <td>52.7743</td>\n",
       "      <td>50.9080</td>\n",
       "      <td>42.6666</td>\n",
       "      <td>BERHI</td>\n",
       "    </tr>\n",
       "    <tr>\n",
       "      <th>...</th>\n",
       "      <td>...</td>\n",
       "      <td>...</td>\n",
       "      <td>...</td>\n",
       "      <td>...</td>\n",
       "      <td>...</td>\n",
       "      <td>...</td>\n",
       "      <td>...</td>\n",
       "      <td>...</td>\n",
       "      <td>...</td>\n",
       "      <td>...</td>\n",
       "      <td>...</td>\n",
       "      <td>...</td>\n",
       "      <td>...</td>\n",
       "      <td>...</td>\n",
       "      <td>...</td>\n",
       "      <td>...</td>\n",
       "      <td>...</td>\n",
       "      <td>...</td>\n",
       "      <td>...</td>\n",
       "      <td>...</td>\n",
       "      <td>...</td>\n",
       "    </tr>\n",
       "    <tr>\n",
       "      <th>893</th>\n",
       "      <td>255403</td>\n",
       "      <td>1925.3650</td>\n",
       "      <td>691.8453</td>\n",
       "      <td>477.1796</td>\n",
       "      <td>0.7241</td>\n",
       "      <td>570.2536</td>\n",
       "      <td>0.9785</td>\n",
       "      <td>261028</td>\n",
       "      <td>0.7269</td>\n",
       "      <td>1.4499</td>\n",
       "      <td>...</td>\n",
       "      <td>2.2423</td>\n",
       "      <td>2.3704</td>\n",
       "      <td>2.7202</td>\n",
       "      <td>-25296416768</td>\n",
       "      <td>-19168882688</td>\n",
       "      <td>-18473392128</td>\n",
       "      <td>49.0869</td>\n",
       "      <td>43.0422</td>\n",
       "      <td>42.4153</td>\n",
       "      <td>SOGAY</td>\n",
       "    </tr>\n",
       "    <tr>\n",
       "      <th>894</th>\n",
       "      <td>365924</td>\n",
       "      <td>2664.8230</td>\n",
       "      <td>855.4633</td>\n",
       "      <td>551.5447</td>\n",
       "      <td>0.7644</td>\n",
       "      <td>682.5752</td>\n",
       "      <td>0.9466</td>\n",
       "      <td>386566</td>\n",
       "      <td>0.6695</td>\n",
       "      <td>1.5510</td>\n",
       "      <td>...</td>\n",
       "      <td>3.4109</td>\n",
       "      <td>3.5805</td>\n",
       "      <td>3.9910</td>\n",
       "      <td>-31605219328</td>\n",
       "      <td>-21945366528</td>\n",
       "      <td>-19277905920</td>\n",
       "      <td>46.8086</td>\n",
       "      <td>39.1046</td>\n",
       "      <td>36.5502</td>\n",
       "      <td>SOGAY</td>\n",
       "    </tr>\n",
       "    <tr>\n",
       "      <th>895</th>\n",
       "      <td>254330</td>\n",
       "      <td>1926.7360</td>\n",
       "      <td>747.4943</td>\n",
       "      <td>435.6219</td>\n",
       "      <td>0.8126</td>\n",
       "      <td>569.0545</td>\n",
       "      <td>0.9925</td>\n",
       "      <td>256255</td>\n",
       "      <td>0.7240</td>\n",
       "      <td>1.7159</td>\n",
       "      <td>...</td>\n",
       "      <td>2.2759</td>\n",
       "      <td>2.5090</td>\n",
       "      <td>2.6951</td>\n",
       "      <td>-22242772992</td>\n",
       "      <td>-19594921984</td>\n",
       "      <td>-17592152064</td>\n",
       "      <td>44.1325</td>\n",
       "      <td>40.7986</td>\n",
       "      <td>40.9769</td>\n",
       "      <td>SOGAY</td>\n",
       "    </tr>\n",
       "    <tr>\n",
       "      <th>896</th>\n",
       "      <td>238955</td>\n",
       "      <td>1906.2679</td>\n",
       "      <td>716.6485</td>\n",
       "      <td>441.8297</td>\n",
       "      <td>0.7873</td>\n",
       "      <td>551.5859</td>\n",
       "      <td>0.9604</td>\n",
       "      <td>248795</td>\n",
       "      <td>0.6954</td>\n",
       "      <td>1.6220</td>\n",
       "      <td>...</td>\n",
       "      <td>2.6769</td>\n",
       "      <td>2.6874</td>\n",
       "      <td>2.7991</td>\n",
       "      <td>-26048595968</td>\n",
       "      <td>-21299822592</td>\n",
       "      <td>-19809978368</td>\n",
       "      <td>51.2267</td>\n",
       "      <td>45.7162</td>\n",
       "      <td>45.6260</td>\n",
       "      <td>SOGAY</td>\n",
       "    </tr>\n",
       "    <tr>\n",
       "      <th>897</th>\n",
       "      <td>343792</td>\n",
       "      <td>2289.2720</td>\n",
       "      <td>823.8438</td>\n",
       "      <td>534.7757</td>\n",
       "      <td>0.7607</td>\n",
       "      <td>661.6113</td>\n",
       "      <td>0.9781</td>\n",
       "      <td>351472</td>\n",
       "      <td>0.6941</td>\n",
       "      <td>1.5405</td>\n",
       "      <td>...</td>\n",
       "      <td>2.5138</td>\n",
       "      <td>3.0369</td>\n",
       "      <td>3.0865</td>\n",
       "      <td>-31983476736</td>\n",
       "      <td>-20482514944</td>\n",
       "      <td>-21219354624</td>\n",
       "      <td>47.3454</td>\n",
       "      <td>38.6966</td>\n",
       "      <td>39.6738</td>\n",
       "      <td>SOGAY</td>\n",
       "    </tr>\n",
       "  </tbody>\n",
       "</table>\n",
       "<p>898 rows × 35 columns</p>\n",
       "</div>"
      ],
      "text/plain": [
       "       AREA  PERIMETER  MAJOR_AXIS  MINOR_AXIS  ECCENTRICITY   EQDIASQ  \\\n",
       "0    422163  2378.9080    837.8484    645.6693        0.6373  733.1539   \n",
       "1    338136  2085.1440    723.8198    595.2073        0.5690  656.1464   \n",
       "2    526843  2647.3940    940.7379    715.3638        0.6494  819.0222   \n",
       "3    416063  2351.2100    827.9804    645.2988        0.6266  727.8378   \n",
       "4    347562  2160.3540    763.9877    582.8359        0.6465  665.2291   \n",
       "..      ...        ...         ...         ...           ...       ...   \n",
       "893  255403  1925.3650    691.8453    477.1796        0.7241  570.2536   \n",
       "894  365924  2664.8230    855.4633    551.5447        0.7644  682.5752   \n",
       "895  254330  1926.7360    747.4943    435.6219        0.8126  569.0545   \n",
       "896  238955  1906.2679    716.6485    441.8297        0.7873  551.5859   \n",
       "897  343792  2289.2720    823.8438    534.7757        0.7607  661.6113   \n",
       "\n",
       "     SOLIDITY  CONVEX_AREA  EXTENT  ASPECT_RATIO  ...  KurtosisRR  KurtosisRG  \\\n",
       "0      0.9947       424428  0.7831        1.2976  ...      3.2370      2.9574   \n",
       "1      0.9974       339014  0.7795        1.2161  ...      2.6228      2.6350   \n",
       "2      0.9962       528876  0.7657        1.3150  ...      3.7516      3.8611   \n",
       "3      0.9948       418255  0.7759        1.2831  ...      5.0401      8.6136   \n",
       "4      0.9908       350797  0.7569        1.3108  ...      2.7016      2.9761   \n",
       "..        ...          ...     ...           ...  ...         ...         ...   \n",
       "893    0.9785       261028  0.7269        1.4499  ...      2.2423      2.3704   \n",
       "894    0.9466       386566  0.6695        1.5510  ...      3.4109      3.5805   \n",
       "895    0.9925       256255  0.7240        1.7159  ...      2.2759      2.5090   \n",
       "896    0.9604       248795  0.6954        1.6220  ...      2.6769      2.6874   \n",
       "897    0.9781       351472  0.6941        1.5405  ...      2.5138      3.0369   \n",
       "\n",
       "     KurtosisRB    EntropyRR    EntropyRG    EntropyRB  ALLdaub4RR  \\\n",
       "0        4.2287 -59191263232 -50714214400 -39922372608     58.7255   \n",
       "1        3.1704 -34233065472 -37462601728 -31477794816     50.0259   \n",
       "2        4.7192 -93948354560 -74738221056 -60311207936     65.4772   \n",
       "3        8.2618 -32074307584 -32060925952 -29575010304     43.3900   \n",
       "4        4.4146 -39980974080 -35980042240 -25593278464     52.7743   \n",
       "..          ...          ...          ...          ...         ...   \n",
       "893      2.7202 -25296416768 -19168882688 -18473392128     49.0869   \n",
       "894      3.9910 -31605219328 -21945366528 -19277905920     46.8086   \n",
       "895      2.6951 -22242772992 -19594921984 -17592152064     44.1325   \n",
       "896      2.7991 -26048595968 -21299822592 -19809978368     51.2267   \n",
       "897      3.0865 -31983476736 -20482514944 -21219354624     47.3454   \n",
       "\n",
       "     ALLdaub4RG  ALLdaub4RB  Class  \n",
       "0       54.9554     47.8400  BERHI  \n",
       "1       52.8168     47.8315  BERHI  \n",
       "2       59.2860     51.9378  BERHI  \n",
       "3       44.1259     41.1882  BERHI  \n",
       "4       50.9080     42.6666  BERHI  \n",
       "..          ...         ...    ...  \n",
       "893     43.0422     42.4153  SOGAY  \n",
       "894     39.1046     36.5502  SOGAY  \n",
       "895     40.7986     40.9769  SOGAY  \n",
       "896     45.7162     45.6260  SOGAY  \n",
       "897     38.6966     39.6738  SOGAY  \n",
       "\n",
       "[898 rows x 35 columns]"
      ]
     },
     "execution_count": 198,
     "metadata": {},
     "output_type": "execute_result"
    }
   ],
   "source": [
    "dataset"
   ]
  },
  {
   "cell_type": "markdown",
   "id": "63e701ab",
   "metadata": {
    "papermill": {
     "duration": 0.007712,
     "end_time": "2022-06-12T14:05:31.889996",
     "exception": false,
     "start_time": "2022-06-12T14:05:31.882284",
     "status": "completed"
    },
    "tags": []
   },
   "source": [
    "### Separating the inputs and the targets"
   ]
  },
  {
   "cell_type": "code",
   "execution_count": 199,
   "id": "8f47d6b1",
   "metadata": {
    "execution": {
     "iopub.execute_input": "2022-06-12T14:05:31.907670Z",
     "iopub.status.busy": "2022-06-12T14:05:31.907227Z",
     "iopub.status.idle": "2022-06-12T14:05:31.912550Z",
     "shell.execute_reply": "2022-06-12T14:05:31.911599Z"
    },
    "papermill": {
     "duration": 0.016358,
     "end_time": "2022-06-12T14:05:31.914239",
     "exception": false,
     "start_time": "2022-06-12T14:05:31.897881",
     "status": "completed"
    },
    "tags": []
   },
   "outputs": [],
   "source": [
    "x = dataset.iloc[:, :-1]\n",
    "y = dataset.iloc[:, -1]"
   ]
  },
  {
   "cell_type": "code",
   "execution_count": 200,
   "id": "81b83d24",
   "metadata": {
    "execution": {
     "iopub.execute_input": "2022-06-12T14:05:31.931457Z",
     "iopub.status.busy": "2022-06-12T14:05:31.931067Z",
     "iopub.status.idle": "2022-06-12T14:05:31.936470Z",
     "shell.execute_reply": "2022-06-12T14:05:31.935480Z"
    },
    "papermill": {
     "duration": 0.01597,
     "end_time": "2022-06-12T14:05:31.938123",
     "exception": false,
     "start_time": "2022-06-12T14:05:31.922153",
     "status": "completed"
    },
    "tags": []
   },
   "outputs": [],
   "source": [
    "x = x.values\n",
    "y = y.values"
   ]
  },
  {
   "cell_type": "markdown",
   "id": "409a2223",
   "metadata": {
    "papermill": {
     "duration": 0.007674,
     "end_time": "2022-06-12T14:05:31.954366",
     "exception": false,
     "start_time": "2022-06-12T14:05:31.946692",
     "status": "completed"
    },
    "tags": []
   },
   "source": [
    "### Deleting an outlier"
   ]
  },
  {
   "cell_type": "code",
   "execution_count": 201,
   "id": "78a265b8",
   "metadata": {
    "execution": {
     "iopub.execute_input": "2022-06-12T14:05:31.973554Z",
     "iopub.status.busy": "2022-06-12T14:05:31.972965Z",
     "iopub.status.idle": "2022-06-12T14:05:31.977833Z",
     "shell.execute_reply": "2022-06-12T14:05:31.976982Z"
    },
    "papermill": {
     "duration": 0.017216,
     "end_time": "2022-06-12T14:05:31.979657",
     "exception": false,
     "start_time": "2022-06-12T14:05:31.962441",
     "status": "completed"
    },
    "tags": []
   },
   "outputs": [],
   "source": [
    "#x = np.delete(x, 615, axis = 0)\n",
    "#y = np.delete(y, 615, axis = 0)"
   ]
  },
  {
   "cell_type": "code",
   "execution_count": 202,
   "id": "635c9ab2",
   "metadata": {},
   "outputs": [
    {
     "data": {
      "text/plain": [
       "array([[4.2216300e+05, 2.3789080e+03, 8.3784840e+02, ..., 5.8725500e+01,\n",
       "        5.4955400e+01, 4.7840000e+01],\n",
       "       [3.3813600e+05, 2.0851440e+03, 7.2381980e+02, ..., 5.0025900e+01,\n",
       "        5.2816800e+01, 4.7831500e+01],\n",
       "       [5.2684300e+05, 2.6473940e+03, 9.4073790e+02, ..., 6.5477200e+01,\n",
       "        5.9286000e+01, 5.1937800e+01],\n",
       "       ...,\n",
       "       [2.5433000e+05, 1.9267360e+03, 7.4749430e+02, ..., 4.4132500e+01,\n",
       "        4.0798600e+01, 4.0976900e+01],\n",
       "       [2.3895500e+05, 1.9062679e+03, 7.1664850e+02, ..., 5.1226700e+01,\n",
       "        4.5716200e+01, 4.5626000e+01],\n",
       "       [3.4379200e+05, 2.2892720e+03, 8.2384380e+02, ..., 4.7345400e+01,\n",
       "        3.8696600e+01, 3.9673800e+01]])"
      ]
     },
     "execution_count": 202,
     "metadata": {},
     "output_type": "execute_result"
    }
   ],
   "source": [
    "x"
   ]
  },
  {
   "attachments": {},
   "cell_type": "markdown",
   "id": "06c652a7",
   "metadata": {
    "papermill": {
     "duration": 0.007444,
     "end_time": "2022-06-12T14:05:31.995265",
     "exception": false,
     "start_time": "2022-06-12T14:05:31.987821",
     "status": "completed"
    },
    "tags": []
   },
   "source": []
  },
  {
   "cell_type": "markdown",
   "id": "f2fb54b4",
   "metadata": {
    "papermill": {
     "duration": 0.01438,
     "end_time": "2022-06-12T14:05:32.311545",
     "exception": false,
     "start_time": "2022-06-12T14:05:32.297165",
     "status": "completed"
    },
    "tags": []
   },
   "source": [
    "#### Creating two methods: one for normalization and the other for feature selection"
   ]
  },
  {
   "cell_type": "code",
   "execution_count": 204,
   "id": "c2abe029",
   "metadata": {
    "execution": {
     "iopub.execute_input": "2022-06-12T14:05:32.343672Z",
     "iopub.status.busy": "2022-06-12T14:05:32.342298Z",
     "iopub.status.idle": "2022-06-12T14:05:32.347587Z",
     "shell.execute_reply": "2022-06-12T14:05:32.346898Z"
    },
    "papermill": {
     "duration": 0.023846,
     "end_time": "2022-06-12T14:05:32.350101",
     "exception": false,
     "start_time": "2022-06-12T14:05:32.326255",
     "status": "completed"
    },
    "tags": []
   },
   "outputs": [],
   "source": [
    "def normalize(x):\n",
    "    scaler = MinMaxScaler()\n",
    "    return scaler.fit_transform(x)"
   ]
  },
  {
   "cell_type": "code",
   "execution_count": 205,
   "id": "265f0a8e",
   "metadata": {
    "execution": {
     "iopub.execute_input": "2022-06-12T14:05:32.382057Z",
     "iopub.status.busy": "2022-06-12T14:05:32.381635Z",
     "iopub.status.idle": "2022-06-12T14:05:32.385675Z",
     "shell.execute_reply": "2022-06-12T14:05:32.385032Z"
    },
    "papermill": {
     "duration": 0.022976,
     "end_time": "2022-06-12T14:05:32.388024",
     "exception": false,
     "start_time": "2022-06-12T14:05:32.365048",
     "status": "completed"
    },
    "tags": []
   },
   "outputs": [],
   "source": [
    "def select_important_features(x, y, n):\n",
    "    selector = SelectKBest(\n",
    "        chi2,\n",
    "        k = n\n",
    "    )\n",
    "    selection = selector.fit_transform(x, y)\n",
    "    return selection"
   ]
  },
  {
   "cell_type": "markdown",
   "id": "6672c06b",
   "metadata": {
    "papermill": {
     "duration": 0.014976,
     "end_time": "2022-06-12T14:05:32.418404",
     "exception": false,
     "start_time": "2022-06-12T14:05:32.403428",
     "status": "completed"
    },
    "tags": []
   },
   "source": [
    "#### Normalizing the inputs"
   ]
  },
  {
   "cell_type": "code",
   "execution_count": 206,
   "id": "b2dfa7e8",
   "metadata": {
    "execution": {
     "iopub.execute_input": "2022-06-12T14:05:32.449525Z",
     "iopub.status.busy": "2022-06-12T14:05:32.449197Z",
     "iopub.status.idle": "2022-06-12T14:05:32.453497Z",
     "shell.execute_reply": "2022-06-12T14:05:32.452886Z"
    },
    "papermill": {
     "duration": 0.022277,
     "end_time": "2022-06-12T14:05:32.455276",
     "exception": false,
     "start_time": "2022-06-12T14:05:32.432999",
     "status": "completed"
    },
    "tags": []
   },
   "outputs": [
    {
     "data": {
      "text/plain": [
       "array([[0.77227446, 0.77207865, 0.56560444, ..., 0.67351302, 0.55053709,\n",
       "        0.4946647 ],\n",
       "       [0.61783464, 0.61747978, 0.43690403, ..., 0.53892305, 0.51634149,\n",
       "        0.49450116],\n",
       "       [0.96467405, 0.9133745 , 0.6817325 , ..., 0.77796738, 0.61978216,\n",
       "        0.57350706],\n",
       "       ...,\n",
       "       [0.46380101, 0.53411457, 0.46362467, ..., 0.44774729, 0.32417389,\n",
       "        0.36261751],\n",
       "       [0.43554209, 0.52334284, 0.42881001, ..., 0.55750041, 0.40280492,\n",
       "        0.45206697],\n",
       "       [0.62823025, 0.72490601, 0.5497979 , ..., 0.4974535 , 0.29056351,\n",
       "        0.33754565]])"
      ]
     },
     "execution_count": 206,
     "metadata": {},
     "output_type": "execute_result"
    }
   ],
   "source": [
    "x = normalize(x)\n",
    "x"
   ]
  },
  {
   "cell_type": "markdown",
   "id": "bc89de4b",
   "metadata": {
    "papermill": {
     "duration": 0.015352,
     "end_time": "2022-06-12T14:05:32.486416",
     "exception": false,
     "start_time": "2022-06-12T14:05:32.471064",
     "status": "completed"
    },
    "tags": []
   },
   "source": [
    "#### Selecting top features"
   ]
  },
  {
   "cell_type": "code",
   "execution_count": 207,
   "id": "89b700dc",
   "metadata": {
    "execution": {
     "iopub.execute_input": "2022-06-12T14:05:32.519778Z",
     "iopub.status.busy": "2022-06-12T14:05:32.519192Z",
     "iopub.status.idle": "2022-06-12T14:05:32.532266Z",
     "shell.execute_reply": "2022-06-12T14:05:32.531297Z"
    },
    "papermill": {
     "duration": 0.032476,
     "end_time": "2022-06-12T14:05:32.534752",
     "exception": false,
     "start_time": "2022-06-12T14:05:32.502276",
     "status": "completed"
    },
    "tags": []
   },
   "outputs": [],
   "source": [
    "important_features = select_important_features(x, y, 27)"
   ]
  },
  {
   "cell_type": "markdown",
   "id": "ac189e49",
   "metadata": {
    "papermill": {
     "duration": 0.015822,
     "end_time": "2022-06-12T14:05:32.566434",
     "exception": false,
     "start_time": "2022-06-12T14:05:32.550612",
     "status": "completed"
    },
    "tags": []
   },
   "source": [
    "#### Dynamically setting the input size of the neural net based on the feature size"
   ]
  },
  {
   "cell_type": "code",
   "execution_count": 208,
   "id": "a99335af",
   "metadata": {
    "execution": {
     "iopub.execute_input": "2022-06-12T14:05:32.602047Z",
     "iopub.status.busy": "2022-06-12T14:05:32.601383Z",
     "iopub.status.idle": "2022-06-12T14:05:32.605231Z",
     "shell.execute_reply": "2022-06-12T14:05:32.604639Z"
    },
    "papermill": {
     "duration": 0.025502,
     "end_time": "2022-06-12T14:05:32.607714",
     "exception": false,
     "start_time": "2022-06-12T14:05:32.582212",
     "status": "completed"
    },
    "tags": []
   },
   "outputs": [
    {
     "data": {
      "text/plain": [
       "27"
      ]
     },
     "execution_count": 208,
     "metadata": {},
     "output_type": "execute_result"
    }
   ],
   "source": [
    "input_size = important_features.shape[1]\n",
    "input_size"
   ]
  },
  {
   "cell_type": "markdown",
   "id": "7fb9cb7d",
   "metadata": {
    "papermill": {
     "duration": 0.014004,
     "end_time": "2022-06-12T14:05:32.640003",
     "exception": false,
     "start_time": "2022-06-12T14:05:32.625999",
     "status": "completed"
    },
    "tags": []
   },
   "source": [
    "#### OneHotEncod'ing the target values"
   ]
  },
  {
   "cell_type": "code",
   "execution_count": 209,
   "id": "2f2825c2",
   "metadata": {
    "execution": {
     "iopub.execute_input": "2022-06-12T14:05:32.663693Z",
     "iopub.status.busy": "2022-06-12T14:05:32.662313Z",
     "iopub.status.idle": "2022-06-12T14:05:32.669799Z",
     "shell.execute_reply": "2022-06-12T14:05:32.669111Z"
    },
    "papermill": {
     "duration": 0.021222,
     "end_time": "2022-06-12T14:05:32.671742",
     "exception": false,
     "start_time": "2022-06-12T14:05:32.650520",
     "status": "completed"
    },
    "tags": []
   },
   "outputs": [],
   "source": [
    "encoder = OneHotEncoder()\n",
    "encoder.fit(y.reshape(len(y), 1))\n",
    "y = encoder.transform(y.reshape(len(y), 1))"
   ]
  },
  {
   "cell_type": "markdown",
   "id": "4e85d377",
   "metadata": {
    "papermill": {
     "duration": 0.009071,
     "end_time": "2022-06-12T14:05:32.690322",
     "exception": false,
     "start_time": "2022-06-12T14:05:32.681251",
     "status": "completed"
    },
    "tags": []
   },
   "source": [
    "#### Splitting the data"
   ]
  },
  {
   "cell_type": "code",
   "execution_count": 210,
   "id": "dbe0bd6c",
   "metadata": {
    "execution": {
     "iopub.execute_input": "2022-06-12T14:05:32.711633Z",
     "iopub.status.busy": "2022-06-12T14:05:32.710911Z",
     "iopub.status.idle": "2022-06-12T14:05:32.717927Z",
     "shell.execute_reply": "2022-06-12T14:05:32.716908Z"
    },
    "papermill": {
     "duration": 0.020105,
     "end_time": "2022-06-12T14:05:32.719996",
     "exception": false,
     "start_time": "2022-06-12T14:05:32.699891",
     "status": "completed"
    },
    "tags": []
   },
   "outputs": [],
   "source": [
    "x_train, x_test, y_train, y_test = train_test_split(important_features, y.toarray(), test_size = 0.2, random_state = 10)"
   ]
  },
  {
   "cell_type": "markdown",
   "id": "440bd5ad",
   "metadata": {
    "papermill": {
     "duration": 0.009107,
     "end_time": "2022-06-12T14:05:32.738460",
     "exception": false,
     "start_time": "2022-06-12T14:05:32.729353",
     "status": "completed"
    },
    "tags": []
   },
   "source": [
    "### Initializing the model"
   ]
  },
  {
   "cell_type": "code",
   "execution_count": 211,
   "id": "89ee4b7b",
   "metadata": {
    "execution": {
     "iopub.execute_input": "2022-06-12T14:05:32.758458Z",
     "iopub.status.busy": "2022-06-12T14:05:32.757785Z",
     "iopub.status.idle": "2022-06-12T14:05:32.888559Z",
     "shell.execute_reply": "2022-06-12T14:05:32.887293Z"
    },
    "papermill": {
     "duration": 0.143964,
     "end_time": "2022-06-12T14:05:32.891372",
     "exception": false,
     "start_time": "2022-06-12T14:05:32.747408",
     "status": "completed"
    },
    "tags": []
   },
   "outputs": [],
   "source": [
    "model = keras.Sequential()\n",
    "model.add(Input(shape = input_size))\n",
    "model.add(Dense(100, activation = 'relu'))\n",
    "model.add(Dense(100, activation = 'relu'))\n",
    "model.add(Dense(50, activation = 'relu'))\n",
    "model.add(Dense(50, activation = 'sigmoid'))\n",
    "model.add(Dense(7, activation = 'softmax'))"
   ]
  },
  {
   "cell_type": "markdown",
   "id": "fc991413",
   "metadata": {
    "papermill": {
     "duration": 0.014191,
     "end_time": "2022-06-12T14:05:32.921133",
     "exception": false,
     "start_time": "2022-06-12T14:05:32.906942",
     "status": "completed"
    },
    "tags": []
   },
   "source": [
    "#### Compiling the model with adam optimizer"
   ]
  },
  {
   "cell_type": "code",
   "execution_count": 212,
   "id": "cc29c58c",
   "metadata": {
    "execution": {
     "iopub.execute_input": "2022-06-12T14:05:32.952205Z",
     "iopub.status.busy": "2022-06-12T14:05:32.951374Z",
     "iopub.status.idle": "2022-06-12T14:05:32.962055Z",
     "shell.execute_reply": "2022-06-12T14:05:32.961351Z"
    },
    "papermill": {
     "duration": 0.028518,
     "end_time": "2022-06-12T14:05:32.964232",
     "exception": false,
     "start_time": "2022-06-12T14:05:32.935714",
     "status": "completed"
    },
    "tags": []
   },
   "outputs": [],
   "source": [
    "model.compile(optimizer = keras.optimizers.Adam(learning_rate = 0.0027), loss = 'binary_crossentropy', metrics = 'accuracy')"
   ]
  },
  {
   "cell_type": "markdown",
   "id": "4d7b2f47",
   "metadata": {
    "papermill": {
     "duration": 0.014165,
     "end_time": "2022-06-12T14:05:32.993182",
     "exception": false,
     "start_time": "2022-06-12T14:05:32.979017",
     "status": "completed"
    },
    "tags": []
   },
   "source": [
    "### fitting the model to the dataset with a limit of iterations that stops before turning into overfitting"
   ]
  },
  {
   "cell_type": "code",
   "execution_count": 213,
   "id": "b8ac4017",
   "metadata": {
    "execution": {
     "iopub.execute_input": "2022-06-12T14:05:33.024944Z",
     "iopub.status.busy": "2022-06-12T14:05:33.023943Z",
     "iopub.status.idle": "2022-06-12T14:05:54.269679Z",
     "shell.execute_reply": "2022-06-12T14:05:54.268776Z"
    },
    "papermill": {
     "duration": 21.264152,
     "end_time": "2022-06-12T14:05:54.272221",
     "exception": false,
     "start_time": "2022-06-12T14:05:33.008069",
     "status": "completed"
    },
    "tags": []
   },
   "outputs": [
    {
     "name": "stdout",
     "output_type": "stream",
     "text": [
      "Epoch 1/100\n",
      "23/23 [==============================] - 1s 8ms/step - loss: 0.4421 - accuracy: 0.3064 - val_loss: 0.3619 - val_accuracy: 0.6500\n",
      "Epoch 2/100\n",
      "23/23 [==============================] - 0s 2ms/step - loss: 0.3397 - accuracy: 0.5056 - val_loss: 0.2938 - val_accuracy: 0.6722\n",
      "Epoch 3/100\n",
      "23/23 [==============================] - 0s 3ms/step - loss: 0.2801 - accuracy: 0.5850 - val_loss: 0.2383 - val_accuracy: 0.6833\n",
      "Epoch 4/100\n",
      "23/23 [==============================] - 0s 2ms/step - loss: 0.2394 - accuracy: 0.6448 - val_loss: 0.2046 - val_accuracy: 0.7333\n",
      "Epoch 5/100\n",
      "23/23 [==============================] - 0s 3ms/step - loss: 0.2142 - accuracy: 0.7006 - val_loss: 0.1870 - val_accuracy: 0.7667\n",
      "Epoch 6/100\n",
      "23/23 [==============================] - 0s 2ms/step - loss: 0.1953 - accuracy: 0.7465 - val_loss: 0.1742 - val_accuracy: 0.7722\n",
      "Epoch 7/100\n",
      "23/23 [==============================] - 0s 2ms/step - loss: 0.1831 - accuracy: 0.7604 - val_loss: 0.1585 - val_accuracy: 0.8167\n",
      "Epoch 8/100\n",
      "23/23 [==============================] - 0s 3ms/step - loss: 0.1679 - accuracy: 0.7925 - val_loss: 0.1451 - val_accuracy: 0.8444\n",
      "Epoch 9/100\n",
      "23/23 [==============================] - 0s 2ms/step - loss: 0.1620 - accuracy: 0.7855 - val_loss: 0.1546 - val_accuracy: 0.7833\n",
      "Epoch 10/100\n",
      "23/23 [==============================] - 0s 2ms/step - loss: 0.1516 - accuracy: 0.8008 - val_loss: 0.1287 - val_accuracy: 0.8444\n",
      "Epoch 11/100\n",
      "23/23 [==============================] - 0s 2ms/step - loss: 0.1450 - accuracy: 0.8064 - val_loss: 0.1281 - val_accuracy: 0.8333\n",
      "Epoch 12/100\n",
      "23/23 [==============================] - 0s 2ms/step - loss: 0.1418 - accuracy: 0.7981 - val_loss: 0.1253 - val_accuracy: 0.8333\n",
      "Epoch 13/100\n",
      "23/23 [==============================] - 0s 3ms/step - loss: 0.1422 - accuracy: 0.7994 - val_loss: 0.1235 - val_accuracy: 0.8333\n",
      "Epoch 14/100\n",
      "23/23 [==============================] - 0s 3ms/step - loss: 0.1369 - accuracy: 0.7953 - val_loss: 0.1368 - val_accuracy: 0.7833\n",
      "Epoch 15/100\n",
      "23/23 [==============================] - 0s 3ms/step - loss: 0.1317 - accuracy: 0.8092 - val_loss: 0.1103 - val_accuracy: 0.8556\n",
      "Epoch 16/100\n",
      "23/23 [==============================] - 0s 2ms/step - loss: 0.1257 - accuracy: 0.8301 - val_loss: 0.1182 - val_accuracy: 0.8556\n",
      "Epoch 17/100\n",
      "23/23 [==============================] - 0s 2ms/step - loss: 0.1271 - accuracy: 0.8343 - val_loss: 0.1060 - val_accuracy: 0.8611\n",
      "Epoch 18/100\n",
      "23/23 [==============================] - 0s 2ms/step - loss: 0.1205 - accuracy: 0.8468 - val_loss: 0.1042 - val_accuracy: 0.8667\n",
      "Epoch 19/100\n",
      "23/23 [==============================] - 0s 3ms/step - loss: 0.1152 - accuracy: 0.8384 - val_loss: 0.1005 - val_accuracy: 0.8667\n",
      "Epoch 20/100\n",
      "23/23 [==============================] - 0s 2ms/step - loss: 0.1140 - accuracy: 0.8565 - val_loss: 0.1041 - val_accuracy: 0.8611\n",
      "Epoch 21/100\n",
      "23/23 [==============================] - 0s 2ms/step - loss: 0.1142 - accuracy: 0.8259 - val_loss: 0.0971 - val_accuracy: 0.8667\n",
      "Epoch 22/100\n",
      "23/23 [==============================] - 0s 2ms/step - loss: 0.1093 - accuracy: 0.8496 - val_loss: 0.0990 - val_accuracy: 0.8667\n",
      "Epoch 23/100\n",
      "23/23 [==============================] - 0s 2ms/step - loss: 0.1115 - accuracy: 0.8370 - val_loss: 0.1042 - val_accuracy: 0.8444\n",
      "Epoch 24/100\n",
      "23/23 [==============================] - 0s 2ms/step - loss: 0.1225 - accuracy: 0.8217 - val_loss: 0.0958 - val_accuracy: 0.8667\n",
      "Epoch 25/100\n",
      "23/23 [==============================] - 0s 2ms/step - loss: 0.1072 - accuracy: 0.8426 - val_loss: 0.1036 - val_accuracy: 0.8722\n",
      "Epoch 26/100\n",
      "23/23 [==============================] - 0s 2ms/step - loss: 0.1068 - accuracy: 0.8482 - val_loss: 0.0924 - val_accuracy: 0.8833\n",
      "Epoch 27/100\n",
      "23/23 [==============================] - 0s 2ms/step - loss: 0.1062 - accuracy: 0.8496 - val_loss: 0.1040 - val_accuracy: 0.8722\n",
      "Epoch 28/100\n",
      "23/23 [==============================] - 0s 3ms/step - loss: 0.1060 - accuracy: 0.8538 - val_loss: 0.0975 - val_accuracy: 0.8667\n",
      "Epoch 29/100\n",
      "23/23 [==============================] - 0s 2ms/step - loss: 0.1142 - accuracy: 0.8357 - val_loss: 0.0941 - val_accuracy: 0.8833\n",
      "Epoch 30/100\n",
      "23/23 [==============================] - 0s 3ms/step - loss: 0.1024 - accuracy: 0.8538 - val_loss: 0.0920 - val_accuracy: 0.8833\n",
      "Epoch 31/100\n",
      "23/23 [==============================] - 0s 2ms/step - loss: 0.1005 - accuracy: 0.8524 - val_loss: 0.0912 - val_accuracy: 0.8833\n",
      "Epoch 32/100\n",
      "23/23 [==============================] - 0s 3ms/step - loss: 0.1022 - accuracy: 0.8565 - val_loss: 0.0973 - val_accuracy: 0.8722\n",
      "Epoch 33/100\n",
      "23/23 [==============================] - 0s 2ms/step - loss: 0.1118 - accuracy: 0.8440 - val_loss: 0.1148 - val_accuracy: 0.8278\n",
      "Epoch 34/100\n",
      "23/23 [==============================] - 0s 3ms/step - loss: 0.1023 - accuracy: 0.8565 - val_loss: 0.0883 - val_accuracy: 0.8833\n",
      "Epoch 35/100\n",
      "23/23 [==============================] - 0s 2ms/step - loss: 0.0961 - accuracy: 0.8705 - val_loss: 0.0883 - val_accuracy: 0.8889\n",
      "Epoch 36/100\n",
      "23/23 [==============================] - 0s 2ms/step - loss: 0.0932 - accuracy: 0.8705 - val_loss: 0.0911 - val_accuracy: 0.8722\n",
      "Epoch 37/100\n",
      "23/23 [==============================] - 0s 2ms/step - loss: 0.0971 - accuracy: 0.8565 - val_loss: 0.1012 - val_accuracy: 0.8611\n",
      "Epoch 38/100\n",
      "23/23 [==============================] - 0s 2ms/step - loss: 0.0994 - accuracy: 0.8510 - val_loss: 0.0855 - val_accuracy: 0.8889\n",
      "Epoch 39/100\n",
      "23/23 [==============================] - 0s 2ms/step - loss: 0.0942 - accuracy: 0.8705 - val_loss: 0.1087 - val_accuracy: 0.8278\n",
      "Epoch 40/100\n",
      "23/23 [==============================] - 0s 2ms/step - loss: 0.1008 - accuracy: 0.8482 - val_loss: 0.0938 - val_accuracy: 0.8944\n",
      "Epoch 41/100\n",
      "23/23 [==============================] - 0s 2ms/step - loss: 0.0931 - accuracy: 0.8691 - val_loss: 0.0900 - val_accuracy: 0.8778\n",
      "Epoch 42/100\n",
      "23/23 [==============================] - 0s 2ms/step - loss: 0.0958 - accuracy: 0.8649 - val_loss: 0.0849 - val_accuracy: 0.8833\n",
      "Epoch 43/100\n",
      "23/23 [==============================] - 0s 2ms/step - loss: 0.0961 - accuracy: 0.8621 - val_loss: 0.0913 - val_accuracy: 0.8833\n",
      "Epoch 44/100\n",
      "23/23 [==============================] - 0s 2ms/step - loss: 0.1006 - accuracy: 0.8538 - val_loss: 0.0901 - val_accuracy: 0.8889\n",
      "Epoch 45/100\n",
      "23/23 [==============================] - 0s 3ms/step - loss: 0.0929 - accuracy: 0.8621 - val_loss: 0.0863 - val_accuracy: 0.8833\n",
      "Epoch 46/100\n",
      "23/23 [==============================] - 0s 2ms/step - loss: 0.0864 - accuracy: 0.8844 - val_loss: 0.0954 - val_accuracy: 0.8722\n",
      "Epoch 47/100\n",
      "23/23 [==============================] - 0s 2ms/step - loss: 0.0895 - accuracy: 0.8607 - val_loss: 0.0827 - val_accuracy: 0.8778\n",
      "Epoch 48/100\n",
      "23/23 [==============================] - 0s 2ms/step - loss: 0.1028 - accuracy: 0.8440 - val_loss: 0.1042 - val_accuracy: 0.8389\n",
      "Epoch 49/100\n",
      "23/23 [==============================] - 0s 2ms/step - loss: 0.0982 - accuracy: 0.8482 - val_loss: 0.0851 - val_accuracy: 0.8722\n",
      "Epoch 50/100\n",
      "23/23 [==============================] - 0s 2ms/step - loss: 0.0906 - accuracy: 0.8663 - val_loss: 0.0974 - val_accuracy: 0.8556\n",
      "Epoch 51/100\n",
      "23/23 [==============================] - 0s 2ms/step - loss: 0.0871 - accuracy: 0.8760 - val_loss: 0.0780 - val_accuracy: 0.8833\n",
      "Epoch 52/100\n",
      "23/23 [==============================] - 0s 2ms/step - loss: 0.0931 - accuracy: 0.8691 - val_loss: 0.0850 - val_accuracy: 0.8722\n",
      "Epoch 53/100\n",
      "23/23 [==============================] - 0s 3ms/step - loss: 0.0860 - accuracy: 0.8677 - val_loss: 0.0826 - val_accuracy: 0.8944\n",
      "Epoch 54/100\n",
      "23/23 [==============================] - 0s 2ms/step - loss: 0.0859 - accuracy: 0.8802 - val_loss: 0.0831 - val_accuracy: 0.8944\n",
      "Epoch 55/100\n",
      "23/23 [==============================] - 0s 3ms/step - loss: 0.0895 - accuracy: 0.8649 - val_loss: 0.0960 - val_accuracy: 0.8667\n",
      "Epoch 56/100\n",
      "23/23 [==============================] - 0s 2ms/step - loss: 0.0842 - accuracy: 0.8955 - val_loss: 0.0847 - val_accuracy: 0.8833\n",
      "Epoch 57/100\n",
      "23/23 [==============================] - 0s 3ms/step - loss: 0.0875 - accuracy: 0.8691 - val_loss: 0.0807 - val_accuracy: 0.8944\n",
      "Epoch 58/100\n",
      "23/23 [==============================] - 0s 2ms/step - loss: 0.0867 - accuracy: 0.8760 - val_loss: 0.0756 - val_accuracy: 0.9056\n",
      "Epoch 59/100\n",
      "23/23 [==============================] - 0s 3ms/step - loss: 0.0917 - accuracy: 0.8649 - val_loss: 0.1189 - val_accuracy: 0.8167\n",
      "Epoch 60/100\n",
      "23/23 [==============================] - 0s 2ms/step - loss: 0.0934 - accuracy: 0.8677 - val_loss: 0.0885 - val_accuracy: 0.8722\n",
      "Epoch 61/100\n",
      "23/23 [==============================] - 0s 2ms/step - loss: 0.0821 - accuracy: 0.8900 - val_loss: 0.0951 - val_accuracy: 0.8833\n",
      "Epoch 62/100\n",
      "23/23 [==============================] - 0s 2ms/step - loss: 0.0850 - accuracy: 0.8858 - val_loss: 0.0828 - val_accuracy: 0.8889\n",
      "Epoch 63/100\n",
      "23/23 [==============================] - 0s 2ms/step - loss: 0.0765 - accuracy: 0.8942 - val_loss: 0.0808 - val_accuracy: 0.9056\n",
      "Epoch 64/100\n",
      "23/23 [==============================] - 0s 2ms/step - loss: 0.0759 - accuracy: 0.9081 - val_loss: 0.0737 - val_accuracy: 0.8889\n",
      "Epoch 65/100\n",
      "23/23 [==============================] - 0s 2ms/step - loss: 0.0837 - accuracy: 0.8816 - val_loss: 0.0737 - val_accuracy: 0.9111\n",
      "Epoch 66/100\n",
      "23/23 [==============================] - 0s 2ms/step - loss: 0.0833 - accuracy: 0.8858 - val_loss: 0.0851 - val_accuracy: 0.8833\n",
      "Epoch 67/100\n",
      "23/23 [==============================] - 0s 2ms/step - loss: 0.0805 - accuracy: 0.9011 - val_loss: 0.0708 - val_accuracy: 0.8944\n",
      "Epoch 68/100\n",
      "23/23 [==============================] - 0s 2ms/step - loss: 0.0756 - accuracy: 0.9011 - val_loss: 0.0695 - val_accuracy: 0.9167\n",
      "Epoch 69/100\n",
      "23/23 [==============================] - 0s 2ms/step - loss: 0.0758 - accuracy: 0.8914 - val_loss: 0.0742 - val_accuracy: 0.9000\n",
      "Epoch 70/100\n",
      "23/23 [==============================] - 0s 2ms/step - loss: 0.0817 - accuracy: 0.8747 - val_loss: 0.0763 - val_accuracy: 0.9000\n",
      "Epoch 71/100\n",
      "23/23 [==============================] - 0s 2ms/step - loss: 0.0790 - accuracy: 0.8942 - val_loss: 0.0707 - val_accuracy: 0.9222\n",
      "Epoch 72/100\n",
      "23/23 [==============================] - 0s 2ms/step - loss: 0.0740 - accuracy: 0.8983 - val_loss: 0.0724 - val_accuracy: 0.9222\n",
      "Epoch 73/100\n",
      "23/23 [==============================] - 0s 3ms/step - loss: 0.0727 - accuracy: 0.8969 - val_loss: 0.0770 - val_accuracy: 0.8944\n",
      "Epoch 74/100\n",
      "23/23 [==============================] - 0s 3ms/step - loss: 0.0730 - accuracy: 0.9053 - val_loss: 0.0720 - val_accuracy: 0.9056\n",
      "Epoch 75/100\n",
      "23/23 [==============================] - 0s 3ms/step - loss: 0.0713 - accuracy: 0.8955 - val_loss: 0.0834 - val_accuracy: 0.8778\n",
      "Epoch 76/100\n",
      "23/23 [==============================] - 0s 2ms/step - loss: 0.0712 - accuracy: 0.9109 - val_loss: 0.0650 - val_accuracy: 0.9333\n",
      "Epoch 77/100\n",
      "23/23 [==============================] - 0s 2ms/step - loss: 0.0670 - accuracy: 0.9039 - val_loss: 0.0658 - val_accuracy: 0.9222\n",
      "Epoch 78/100\n",
      "23/23 [==============================] - 0s 2ms/step - loss: 0.0738 - accuracy: 0.8997 - val_loss: 0.0713 - val_accuracy: 0.9000\n",
      "Epoch 79/100\n",
      "23/23 [==============================] - 0s 2ms/step - loss: 0.0702 - accuracy: 0.8997 - val_loss: 0.0750 - val_accuracy: 0.8944\n",
      "Epoch 80/100\n",
      "23/23 [==============================] - 0s 2ms/step - loss: 0.0645 - accuracy: 0.9039 - val_loss: 0.0623 - val_accuracy: 0.9278\n",
      "Epoch 81/100\n",
      "23/23 [==============================] - 0s 2ms/step - loss: 0.0623 - accuracy: 0.9095 - val_loss: 0.0657 - val_accuracy: 0.9167\n",
      "Epoch 82/100\n",
      "23/23 [==============================] - 0s 2ms/step - loss: 0.0590 - accuracy: 0.9206 - val_loss: 0.0727 - val_accuracy: 0.9000\n",
      "Epoch 83/100\n",
      "23/23 [==============================] - 0s 2ms/step - loss: 0.0684 - accuracy: 0.9081 - val_loss: 0.0703 - val_accuracy: 0.9056\n",
      "Epoch 84/100\n",
      "23/23 [==============================] - 0s 2ms/step - loss: 0.0625 - accuracy: 0.9178 - val_loss: 0.0654 - val_accuracy: 0.9222\n",
      "Epoch 85/100\n",
      "23/23 [==============================] - 0s 2ms/step - loss: 0.0665 - accuracy: 0.9039 - val_loss: 0.0670 - val_accuracy: 0.9111\n",
      "Epoch 86/100\n",
      "23/23 [==============================] - 0s 2ms/step - loss: 0.0622 - accuracy: 0.9192 - val_loss: 0.0618 - val_accuracy: 0.9222\n",
      "Epoch 87/100\n",
      "23/23 [==============================] - 0s 2ms/step - loss: 0.0564 - accuracy: 0.9234 - val_loss: 0.0639 - val_accuracy: 0.9222\n",
      "Epoch 88/100\n",
      "23/23 [==============================] - 0s 3ms/step - loss: 0.0584 - accuracy: 0.9220 - val_loss: 0.0671 - val_accuracy: 0.9167\n",
      "Epoch 89/100\n",
      "23/23 [==============================] - 0s 2ms/step - loss: 0.0618 - accuracy: 0.9164 - val_loss: 0.0700 - val_accuracy: 0.9167\n",
      "Epoch 90/100\n",
      "23/23 [==============================] - 0s 2ms/step - loss: 0.0572 - accuracy: 0.9248 - val_loss: 0.0654 - val_accuracy: 0.9389\n",
      "Epoch 91/100\n",
      "23/23 [==============================] - 0s 2ms/step - loss: 0.0564 - accuracy: 0.9248 - val_loss: 0.0660 - val_accuracy: 0.9167\n",
      "Epoch 92/100\n",
      "23/23 [==============================] - 0s 2ms/step - loss: 0.0556 - accuracy: 0.9276 - val_loss: 0.0580 - val_accuracy: 0.9333\n",
      "Epoch 93/100\n",
      "23/23 [==============================] - 0s 2ms/step - loss: 0.0599 - accuracy: 0.9109 - val_loss: 0.0675 - val_accuracy: 0.9000\n",
      "Epoch 94/100\n",
      "23/23 [==============================] - 0s 3ms/step - loss: 0.0642 - accuracy: 0.9192 - val_loss: 0.0602 - val_accuracy: 0.9278\n",
      "Epoch 95/100\n",
      "23/23 [==============================] - 0s 3ms/step - loss: 0.0570 - accuracy: 0.9248 - val_loss: 0.0566 - val_accuracy: 0.9278\n",
      "Epoch 96/100\n",
      "23/23 [==============================] - 0s 3ms/step - loss: 0.0622 - accuracy: 0.9136 - val_loss: 0.0590 - val_accuracy: 0.9278\n",
      "Epoch 97/100\n",
      "23/23 [==============================] - 0s 2ms/step - loss: 0.0663 - accuracy: 0.9081 - val_loss: 0.0742 - val_accuracy: 0.9056\n",
      "Epoch 98/100\n",
      "23/23 [==============================] - 0s 2ms/step - loss: 0.0574 - accuracy: 0.9234 - val_loss: 0.0622 - val_accuracy: 0.9167\n",
      "Epoch 99/100\n",
      "23/23 [==============================] - 0s 2ms/step - loss: 0.0586 - accuracy: 0.9178 - val_loss: 0.0632 - val_accuracy: 0.9278\n",
      "Epoch 100/100\n",
      "23/23 [==============================] - 0s 3ms/step - loss: 0.0551 - accuracy: 0.9290 - val_loss: 0.0613 - val_accuracy: 0.9333\n"
     ]
    }
   ],
   "source": [
    "history = model.fit(x_train, y_train, epochs = 100, validation_data = (x_test, y_test))"
   ]
  },
  {
   "cell_type": "markdown",
   "id": "cf57df66",
   "metadata": {
    "papermill": {
     "duration": 0.025186,
     "end_time": "2022-06-12T14:05:54.323422",
     "exception": false,
     "start_time": "2022-06-12T14:05:54.298236",
     "status": "completed"
    },
    "tags": []
   },
   "source": [
    "#### Extracting the fitting history data"
   ]
  },
  {
   "cell_type": "code",
   "execution_count": 214,
   "id": "70835374",
   "metadata": {
    "execution": {
     "iopub.execute_input": "2022-06-12T14:05:54.376603Z",
     "iopub.status.busy": "2022-06-12T14:05:54.376186Z",
     "iopub.status.idle": "2022-06-12T14:05:54.381110Z",
     "shell.execute_reply": "2022-06-12T14:05:54.380354Z"
    },
    "papermill": {
     "duration": 0.033558,
     "end_time": "2022-06-12T14:05:54.382719",
     "exception": false,
     "start_time": "2022-06-12T14:05:54.349161",
     "status": "completed"
    },
    "tags": []
   },
   "outputs": [],
   "source": [
    "loss = history.history['loss']\n",
    "accuracy = history.history['accuracy']\n",
    "val_loss = history.history['val_loss']\n",
    "val_accuracy = history.history['val_accuracy']"
   ]
  },
  {
   "cell_type": "markdown",
   "id": "f8673922",
   "metadata": {
    "papermill": {
     "duration": 0.02517,
     "end_time": "2022-06-12T14:05:54.433518",
     "exception": false,
     "start_time": "2022-06-12T14:05:54.408348",
     "status": "completed"
    },
    "tags": []
   },
   "source": [
    "#### Plotting the accuracy and accuracy validation score along with the loss and loss validation"
   ]
  },
  {
   "cell_type": "code",
   "execution_count": 215,
   "id": "d69db91a",
   "metadata": {
    "execution": {
     "iopub.execute_input": "2022-06-12T14:05:54.486499Z",
     "iopub.status.busy": "2022-06-12T14:05:54.485662Z",
     "iopub.status.idle": "2022-06-12T14:05:54.739460Z",
     "shell.execute_reply": "2022-06-12T14:05:54.738437Z"
    },
    "papermill": {
     "duration": 0.282453,
     "end_time": "2022-06-12T14:05:54.741549",
     "exception": false,
     "start_time": "2022-06-12T14:05:54.459096",
     "status": "completed"
    },
    "tags": []
   },
   "outputs": [
    {
     "data": {
      "text/plain": [
       "<matplotlib.legend.Legend at 0x1cbf7fa60d0>"
      ]
     },
     "execution_count": 215,
     "metadata": {},
     "output_type": "execute_result"
    },
    {
     "data": {
      "image/png": "[encoded data removed]",
      "text/plain": [
       "<Figure size 1000x1000 with 1 Axes>"
      ]
     },
     "metadata": {},
     "output_type": "display_data"
    }
   ],
   "source": [
    "plt.rcParams.update({'font.size': 18})\n",
    "plt.figure(figsize=(10,10))\n",
    "plt.plot(range(len(accuracy)), accuracy)\n",
    "\n",
    "plt.plot(range(len(val_accuracy)), val_accuracy)\n",
    "plt.legend(['accuracy', 'val_accuracy'], fontsize = 12)"
   ]
  },
  {
   "cell_type": "code",
   "execution_count": 217,
   "id": "5193b3fd",
   "metadata": {
    "papermill": {
     "duration": 0.043095,
     "end_time": "2022-06-12T14:05:54.827887",
     "exception": false,
     "start_time": "2022-06-12T14:05:54.784792",
     "status": "completed"
    },
    "tags": []
   },
   "outputs": [
    {
     "data": {
      "text/plain": [
       "<matplotlib.legend.Legend at 0x1cbf9255c40>"
      ]
     },
     "execution_count": 217,
     "metadata": {},
     "output_type": "execute_result"
    },
    {
     "data": {
      "image/png": "[encoded data removed]",
      "text/plain": [
       "<Figure size 1000x1000 with 1 Axes>"
      ]
     },
     "metadata": {},
     "output_type": "display_data"
    }
   ],
   "source": [
    "plt.rcParams.update({'font.size': 18})\n",
    "plt.figure(figsize=(10,10))\n",
    "\n",
    "plt.plot(range(len(loss)), loss)\n",
    "plt.plot(range(len(val_loss)), val_loss)\n",
    "plt.legend(['loss', 'val_loss'], fontsize = 12)"
   ]
  }
 ],
 "metadata": {
  "kernelspec": {
   "display_name": "Python 3",
   "language": "python",
   "name": "python3"
  },
  "language_info": {
   "codemirror_mode": {
    "name": "ipython",
    "version": 3
   },
   "file_extension": ".py",
   "mimetype": "text/x-python",
   "name": "python",
   "nbconvert_exporter": "python",
   "pygments_lexer": "ipython3",
   "version": "3.8.10"
  },
  "papermill": {
   "default_parameters": {},
   "duration": 61.846432,
   "end_time": "2022-06-12T14:05:57.678383",
   "environment_variables": {},
   "exception": null,
   "input_path": "__notebook__.ipynb",
   "output_path": "__notebook__.ipynb",
   "parameters": {},
   "start_time": "2022-06-12T14:04:55.831951",
   "version": "2.3.4"
  },
  "vscode": {
   "interpreter": {
    "hash": "5933ba2b7e267bd53c3577d65ba0ea58c7c124d1a99153533b0d09db04233e25"
   }
  }
 },
 "nbformat": 4,
 "nbformat_minor": 5
}
